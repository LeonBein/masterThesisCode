{
 "cells": [
  {
   "cell_type": "markdown",
   "id": "99105967-4e60-46ca-bfd9-e9ce99b8f40f",
   "metadata": {},
   "source": [
    "# Setup"
   ]
  },
  {
   "cell_type": "code",
   "execution_count": 1,
   "id": "6e164bbb-c2a9-4186-a5ed-995b5ed073ff",
   "metadata": {
    "tags": []
   },
   "outputs": [],
   "source": [
    "# Used to read .env files, for access tokens and other secrets or configurations\n",
    "%load_ext dotenv\n",
    "%dotenv\n",
    "import os"
   ]
  },
  {
   "cell_type": "code",
   "execution_count": 2,
   "id": "b20f18a5-76ea-496e-b790-e37826e6b285",
   "metadata": {},
   "outputs": [],
   "source": [
    "import math"
   ]
  },
  {
   "cell_type": "code",
   "execution_count": 3,
   "id": "e97776ba-7f0e-4cc7-9147-45e20318dd9b",
   "metadata": {},
   "outputs": [],
   "source": [
    "from github import Github\n",
    "import pandas\n",
    "from matplotlib import pyplot\n",
    "import numpy\n",
    "import seaborn\n",
    "\n",
    "from datetime import datetime, timedelta"
   ]
  },
  {
   "cell_type": "code",
   "execution_count": 4,
   "id": "9a09720d-5f95-4d15-bca7-965f78c5ff81",
   "metadata": {},
   "outputs": [],
   "source": [
    "from IPython.core.pylabtools import figsize\n",
    "figsize(10, 5)"
   ]
  },
  {
   "cell_type": "code",
   "execution_count": 5,
   "id": "3abe9b20-283c-410b-b0b6-932a909557b3",
   "metadata": {},
   "outputs": [],
   "source": [
    "# The github token is stored in a .env file next to this notebook in the form \"GITHUB_TOKEN = <your token here>\"\n",
    "github = Github(os.getenv(\"GITHUB_TOKEN\"))"
   ]
  },
  {
   "cell_type": "markdown",
   "id": "bc866a94-43ac-469b-9932-a8f7eb7469ef",
   "metadata": {
    "tags": []
   },
   "source": [
    "# Team Constants\n",
    "\n",
    "These are things that describe how the team work and are static"
   ]
  },
  {
   "cell_type": "markdown",
   "id": "bcadbc88-3eeb-4cc4-8f3d-25fa908312b9",
   "metadata": {},
   "source": [
    "## Sprint Management"
   ]
  },
  {
   "cell_type": "code",
   "execution_count": 6,
   "id": "daaf219c-6486-4eaa-b517-7fa8246a8ff6",
   "metadata": {},
   "outputs": [],
   "source": [
    "# In the following, we will assume that sprints are totally regular, starting with a fixed date.\n",
    "# The helper functions can of course be adapted to represent, e.g., changes in sprint duration or holiday breaks\n",
    "\n",
    "start_date_first_sprint = datetime(2020, 4, 27) # It's a monday, development actually started 02.05.2020\n",
    "sprint_length = timedelta(weeks=2)\n",
    "\n",
    "def date_to_sprint(date_to_convert):\n",
    "    return max(0, (date_to_convert - start_date_first_sprint) // sprint_length + 1) # Sprint \"0\" is everything before the first\n",
    "\n",
    "def sprint_to_start_date(sprint_to_convert):\n",
    "    return (start_date_first_sprint + (sprint_to_convert - 1) * sprint_length)\n",
    "\n",
    "def date_to_sprint_start(date_to_convert):\n",
    "    return sprint_to_start_date(date_to_sprint(date_to_convert))"
   ]
  },
  {
   "cell_type": "markdown",
   "id": "9c4b7dfe-2ee4-4d99-81f1-d4ae0e007228",
   "metadata": {
    "tags": []
   },
   "source": [
    "## Repos"
   ]
  },
  {
   "cell_type": "code",
   "execution_count": 7,
   "id": "17f934ee-05d0-4b70-bb5e-f7c03a8460f9",
   "metadata": {
    "tags": []
   },
   "outputs": [],
   "source": [
    "app_repo = github.get_repo('corona-warn-app/cwa-app-android')"
   ]
  },
  {
   "cell_type": "markdown",
   "id": "8a17c45f-0a8d-425b-a5ea-abcb7762afe9",
   "metadata": {},
   "source": [
    "## Team Members"
   ]
  },
  {
   "cell_type": "code",
   "execution_count": 8,
   "id": "d1305522-6370-4343-b8a5-58a6adca8c2f",
   "metadata": {
    "tags": []
   },
   "outputs": [
    {
     "data": {
      "text/plain": [
       "[NamedUser(login=\"mlenkeit\"),\n",
       " NamedUser(login=\"MikeMcC399\"),\n",
       " NamedUser(login=\"ksergeevit\"),\n",
       " NamedUser(login=\"tklingbeil\"),\n",
       " NamedUser(login=\"tkowark\"),\n",
       " NamedUser(login=\"CV113\"),\n",
       " NamedUser(login=\"fynngodau\"),\n",
       " NamedUser(login=\"oemerb\"),\n",
       " NamedUser(login=\"kaddaSz\"),\n",
       " NamedUser(login=\"AndroidMedaGalaxy\"),\n",
       " NamedUser(login=\"Fabian-K\"),\n",
       " NamedUser(login=\"HeeTattSap\"),\n",
       " NamedUser(login=\"marcmuschko\"),\n",
       " NamedUser(login=\"NataliaLemmerth\"),\n",
       " NamedUser(login=\"KathrinLuecke\"),\n",
       " NamedUser(login=\"Oliver-Zimmerman\"),\n",
       " NamedUser(login=\"chris-cwa\"),\n",
       " NamedUser(login=\"pwoessner\"),\n",
       " NamedUser(login=\"janetback\"),\n",
       " NamedUser(login=\"schauersbergern\"),\n",
       " NamedUser(login=\"LukasLechnerDev\"),\n",
       " NamedUser(login=\"kolyaopahle\"),\n",
       " NamedUser(login=\"axelherbstreith\"),\n",
       " NamedUser(login=\"service-tip-git\"),\n",
       " NamedUser(login=\"AlexanderAlferov\"),\n",
       " NamedUser(login=\"jakobmoellersap\"),\n",
       " NamedUser(login=\"marcauberer\"),\n",
       " NamedUser(login=\"Corona-Warn-App-Technical-User\"),\n",
       " NamedUser(login=\"chiljamgossow\"),\n",
       " NamedUser(login=\"SamuraiKek\"),\n",
       " NamedUser(login=\"BMItr\"),\n",
       " NamedUser(login=\"jurajkusnier\"),\n",
       " NamedUser(login=\"ralfgehrer\"),\n",
       " NamedUser(login=\"d4rken\"),\n",
       " NamedUser(login=\"harambasicluka\"),\n",
       " NamedUser(login=\"mtwalli\")]"
      ]
     },
     "execution_count": 8,
     "metadata": {},
     "output_type": "execute_result"
    }
   ],
   "source": [
    "# Let's assume that all developers with less than 5 commits were not active developers\n",
    "app_team = list(map(lambda stats: stats.author, filter(lambda stats: stats.total >= 15, app_repo.get_stats_contributors())))\n",
    "app_team"
   ]
  },
  {
   "cell_type": "markdown",
   "id": "b12bbeb6-bb1f-417c-99e7-72ac6b7c1cbe",
   "metadata": {},
   "source": [
    "# Retrospective"
   ]
  },
  {
   "cell_type": "code",
   "execution_count": 9,
   "id": "2d15952d-5763-49b0-a98d-3d23b59345e9",
   "metadata": {},
   "outputs": [
    {
     "data": {
      "text/plain": [
       "(datetime.datetime(2022, 8, 1, 0, 0), datetime.datetime(2021, 7, 19, 0, 0))"
      ]
     },
     "execution_count": 9,
     "metadata": {},
     "output_type": "execute_result"
    }
   ],
   "source": [
    "today = date_to_sprint_start(datetime(day=1, month=8, year=2022)) # Normally this would of course be the real today\n",
    "time_of_interest = date_to_sprint_start(today - timedelta(days=365))\n",
    "(today, time_of_interest)"
   ]
  },
  {
   "cell_type": "markdown",
   "id": "59e2d991-7fc7-4ab3-9af0-4ef213907f1e",
   "metadata": {
    "tags": []
   },
   "source": [
    "## Data Collection and Preprocessing"
   ]
  },
  {
   "cell_type": "code",
   "execution_count": 10,
   "id": "838d193b-73a7-424d-939a-9f8b9af71782",
   "metadata": {},
   "outputs": [],
   "source": [
    "repo = app_repo"
   ]
  },
  {
   "cell_type": "code",
   "execution_count": 11,
   "id": "e8e90fb9-9cc9-4ea4-be06-f9663d8f6089",
   "metadata": {
    "tags": []
   },
   "outputs": [
    {
     "name": "stdout",
     "output_type": "stream",
     "text": [
      "CPU times: user 2.19 s, sys: 0 ns, total: 2.19 s\n",
      "Wall time: 41 s\n"
     ]
    }
   ],
   "source": [
    "%%time\n",
    "issues_raw = repo.get_issues(state='all', since=time_of_interest)\n",
    "issues_dataframe = pandas.DataFrame(issues_raw, columns=['issue'])"
   ]
  },
  {
   "cell_type": "code",
   "execution_count": 12,
   "id": "a0ee9a92-cfa5-46de-a3e6-cee10dc16a09",
   "metadata": {
    "tags": []
   },
   "outputs": [
    {
     "data": {
      "text/html": [
       "<div>\n",
       "<style scoped>\n",
       "    .dataframe tbody tr th:only-of-type {\n",
       "        vertical-align: middle;\n",
       "    }\n",
       "\n",
       "    .dataframe tbody tr th {\n",
       "        vertical-align: top;\n",
       "    }\n",
       "\n",
       "    .dataframe thead th {\n",
       "        text-align: right;\n",
       "    }\n",
       "</style>\n",
       "<table border=\"1\" class=\"dataframe\">\n",
       "  <thead>\n",
       "    <tr style=\"text-align: right;\">\n",
       "      <th></th>\n",
       "      <th>issue</th>\n",
       "      <th>issue_number</th>\n",
       "      <th>created_at</th>\n",
       "      <th>created_sprint</th>\n",
       "    </tr>\n",
       "  </thead>\n",
       "  <tbody>\n",
       "    <tr>\n",
       "      <th>299</th>\n",
       "      <td>Issue(title=\"Hinweis zur Auffrischimpfung Bena...</td>\n",
       "      <td>5400</td>\n",
       "      <td>2022-07-31 18:29:36</td>\n",
       "      <td>2022-07-18</td>\n",
       "    </tr>\n",
       "    <tr>\n",
       "      <th>300</th>\n",
       "      <td>Issue(title=\"Fix back navigation for UQS when ...</td>\n",
       "      <td>5399</td>\n",
       "      <td>2022-07-29 11:34:16</td>\n",
       "      <td>2022-07-18</td>\n",
       "    </tr>\n",
       "    <tr>\n",
       "      <th>301</th>\n",
       "      <td>Issue(title=\"https link to RKI STIKO (EXPOSURE...</td>\n",
       "      <td>5398</td>\n",
       "      <td>2022-07-29 06:50:46</td>\n",
       "      <td>2022-07-18</td>\n",
       "    </tr>\n",
       "    <tr>\n",
       "      <th>302</th>\n",
       "      <td>Issue(title=\"Status update is not working on a...</td>\n",
       "      <td>5397</td>\n",
       "      <td>2022-07-28 23:57:50</td>\n",
       "      <td>2022-07-18</td>\n",
       "    </tr>\n",
       "    <tr>\n",
       "      <th>303</th>\n",
       "      <td>Issue(title=\"Support Material You themed icons...</td>\n",
       "      <td>5396</td>\n",
       "      <td>2022-07-28 20:43:32</td>\n",
       "      <td>2022-07-18</td>\n",
       "    </tr>\n",
       "    <tr>\n",
       "      <th>...</th>\n",
       "      <td>...</td>\n",
       "      <td>...</td>\n",
       "      <td>...</td>\n",
       "      <td>...</td>\n",
       "    </tr>\n",
       "    <tr>\n",
       "      <th>1910</th>\n",
       "      <td>Issue(title=\"Pass rawCOSEObject (EXPOSUREAPP-8...</td>\n",
       "      <td>3747</td>\n",
       "      <td>2021-07-19 13:58:17</td>\n",
       "      <td>2021-07-19</td>\n",
       "    </tr>\n",
       "    <tr>\n",
       "      <th>1911</th>\n",
       "      <td>Issue(title=\"Title Change(EXPOSUREAPP-8422)\", ...</td>\n",
       "      <td>3746</td>\n",
       "      <td>2021-07-19 12:36:48</td>\n",
       "      <td>2021-07-19</td>\n",
       "    </tr>\n",
       "    <tr>\n",
       "      <th>1912</th>\n",
       "      <td>Issue(title=\"Fix :Rule counter on success scre...</td>\n",
       "      <td>3745</td>\n",
       "      <td>2021-07-19 11:02:55</td>\n",
       "      <td>2021-07-19</td>\n",
       "    </tr>\n",
       "    <tr>\n",
       "      <th>1913</th>\n",
       "      <td>Issue(title=\"UA Bug fix (DEV)\", number=3744)</td>\n",
       "      <td>3744</td>\n",
       "      <td>2021-07-19 08:45:03</td>\n",
       "      <td>2021-07-19</td>\n",
       "    </tr>\n",
       "    <tr>\n",
       "      <th>1914</th>\n",
       "      <td>Issue(title=\"Value map combined (EXPOSUREAPP-8...</td>\n",
       "      <td>3743</td>\n",
       "      <td>2021-07-19 06:02:58</td>\n",
       "      <td>2021-07-19</td>\n",
       "    </tr>\n",
       "  </tbody>\n",
       "</table>\n",
       "<p>1616 rows × 4 columns</p>\n",
       "</div>"
      ],
      "text/plain": [
       "                                                  issue  issue_number  \\\n",
       "299   Issue(title=\"Hinweis zur Auffrischimpfung Bena...          5400   \n",
       "300   Issue(title=\"Fix back navigation for UQS when ...          5399   \n",
       "301   Issue(title=\"https link to RKI STIKO (EXPOSURE...          5398   \n",
       "302   Issue(title=\"Status update is not working on a...          5397   \n",
       "303   Issue(title=\"Support Material You themed icons...          5396   \n",
       "...                                                 ...           ...   \n",
       "1910  Issue(title=\"Pass rawCOSEObject (EXPOSUREAPP-8...          3747   \n",
       "1911  Issue(title=\"Title Change(EXPOSUREAPP-8422)\", ...          3746   \n",
       "1912  Issue(title=\"Fix :Rule counter on success scre...          3745   \n",
       "1913       Issue(title=\"UA Bug fix (DEV)\", number=3744)          3744   \n",
       "1914  Issue(title=\"Value map combined (EXPOSUREAPP-8...          3743   \n",
       "\n",
       "              created_at created_sprint  \n",
       "299  2022-07-31 18:29:36     2022-07-18  \n",
       "300  2022-07-29 11:34:16     2022-07-18  \n",
       "301  2022-07-29 06:50:46     2022-07-18  \n",
       "302  2022-07-28 23:57:50     2022-07-18  \n",
       "303  2022-07-28 20:43:32     2022-07-18  \n",
       "...                  ...            ...  \n",
       "1910 2021-07-19 13:58:17     2021-07-19  \n",
       "1911 2021-07-19 12:36:48     2021-07-19  \n",
       "1912 2021-07-19 11:02:55     2021-07-19  \n",
       "1913 2021-07-19 08:45:03     2021-07-19  \n",
       "1914 2021-07-19 06:02:58     2021-07-19  \n",
       "\n",
       "[1616 rows x 4 columns]"
      ]
     },
     "execution_count": 12,
     "metadata": {},
     "output_type": "execute_result"
    }
   ],
   "source": [
    "issues_dataframe['issue_number'] = issues_dataframe.issue.apply(lambda issue: issue.number)\n",
    "issues_dataframe['created_at'] = issues_dataframe.issue.apply(lambda issue: issue.created_at)\n",
    "issues_dataframe['created_sprint'] = issues_dataframe.created_at.apply(lambda date: date_to_sprint_start(date).date())\n",
    "issues_dataframe = issues_dataframe[(issues_dataframe.created_at >= time_of_interest) & (issues_dataframe.created_at < today)]\n",
    "issues_dataframe"
   ]
  },
  {
   "cell_type": "code",
   "execution_count": 13,
   "id": "df8f23df-8cd3-428b-9e6f-8f7343ec791e",
   "metadata": {},
   "outputs": [
    {
     "name": "stdout",
     "output_type": "stream",
     "text": [
      "CPU times: user 23.7 ms, sys: 0 ns, total: 23.7 ms\n",
      "Wall time: 21.7 ms\n"
     ]
    },
    {
     "data": {
      "text/html": [
       "<div>\n",
       "<style scoped>\n",
       "    .dataframe tbody tr th:only-of-type {\n",
       "        vertical-align: middle;\n",
       "    }\n",
       "\n",
       "    .dataframe tbody tr th {\n",
       "        vertical-align: top;\n",
       "    }\n",
       "\n",
       "    .dataframe thead th {\n",
       "        text-align: right;\n",
       "    }\n",
       "</style>\n",
       "<table border=\"1\" class=\"dataframe\">\n",
       "  <thead>\n",
       "    <tr style=\"text-align: right;\">\n",
       "      <th></th>\n",
       "      <th>issue</th>\n",
       "      <th>issue_number</th>\n",
       "      <th>created_at</th>\n",
       "      <th>created_sprint</th>\n",
       "    </tr>\n",
       "  </thead>\n",
       "  <tbody>\n",
       "    <tr>\n",
       "      <th>299</th>\n",
       "      <td>Issue(title=\"Hinweis zur Auffrischimpfung Bena...</td>\n",
       "      <td>5400</td>\n",
       "      <td>2022-07-31 18:29:36</td>\n",
       "      <td>2022-07-18</td>\n",
       "    </tr>\n",
       "    <tr>\n",
       "      <th>302</th>\n",
       "      <td>Issue(title=\"Status update is not working on a...</td>\n",
       "      <td>5397</td>\n",
       "      <td>2022-07-28 23:57:50</td>\n",
       "      <td>2022-07-18</td>\n",
       "    </tr>\n",
       "    <tr>\n",
       "      <th>303</th>\n",
       "      <td>Issue(title=\"Support Material You themed icons...</td>\n",
       "      <td>5396</td>\n",
       "      <td>2022-07-28 20:43:32</td>\n",
       "      <td>2022-07-18</td>\n",
       "    </tr>\n",
       "    <tr>\n",
       "      <th>330</th>\n",
       "      <td>Issue(title=\"v2.25.0-RC2 is tagged as \"Lates\" ...</td>\n",
       "      <td>5368</td>\n",
       "      <td>2022-07-20 12:15:11</td>\n",
       "      <td>2022-07-18</td>\n",
       "    </tr>\n",
       "    <tr>\n",
       "      <th>343</th>\n",
       "      <td>Issue(title=\"Contact Journal: Duration of plac...</td>\n",
       "      <td>5354</td>\n",
       "      <td>2022-07-16 09:20:08</td>\n",
       "      <td>2022-07-04</td>\n",
       "    </tr>\n",
       "    <tr>\n",
       "      <th>...</th>\n",
       "      <td>...</td>\n",
       "      <td>...</td>\n",
       "      <td>...</td>\n",
       "      <td>...</td>\n",
       "    </tr>\n",
       "    <tr>\n",
       "      <th>1810</th>\n",
       "      <td>Issue(title=\"[Solved]: Uniform / identical num...</td>\n",
       "      <td>3849</td>\n",
       "      <td>2021-07-30 17:53:30</td>\n",
       "      <td>2021-07-19</td>\n",
       "    </tr>\n",
       "    <tr>\n",
       "      <th>1812</th>\n",
       "      <td>Issue(title=\"Validity check for Netherlands do...</td>\n",
       "      <td>3847</td>\n",
       "      <td>2021-07-30 14:27:36</td>\n",
       "      <td>2021-07-19</td>\n",
       "    </tr>\n",
       "    <tr>\n",
       "      <th>1821</th>\n",
       "      <td>Issue(title=\"Latest issued Vaccination DCC 2/2...</td>\n",
       "      <td>3838</td>\n",
       "      <td>2021-07-29 13:07:35</td>\n",
       "      <td>2021-07-19</td>\n",
       "    </tr>\n",
       "    <tr>\n",
       "      <th>1856</th>\n",
       "      <td>Issue(title=\"[INFO / Bug]: Update problem afte...</td>\n",
       "      <td>3802</td>\n",
       "      <td>2021-07-26 09:13:23</td>\n",
       "      <td>2021-07-19</td>\n",
       "    </tr>\n",
       "    <tr>\n",
       "      <th>1857</th>\n",
       "      <td>Issue(title=\"Digital COVID certificates should...</td>\n",
       "      <td>3801</td>\n",
       "      <td>2021-07-24 10:35:35</td>\n",
       "      <td>2021-07-19</td>\n",
       "    </tr>\n",
       "  </tbody>\n",
       "</table>\n",
       "<p>187 rows × 4 columns</p>\n",
       "</div>"
      ],
      "text/plain": [
       "                                                  issue  issue_number  \\\n",
       "299   Issue(title=\"Hinweis zur Auffrischimpfung Bena...          5400   \n",
       "302   Issue(title=\"Status update is not working on a...          5397   \n",
       "303   Issue(title=\"Support Material You themed icons...          5396   \n",
       "330   Issue(title=\"v2.25.0-RC2 is tagged as \"Lates\" ...          5368   \n",
       "343   Issue(title=\"Contact Journal: Duration of plac...          5354   \n",
       "...                                                 ...           ...   \n",
       "1810  Issue(title=\"[Solved]: Uniform / identical num...          3849   \n",
       "1812  Issue(title=\"Validity check for Netherlands do...          3847   \n",
       "1821  Issue(title=\"Latest issued Vaccination DCC 2/2...          3838   \n",
       "1856  Issue(title=\"[INFO / Bug]: Update problem afte...          3802   \n",
       "1857  Issue(title=\"Digital COVID certificates should...          3801   \n",
       "\n",
       "              created_at created_sprint  \n",
       "299  2022-07-31 18:29:36     2022-07-18  \n",
       "302  2022-07-28 23:57:50     2022-07-18  \n",
       "303  2022-07-28 20:43:32     2022-07-18  \n",
       "330  2022-07-20 12:15:11     2022-07-18  \n",
       "343  2022-07-16 09:20:08     2022-07-04  \n",
       "...                  ...            ...  \n",
       "1810 2021-07-30 17:53:30     2021-07-19  \n",
       "1812 2021-07-30 14:27:36     2021-07-19  \n",
       "1821 2021-07-29 13:07:35     2021-07-19  \n",
       "1856 2021-07-26 09:13:23     2021-07-19  \n",
       "1857 2021-07-24 10:35:35     2021-07-19  \n",
       "\n",
       "[187 rows x 4 columns]"
      ]
     },
     "execution_count": 13,
     "metadata": {},
     "output_type": "execute_result"
    }
   ],
   "source": [
    "%%time\n",
    "def is_issue(issue): # \"Issues\" returned by GitHub API can also be Pull Requests which we want to ignore\n",
    "    return 'issues' in issue.html_url\n",
    "\n",
    "def is_customer_issue(issue): # Issues created by the development team do not represent customer interaction\n",
    "    return is_issue(issue) and not issue.user in app_team\n",
    "\n",
    "customer_issues = issues_dataframe[issues_dataframe.issue.apply(is_customer_issue)]\n",
    "customer_issues"
   ]
  },
  {
   "cell_type": "markdown",
   "id": "c03d4983-fb76-4152-8422-15e093a855ec",
   "metadata": {},
   "source": [
    "## Finding Problems: Long Reaction Times"
   ]
  },
  {
   "cell_type": "code",
   "execution_count": 14,
   "id": "01d8cfd6-add9-42b4-aeb3-d00d8f12d0cf",
   "metadata": {},
   "outputs": [],
   "source": [
    "def first_reaction(issue):\n",
    "    return next((comment for comment in issue.get_comments() if comment.user != issue.user), None)"
   ]
  },
  {
   "cell_type": "code",
   "execution_count": 15,
   "id": "f77c4624-7c05-4bc4-9559-d701fceb7e04",
   "metadata": {
    "tags": []
   },
   "outputs": [
    {
     "name": "stdout",
     "output_type": "stream",
     "text": [
      "CPU times: user 1.42 s, sys: 198 ms, total: 1.62 s\n",
      "Wall time: 52.9 s\n"
     ]
    },
    {
     "name": "stderr",
     "output_type": "stream",
     "text": [
      "/mnt/d/Users/Leon Bein/Documents/HPI/U_Masterarbeit/masterThesisCode/.venv/lib/python3.6/site-packages/ipykernel_launcher.py:1: SettingWithCopyWarning: \n",
      "A value is trying to be set on a copy of a slice from a DataFrame.\n",
      "Try using .loc[row_indexer,col_indexer] = value instead\n",
      "\n",
      "See the caveats in the documentation: https://pandas.pydata.org/pandas-docs/stable/user_guide/indexing.html#returning-a-view-versus-a-copy\n",
      "  \"\"\"Entry point for launching an IPython kernel.\n",
      "/mnt/d/Users/Leon Bein/Documents/HPI/U_Masterarbeit/masterThesisCode/.venv/lib/python3.6/site-packages/ipykernel_launcher.py:2: SettingWithCopyWarning: \n",
      "A value is trying to be set on a copy of a slice from a DataFrame.\n",
      "Try using .loc[row_indexer,col_indexer] = value instead\n",
      "\n",
      "See the caveats in the documentation: https://pandas.pydata.org/pandas-docs/stable/user_guide/indexing.html#returning-a-view-versus-a-copy\n",
      "  \n"
     ]
    },
    {
     "data": {
      "text/html": [
       "<div>\n",
       "<style scoped>\n",
       "    .dataframe tbody tr th:only-of-type {\n",
       "        vertical-align: middle;\n",
       "    }\n",
       "\n",
       "    .dataframe tbody tr th {\n",
       "        vertical-align: top;\n",
       "    }\n",
       "\n",
       "    .dataframe thead th {\n",
       "        text-align: right;\n",
       "    }\n",
       "</style>\n",
       "<table border=\"1\" class=\"dataframe\">\n",
       "  <thead>\n",
       "    <tr style=\"text-align: right;\">\n",
       "      <th></th>\n",
       "      <th>issue</th>\n",
       "      <th>issue_number</th>\n",
       "      <th>created_at</th>\n",
       "      <th>created_sprint</th>\n",
       "      <th>first_reaction</th>\n",
       "      <th>time_to_react</th>\n",
       "    </tr>\n",
       "  </thead>\n",
       "  <tbody>\n",
       "    <tr>\n",
       "      <th>299</th>\n",
       "      <td>Issue(title=\"Hinweis zur Auffrischimpfung Bena...</td>\n",
       "      <td>5400</td>\n",
       "      <td>2022-07-31 18:29:36</td>\n",
       "      <td>2022-07-18</td>\n",
       "      <td>IssueComment(user=NamedUser(login=\"MikeMcC399\"...</td>\n",
       "      <td>0 days 01:19:21</td>\n",
       "    </tr>\n",
       "    <tr>\n",
       "      <th>302</th>\n",
       "      <td>Issue(title=\"Status update is not working on a...</td>\n",
       "      <td>5397</td>\n",
       "      <td>2022-07-28 23:57:50</td>\n",
       "      <td>2022-07-18</td>\n",
       "      <td>IssueComment(user=NamedUser(login=\"dsarkar\"), ...</td>\n",
       "      <td>0 days 06:02:58</td>\n",
       "    </tr>\n",
       "    <tr>\n",
       "      <th>303</th>\n",
       "      <td>Issue(title=\"Support Material You themed icons...</td>\n",
       "      <td>5396</td>\n",
       "      <td>2022-07-28 20:43:32</td>\n",
       "      <td>2022-07-18</td>\n",
       "      <td>IssueComment(user=NamedUser(login=\"Ein-Tim\"), ...</td>\n",
       "      <td>0 days 07:23:31</td>\n",
       "    </tr>\n",
       "    <tr>\n",
       "      <th>330</th>\n",
       "      <td>Issue(title=\"v2.25.0-RC2 is tagged as \"Lates\" ...</td>\n",
       "      <td>5368</td>\n",
       "      <td>2022-07-20 12:15:11</td>\n",
       "      <td>2022-07-18</td>\n",
       "      <td>IssueComment(user=NamedUser(login=\"mtwalli\"), ...</td>\n",
       "      <td>0 days 06:13:47</td>\n",
       "    </tr>\n",
       "    <tr>\n",
       "      <th>343</th>\n",
       "      <td>Issue(title=\"Contact Journal: Duration of plac...</td>\n",
       "      <td>5354</td>\n",
       "      <td>2022-07-16 09:20:08</td>\n",
       "      <td>2022-07-04</td>\n",
       "      <td>IssueComment(user=NamedUser(login=\"dsarkar\"), ...</td>\n",
       "      <td>0 days 01:40:11</td>\n",
       "    </tr>\n",
       "    <tr>\n",
       "      <th>...</th>\n",
       "      <td>...</td>\n",
       "      <td>...</td>\n",
       "      <td>...</td>\n",
       "      <td>...</td>\n",
       "      <td>...</td>\n",
       "      <td>...</td>\n",
       "    </tr>\n",
       "    <tr>\n",
       "      <th>1810</th>\n",
       "      <td>Issue(title=\"[Solved]: Uniform / identical num...</td>\n",
       "      <td>3849</td>\n",
       "      <td>2021-07-30 17:53:30</td>\n",
       "      <td>2021-07-19</td>\n",
       "      <td>IssueComment(user=NamedUser(login=\"Ein-Tim\"), ...</td>\n",
       "      <td>0 days 00:12:49</td>\n",
       "    </tr>\n",
       "    <tr>\n",
       "      <th>1812</th>\n",
       "      <td>Issue(title=\"Validity check for Netherlands do...</td>\n",
       "      <td>3847</td>\n",
       "      <td>2021-07-30 14:27:36</td>\n",
       "      <td>2021-07-19</td>\n",
       "      <td>IssueComment(user=NamedUser(login=\"Ein-Tim\"), ...</td>\n",
       "      <td>0 days 00:03:56</td>\n",
       "    </tr>\n",
       "    <tr>\n",
       "      <th>1821</th>\n",
       "      <td>Issue(title=\"Latest issued Vaccination DCC 2/2...</td>\n",
       "      <td>3838</td>\n",
       "      <td>2021-07-29 13:07:35</td>\n",
       "      <td>2021-07-19</td>\n",
       "      <td>IssueComment(user=NamedUser(login=\"fynngodau\")...</td>\n",
       "      <td>0 days 00:52:55</td>\n",
       "    </tr>\n",
       "    <tr>\n",
       "      <th>1856</th>\n",
       "      <td>Issue(title=\"[INFO / Bug]: Update problem afte...</td>\n",
       "      <td>3802</td>\n",
       "      <td>2021-07-26 09:13:23</td>\n",
       "      <td>2021-07-19</td>\n",
       "      <td>IssueComment(user=NamedUser(login=\"mtwalli\"), ...</td>\n",
       "      <td>409 days 04:06:15</td>\n",
       "    </tr>\n",
       "    <tr>\n",
       "      <th>1857</th>\n",
       "      <td>Issue(title=\"Digital COVID certificates should...</td>\n",
       "      <td>3801</td>\n",
       "      <td>2021-07-24 10:35:35</td>\n",
       "      <td>2021-07-19</td>\n",
       "      <td>IssueComment(user=NamedUser(login=\"Ein-Tim\"), ...</td>\n",
       "      <td>0 days 00:04:12</td>\n",
       "    </tr>\n",
       "  </tbody>\n",
       "</table>\n",
       "<p>187 rows × 6 columns</p>\n",
       "</div>"
      ],
      "text/plain": [
       "                                                  issue  issue_number  \\\n",
       "299   Issue(title=\"Hinweis zur Auffrischimpfung Bena...          5400   \n",
       "302   Issue(title=\"Status update is not working on a...          5397   \n",
       "303   Issue(title=\"Support Material You themed icons...          5396   \n",
       "330   Issue(title=\"v2.25.0-RC2 is tagged as \"Lates\" ...          5368   \n",
       "343   Issue(title=\"Contact Journal: Duration of plac...          5354   \n",
       "...                                                 ...           ...   \n",
       "1810  Issue(title=\"[Solved]: Uniform / identical num...          3849   \n",
       "1812  Issue(title=\"Validity check for Netherlands do...          3847   \n",
       "1821  Issue(title=\"Latest issued Vaccination DCC 2/2...          3838   \n",
       "1856  Issue(title=\"[INFO / Bug]: Update problem afte...          3802   \n",
       "1857  Issue(title=\"Digital COVID certificates should...          3801   \n",
       "\n",
       "              created_at created_sprint  \\\n",
       "299  2022-07-31 18:29:36     2022-07-18   \n",
       "302  2022-07-28 23:57:50     2022-07-18   \n",
       "303  2022-07-28 20:43:32     2022-07-18   \n",
       "330  2022-07-20 12:15:11     2022-07-18   \n",
       "343  2022-07-16 09:20:08     2022-07-04   \n",
       "...                  ...            ...   \n",
       "1810 2021-07-30 17:53:30     2021-07-19   \n",
       "1812 2021-07-30 14:27:36     2021-07-19   \n",
       "1821 2021-07-29 13:07:35     2021-07-19   \n",
       "1856 2021-07-26 09:13:23     2021-07-19   \n",
       "1857 2021-07-24 10:35:35     2021-07-19   \n",
       "\n",
       "                                         first_reaction     time_to_react  \n",
       "299   IssueComment(user=NamedUser(login=\"MikeMcC399\"...   0 days 01:19:21  \n",
       "302   IssueComment(user=NamedUser(login=\"dsarkar\"), ...   0 days 06:02:58  \n",
       "303   IssueComment(user=NamedUser(login=\"Ein-Tim\"), ...   0 days 07:23:31  \n",
       "330   IssueComment(user=NamedUser(login=\"mtwalli\"), ...   0 days 06:13:47  \n",
       "343   IssueComment(user=NamedUser(login=\"dsarkar\"), ...   0 days 01:40:11  \n",
       "...                                                 ...               ...  \n",
       "1810  IssueComment(user=NamedUser(login=\"Ein-Tim\"), ...   0 days 00:12:49  \n",
       "1812  IssueComment(user=NamedUser(login=\"Ein-Tim\"), ...   0 days 00:03:56  \n",
       "1821  IssueComment(user=NamedUser(login=\"fynngodau\")...   0 days 00:52:55  \n",
       "1856  IssueComment(user=NamedUser(login=\"mtwalli\"), ... 409 days 04:06:15  \n",
       "1857  IssueComment(user=NamedUser(login=\"Ein-Tim\"), ...   0 days 00:04:12  \n",
       "\n",
       "[187 rows x 6 columns]"
      ]
     },
     "execution_count": 15,
     "metadata": {},
     "output_type": "execute_result"
    }
   ],
   "source": [
    "%%time\n",
    "customer_issues['first_reaction'] = customer_issues.issue.apply(first_reaction)\n",
    "customer_issues['time_to_react'] = customer_issues.first_reaction.apply(lambda comment: comment and comment.created_at) - customer_issues.created_at\n",
    "customer_issues"
   ]
  },
  {
   "cell_type": "code",
   "execution_count": 16,
   "id": "45614c75-ea21-4cff-8e32-93f2564b3a5b",
   "metadata": {},
   "outputs": [
    {
     "data": {
      "text/plain": [
       "Timedelta('4 days 12:48:52.005405405')"
      ]
     },
     "execution_count": 16,
     "metadata": {},
     "output_type": "execute_result"
    }
   ],
   "source": [
    "customer_issues.time_to_react.mean()"
   ]
  },
  {
   "cell_type": "markdown",
   "id": "3cbd770e-b7b9-4b92-bd1d-2891fb0a4b54",
   "metadata": {},
   "source": [
    "### Trimming the Data"
   ]
  },
  {
   "cell_type": "code",
   "execution_count": 17,
   "id": "9a62b6f0-8504-4e84-84d5-6b6b9a0f0b09",
   "metadata": {},
   "outputs": [
    {
     "data": {
      "text/plain": [
       "[Text(0.5, 0, 'Reaction Time in d')]"
      ]
     },
     "execution_count": 17,
     "metadata": {},
     "output_type": "execute_result"
    },
    {
     "data": {
      "image/png": "[encoded data removed]",
      "text/plain": [
       "<Figure size 720x360 with 1 Axes>"
      ]
     },
     "metadata": {
      "needs_background": "light"
     },
     "output_type": "display_data"
    }
   ],
   "source": [
    "(customer_issues.time_to_react / pandas.Timedelta(days=1)).plot.hist(bins=100).set(xlabel='Reaction Time in d')"
   ]
  },
  {
   "cell_type": "code",
   "execution_count": 18,
   "id": "19256d55-cdef-4e63-8613-1ca70a3d7463",
   "metadata": {},
   "outputs": [
    {
     "data": {
      "text/plain": [
       "[Text(0.5, 0, 'Reaction Time in d')]"
      ]
     },
     "execution_count": 18,
     "metadata": {},
     "output_type": "execute_result"
    },
    {
     "data": {
      "image/png": "[encoded data removed]",
      "text/plain": [
       "<Figure size 720x360 with 1 Axes>"
      ]
     },
     "metadata": {
      "needs_background": "light"
     },
     "output_type": "display_data"
    }
   ],
   "source": [
    "(customer_issues.time_to_react / pandas.Timedelta(days=1))[customer_issues.time_to_react <= timedelta(days=30)].plot.hist(bins=100).set(xlabel='Reaction Time in d')"
   ]
  },
  {
   "cell_type": "code",
   "execution_count": 19,
   "id": "b477c94a-eebf-485c-bfb5-cca452fdbd06",
   "metadata": {},
   "outputs": [
    {
     "data": {
      "text/plain": [
       "11"
      ]
     },
     "execution_count": 19,
     "metadata": {},
     "output_type": "execute_result"
    }
   ],
   "source": [
    "customer_issues[customer_issues.time_to_react > timedelta(days=7)].issue.count()"
   ]
  },
  {
   "cell_type": "code",
   "execution_count": 20,
   "id": "3d05f540-ff80-4ad7-8135-2e31e2dcb7b8",
   "metadata": {},
   "outputs": [],
   "source": [
    "focus_issues = customer_issues[customer_issues.time_to_react <= timedelta(days=7)]"
   ]
  },
  {
   "cell_type": "code",
   "execution_count": 21,
   "id": "aae8f4f7-0571-4e27-98c1-0439ae2b4bdc",
   "metadata": {},
   "outputs": [],
   "source": [
    "issues_per_sprint = focus_issues.groupby('created_sprint')"
   ]
  },
  {
   "cell_type": "markdown",
   "id": "bca0108e-de60-4d70-82b8-004f3961ba83",
   "metadata": {},
   "source": [
    "### Explore the Data"
   ]
  },
  {
   "cell_type": "code",
   "execution_count": 22,
   "id": "22f1f944-daa2-449f-87e8-0ca1906b0749",
   "metadata": {},
   "outputs": [
    {
     "data": {
      "text/plain": [
       "<AxesSubplot:xlabel='created_sprint'>"
      ]
     },
     "execution_count": 22,
     "metadata": {},
     "output_type": "execute_result"
    },
    {
     "data": {
      "image/png": "[encoded data removed]",
      "text/plain": [
       "<Figure size 720x360 with 1 Axes>"
      ]
     },
     "metadata": {
      "needs_background": "light"
     },
     "output_type": "display_data"
    }
   ],
   "source": [
    "issues_per_sprint.issue.count().plot.bar()"
   ]
  },
  {
   "cell_type": "code",
   "execution_count": 23,
   "id": "7485f74a-34e0-4128-a222-2926ddd3c695",
   "metadata": {},
   "outputs": [
    {
     "data": {
      "text/plain": [
       "<AxesSubplot:xlabel='created_sprint'>"
      ]
     },
     "execution_count": 23,
     "metadata": {},
     "output_type": "execute_result"
    },
    {
     "data": {
      "image/png": "[encoded data removed]",
      "text/plain": [
       "<Figure size 720x360 with 1 Axes>"
      ]
     },
     "metadata": {
      "needs_background": "light"
     },
     "output_type": "display_data"
    }
   ],
   "source": [
    "mean_time_to_react = issues_per_sprint.time_to_react.apply(numpy.mean)\n",
    "(mean_time_to_react / pandas.Timedelta(hours=1)).plot.bar()"
   ]
  },
  {
   "cell_type": "code",
   "execution_count": 24,
   "id": "16874c9f-22b5-45a2-b57c-ee610940cec3",
   "metadata": {},
   "outputs": [
    {
     "data": {
      "text/plain": [
       "<AxesSubplot:xlabel='created_sprint'>"
      ]
     },
     "execution_count": 24,
     "metadata": {},
     "output_type": "execute_result"
    },
    {
     "data": {
      "image/png": "[encoded data removed]",
      "text/plain": [
       "<Figure size 720x360 with 1 Axes>"
      ]
     },
     "metadata": {
      "needs_background": "light"
     },
     "output_type": "display_data"
    }
   ],
   "source": [
    "max_time_to_react = issues_per_sprint.time_to_react.apply(numpy.max)\n",
    "(max_time_to_react / pandas.Timedelta(hours=1)).plot.bar()"
   ]
  },
  {
   "cell_type": "code",
   "execution_count": 25,
   "id": "04fe6910-bd48-436d-acb3-1c63d5f3f126",
   "metadata": {},
   "outputs": [
    {
     "data": {
      "text/plain": [
       "<AxesSubplot:xlabel='created_sprint'>"
      ]
     },
     "execution_count": 25,
     "metadata": {},
     "output_type": "execute_result"
    },
    {
     "data": {
      "image/png": "[encoded data removed]",
      "text/plain": [
       "<Figure size 720x360 with 1 Axes>"
      ]
     },
     "metadata": {
      "needs_background": "light"
     },
     "output_type": "display_data"
    }
   ],
   "source": [
    "median_time_to_react = issues_per_sprint.time_to_react.apply(numpy.median)\n",
    "(median_time_to_react / pandas.Timedelta(hours=1)).plot.bar()"
   ]
  },
  {
   "cell_type": "markdown",
   "id": "a6185e32-c8e5-4176-b6e4-bf13c3155616",
   "metadata": {},
   "source": [
    "### Finding Causes"
   ]
  },
  {
   "cell_type": "code",
   "execution_count": 26,
   "id": "a8438a4d-e5f6-43c0-9db6-863dbd227711",
   "metadata": {},
   "outputs": [],
   "source": [
    "problem_sprints = [datetime(2022, 6, 6), datetime(2022, 6, 20), datetime(2022, 7, 4), datetime(2022, 7, 18)]"
   ]
  },
  {
   "cell_type": "code",
   "execution_count": 27,
   "id": "b9fd9cc8-ea6b-45bf-bdcb-0c1dde1ed2f0",
   "metadata": {},
   "outputs": [
    {
     "data": {
      "image/png": "[encoded data removed]",
      "text/plain": [
       "<Figure size 432x216 with 1 Axes>"
      ]
     },
     "metadata": {
      "needs_background": "light"
     },
     "output_type": "display_data"
    },
    {
     "data": {
      "image/png": "[encoded data removed]",
      "text/plain": [
       "<Figure size 432x216 with 1 Axes>"
      ]
     },
     "metadata": {
      "needs_background": "light"
     },
     "output_type": "display_data"
    },
    {
     "data": {
      "image/png": "[encoded data removed]",
      "text/plain": [
       "<Figure size 432x216 with 1 Axes>"
      ]
     },
     "metadata": {
      "needs_background": "light"
     },
     "output_type": "display_data"
    },
    {
     "data": {
      "image/png": "[encoded data removed]",
      "text/plain": [
       "<Figure size 432x216 with 1 Axes>"
      ]
     },
     "metadata": {
      "needs_background": "light"
     },
     "output_type": "display_data"
    }
   ],
   "source": [
    "for sprint_begin in problem_sprints:\n",
    "    pyplot.figure(figsize=(6, 3))\n",
    "    (focus_issues[focus_issues.created_sprint == sprint_begin.date()].time_to_react / pandas.Timedelta(hours=1)).plot.hist(bins=20)"
   ]
  },
  {
   "cell_type": "code",
   "execution_count": 34,
   "id": "7f7d9494-b9f1-4b37-a1bb-9c6bae1a94d0",
   "metadata": {},
   "outputs": [
    {
     "data": {
      "text/html": [
       "<div>\n",
       "<style scoped>\n",
       "    .dataframe tbody tr th:only-of-type {\n",
       "        vertical-align: middle;\n",
       "    }\n",
       "\n",
       "    .dataframe tbody tr th {\n",
       "        vertical-align: top;\n",
       "    }\n",
       "\n",
       "    .dataframe thead th {\n",
       "        text-align: right;\n",
       "    }\n",
       "</style>\n",
       "<table border=\"1\" class=\"dataframe\">\n",
       "  <thead>\n",
       "    <tr style=\"text-align: right;\">\n",
       "      <th></th>\n",
       "      <th>issue</th>\n",
       "      <th>issue_number</th>\n",
       "      <th>created_at</th>\n",
       "      <th>created_sprint</th>\n",
       "      <th>first_reaction</th>\n",
       "      <th>time_to_react</th>\n",
       "    </tr>\n",
       "  </thead>\n",
       "  <tbody>\n",
       "    <tr>\n",
       "      <th>362</th>\n",
       "      <td>Issue(title=\"App shows new features note after...</td>\n",
       "      <td>5334</td>\n",
       "      <td>2022-07-10 18:43:02</td>\n",
       "      <td>2022-07-04</td>\n",
       "      <td>IssueComment(user=NamedUser(login=\"larswmh\"), ...</td>\n",
       "      <td>0 days 14:26:27</td>\n",
       "    </tr>\n",
       "    <tr>\n",
       "      <th>363</th>\n",
       "      <td>Issue(title=\"Please merge version 2.24.2 into ...</td>\n",
       "      <td>5333</td>\n",
       "      <td>2022-07-10 18:30:50</td>\n",
       "      <td>2022-07-04</td>\n",
       "      <td>IssueComment(user=NamedUser(login=\"schauersber...</td>\n",
       "      <td>0 days 13:03:32</td>\n",
       "    </tr>\n",
       "    <tr>\n",
       "      <th>364</th>\n",
       "      <td>Issue(title=\"Missing 2.24.2 GitHub release\", n...</td>\n",
       "      <td>5332</td>\n",
       "      <td>2022-07-10 14:43:42</td>\n",
       "      <td>2022-07-04</td>\n",
       "      <td>IssueComment(user=NamedUser(login=\"schauersber...</td>\n",
       "      <td>0 days 16:27:58</td>\n",
       "    </tr>\n",
       "    <tr>\n",
       "      <th>372</th>\n",
       "      <td>Issue(title=\"Twitter Reports: App spams notifi...</td>\n",
       "      <td>5324</td>\n",
       "      <td>2022-07-05 13:54:48</td>\n",
       "      <td>2022-07-04</td>\n",
       "      <td>IssueComment(user=NamedUser(login=\"dsarkar\"), ...</td>\n",
       "      <td>0 days 16:29:36</td>\n",
       "    </tr>\n",
       "    <tr>\n",
       "      <th>398</th>\n",
       "      <td>Issue(title=\"Strange time format on ID history...</td>\n",
       "      <td>5296</td>\n",
       "      <td>2022-06-22 20:57:51</td>\n",
       "      <td>2022-06-20</td>\n",
       "      <td>IssueComment(user=NamedUser(login=\"MikeMcC399\"...</td>\n",
       "      <td>0 days 10:38:43</td>\n",
       "    </tr>\n",
       "    <tr>\n",
       "      <th>417</th>\n",
       "      <td>Issue(title=\"Twitter Report: \"Fertig\" button o...</td>\n",
       "      <td>5276</td>\n",
       "      <td>2022-06-11 21:52:37</td>\n",
       "      <td>2022-06-06</td>\n",
       "      <td>IssueComment(user=NamedUser(login=\"larswmh\"), ...</td>\n",
       "      <td>1 days 10:45:31</td>\n",
       "    </tr>\n",
       "    <tr>\n",
       "      <th>419</th>\n",
       "      <td>Issue(title=\"Using back/forward buttons when r...</td>\n",
       "      <td>5274</td>\n",
       "      <td>2022-06-11 08:09:38</td>\n",
       "      <td>2022-06-06</td>\n",
       "      <td>IssueComment(user=NamedUser(login=\"larswmh\"), ...</td>\n",
       "      <td>2 days 00:17:55</td>\n",
       "    </tr>\n",
       "  </tbody>\n",
       "</table>\n",
       "</div>"
      ],
      "text/plain": [
       "                                                 issue  issue_number  \\\n",
       "362  Issue(title=\"App shows new features note after...          5334   \n",
       "363  Issue(title=\"Please merge version 2.24.2 into ...          5333   \n",
       "364  Issue(title=\"Missing 2.24.2 GitHub release\", n...          5332   \n",
       "372  Issue(title=\"Twitter Reports: App spams notifi...          5324   \n",
       "398  Issue(title=\"Strange time format on ID history...          5296   \n",
       "417  Issue(title=\"Twitter Report: \"Fertig\" button o...          5276   \n",
       "419  Issue(title=\"Using back/forward buttons when r...          5274   \n",
       "\n",
       "             created_at created_sprint  \\\n",
       "362 2022-07-10 18:43:02     2022-07-04   \n",
       "363 2022-07-10 18:30:50     2022-07-04   \n",
       "364 2022-07-10 14:43:42     2022-07-04   \n",
       "372 2022-07-05 13:54:48     2022-07-04   \n",
       "398 2022-06-22 20:57:51     2022-06-20   \n",
       "417 2022-06-11 21:52:37     2022-06-06   \n",
       "419 2022-06-11 08:09:38     2022-06-06   \n",
       "\n",
       "                                        first_reaction   time_to_react  \n",
       "362  IssueComment(user=NamedUser(login=\"larswmh\"), ... 0 days 14:26:27  \n",
       "363  IssueComment(user=NamedUser(login=\"schauersber... 0 days 13:03:32  \n",
       "364  IssueComment(user=NamedUser(login=\"schauersber... 0 days 16:27:58  \n",
       "372  IssueComment(user=NamedUser(login=\"dsarkar\"), ... 0 days 16:29:36  \n",
       "398  IssueComment(user=NamedUser(login=\"MikeMcC399\"... 0 days 10:38:43  \n",
       "417  IssueComment(user=NamedUser(login=\"larswmh\"), ... 1 days 10:45:31  \n",
       "419  IssueComment(user=NamedUser(login=\"larswmh\"), ... 2 days 00:17:55  "
      ]
     },
     "execution_count": 34,
     "metadata": {},
     "output_type": "execute_result"
    }
   ],
   "source": [
    "problem_issues = focus_issues[(focus_issues.created_at >= problem_sprints[0]) & (focus_issues.time_to_react >= timedelta(hours=10))]\n",
    "problem_issues"
   ]
  },
  {
   "cell_type": "code",
   "execution_count": 35,
   "id": "7f927c64-f2f3-434e-8cc5-dcc823b28a4e",
   "metadata": {},
   "outputs": [
    {
     "name": "stderr",
     "output_type": "stream",
     "text": [
      "/mnt/d/Users/Leon Bein/Documents/HPI/U_Masterarbeit/masterThesisCode/.venv/lib/python3.6/site-packages/ipykernel_launcher.py:1: SettingWithCopyWarning: \n",
      "A value is trying to be set on a copy of a slice from a DataFrame.\n",
      "Try using .loc[row_indexer,col_indexer] = value instead\n",
      "\n",
      "See the caveats in the documentation: https://pandas.pydata.org/pandas-docs/stable/user_guide/indexing.html#returning-a-view-versus-a-copy\n",
      "  \"\"\"Entry point for launching an IPython kernel.\n"
     ]
    },
    {
     "data": {
      "text/html": [
       "<div>\n",
       "<style scoped>\n",
       "    .dataframe tbody tr th:only-of-type {\n",
       "        vertical-align: middle;\n",
       "    }\n",
       "\n",
       "    .dataframe tbody tr th {\n",
       "        vertical-align: top;\n",
       "    }\n",
       "\n",
       "    .dataframe thead th {\n",
       "        text-align: right;\n",
       "    }\n",
       "</style>\n",
       "<table border=\"1\" class=\"dataframe\">\n",
       "  <thead>\n",
       "    <tr style=\"text-align: right;\">\n",
       "      <th></th>\n",
       "      <th>issue</th>\n",
       "      <th>issue_number</th>\n",
       "      <th>created_at</th>\n",
       "      <th>created_sprint</th>\n",
       "      <th>first_reaction</th>\n",
       "      <th>time_to_react</th>\n",
       "      <th>created_day</th>\n",
       "    </tr>\n",
       "  </thead>\n",
       "  <tbody>\n",
       "    <tr>\n",
       "      <th>362</th>\n",
       "      <td>Issue(title=\"App shows new features note after...</td>\n",
       "      <td>5334</td>\n",
       "      <td>2022-07-10 18:43:02</td>\n",
       "      <td>2022-07-04</td>\n",
       "      <td>IssueComment(user=NamedUser(login=\"larswmh\"), ...</td>\n",
       "      <td>0 days 14:26:27</td>\n",
       "      <td>Sunday</td>\n",
       "    </tr>\n",
       "    <tr>\n",
       "      <th>363</th>\n",
       "      <td>Issue(title=\"Please merge version 2.24.2 into ...</td>\n",
       "      <td>5333</td>\n",
       "      <td>2022-07-10 18:30:50</td>\n",
       "      <td>2022-07-04</td>\n",
       "      <td>IssueComment(user=NamedUser(login=\"schauersber...</td>\n",
       "      <td>0 days 13:03:32</td>\n",
       "      <td>Sunday</td>\n",
       "    </tr>\n",
       "    <tr>\n",
       "      <th>364</th>\n",
       "      <td>Issue(title=\"Missing 2.24.2 GitHub release\", n...</td>\n",
       "      <td>5332</td>\n",
       "      <td>2022-07-10 14:43:42</td>\n",
       "      <td>2022-07-04</td>\n",
       "      <td>IssueComment(user=NamedUser(login=\"schauersber...</td>\n",
       "      <td>0 days 16:27:58</td>\n",
       "      <td>Sunday</td>\n",
       "    </tr>\n",
       "    <tr>\n",
       "      <th>372</th>\n",
       "      <td>Issue(title=\"Twitter Reports: App spams notifi...</td>\n",
       "      <td>5324</td>\n",
       "      <td>2022-07-05 13:54:48</td>\n",
       "      <td>2022-07-04</td>\n",
       "      <td>IssueComment(user=NamedUser(login=\"dsarkar\"), ...</td>\n",
       "      <td>0 days 16:29:36</td>\n",
       "      <td>Tuesday</td>\n",
       "    </tr>\n",
       "    <tr>\n",
       "      <th>398</th>\n",
       "      <td>Issue(title=\"Strange time format on ID history...</td>\n",
       "      <td>5296</td>\n",
       "      <td>2022-06-22 20:57:51</td>\n",
       "      <td>2022-06-20</td>\n",
       "      <td>IssueComment(user=NamedUser(login=\"MikeMcC399\"...</td>\n",
       "      <td>0 days 10:38:43</td>\n",
       "      <td>Wednesday</td>\n",
       "    </tr>\n",
       "    <tr>\n",
       "      <th>417</th>\n",
       "      <td>Issue(title=\"Twitter Report: \"Fertig\" button o...</td>\n",
       "      <td>5276</td>\n",
       "      <td>2022-06-11 21:52:37</td>\n",
       "      <td>2022-06-06</td>\n",
       "      <td>IssueComment(user=NamedUser(login=\"larswmh\"), ...</td>\n",
       "      <td>1 days 10:45:31</td>\n",
       "      <td>Saturday</td>\n",
       "    </tr>\n",
       "    <tr>\n",
       "      <th>419</th>\n",
       "      <td>Issue(title=\"Using back/forward buttons when r...</td>\n",
       "      <td>5274</td>\n",
       "      <td>2022-06-11 08:09:38</td>\n",
       "      <td>2022-06-06</td>\n",
       "      <td>IssueComment(user=NamedUser(login=\"larswmh\"), ...</td>\n",
       "      <td>2 days 00:17:55</td>\n",
       "      <td>Saturday</td>\n",
       "    </tr>\n",
       "  </tbody>\n",
       "</table>\n",
       "</div>"
      ],
      "text/plain": [
       "                                                 issue  issue_number  \\\n",
       "362  Issue(title=\"App shows new features note after...          5334   \n",
       "363  Issue(title=\"Please merge version 2.24.2 into ...          5333   \n",
       "364  Issue(title=\"Missing 2.24.2 GitHub release\", n...          5332   \n",
       "372  Issue(title=\"Twitter Reports: App spams notifi...          5324   \n",
       "398  Issue(title=\"Strange time format on ID history...          5296   \n",
       "417  Issue(title=\"Twitter Report: \"Fertig\" button o...          5276   \n",
       "419  Issue(title=\"Using back/forward buttons when r...          5274   \n",
       "\n",
       "             created_at created_sprint  \\\n",
       "362 2022-07-10 18:43:02     2022-07-04   \n",
       "363 2022-07-10 18:30:50     2022-07-04   \n",
       "364 2022-07-10 14:43:42     2022-07-04   \n",
       "372 2022-07-05 13:54:48     2022-07-04   \n",
       "398 2022-06-22 20:57:51     2022-06-20   \n",
       "417 2022-06-11 21:52:37     2022-06-06   \n",
       "419 2022-06-11 08:09:38     2022-06-06   \n",
       "\n",
       "                                        first_reaction   time_to_react  \\\n",
       "362  IssueComment(user=NamedUser(login=\"larswmh\"), ... 0 days 14:26:27   \n",
       "363  IssueComment(user=NamedUser(login=\"schauersber... 0 days 13:03:32   \n",
       "364  IssueComment(user=NamedUser(login=\"schauersber... 0 days 16:27:58   \n",
       "372  IssueComment(user=NamedUser(login=\"dsarkar\"), ... 0 days 16:29:36   \n",
       "398  IssueComment(user=NamedUser(login=\"MikeMcC399\"... 0 days 10:38:43   \n",
       "417  IssueComment(user=NamedUser(login=\"larswmh\"), ... 1 days 10:45:31   \n",
       "419  IssueComment(user=NamedUser(login=\"larswmh\"), ... 2 days 00:17:55   \n",
       "\n",
       "    created_day  \n",
       "362      Sunday  \n",
       "363      Sunday  \n",
       "364      Sunday  \n",
       "372     Tuesday  \n",
       "398   Wednesday  \n",
       "417    Saturday  \n",
       "419    Saturday  "
      ]
     },
     "execution_count": 35,
     "metadata": {},
     "output_type": "execute_result"
    }
   ],
   "source": [
    "problem_issues['created_day'] = problem_issues.created_at.apply(lambda date: date.day_name())\n",
    "problem_issues"
   ]
  },
  {
   "cell_type": "code",
   "execution_count": null,
   "id": "f8b49591-6ed7-4bcd-a470-f332a44a3d1b",
   "metadata": {},
   "outputs": [],
   "source": []
  },
  {
   "cell_type": "code",
   "execution_count": null,
   "id": "26cbc249-168d-4694-8791-456d907c8880",
   "metadata": {},
   "outputs": [],
   "source": []
  },
  {
   "cell_type": "code",
   "execution_count": null,
   "id": "3a599d08-044f-47b3-ab9f-0b1cac92ee40",
   "metadata": {},
   "outputs": [],
   "source": []
  },
  {
   "cell_type": "code",
   "execution_count": null,
   "id": "d92f1ac1-0e8c-4f56-b0d8-980c6ea29553",
   "metadata": {},
   "outputs": [],
   "source": []
  },
  {
   "cell_type": "code",
   "execution_count": null,
   "id": "65e88e6a-5d8d-4334-a1b8-861c13b65078",
   "metadata": {},
   "outputs": [],
   "source": []
  },
  {
   "cell_type": "code",
   "execution_count": null,
   "id": "f2bacee1-25ae-46f9-a3ca-be91afcc5bee",
   "metadata": {},
   "outputs": [],
   "source": []
  },
  {
   "cell_type": "code",
   "execution_count": null,
   "id": "d0f8d57d-671a-4ec4-b0ef-9a59e37ed3be",
   "metadata": {},
   "outputs": [],
   "source": []
  },
  {
   "cell_type": "code",
   "execution_count": null,
   "id": "c5b3a2e9-bdde-4ee0-b5c1-63a42d7e8195",
   "metadata": {},
   "outputs": [],
   "source": []
  },
  {
   "cell_type": "code",
   "execution_count": null,
   "id": "3c6c1133-09b5-4cc6-9f68-d58fe12fe89b",
   "metadata": {},
   "outputs": [],
   "source": []
  }
 ],
 "metadata": {
  "kernelspec": {
   "display_name": "Python 3",
   "language": "python",
   "name": "python3"
  },
  "language_info": {
   "codemirror_mode": {
    "name": "ipython",
    "version": 3
   },
   "file_extension": ".py",
   "mimetype": "text/x-python",
   "name": "python",
   "nbconvert_exporter": "python",
   "pygments_lexer": "ipython3",
   "version": "3.6.9"
  }
 },
 "nbformat": 4,
 "nbformat_minor": 5
}
