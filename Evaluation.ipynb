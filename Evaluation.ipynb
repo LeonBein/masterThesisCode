{
 "cells": [
  {
   "cell_type": "markdown",
   "id": "771b65e8-4772-4674-9006-8207a6a2f4d5",
   "metadata": {},
   "source": [
    "# Setup"
   ]
  },
  {
   "cell_type": "code",
   "execution_count": 2,
   "id": "e7c869e8-bac0-410b-a97c-e121e59a34f1",
   "metadata": {
    "tags": []
   },
   "outputs": [],
   "source": [
    "# Used to read .env files, for access tokens and other secrets or configurations\n",
    "%load_ext dotenv\n",
    "%dotenv\n",
    "import os"
   ]
  },
  {
   "cell_type": "code",
   "execution_count": 3,
   "id": "c9b0e4e1-f841-4550-aedb-7129201ef462",
   "metadata": {},
   "outputs": [],
   "source": [
    "from github import Github\n",
    "import pandas\n",
    "from matplotlib import pyplot\n",
    "import numpy\n",
    "import seaborn\n",
    "\n",
    "from datetime import datetime, timedelta"
   ]
  },
  {
   "cell_type": "code",
   "execution_count": 4,
   "id": "5ca407a0-dfc1-4346-abef-e2d0b47fd6cf",
   "metadata": {},
   "outputs": [],
   "source": [
    "seaborn.set_theme()\n",
    "seaborn.set_style('whitegrid')"
   ]
  },
  {
   "cell_type": "code",
   "execution_count": 5,
   "id": "0dd49190-b3e4-419b-80fe-d0904ff1a136",
   "metadata": {},
   "outputs": [],
   "source": [
    "# The github token is stored in a .env file next to this notebook in the form \"GITHUB_TOKEN = <your token here>\"\n",
    "github = Github(os.getenv(\"GITHUB_TOKEN\"))"
   ]
  },
  {
   "cell_type": "markdown",
   "id": "330680a5-c77e-488d-af31-98fdfe71c8f9",
   "metadata": {
    "tags": []
   },
   "source": [
    "# Team Constants\n",
    "\n",
    "These are things that describe how the team work and are static"
   ]
  },
  {
   "cell_type": "markdown",
   "id": "c18e97f3-82e6-4b5c-bad1-96ae1c934350",
   "metadata": {},
   "source": [
    "## Sprint Management"
   ]
  },
  {
   "cell_type": "code",
   "execution_count": 6,
   "id": "78c1be41-fdaa-49c5-8cd4-9744a6410989",
   "metadata": {},
   "outputs": [],
   "source": [
    "# In the following, we will assume that sprints are totally regular, starting with a fixed date.\n",
    "# The helper functions can of course be adapted to represent, e.g., changes in sprint duration or holiday breaks\n",
    "\n",
    "start_date_first_sprint = datetime(2020, 4, 27) # It's a monday, development actually started 02.05.2020\n",
    "sprint_length = timedelta(weeks=2)\n",
    "\n",
    "def date_to_sprint(date_to_convert):\n",
    "    return max(0, (date_to_convert - start_date_first_sprint) // sprint_length + 1) # Sprint \"0\" is everything before the first\n",
    "\n",
    "def sprint_to_start_date(sprint_to_convert):\n",
    "    return start_date_first_sprint + (sprint_to_convert - 1) * sprint_length"
   ]
  },
  {
   "cell_type": "markdown",
   "id": "d56f70a5-3c98-42e7-ba03-34ff68e9d469",
   "metadata": {},
   "source": [
    "## Repositories"
   ]
  },
  {
   "cell_type": "code",
   "execution_count": 7,
   "id": "1619e968-33e1-4dae-88d2-9f2e209b7969",
   "metadata": {},
   "outputs": [],
   "source": [
    "bpmn_js_repo = github.get_repo('bpmn-io/bpmn-js')"
   ]
  },
  {
   "cell_type": "markdown",
   "id": "3ce9e068-7c5c-4e84-b664-0a26b9369f25",
   "metadata": {
    "tags": []
   },
   "source": [
    "# Analysis: Issue Arrival"
   ]
  },
  {
   "cell_type": "markdown",
   "id": "d73d221f-1c46-4989-b62f-b2b82658a1fa",
   "metadata": {
    "tags": []
   },
   "source": [
    "## Data Collection and Preprocessing"
   ]
  },
  {
   "cell_type": "code",
   "execution_count": 8,
   "id": "beb34cbd-faa6-42b1-8c89-21535e184857",
   "metadata": {},
   "outputs": [],
   "source": [
    "repo = bpmn_js_repo"
   ]
  },
  {
   "cell_type": "code",
   "execution_count": 9,
   "id": "15036222-23bc-4b75-93f3-a451fb777c4d",
   "metadata": {
    "tags": []
   },
   "outputs": [
    {
     "data": {
      "text/html": [
       "<div>\n",
       "<style scoped>\n",
       "    .dataframe tbody tr th:only-of-type {\n",
       "        vertical-align: middle;\n",
       "    }\n",
       "\n",
       "    .dataframe tbody tr th {\n",
       "        vertical-align: top;\n",
       "    }\n",
       "\n",
       "    .dataframe thead th {\n",
       "        text-align: right;\n",
       "    }\n",
       "</style>\n",
       "<table border=\"1\" class=\"dataframe\">\n",
       "  <thead>\n",
       "    <tr style=\"text-align: right;\">\n",
       "      <th></th>\n",
       "      <th>issue</th>\n",
       "    </tr>\n",
       "  </thead>\n",
       "  <tbody>\n",
       "    <tr>\n",
       "      <th>0</th>\n",
       "      <td>Issue(title=\"chore: update dependency mkdirp t...</td>\n",
       "    </tr>\n",
       "    <tr>\n",
       "      <th>1</th>\n",
       "      <td>Issue(title=\"chore: update dependency execa to...</td>\n",
       "    </tr>\n",
       "    <tr>\n",
       "      <th>2</th>\n",
       "      <td>Issue(title=\"chore: update dependency del to v...</td>\n",
       "    </tr>\n",
       "    <tr>\n",
       "      <th>3</th>\n",
       "      <td>Issue(title=\"chore: update dependency babel-lo...</td>\n",
       "    </tr>\n",
       "    <tr>\n",
       "      <th>4</th>\n",
       "      <td>Issue(title=\"deps: update dependency diagram-j...</td>\n",
       "    </tr>\n",
       "    <tr>\n",
       "      <th>...</th>\n",
       "      <td>...</td>\n",
       "    </tr>\n",
       "    <tr>\n",
       "      <th>1749</th>\n",
       "      <td>Issue(title=\"1st Release\", number=5)</td>\n",
       "    </tr>\n",
       "    <tr>\n",
       "      <th>1750</th>\n",
       "      <td>Issue(title=\"I can create a new process\", numb...</td>\n",
       "    </tr>\n",
       "    <tr>\n",
       "      <th>1751</th>\n",
       "      <td>Issue(title=\"I can open a simple BPMN 2.0 proc...</td>\n",
       "    </tr>\n",
       "    <tr>\n",
       "      <th>1752</th>\n",
       "      <td>Issue(title=\"I can drag and drop BPMN elements...</td>\n",
       "    </tr>\n",
       "    <tr>\n",
       "      <th>1753</th>\n",
       "      <td>Issue(title=\"Import BPMN shapes\", number=1)</td>\n",
       "    </tr>\n",
       "  </tbody>\n",
       "</table>\n",
       "<p>1754 rows × 1 columns</p>\n",
       "</div>"
      ],
      "text/plain": [
       "                                                  issue\n",
       "0     Issue(title=\"chore: update dependency mkdirp t...\n",
       "1     Issue(title=\"chore: update dependency execa to...\n",
       "2     Issue(title=\"chore: update dependency del to v...\n",
       "3     Issue(title=\"chore: update dependency babel-lo...\n",
       "4     Issue(title=\"deps: update dependency diagram-j...\n",
       "...                                                 ...\n",
       "1749               Issue(title=\"1st Release\", number=5)\n",
       "1750  Issue(title=\"I can create a new process\", numb...\n",
       "1751  Issue(title=\"I can open a simple BPMN 2.0 proc...\n",
       "1752  Issue(title=\"I can drag and drop BPMN elements...\n",
       "1753        Issue(title=\"Import BPMN shapes\", number=1)\n",
       "\n",
       "[1754 rows x 1 columns]"
      ]
     },
     "execution_count": 9,
     "metadata": {},
     "output_type": "execute_result"
    }
   ],
   "source": [
    "issues_raw = repo.get_issues(state='all')\n",
    "issues_dataframe = pandas.DataFrame(issues_raw, columns=['issue'])\n",
    "issues_dataframe"
   ]
  },
  {
   "cell_type": "code",
   "execution_count": 10,
   "id": "15ce9413-fc2f-427b-accb-053707b6de28",
   "metadata": {
    "tags": []
   },
   "outputs": [
    {
     "data": {
      "text/plain": [
       "<pandas.core.groupby.generic.DataFrameGroupBy object at 0x7fbfb6aef7f0>"
      ]
     },
     "execution_count": 10,
     "metadata": {},
     "output_type": "execute_result"
    }
   ],
   "source": [
    "issues_opened_per_sprint = issues_dataframe.groupby(by=(lambda index: date_to_sprint(issues_dataframe.loc[index].issue.created_at)))\n",
    "issues_opened_per_sprint"
   ]
  },
  {
   "cell_type": "code",
   "execution_count": 11,
   "id": "f8f283f2-ffb9-4cac-a257-1c1a7e1cd1cb",
   "metadata": {
    "tags": []
   },
   "outputs": [
    {
     "data": {
      "text/plain": [
       "<pandas.core.groupby.generic.DataFrameGroupBy object at 0x7fbf2b19a7f0>"
      ]
     },
     "execution_count": 11,
     "metadata": {},
     "output_type": "execute_result"
    }
   ],
   "source": [
    "closed_issues = issues_dataframe[issues_dataframe.apply(lambda x: x.issue.closed_at is not None, axis=1)]\n",
    "issues_closed_per_sprint = closed_issues.groupby(by=(lambda index: date_to_sprint(issues_dataframe.loc[index].issue.closed_at)))\n",
    "issues_closed_per_sprint"
   ]
  },
  {
   "cell_type": "code",
   "execution_count": 12,
   "id": "b668b5fe-1518-4dfb-864b-48d029044976",
   "metadata": {},
   "outputs": [
    {
     "data": {
      "text/html": [
       "<div>\n",
       "<style scoped>\n",
       "    .dataframe tbody tr th:only-of-type {\n",
       "        vertical-align: middle;\n",
       "    }\n",
       "\n",
       "    .dataframe tbody tr th {\n",
       "        vertical-align: top;\n",
       "    }\n",
       "\n",
       "    .dataframe thead th {\n",
       "        text-align: right;\n",
       "    }\n",
       "</style>\n",
       "<table border=\"1\" class=\"dataframe\">\n",
       "  <thead>\n",
       "    <tr style=\"text-align: right;\">\n",
       "      <th></th>\n",
       "      <th>opened</th>\n",
       "      <th>closed</th>\n",
       "      <th>open_at_start</th>\n",
       "    </tr>\n",
       "    <tr>\n",
       "      <th>sprint</th>\n",
       "      <th></th>\n",
       "      <th></th>\n",
       "      <th></th>\n",
       "    </tr>\n",
       "  </thead>\n",
       "  <tbody>\n",
       "    <tr>\n",
       "      <th>0</th>\n",
       "      <td>1315</td>\n",
       "      <td>1248</td>\n",
       "      <td>0</td>\n",
       "    </tr>\n",
       "    <tr>\n",
       "      <th>1</th>\n",
       "      <td>8</td>\n",
       "      <td>6</td>\n",
       "      <td>67</td>\n",
       "    </tr>\n",
       "    <tr>\n",
       "      <th>2</th>\n",
       "      <td>2</td>\n",
       "      <td>3</td>\n",
       "      <td>69</td>\n",
       "    </tr>\n",
       "    <tr>\n",
       "      <th>3</th>\n",
       "      <td>4</td>\n",
       "      <td>7</td>\n",
       "      <td>68</td>\n",
       "    </tr>\n",
       "    <tr>\n",
       "      <th>4</th>\n",
       "      <td>0</td>\n",
       "      <td>0</td>\n",
       "      <td>65</td>\n",
       "    </tr>\n",
       "    <tr>\n",
       "      <th>...</th>\n",
       "      <td>...</td>\n",
       "      <td>...</td>\n",
       "      <td>...</td>\n",
       "    </tr>\n",
       "    <tr>\n",
       "      <th>63</th>\n",
       "      <td>3</td>\n",
       "      <td>6</td>\n",
       "      <td>95</td>\n",
       "    </tr>\n",
       "    <tr>\n",
       "      <th>64</th>\n",
       "      <td>8</td>\n",
       "      <td>9</td>\n",
       "      <td>92</td>\n",
       "    </tr>\n",
       "    <tr>\n",
       "      <th>65</th>\n",
       "      <td>6</td>\n",
       "      <td>5</td>\n",
       "      <td>91</td>\n",
       "    </tr>\n",
       "    <tr>\n",
       "      <th>66</th>\n",
       "      <td>5</td>\n",
       "      <td>4</td>\n",
       "      <td>92</td>\n",
       "    </tr>\n",
       "    <tr>\n",
       "      <th>67</th>\n",
       "      <td>2</td>\n",
       "      <td>0</td>\n",
       "      <td>93</td>\n",
       "    </tr>\n",
       "  </tbody>\n",
       "</table>\n",
       "<p>68 rows × 3 columns</p>\n",
       "</div>"
      ],
      "text/plain": [
       "        opened  closed  open_at_start\n",
       "sprint                               \n",
       "0         1315    1248              0\n",
       "1            8       6             67\n",
       "2            2       3             69\n",
       "3            4       7             68\n",
       "4            0       0             65\n",
       "...        ...     ...            ...\n",
       "63           3       6             95\n",
       "64           8       9             92\n",
       "65           6       5             91\n",
       "66           5       4             92\n",
       "67           2       0             93\n",
       "\n",
       "[68 rows x 3 columns]"
      ]
     },
     "execution_count": 12,
     "metadata": {},
     "output_type": "execute_result"
    }
   ],
   "source": [
    "issues = pandas.DataFrame(index=range(0, date_to_sprint(datetime.today())+1)) # The range ensures that there are rows for sprints where no issues were opened or closed\n",
    "issues.index.name = 'sprint'\n",
    "issues['opened'] = issues_opened_per_sprint.count().astype('Int64')\n",
    "issues['closed'] = issues_closed_per_sprint.count().astype('Int64')\n",
    "issues = issues.fillna(0) # Replace NaN values from outer join with zero\n",
    "issues['open_at_start'] = (issues.opened - issues.closed).cumsum().shift(fill_value=0) # Issues open at start of each sprint = sum of issues opened - closed beforea\n",
    "issues"
   ]
  },
  {
   "cell_type": "markdown",
   "id": "3cd4074a-258d-4c1c-8dde-7e73baa2d93f",
   "metadata": {
    "tags": []
   },
   "source": [
    "## Analyze"
   ]
  },
  {
   "cell_type": "code",
   "execution_count": 82,
   "id": "4eb4ff08-90c6-491f-ad4f-3e70d40035dd",
   "metadata": {},
   "outputs": [],
   "source": [
    "start_sprint = date_to_sprint(datetime(2022, 1, 1)) # Using date here to be able to explore sprint length\n",
    "end_sprint = date_to_sprint(datetime(2022, 10, 1))"
   ]
  },
  {
   "cell_type": "code",
   "execution_count": 83,
   "id": "332ffeb9-d4c7-431c-bc7d-e978fe78865c",
   "metadata": {
    "tags": []
   },
   "outputs": [
    {
     "data": {
      "text/html": [
       "<div>\n",
       "<style scoped>\n",
       "    .dataframe tbody tr th:only-of-type {\n",
       "        vertical-align: middle;\n",
       "    }\n",
       "\n",
       "    .dataframe tbody tr th {\n",
       "        vertical-align: top;\n",
       "    }\n",
       "\n",
       "    .dataframe thead th {\n",
       "        text-align: right;\n",
       "    }\n",
       "</style>\n",
       "<table border=\"1\" class=\"dataframe\">\n",
       "  <thead>\n",
       "    <tr style=\"text-align: right;\">\n",
       "      <th></th>\n",
       "      <th>opened</th>\n",
       "      <th>closed</th>\n",
       "      <th>open_at_start</th>\n",
       "    </tr>\n",
       "    <tr>\n",
       "      <th>sprint</th>\n",
       "      <th></th>\n",
       "      <th></th>\n",
       "      <th></th>\n",
       "    </tr>\n",
       "  </thead>\n",
       "  <tbody>\n",
       "    <tr>\n",
       "      <th>44</th>\n",
       "      <td>1</td>\n",
       "      <td>0</td>\n",
       "      <td>92</td>\n",
       "    </tr>\n",
       "    <tr>\n",
       "      <th>45</th>\n",
       "      <td>20</td>\n",
       "      <td>22</td>\n",
       "      <td>93</td>\n",
       "    </tr>\n",
       "    <tr>\n",
       "      <th>46</th>\n",
       "      <td>14</td>\n",
       "      <td>13</td>\n",
       "      <td>91</td>\n",
       "    </tr>\n",
       "    <tr>\n",
       "      <th>47</th>\n",
       "      <td>9</td>\n",
       "      <td>17</td>\n",
       "      <td>92</td>\n",
       "    </tr>\n",
       "    <tr>\n",
       "      <th>48</th>\n",
       "      <td>12</td>\n",
       "      <td>13</td>\n",
       "      <td>84</td>\n",
       "    </tr>\n",
       "    <tr>\n",
       "      <th>49</th>\n",
       "      <td>6</td>\n",
       "      <td>7</td>\n",
       "      <td>83</td>\n",
       "    </tr>\n",
       "    <tr>\n",
       "      <th>50</th>\n",
       "      <td>8</td>\n",
       "      <td>7</td>\n",
       "      <td>82</td>\n",
       "    </tr>\n",
       "    <tr>\n",
       "      <th>51</th>\n",
       "      <td>8</td>\n",
       "      <td>2</td>\n",
       "      <td>83</td>\n",
       "    </tr>\n",
       "    <tr>\n",
       "      <th>52</th>\n",
       "      <td>7</td>\n",
       "      <td>4</td>\n",
       "      <td>89</td>\n",
       "    </tr>\n",
       "    <tr>\n",
       "      <th>53</th>\n",
       "      <td>4</td>\n",
       "      <td>5</td>\n",
       "      <td>92</td>\n",
       "    </tr>\n",
       "    <tr>\n",
       "      <th>54</th>\n",
       "      <td>19</td>\n",
       "      <td>18</td>\n",
       "      <td>91</td>\n",
       "    </tr>\n",
       "    <tr>\n",
       "      <th>55</th>\n",
       "      <td>8</td>\n",
       "      <td>13</td>\n",
       "      <td>92</td>\n",
       "    </tr>\n",
       "    <tr>\n",
       "      <th>56</th>\n",
       "      <td>13</td>\n",
       "      <td>10</td>\n",
       "      <td>87</td>\n",
       "    </tr>\n",
       "    <tr>\n",
       "      <th>57</th>\n",
       "      <td>7</td>\n",
       "      <td>1</td>\n",
       "      <td>90</td>\n",
       "    </tr>\n",
       "    <tr>\n",
       "      <th>58</th>\n",
       "      <td>7</td>\n",
       "      <td>11</td>\n",
       "      <td>96</td>\n",
       "    </tr>\n",
       "    <tr>\n",
       "      <th>59</th>\n",
       "      <td>1</td>\n",
       "      <td>0</td>\n",
       "      <td>92</td>\n",
       "    </tr>\n",
       "    <tr>\n",
       "      <th>60</th>\n",
       "      <td>10</td>\n",
       "      <td>4</td>\n",
       "      <td>93</td>\n",
       "    </tr>\n",
       "    <tr>\n",
       "      <th>61</th>\n",
       "      <td>18</td>\n",
       "      <td>27</td>\n",
       "      <td>99</td>\n",
       "    </tr>\n",
       "    <tr>\n",
       "      <th>62</th>\n",
       "      <td>7</td>\n",
       "      <td>2</td>\n",
       "      <td>90</td>\n",
       "    </tr>\n",
       "    <tr>\n",
       "      <th>63</th>\n",
       "      <td>3</td>\n",
       "      <td>6</td>\n",
       "      <td>95</td>\n",
       "    </tr>\n",
       "    <tr>\n",
       "      <th>64</th>\n",
       "      <td>8</td>\n",
       "      <td>9</td>\n",
       "      <td>92</td>\n",
       "    </tr>\n",
       "  </tbody>\n",
       "</table>\n",
       "</div>"
      ],
      "text/plain": [
       "        opened  closed  open_at_start\n",
       "sprint                               \n",
       "44           1       0             92\n",
       "45          20      22             93\n",
       "46          14      13             91\n",
       "47           9      17             92\n",
       "48          12      13             84\n",
       "49           6       7             83\n",
       "50           8       7             82\n",
       "51           8       2             83\n",
       "52           7       4             89\n",
       "53           4       5             92\n",
       "54          19      18             91\n",
       "55           8      13             92\n",
       "56          13      10             87\n",
       "57           7       1             90\n",
       "58           7      11             96\n",
       "59           1       0             92\n",
       "60          10       4             93\n",
       "61          18      27             99\n",
       "62           7       2             90\n",
       "63           3       6             95\n",
       "64           8       9             92"
      ]
     },
     "execution_count": 83,
     "metadata": {},
     "output_type": "execute_result"
    }
   ],
   "source": [
    "issues_focus = issues[(issues.index >= start_sprint) & (issues.index <= end_sprint)]\n",
    "issues_focus"
   ]
  },
  {
   "cell_type": "markdown",
   "id": "2d067f8e-b01b-4acf-b4d9-ec888c49f2bc",
   "metadata": {},
   "source": [
    "### Activity"
   ]
  },
  {
   "cell_type": "code",
   "execution_count": 84,
   "id": "10be649a-e5db-449f-aba0-7cd5c13bd097",
   "metadata": {},
   "outputs": [
    {
     "data": {
      "text/plain": [
       "<AxesSubplot:xlabel='sprint', ylabel='no. issues'>"
      ]
     },
     "execution_count": 84,
     "metadata": {},
     "output_type": "execute_result"
    },
    {
     "data": {
      "image/png": "[encoded data removed]",
      "text/plain": [
       "<Figure size 576x396 with 1 Axes>"
      ]
     },
     "metadata": {},
     "output_type": "display_data"
    }
   ],
   "source": [
    "issues_focus.plot.bar(y=['opened', 'closed'], ylabel='no. issues')"
   ]
  },
  {
   "cell_type": "markdown",
   "id": "9da0107a-c3a5-4d6d-a5c3-a4d117ad7efe",
   "metadata": {
    "tags": []
   },
   "source": [
    "### Summed Activity"
   ]
  },
  {
   "cell_type": "code",
   "execution_count": 86,
   "id": "c19b60e8-a8f3-4082-bc71-9130a937931a",
   "metadata": {},
   "outputs": [
    {
     "data": {
      "text/plain": [
       "<AxesSubplot:xlabel='sprint', ylabel='no. issues'>"
      ]
     },
     "execution_count": 86,
     "metadata": {},
     "output_type": "execute_result"
    },
    {
     "data": {
      "image/png": "[encoded data removed]",
      "text/plain": [
       "<Figure size 576x396 with 1 Axes>"
      ]
     },
     "metadata": {},
     "output_type": "display_data"
    }
   ],
   "source": [
    "issues_focus.plot.bar(stacked=True, y=['opened', 'closed'], ylabel='no. issues')"
   ]
  },
  {
   "cell_type": "markdown",
   "id": "da10c369-8542-4c52-a705-094ea71115c0",
   "metadata": {},
   "source": [
    "Hm ... sprint 59 seems abnormal ... when was that?"
   ]
  },
  {
   "cell_type": "code",
   "execution_count": 88,
   "id": "ba3a2182-cc69-42bd-b7a0-534daa5970f1",
   "metadata": {},
   "outputs": [
    {
     "data": {
      "text/plain": [
       "datetime.datetime(2022, 7, 18, 0, 0)"
      ]
     },
     "execution_count": 88,
     "metadata": {},
     "output_type": "execute_result"
    }
   ],
   "source": [
    "sprint_to_start_date(59)"
   ]
  },
  {
   "cell_type": "markdown",
   "id": "6f2219ec-96b7-4e3f-ab39-5d0d2b903a66",
   "metadata": {},
   "source": [
    "### Backlog Size"
   ]
  },
  {
   "cell_type": "code",
   "execution_count": 108,
   "id": "a19fb13a-bc9f-4e4b-8cd8-338c523bc505",
   "metadata": {},
   "outputs": [
    {
     "data": {
      "text/plain": [
       "<AxesSubplot:xlabel='sprint'>"
      ]
     },
     "execution_count": 108,
     "metadata": {},
     "output_type": "execute_result"
    },
    {
     "data": {
      "image/png": "[encoded data removed]",
      "text/plain": [
       "<Figure size 576x396 with 1 Axes>"
      ]
     },
     "metadata": {},
     "output_type": "display_data"
    }
   ],
   "source": [
    "issues_focus.plot.bar(y=['open_at_start'])"
   ]
  },
  {
   "cell_type": "code",
   "execution_count": 96,
   "id": "17d83466-b8c4-440d-a4db-f03f40989668",
   "metadata": {},
   "outputs": [
    {
     "data": {
      "text/plain": [
       "<AxesSubplot:xlabel='sprint'>"
      ]
     },
     "execution_count": 96,
     "metadata": {},
     "output_type": "execute_result"
    },
    {
     "data": {
      "image/png": "[encoded data removed]",
      "text/plain": [
       "<Figure size 576x396 with 1 Axes>"
      ]
     },
     "metadata": {},
     "output_type": "display_data"
    }
   ],
   "source": [
    "issues.plot.bar(y=['open_at_start'])"
   ]
  },
  {
   "cell_type": "markdown",
   "id": "7b2b65fa-935a-43b2-8a6e-095316c90ec5",
   "metadata": {},
   "source": [
    "# Analysis: Health Monitor"
   ]
  },
  {
   "cell_type": "markdown",
   "id": "ba0a6858-8ca4-40a4-8196-84806b89b9d0",
   "metadata": {
    "tags": []
   },
   "source": [
    "### Current Backlog Size"
   ]
  },
  {
   "cell_type": "code",
   "execution_count": 109,
   "id": "3468a71f-84c5-45b2-b8a5-890c441f95ef",
   "metadata": {},
   "outputs": [
    {
     "data": {
      "text/plain": [
       "92"
      ]
     },
     "execution_count": 109,
     "metadata": {},
     "output_type": "execute_result"
    }
   ],
   "source": [
    "backlog = pandas.DataFrame(repo.get_issues(state='open'), columns=['issue'])\n",
    "backlog.size"
   ]
  },
  {
   "cell_type": "code",
   "execution_count": 142,
   "id": "93d31a92-815e-4bb2-afb2-cace41baa67f",
   "metadata": {},
   "outputs": [],
   "source": [
    "def issue_type(issue):\n",
    "    labels = list(issue.get_labels())\n",
    "    if any(label.name == 'enhancement' for label in labels):\n",
    "        return 'feature'\n",
    "    if any(label.name == 'bug' for label in labels):\n",
    "        return 'bug'\n",
    "    return 'other'"
   ]
  },
  {
   "cell_type": "code",
   "execution_count": 143,
   "id": "a074f636-1b38-4997-a891-e61af92cfcf1",
   "metadata": {},
   "outputs": [],
   "source": [
    "backlog['type'] = backlog.issue.apply(issue_type)"
   ]
  },
  {
   "cell_type": "code",
   "execution_count": 148,
   "id": "5fa1922c-209c-41c3-b558-fd51015a36fa",
   "metadata": {},
   "outputs": [],
   "source": [
    "backlog['opened'] = backlog.issue.apply(lambda issue: issue.created_at)"
   ]
  },
  {
   "cell_type": "code",
   "execution_count": 160,
   "id": "71ab684d-8664-491c-b353-09626f97cdb2",
   "metadata": {},
   "outputs": [],
   "source": [
    "backlog['time_open'] = (backlog.opened - datetime.today()) * -1"
   ]
  },
  {
   "cell_type": "code",
   "execution_count": 165,
   "id": "c372c784-49dd-49b5-bc18-2a08efaec5a1",
   "metadata": {},
   "outputs": [
    {
     "data": {
      "text/html": [
       "<div>\n",
       "<style scoped>\n",
       "    .dataframe tbody tr th:only-of-type {\n",
       "        vertical-align: middle;\n",
       "    }\n",
       "\n",
       "    .dataframe tbody tr th {\n",
       "        vertical-align: top;\n",
       "    }\n",
       "\n",
       "    .dataframe thead th {\n",
       "        text-align: right;\n",
       "    }\n",
       "</style>\n",
       "<table border=\"1\" class=\"dataframe\">\n",
       "  <thead>\n",
       "    <tr style=\"text-align: right;\">\n",
       "      <th></th>\n",
       "      <th>issue</th>\n",
       "      <th>type</th>\n",
       "      <th>opened</th>\n",
       "      <th>time_open</th>\n",
       "    </tr>\n",
       "  </thead>\n",
       "  <tbody>\n",
       "    <tr>\n",
       "      <th>0</th>\n",
       "      <td>Issue(title=\"Issue in the getBusinessObject im...</td>\n",
       "      <td>other</td>\n",
       "      <td>2022-11-07 11:52:47</td>\n",
       "      <td>0 days 05:20:35.697576</td>\n",
       "    </tr>\n",
       "    <tr>\n",
       "      <th>1</th>\n",
       "      <td>Issue(title=\"chore: update dependency babel-lo...</td>\n",
       "      <td>other</td>\n",
       "      <td>2022-10-31 00:08:14</td>\n",
       "      <td>7 days 17:05:08.697576</td>\n",
       "    </tr>\n",
       "    <tr>\n",
       "      <th>2</th>\n",
       "      <td>Issue(title=\"loopCharacteristics does not set ...</td>\n",
       "      <td>bug</td>\n",
       "      <td>2022-10-19 12:04:19</td>\n",
       "      <td>19 days 05:09:03.697576</td>\n",
       "    </tr>\n",
       "    <tr>\n",
       "      <th>3</th>\n",
       "      <td>Issue(title=\"Drop to append\", number=1749)</td>\n",
       "      <td>feature</td>\n",
       "      <td>2022-10-10 19:04:58</td>\n",
       "      <td>27 days 22:08:24.697576</td>\n",
       "    </tr>\n",
       "    <tr>\n",
       "      <th>4</th>\n",
       "      <td>Issue(title=\"Boundary event can be placed on p...</td>\n",
       "      <td>bug</td>\n",
       "      <td>2022-08-29 09:30:35</td>\n",
       "      <td>70 days 07:42:47.697576</td>\n",
       "    </tr>\n",
       "    <tr>\n",
       "      <th>...</th>\n",
       "      <td>...</td>\n",
       "      <td>...</td>\n",
       "      <td>...</td>\n",
       "      <td>...</td>\n",
       "    </tr>\n",
       "    <tr>\n",
       "      <th>87</th>\n",
       "      <td>Issue(title=\"I can model a message element of ...</td>\n",
       "      <td>feature</td>\n",
       "      <td>2016-01-13 09:15:52</td>\n",
       "      <td>2490 days 07:57:30.697576</td>\n",
       "    </tr>\n",
       "    <tr>\n",
       "      <th>88</th>\n",
       "      <td>Issue(title=\"Provide documentation\", number=332)</td>\n",
       "      <td>other</td>\n",
       "      <td>2015-08-12 08:56:39</td>\n",
       "      <td>2644 days 08:16:43.697576</td>\n",
       "    </tr>\n",
       "    <tr>\n",
       "      <th>89</th>\n",
       "      <td>Issue(title=\"Add key strokes to palette toolti...</td>\n",
       "      <td>other</td>\n",
       "      <td>2015-07-15 08:57:33</td>\n",
       "      <td>2672 days 08:15:49.697576</td>\n",
       "    </tr>\n",
       "    <tr>\n",
       "      <th>90</th>\n",
       "      <td>Issue(title=\"Add mouse move styling to lasso t...</td>\n",
       "      <td>feature</td>\n",
       "      <td>2015-01-22 07:51:03</td>\n",
       "      <td>2846 days 09:22:19.697576</td>\n",
       "    </tr>\n",
       "    <tr>\n",
       "      <th>91</th>\n",
       "      <td>Issue(title=\"Render start event marker in coll...</td>\n",
       "      <td>feature</td>\n",
       "      <td>2014-05-16 11:27:09</td>\n",
       "      <td>3097 days 05:46:13.697576</td>\n",
       "    </tr>\n",
       "  </tbody>\n",
       "</table>\n",
       "<p>92 rows × 4 columns</p>\n",
       "</div>"
      ],
      "text/plain": [
       "                                                issue     type  \\\n",
       "0   Issue(title=\"Issue in the getBusinessObject im...    other   \n",
       "1   Issue(title=\"chore: update dependency babel-lo...    other   \n",
       "2   Issue(title=\"loopCharacteristics does not set ...      bug   \n",
       "3          Issue(title=\"Drop to append\", number=1749)  feature   \n",
       "4   Issue(title=\"Boundary event can be placed on p...      bug   \n",
       "..                                                ...      ...   \n",
       "87  Issue(title=\"I can model a message element of ...  feature   \n",
       "88   Issue(title=\"Provide documentation\", number=332)    other   \n",
       "89  Issue(title=\"Add key strokes to palette toolti...    other   \n",
       "90  Issue(title=\"Add mouse move styling to lasso t...  feature   \n",
       "91  Issue(title=\"Render start event marker in coll...  feature   \n",
       "\n",
       "                opened                 time_open  \n",
       "0  2022-11-07 11:52:47    0 days 05:20:35.697576  \n",
       "1  2022-10-31 00:08:14    7 days 17:05:08.697576  \n",
       "2  2022-10-19 12:04:19   19 days 05:09:03.697576  \n",
       "3  2022-10-10 19:04:58   27 days 22:08:24.697576  \n",
       "4  2022-08-29 09:30:35   70 days 07:42:47.697576  \n",
       "..                 ...                       ...  \n",
       "87 2016-01-13 09:15:52 2490 days 07:57:30.697576  \n",
       "88 2015-08-12 08:56:39 2644 days 08:16:43.697576  \n",
       "89 2015-07-15 08:57:33 2672 days 08:15:49.697576  \n",
       "90 2015-01-22 07:51:03 2846 days 09:22:19.697576  \n",
       "91 2014-05-16 11:27:09 3097 days 05:46:13.697576  \n",
       "\n",
       "[92 rows x 4 columns]"
      ]
     },
     "execution_count": 165,
     "metadata": {},
     "output_type": "execute_result"
    }
   ],
   "source": [
    "backlog"
   ]
  },
  {
   "cell_type": "code",
   "execution_count": 176,
   "id": "96fb6344-ebff-4b39-85b3-926da57a0aff",
   "metadata": {},
   "outputs": [
    {
     "data": {
      "text/plain": [
       "Timedelta('411 days 16:12:30.588485084')"
      ]
     },
     "execution_count": 176,
     "metadata": {},
     "output_type": "execute_result"
    }
   ],
   "source": [
    "backlog[backlog.apply(lambda row: row.time_open < timedelta(days=1000), axis=1)].time_open.mean()"
   ]
  },
  {
   "cell_type": "code",
   "execution_count": 195,
   "id": "f2780f62-b08f-4807-a028-51b9f8801b02",
   "metadata": {},
   "outputs": [
    {
     "data": {
      "text/plain": [
       "<pandas.core.indexes.accessors.DatetimeProperties object at 0x7fbf1e8c0828>"
      ]
     },
     "execution_count": 195,
     "metadata": {},
     "output_type": "execute_result"
    }
   ],
   "source": [
    "backlog.opened.dt"
   ]
  },
  {
   "cell_type": "code",
   "execution_count": 196,
   "id": "ff278530-443a-4167-8faa-e1b530d7aaf4",
   "metadata": {},
   "outputs": [
    {
     "data": {
      "text/plain": [
       "<AxesSubplot:xlabel='opened'>"
      ]
     },
     "execution_count": 196,
     "metadata": {},
     "output_type": "execute_result"
    },
    {
     "data": {
      "image/png": "[encoded data removed]",
      "text/plain": [
       "<Figure size 576x396 with 1 Axes>"
      ]
     },
     "metadata": {},
     "output_type": "display_data"
    }
   ],
   "source": [
    "backlog.groupby(backlog.opened.dt.year).count().plot.bar()"
   ]
  },
  {
   "cell_type": "code",
   "execution_count": 192,
   "id": "76033e78-72d4-4ec2-abf1-78f02558669e",
   "metadata": {},
   "outputs": [
    {
     "ename": "KeyError",
     "evalue": "\"None of [Index(['created'], dtype='object')] are in the [columns]\"",
     "output_type": "error",
     "traceback": [
      "\u001b[0;31m---------------------------------------------------------------------------\u001b[0m",
      "\u001b[0;31mKeyError\u001b[0m                                  Traceback (most recent call last)",
      "\u001b[0;32m<ipython-input-192-2325ca43e259>\u001b[0m in \u001b[0;36m<module>\u001b[0;34m\u001b[0m\n\u001b[0;32m----> 1\u001b[0;31m \u001b[0mbacklog\u001b[0m\u001b[0;34m.\u001b[0m\u001b[0mhist\u001b[0m\u001b[0;34m(\u001b[0m\u001b[0mcolumn\u001b[0m\u001b[0;34m=\u001b[0m\u001b[0;34m'created'\u001b[0m\u001b[0;34m,\u001b[0m \u001b[0mbins\u001b[0m\u001b[0;34m=\u001b[0m\u001b[0;36m10\u001b[0m\u001b[0;34m)\u001b[0m\u001b[0;34m\u001b[0m\u001b[0;34m\u001b[0m\u001b[0m\n\u001b[0m",
      "\u001b[0;32m/mnt/d/Users/Leon Bein/Documents/HPI/U_Masterarbeit/masterThesisCode/.venv/lib/python3.6/site-packages/pandas/plotting/_core.py\u001b[0m in \u001b[0;36mhist_frame\u001b[0;34m(data, column, by, grid, xlabelsize, xrot, ylabelsize, yrot, ax, sharex, sharey, figsize, layout, bins, backend, legend, **kwargs)\u001b[0m\n\u001b[1;32m    225\u001b[0m         \u001b[0mlegend\u001b[0m\u001b[0;34m=\u001b[0m\u001b[0mlegend\u001b[0m\u001b[0;34m,\u001b[0m\u001b[0;34m\u001b[0m\u001b[0;34m\u001b[0m\u001b[0m\n\u001b[1;32m    226\u001b[0m         \u001b[0mbins\u001b[0m\u001b[0;34m=\u001b[0m\u001b[0mbins\u001b[0m\u001b[0;34m,\u001b[0m\u001b[0;34m\u001b[0m\u001b[0;34m\u001b[0m\u001b[0m\n\u001b[0;32m--> 227\u001b[0;31m         \u001b[0;34m**\u001b[0m\u001b[0mkwargs\u001b[0m\u001b[0;34m,\u001b[0m\u001b[0;34m\u001b[0m\u001b[0;34m\u001b[0m\u001b[0m\n\u001b[0m\u001b[1;32m    228\u001b[0m     )\n\u001b[1;32m    229\u001b[0m \u001b[0;34m\u001b[0m\u001b[0m\n",
      "\u001b[0;32m/mnt/d/Users/Leon Bein/Documents/HPI/U_Masterarbeit/masterThesisCode/.venv/lib/python3.6/site-packages/pandas/plotting/_matplotlib/hist.py\u001b[0m in \u001b[0;36mhist_frame\u001b[0;34m(data, column, by, grid, xlabelsize, xrot, ylabelsize, yrot, ax, sharex, sharey, figsize, layout, bins, legend, **kwds)\u001b[0m\n\u001b[1;32m    408\u001b[0m         \u001b[0;32mif\u001b[0m \u001b[0;32mnot\u001b[0m \u001b[0misinstance\u001b[0m\u001b[0;34m(\u001b[0m\u001b[0mcolumn\u001b[0m\u001b[0;34m,\u001b[0m \u001b[0;34m(\u001b[0m\u001b[0mlist\u001b[0m\u001b[0;34m,\u001b[0m \u001b[0mnp\u001b[0m\u001b[0;34m.\u001b[0m\u001b[0mndarray\u001b[0m\u001b[0;34m,\u001b[0m \u001b[0mABCIndexClass\u001b[0m\u001b[0;34m)\u001b[0m\u001b[0;34m)\u001b[0m\u001b[0;34m:\u001b[0m\u001b[0;34m\u001b[0m\u001b[0;34m\u001b[0m\u001b[0m\n\u001b[1;32m    409\u001b[0m             \u001b[0mcolumn\u001b[0m \u001b[0;34m=\u001b[0m \u001b[0;34m[\u001b[0m\u001b[0mcolumn\u001b[0m\u001b[0;34m]\u001b[0m\u001b[0;34m\u001b[0m\u001b[0;34m\u001b[0m\u001b[0m\n\u001b[0;32m--> 410\u001b[0;31m         \u001b[0mdata\u001b[0m \u001b[0;34m=\u001b[0m \u001b[0mdata\u001b[0m\u001b[0;34m[\u001b[0m\u001b[0mcolumn\u001b[0m\u001b[0;34m]\u001b[0m\u001b[0;34m\u001b[0m\u001b[0;34m\u001b[0m\u001b[0m\n\u001b[0m\u001b[1;32m    411\u001b[0m     \u001b[0mdata\u001b[0m \u001b[0;34m=\u001b[0m \u001b[0mdata\u001b[0m\u001b[0;34m.\u001b[0m\u001b[0m_get_numeric_data\u001b[0m\u001b[0;34m(\u001b[0m\u001b[0;34m)\u001b[0m\u001b[0;34m\u001b[0m\u001b[0;34m\u001b[0m\u001b[0m\n\u001b[1;32m    412\u001b[0m     \u001b[0mnaxes\u001b[0m \u001b[0;34m=\u001b[0m \u001b[0mlen\u001b[0m\u001b[0;34m(\u001b[0m\u001b[0mdata\u001b[0m\u001b[0;34m.\u001b[0m\u001b[0mcolumns\u001b[0m\u001b[0;34m)\u001b[0m\u001b[0;34m\u001b[0m\u001b[0;34m\u001b[0m\u001b[0m\n",
      "\u001b[0;32m/mnt/d/Users/Leon Bein/Documents/HPI/U_Masterarbeit/masterThesisCode/.venv/lib/python3.6/site-packages/pandas/core/frame.py\u001b[0m in \u001b[0;36m__getitem__\u001b[0;34m(self, key)\u001b[0m\n\u001b[1;32m   2910\u001b[0m             \u001b[0;32mif\u001b[0m \u001b[0mis_iterator\u001b[0m\u001b[0;34m(\u001b[0m\u001b[0mkey\u001b[0m\u001b[0;34m)\u001b[0m\u001b[0;34m:\u001b[0m\u001b[0;34m\u001b[0m\u001b[0;34m\u001b[0m\u001b[0m\n\u001b[1;32m   2911\u001b[0m                 \u001b[0mkey\u001b[0m \u001b[0;34m=\u001b[0m \u001b[0mlist\u001b[0m\u001b[0;34m(\u001b[0m\u001b[0mkey\u001b[0m\u001b[0;34m)\u001b[0m\u001b[0;34m\u001b[0m\u001b[0;34m\u001b[0m\u001b[0m\n\u001b[0;32m-> 2912\u001b[0;31m             \u001b[0mindexer\u001b[0m \u001b[0;34m=\u001b[0m \u001b[0mself\u001b[0m\u001b[0;34m.\u001b[0m\u001b[0mloc\u001b[0m\u001b[0;34m.\u001b[0m\u001b[0m_get_listlike_indexer\u001b[0m\u001b[0;34m(\u001b[0m\u001b[0mkey\u001b[0m\u001b[0;34m,\u001b[0m \u001b[0maxis\u001b[0m\u001b[0;34m=\u001b[0m\u001b[0;36m1\u001b[0m\u001b[0;34m,\u001b[0m \u001b[0mraise_missing\u001b[0m\u001b[0;34m=\u001b[0m\u001b[0;32mTrue\u001b[0m\u001b[0;34m)\u001b[0m\u001b[0;34m[\u001b[0m\u001b[0;36m1\u001b[0m\u001b[0;34m]\u001b[0m\u001b[0;34m\u001b[0m\u001b[0;34m\u001b[0m\u001b[0m\n\u001b[0m\u001b[1;32m   2913\u001b[0m \u001b[0;34m\u001b[0m\u001b[0m\n\u001b[1;32m   2914\u001b[0m         \u001b[0;31m# take() does not accept boolean indexers\u001b[0m\u001b[0;34m\u001b[0m\u001b[0;34m\u001b[0m\u001b[0;34m\u001b[0m\u001b[0m\n",
      "\u001b[0;32m/mnt/d/Users/Leon Bein/Documents/HPI/U_Masterarbeit/masterThesisCode/.venv/lib/python3.6/site-packages/pandas/core/indexing.py\u001b[0m in \u001b[0;36m_get_listlike_indexer\u001b[0;34m(self, key, axis, raise_missing)\u001b[0m\n\u001b[1;32m   1252\u001b[0m             \u001b[0mkeyarr\u001b[0m\u001b[0;34m,\u001b[0m \u001b[0mindexer\u001b[0m\u001b[0;34m,\u001b[0m \u001b[0mnew_indexer\u001b[0m \u001b[0;34m=\u001b[0m \u001b[0max\u001b[0m\u001b[0;34m.\u001b[0m\u001b[0m_reindex_non_unique\u001b[0m\u001b[0;34m(\u001b[0m\u001b[0mkeyarr\u001b[0m\u001b[0;34m)\u001b[0m\u001b[0;34m\u001b[0m\u001b[0;34m\u001b[0m\u001b[0m\n\u001b[1;32m   1253\u001b[0m \u001b[0;34m\u001b[0m\u001b[0m\n\u001b[0;32m-> 1254\u001b[0;31m         \u001b[0mself\u001b[0m\u001b[0;34m.\u001b[0m\u001b[0m_validate_read_indexer\u001b[0m\u001b[0;34m(\u001b[0m\u001b[0mkeyarr\u001b[0m\u001b[0;34m,\u001b[0m \u001b[0mindexer\u001b[0m\u001b[0;34m,\u001b[0m \u001b[0maxis\u001b[0m\u001b[0;34m,\u001b[0m \u001b[0mraise_missing\u001b[0m\u001b[0;34m=\u001b[0m\u001b[0mraise_missing\u001b[0m\u001b[0;34m)\u001b[0m\u001b[0;34m\u001b[0m\u001b[0;34m\u001b[0m\u001b[0m\n\u001b[0m\u001b[1;32m   1255\u001b[0m         \u001b[0;32mreturn\u001b[0m \u001b[0mkeyarr\u001b[0m\u001b[0;34m,\u001b[0m \u001b[0mindexer\u001b[0m\u001b[0;34m\u001b[0m\u001b[0;34m\u001b[0m\u001b[0m\n\u001b[1;32m   1256\u001b[0m \u001b[0;34m\u001b[0m\u001b[0m\n",
      "\u001b[0;32m/mnt/d/Users/Leon Bein/Documents/HPI/U_Masterarbeit/masterThesisCode/.venv/lib/python3.6/site-packages/pandas/core/indexing.py\u001b[0m in \u001b[0;36m_validate_read_indexer\u001b[0;34m(self, key, indexer, axis, raise_missing)\u001b[0m\n\u001b[1;32m   1296\u001b[0m             \u001b[0;32mif\u001b[0m \u001b[0mmissing\u001b[0m \u001b[0;34m==\u001b[0m \u001b[0mlen\u001b[0m\u001b[0;34m(\u001b[0m\u001b[0mindexer\u001b[0m\u001b[0;34m)\u001b[0m\u001b[0;34m:\u001b[0m\u001b[0;34m\u001b[0m\u001b[0;34m\u001b[0m\u001b[0m\n\u001b[1;32m   1297\u001b[0m                 \u001b[0maxis_name\u001b[0m \u001b[0;34m=\u001b[0m \u001b[0mself\u001b[0m\u001b[0;34m.\u001b[0m\u001b[0mobj\u001b[0m\u001b[0;34m.\u001b[0m\u001b[0m_get_axis_name\u001b[0m\u001b[0;34m(\u001b[0m\u001b[0maxis\u001b[0m\u001b[0;34m)\u001b[0m\u001b[0;34m\u001b[0m\u001b[0;34m\u001b[0m\u001b[0m\n\u001b[0;32m-> 1298\u001b[0;31m                 \u001b[0;32mraise\u001b[0m \u001b[0mKeyError\u001b[0m\u001b[0;34m(\u001b[0m\u001b[0;34mf\"None of [{key}] are in the [{axis_name}]\"\u001b[0m\u001b[0;34m)\u001b[0m\u001b[0;34m\u001b[0m\u001b[0;34m\u001b[0m\u001b[0m\n\u001b[0m\u001b[1;32m   1299\u001b[0m \u001b[0;34m\u001b[0m\u001b[0m\n\u001b[1;32m   1300\u001b[0m             \u001b[0;31m# We (temporarily) allow for some missing keys with .loc, except in\u001b[0m\u001b[0;34m\u001b[0m\u001b[0;34m\u001b[0m\u001b[0;34m\u001b[0m\u001b[0m\n",
      "\u001b[0;31mKeyError\u001b[0m: \"None of [Index(['created'], dtype='object')] are in the [columns]\""
     ]
    }
   ],
   "source": [
    "backlog.hist(column='created', bins=10)"
   ]
  },
  {
   "cell_type": "code",
   "execution_count": null,
   "id": "2925acdb-e9f1-4f64-8e7a-bedec924ea60",
   "metadata": {},
   "outputs": [],
   "source": []
  },
  {
   "cell_type": "code",
   "execution_count": null,
   "id": "3d7e621a-0a6e-4360-9afd-386e2e496fb3",
   "metadata": {},
   "outputs": [],
   "source": []
  },
  {
   "cell_type": "code",
   "execution_count": 162,
   "id": "dc13c98a-20e4-4ac2-8552-9fd06c493498",
   "metadata": {},
   "outputs": [
    {
     "data": {
      "text/plain": [
       "Timedelta('962 days 07:09:21.599749920')"
      ]
     },
     "execution_count": 162,
     "metadata": {},
     "output_type": "execute_result"
    }
   ],
   "source": [
    "backlog.time_open.mean()"
   ]
  },
  {
   "cell_type": "code",
   "execution_count": 147,
   "id": "8328a232-4839-481d-8303-953913a470a8",
   "metadata": {},
   "outputs": [
    {
     "data": {
      "text/html": [
       "<div>\n",
       "<style scoped>\n",
       "    .dataframe tbody tr th:only-of-type {\n",
       "        vertical-align: middle;\n",
       "    }\n",
       "\n",
       "    .dataframe tbody tr th {\n",
       "        vertical-align: top;\n",
       "    }\n",
       "\n",
       "    .dataframe thead th {\n",
       "        text-align: right;\n",
       "    }\n",
       "</style>\n",
       "<table border=\"1\" class=\"dataframe\">\n",
       "  <thead>\n",
       "    <tr style=\"text-align: right;\">\n",
       "      <th></th>\n",
       "      <th>issue</th>\n",
       "    </tr>\n",
       "    <tr>\n",
       "      <th>type</th>\n",
       "      <th></th>\n",
       "    </tr>\n",
       "  </thead>\n",
       "  <tbody>\n",
       "    <tr>\n",
       "      <th>bug</th>\n",
       "      <td>39</td>\n",
       "    </tr>\n",
       "    <tr>\n",
       "      <th>feature</th>\n",
       "      <td>36</td>\n",
       "    </tr>\n",
       "    <tr>\n",
       "      <th>other</th>\n",
       "      <td>17</td>\n",
       "    </tr>\n",
       "  </tbody>\n",
       "</table>\n",
       "</div>"
      ],
      "text/plain": [
       "         issue\n",
       "type          \n",
       "bug         39\n",
       "feature     36\n",
       "other       17"
      ]
     },
     "execution_count": 147,
     "metadata": {},
     "output_type": "execute_result"
    }
   ],
   "source": [
    "backlog.groupby(by='type').count()"
   ]
  },
  {
   "cell_type": "code",
   "execution_count": null,
   "id": "6a883d37-88b4-47f9-8b0c-fd94ef7c4000",
   "metadata": {},
   "outputs": [],
   "source": []
  },
  {
   "cell_type": "markdown",
   "id": "66981dfa-5e32-4147-a60b-bb987d1ccefa",
   "metadata": {},
   "source": [
    "# Test Coverage"
   ]
  },
  {
   "cell_type": "code",
   "execution_count": null,
   "id": "bafbadd6-9a5d-4549-af3a-53f2caf6c020",
   "metadata": {},
   "outputs": [],
   "source": []
  },
  {
   "cell_type": "markdown",
   "id": "ab7bc7da-7ce2-4805-b64a-803cfc30c903",
   "metadata": {},
   "source": [
    "# Commit Heatmap "
   ]
  },
  {
   "cell_type": "code",
   "execution_count": 19,
   "id": "8bd2396a-2b72-4215-98a5-41142ed125c4",
   "metadata": {},
   "outputs": [
    {
     "data": {
      "text/plain": [
       "(datetime.datetime(2022, 1, 17, 0, 0), datetime.datetime(2022, 11, 7, 0, 0))"
      ]
     },
     "execution_count": 19,
     "metadata": {},
     "output_type": "execute_result"
    }
   ],
   "source": [
    "sprint_to_inspect = date_to_sprint(datetime.today())-1\n",
    "start_of_sprint = sprint_to_start_date(sprint_to_inspect-20)\n",
    "end_of_sprint = sprint_to_start_date(sprint_to_inspect+1)\n",
    "(start_of_sprint, end_of_sprint)"
   ]
  },
  {
   "cell_type": "code",
   "execution_count": 21,
   "id": "430d1cfc-5b52-4a8b-aa87-e9f94b2a5b74",
   "metadata": {},
   "outputs": [
    {
     "data": {
      "text/html": [
       "<div>\n",
       "<style scoped>\n",
       "    .dataframe tbody tr th:only-of-type {\n",
       "        vertical-align: middle;\n",
       "    }\n",
       "\n",
       "    .dataframe tbody tr th {\n",
       "        vertical-align: top;\n",
       "    }\n",
       "\n",
       "    .dataframe thead th {\n",
       "        text-align: right;\n",
       "    }\n",
       "</style>\n",
       "<table border=\"1\" class=\"dataframe\">\n",
       "  <thead>\n",
       "    <tr style=\"text-align: right;\">\n",
       "      <th></th>\n",
       "      <th>commit</th>\n",
       "    </tr>\n",
       "  </thead>\n",
       "  <tbody>\n",
       "    <tr>\n",
       "      <th>0</th>\n",
       "      <td>Commit(sha=\"d676f4e962c8058fa5f04fd6aeb12317b9...</td>\n",
       "    </tr>\n",
       "    <tr>\n",
       "      <th>1</th>\n",
       "      <td>Commit(sha=\"521ceee13e4d6e6b6a47e9e613a3b12434...</td>\n",
       "    </tr>\n",
       "    <tr>\n",
       "      <th>2</th>\n",
       "      <td>Commit(sha=\"4e77940a2672b974efb212b4ace23914a7...</td>\n",
       "    </tr>\n",
       "    <tr>\n",
       "      <th>3</th>\n",
       "      <td>Commit(sha=\"850a3634ac61c301ee901763babc4bffac...</td>\n",
       "    </tr>\n",
       "    <tr>\n",
       "      <th>4</th>\n",
       "      <td>Commit(sha=\"57bfc2fcef4232387ac3c4ab6b6fe32a0a...</td>\n",
       "    </tr>\n",
       "    <tr>\n",
       "      <th>...</th>\n",
       "      <td>...</td>\n",
       "    </tr>\n",
       "    <tr>\n",
       "      <th>244</th>\n",
       "      <td>Commit(sha=\"34e3fa33fd60773e521d9b8ed304de7275...</td>\n",
       "    </tr>\n",
       "    <tr>\n",
       "      <th>245</th>\n",
       "      <td>Commit(sha=\"2ae21c3c57b72f3bd3dc5f0c2a8275ff52...</td>\n",
       "    </tr>\n",
       "    <tr>\n",
       "      <th>246</th>\n",
       "      <td>Commit(sha=\"4e161427b8d77995749d3e2f36966247bf...</td>\n",
       "    </tr>\n",
       "    <tr>\n",
       "      <th>247</th>\n",
       "      <td>Commit(sha=\"9366700235b71df25511d1a662ca1f5d14...</td>\n",
       "    </tr>\n",
       "    <tr>\n",
       "      <th>248</th>\n",
       "      <td>Commit(sha=\"8baf498c45e525b59c2dcf8f6526e23672...</td>\n",
       "    </tr>\n",
       "  </tbody>\n",
       "</table>\n",
       "<p>249 rows × 1 columns</p>\n",
       "</div>"
      ],
      "text/plain": [
       "                                                commit\n",
       "0    Commit(sha=\"d676f4e962c8058fa5f04fd6aeb12317b9...\n",
       "1    Commit(sha=\"521ceee13e4d6e6b6a47e9e613a3b12434...\n",
       "2    Commit(sha=\"4e77940a2672b974efb212b4ace23914a7...\n",
       "3    Commit(sha=\"850a3634ac61c301ee901763babc4bffac...\n",
       "4    Commit(sha=\"57bfc2fcef4232387ac3c4ab6b6fe32a0a...\n",
       "..                                                 ...\n",
       "244  Commit(sha=\"34e3fa33fd60773e521d9b8ed304de7275...\n",
       "245  Commit(sha=\"2ae21c3c57b72f3bd3dc5f0c2a8275ff52...\n",
       "246  Commit(sha=\"4e161427b8d77995749d3e2f36966247bf...\n",
       "247  Commit(sha=\"9366700235b71df25511d1a662ca1f5d14...\n",
       "248  Commit(sha=\"8baf498c45e525b59c2dcf8f6526e23672...\n",
       "\n",
       "[249 rows x 1 columns]"
      ]
     },
     "execution_count": 21,
     "metadata": {},
     "output_type": "execute_result"
    }
   ],
   "source": [
    "commits_raw = repo.get_commits(path='', since=start_of_sprint, until=end_of_sprint)\n",
    "commits_dataframe = pandas.DataFrame(commits_raw, columns=['commit'])\n",
    "commits_dataframe"
   ]
  },
  {
   "cell_type": "code",
   "execution_count": 31,
   "id": "7bff4357-0385-450c-a2e4-ed05c3093108",
   "metadata": {},
   "outputs": [
    {
     "data": {
      "text/html": [
       "<div>\n",
       "<style scoped>\n",
       "    .dataframe tbody tr th:only-of-type {\n",
       "        vertical-align: middle;\n",
       "    }\n",
       "\n",
       "    .dataframe tbody tr th {\n",
       "        vertical-align: top;\n",
       "    }\n",
       "\n",
       "    .dataframe thead th {\n",
       "        text-align: right;\n",
       "    }\n",
       "</style>\n",
       "<table border=\"1\" class=\"dataframe\">\n",
       "  <thead>\n",
       "    <tr style=\"text-align: right;\">\n",
       "      <th></th>\n",
       "      <th>commit</th>\n",
       "      <th>date</th>\n",
       "    </tr>\n",
       "  </thead>\n",
       "  <tbody>\n",
       "    <tr>\n",
       "      <th>0</th>\n",
       "      <td>Commit(sha=\"d676f4e962c8058fa5f04fd6aeb12317b9...</td>\n",
       "      <td>2022-11-02 08:59:40</td>\n",
       "    </tr>\n",
       "    <tr>\n",
       "      <th>1</th>\n",
       "      <td>Commit(sha=\"521ceee13e4d6e6b6a47e9e613a3b12434...</td>\n",
       "      <td>2022-11-02 08:59:40</td>\n",
       "    </tr>\n",
       "    <tr>\n",
       "      <th>2</th>\n",
       "      <td>Commit(sha=\"4e77940a2672b974efb212b4ace23914a7...</td>\n",
       "      <td>2022-11-02 08:59:40</td>\n",
       "    </tr>\n",
       "    <tr>\n",
       "      <th>3</th>\n",
       "      <td>Commit(sha=\"850a3634ac61c301ee901763babc4bffac...</td>\n",
       "      <td>2022-11-02 08:59:40</td>\n",
       "    </tr>\n",
       "    <tr>\n",
       "      <th>4</th>\n",
       "      <td>Commit(sha=\"57bfc2fcef4232387ac3c4ab6b6fe32a0a...</td>\n",
       "      <td>2022-11-02 08:59:40</td>\n",
       "    </tr>\n",
       "    <tr>\n",
       "      <th>...</th>\n",
       "      <td>...</td>\n",
       "      <td>...</td>\n",
       "    </tr>\n",
       "    <tr>\n",
       "      <th>244</th>\n",
       "      <td>Commit(sha=\"34e3fa33fd60773e521d9b8ed304de7275...</td>\n",
       "      <td>2022-01-20 07:48:29</td>\n",
       "    </tr>\n",
       "    <tr>\n",
       "      <th>245</th>\n",
       "      <td>Commit(sha=\"2ae21c3c57b72f3bd3dc5f0c2a8275ff52...</td>\n",
       "      <td>2022-01-19 08:20:34</td>\n",
       "    </tr>\n",
       "    <tr>\n",
       "      <th>246</th>\n",
       "      <td>Commit(sha=\"4e161427b8d77995749d3e2f36966247bf...</td>\n",
       "      <td>2022-01-19 08:20:14</td>\n",
       "    </tr>\n",
       "    <tr>\n",
       "      <th>247</th>\n",
       "      <td>Commit(sha=\"9366700235b71df25511d1a662ca1f5d14...</td>\n",
       "      <td>2022-01-19 08:20:14</td>\n",
       "    </tr>\n",
       "    <tr>\n",
       "      <th>248</th>\n",
       "      <td>Commit(sha=\"8baf498c45e525b59c2dcf8f6526e23672...</td>\n",
       "      <td>2022-01-17 10:34:33</td>\n",
       "    </tr>\n",
       "  </tbody>\n",
       "</table>\n",
       "<p>249 rows × 2 columns</p>\n",
       "</div>"
      ],
      "text/plain": [
       "                                                commit                date\n",
       "0    Commit(sha=\"d676f4e962c8058fa5f04fd6aeb12317b9... 2022-11-02 08:59:40\n",
       "1    Commit(sha=\"521ceee13e4d6e6b6a47e9e613a3b12434... 2022-11-02 08:59:40\n",
       "2    Commit(sha=\"4e77940a2672b974efb212b4ace23914a7... 2022-11-02 08:59:40\n",
       "3    Commit(sha=\"850a3634ac61c301ee901763babc4bffac... 2022-11-02 08:59:40\n",
       "4    Commit(sha=\"57bfc2fcef4232387ac3c4ab6b6fe32a0a... 2022-11-02 08:59:40\n",
       "..                                                 ...                 ...\n",
       "244  Commit(sha=\"34e3fa33fd60773e521d9b8ed304de7275... 2022-01-20 07:48:29\n",
       "245  Commit(sha=\"2ae21c3c57b72f3bd3dc5f0c2a8275ff52... 2022-01-19 08:20:34\n",
       "246  Commit(sha=\"4e161427b8d77995749d3e2f36966247bf... 2022-01-19 08:20:14\n",
       "247  Commit(sha=\"9366700235b71df25511d1a662ca1f5d14... 2022-01-19 08:20:14\n",
       "248  Commit(sha=\"8baf498c45e525b59c2dcf8f6526e23672... 2022-01-17 10:34:33\n",
       "\n",
       "[249 rows x 2 columns]"
      ]
     },
     "execution_count": 31,
     "metadata": {},
     "output_type": "execute_result"
    }
   ],
   "source": [
    "commits_dataframe['date'] = commits_dataframe.commit.apply(lambda row: row.commit.committer.date)\n",
    "commits_dataframe"
   ]
  },
  {
   "cell_type": "code",
   "execution_count": 44,
   "id": "efe02207-b655-4c5b-a43e-7ca587ff42b4",
   "metadata": {},
   "outputs": [
    {
     "data": {
      "text/html": [
       "<div>\n",
       "<style scoped>\n",
       "    .dataframe tbody tr th:only-of-type {\n",
       "        vertical-align: middle;\n",
       "    }\n",
       "\n",
       "    .dataframe tbody tr th {\n",
       "        vertical-align: top;\n",
       "    }\n",
       "\n",
       "    .dataframe thead th {\n",
       "        text-align: right;\n",
       "    }\n",
       "</style>\n",
       "<table border=\"1\" class=\"dataframe\">\n",
       "  <thead>\n",
       "    <tr style=\"text-align: right;\">\n",
       "      <th></th>\n",
       "      <th>commit</th>\n",
       "      <th>date</th>\n",
       "      <th>day</th>\n",
       "      <th>hour</th>\n",
       "    </tr>\n",
       "  </thead>\n",
       "  <tbody>\n",
       "    <tr>\n",
       "      <th>0</th>\n",
       "      <td>Commit(sha=\"d676f4e962c8058fa5f04fd6aeb12317b9...</td>\n",
       "      <td>2022-11-02 08:59:40</td>\n",
       "      <td>Wed</td>\n",
       "      <td>8</td>\n",
       "    </tr>\n",
       "    <tr>\n",
       "      <th>1</th>\n",
       "      <td>Commit(sha=\"521ceee13e4d6e6b6a47e9e613a3b12434...</td>\n",
       "      <td>2022-11-02 08:59:40</td>\n",
       "      <td>Wed</td>\n",
       "      <td>8</td>\n",
       "    </tr>\n",
       "    <tr>\n",
       "      <th>2</th>\n",
       "      <td>Commit(sha=\"4e77940a2672b974efb212b4ace23914a7...</td>\n",
       "      <td>2022-11-02 08:59:40</td>\n",
       "      <td>Wed</td>\n",
       "      <td>8</td>\n",
       "    </tr>\n",
       "    <tr>\n",
       "      <th>3</th>\n",
       "      <td>Commit(sha=\"850a3634ac61c301ee901763babc4bffac...</td>\n",
       "      <td>2022-11-02 08:59:40</td>\n",
       "      <td>Wed</td>\n",
       "      <td>8</td>\n",
       "    </tr>\n",
       "    <tr>\n",
       "      <th>4</th>\n",
       "      <td>Commit(sha=\"57bfc2fcef4232387ac3c4ab6b6fe32a0a...</td>\n",
       "      <td>2022-11-02 08:59:40</td>\n",
       "      <td>Wed</td>\n",
       "      <td>8</td>\n",
       "    </tr>\n",
       "    <tr>\n",
       "      <th>...</th>\n",
       "      <td>...</td>\n",
       "      <td>...</td>\n",
       "      <td>...</td>\n",
       "      <td>...</td>\n",
       "    </tr>\n",
       "    <tr>\n",
       "      <th>244</th>\n",
       "      <td>Commit(sha=\"34e3fa33fd60773e521d9b8ed304de7275...</td>\n",
       "      <td>2022-01-20 07:48:29</td>\n",
       "      <td>Thu</td>\n",
       "      <td>7</td>\n",
       "    </tr>\n",
       "    <tr>\n",
       "      <th>245</th>\n",
       "      <td>Commit(sha=\"2ae21c3c57b72f3bd3dc5f0c2a8275ff52...</td>\n",
       "      <td>2022-01-19 08:20:34</td>\n",
       "      <td>Wed</td>\n",
       "      <td>8</td>\n",
       "    </tr>\n",
       "    <tr>\n",
       "      <th>246</th>\n",
       "      <td>Commit(sha=\"4e161427b8d77995749d3e2f36966247bf...</td>\n",
       "      <td>2022-01-19 08:20:14</td>\n",
       "      <td>Wed</td>\n",
       "      <td>8</td>\n",
       "    </tr>\n",
       "    <tr>\n",
       "      <th>247</th>\n",
       "      <td>Commit(sha=\"9366700235b71df25511d1a662ca1f5d14...</td>\n",
       "      <td>2022-01-19 08:20:14</td>\n",
       "      <td>Wed</td>\n",
       "      <td>8</td>\n",
       "    </tr>\n",
       "    <tr>\n",
       "      <th>248</th>\n",
       "      <td>Commit(sha=\"8baf498c45e525b59c2dcf8f6526e23672...</td>\n",
       "      <td>2022-01-17 10:34:33</td>\n",
       "      <td>Mon</td>\n",
       "      <td>10</td>\n",
       "    </tr>\n",
       "  </tbody>\n",
       "</table>\n",
       "<p>249 rows × 4 columns</p>\n",
       "</div>"
      ],
      "text/plain": [
       "                                                commit                date  \\\n",
       "0    Commit(sha=\"d676f4e962c8058fa5f04fd6aeb12317b9... 2022-11-02 08:59:40   \n",
       "1    Commit(sha=\"521ceee13e4d6e6b6a47e9e613a3b12434... 2022-11-02 08:59:40   \n",
       "2    Commit(sha=\"4e77940a2672b974efb212b4ace23914a7... 2022-11-02 08:59:40   \n",
       "3    Commit(sha=\"850a3634ac61c301ee901763babc4bffac... 2022-11-02 08:59:40   \n",
       "4    Commit(sha=\"57bfc2fcef4232387ac3c4ab6b6fe32a0a... 2022-11-02 08:59:40   \n",
       "..                                                 ...                 ...   \n",
       "244  Commit(sha=\"34e3fa33fd60773e521d9b8ed304de7275... 2022-01-20 07:48:29   \n",
       "245  Commit(sha=\"2ae21c3c57b72f3bd3dc5f0c2a8275ff52... 2022-01-19 08:20:34   \n",
       "246  Commit(sha=\"4e161427b8d77995749d3e2f36966247bf... 2022-01-19 08:20:14   \n",
       "247  Commit(sha=\"9366700235b71df25511d1a662ca1f5d14... 2022-01-19 08:20:14   \n",
       "248  Commit(sha=\"8baf498c45e525b59c2dcf8f6526e23672... 2022-01-17 10:34:33   \n",
       "\n",
       "     day  hour  \n",
       "0    Wed     8  \n",
       "1    Wed     8  \n",
       "2    Wed     8  \n",
       "3    Wed     8  \n",
       "4    Wed     8  \n",
       "..   ...   ...  \n",
       "244  Thu     7  \n",
       "245  Wed     8  \n",
       "246  Wed     8  \n",
       "247  Wed     8  \n",
       "248  Mon    10  \n",
       "\n",
       "[249 rows x 4 columns]"
      ]
     },
     "execution_count": 44,
     "metadata": {},
     "output_type": "execute_result"
    }
   ],
   "source": [
    "commits_dataframe['day'] = commits_dataframe.date.apply(lambda row: row.day_name()[0:3])\n",
    "commits_dataframe['hour'] = commits_dataframe.date.apply(lambda row: row.hour)\n",
    "commits_dataframe"
   ]
  },
  {
   "cell_type": "code",
   "execution_count": 46,
   "id": "a92d4ac8-08c8-49e2-8c74-2844c9edf89d",
   "metadata": {},
   "outputs": [
    {
     "data": {
      "text/plain": [
       "6      4\n",
       "7     37\n",
       "8     30\n",
       "9     22\n",
       "10    36\n",
       "11    26\n",
       "12     7\n",
       "13    27\n",
       "14    16\n",
       "15    12\n",
       "16     9\n",
       "18     2\n",
       "19     8\n",
       "20     6\n",
       "21     4\n",
       "22     3\n",
       "Name: hour, dtype: int64"
      ]
     },
     "execution_count": 46,
     "metadata": {},
     "output_type": "execute_result"
    }
   ],
   "source": [
    "commits_dataframe.hour.value_counts().sort_index()"
   ]
  }
 ],
 "metadata": {
  "kernelspec": {
   "display_name": "Python 3",
   "language": "python",
   "name": "python3"
  },
  "language_info": {
   "codemirror_mode": {
    "name": "ipython",
    "version": 3
   },
   "file_extension": ".py",
   "mimetype": "text/x-python",
   "name": "python",
   "nbconvert_exporter": "python",
   "pygments_lexer": "ipython3",
   "version": "3.6.9"
  }
 },
 "nbformat": 4,
 "nbformat_minor": 5
}
