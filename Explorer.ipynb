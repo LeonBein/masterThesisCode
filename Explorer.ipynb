{
 "cells": [
  {
   "cell_type": "markdown",
   "id": "e7aed952-b574-4fa1-8e5a-94e138e57433",
   "metadata": {},
   "source": [
    "# Setup"
   ]
  },
  {
   "cell_type": "code",
   "execution_count": 1,
   "id": "53dfa6b2-aa75-4f4d-af75-ebda909c4a67",
   "metadata": {
    "tags": []
   },
   "outputs": [],
   "source": [
    "# Used to read .env files, for access tokens and other secrets or configurations\n",
    "%load_ext dotenv\n",
    "%dotenv\n",
    "import os"
   ]
  },
  {
   "cell_type": "code",
   "execution_count": 2,
   "id": "ae8c084c-3337-4d13-ab59-6f6115ddbbd7",
   "metadata": {},
   "outputs": [],
   "source": [
    "from github import Github\n",
    "import pandas\n",
    "from matplotlib import pyplot\n",
    "import numpy\n",
    "\n",
    "from datetime import datetime, timedelta"
   ]
  },
  {
   "cell_type": "code",
   "execution_count": 3,
   "id": "ab24cfdd-e5e6-43b9-811f-9996b4ba8f1a",
   "metadata": {},
   "outputs": [
    {
     "name": "stdout",
     "output_type": "stream",
     "text": [
      "Repository(full_name=\"bpmn-io/bpmn-js\")\n"
     ]
    }
   ],
   "source": [
    "# The github token is stored in a .env file next to this notebook in the form \"GITHUB_TOKEN = <your token here>\"\n",
    "g = Github(os.getenv(\"GITHUB_TOKEN\"))\n",
    "\n",
    "repo = g.get_repo('bpmn-io/bpmn-js')\n",
    "print(repo)"
   ]
  },
  {
   "cell_type": "markdown",
   "id": "845039da-1cb7-4568-a288-dd70b09081b5",
   "metadata": {},
   "source": [
    "### Team Constants\n",
    "\n",
    "These are things that describe how the team work and are static"
   ]
  },
  {
   "cell_type": "code",
   "execution_count": 4,
   "id": "771ca172-fc22-4de2-948d-cd253ffcc6f3",
   "metadata": {},
   "outputs": [],
   "source": [
    "# In the following, we will asume that sprints are totally regular, starting with a fixed date.\n",
    "# The helper functions can of course be adapted to represent, e.g., changes in sprint duration or holiday breaks\n",
    "\n",
    "start_date_first_sprint = datetime(2018, 11, 5) # It's a monday\n",
    "sprint_length = timedelta(weeks=2)\n",
    "\n",
    "def date_to_sprint(date_to_convert):\n",
    "    return max(0, (date_to_convert - start_date_first_sprint) // sprint_length + 1) # Sprint \"0\" is everything before the first\n",
    "\n",
    "def sprint_to_start_date(sprint_to_convert):\n",
    "    return start_date_first_sprint + (sprint_to_convert - 1) * sprint_length"
   ]
  },
  {
   "cell_type": "markdown",
   "id": "6c99c5b9-818d-4d7b-ada7-fd0f14c53f28",
   "metadata": {},
   "source": [
    "# Data Collection and Preprocessing"
   ]
  },
  {
   "cell_type": "code",
   "execution_count": 5,
   "id": "f3afeae5-3b99-4e4e-8f26-12c9fd5cdb94",
   "metadata": {
    "tags": []
   },
   "outputs": [],
   "source": [
    "issues_raw = repo.get_issues(state='all')"
   ]
  },
  {
   "cell_type": "code",
   "execution_count": 6,
   "id": "132249a7-a18c-4b58-8c30-e6f178031dc2",
   "metadata": {
    "tags": []
   },
   "outputs": [
    {
     "data": {
      "text/html": [
       "<div>\n",
       "<style scoped>\n",
       "    .dataframe tbody tr th:only-of-type {\n",
       "        vertical-align: middle;\n",
       "    }\n",
       "\n",
       "    .dataframe tbody tr th {\n",
       "        vertical-align: top;\n",
       "    }\n",
       "\n",
       "    .dataframe thead th {\n",
       "        text-align: right;\n",
       "    }\n",
       "</style>\n",
       "<table border=\"1\" class=\"dataframe\">\n",
       "  <thead>\n",
       "    <tr style=\"text-align: right;\">\n",
       "      <th></th>\n",
       "      <th>number</th>\n",
       "      <th>title</th>\n",
       "      <th>labels</th>\n",
       "      <th>created_at</th>\n",
       "      <th>closed_at</th>\n",
       "    </tr>\n",
       "  </thead>\n",
       "  <tbody>\n",
       "    <tr>\n",
       "      <th>0</th>\n",
       "      <td>1748</td>\n",
       "      <td>deps: update dependency tiny-svg to v3 - autoc...</td>\n",
       "      <td>[Label(name=\"dependencies\")]</td>\n",
       "      <td>2022-09-29 22:06:43</td>\n",
       "      <td>2022-09-30 08:06:11</td>\n",
       "    </tr>\n",
       "    <tr>\n",
       "      <th>1</th>\n",
       "      <td>1747</td>\n",
       "      <td>deps: update dependency min-dom to v4</td>\n",
       "      <td>[Label(name=\"dependencies\")]</td>\n",
       "      <td>2022-09-29 21:23:31</td>\n",
       "      <td>2022-09-29 21:51:18</td>\n",
       "    </tr>\n",
       "    <tr>\n",
       "      <th>2</th>\n",
       "      <td>1746</td>\n",
       "      <td>deps: update dependency min-dash to v4</td>\n",
       "      <td>[Label(name=\"dependencies\")]</td>\n",
       "      <td>2022-09-29 21:23:00</td>\n",
       "      <td>2022-09-29 22:05:16</td>\n",
       "    </tr>\n",
       "    <tr>\n",
       "      <th>3</th>\n",
       "      <td>1745</td>\n",
       "      <td>deps: update dependency diagram-js to v9 - aut...</td>\n",
       "      <td>[Label(name=\"dependencies\")]</td>\n",
       "      <td>2022-09-29 20:34:50</td>\n",
       "      <td>2022-09-30 08:06:09</td>\n",
       "    </tr>\n",
       "    <tr>\n",
       "      <th>4</th>\n",
       "      <td>1744</td>\n",
       "      <td>chore: update dependency eslint-plugin-bpmn-io...</td>\n",
       "      <td>[Label(name=\"dependencies\")]</td>\n",
       "      <td>2022-09-29 20:34:15</td>\n",
       "      <td>2022-09-30 07:16:16</td>\n",
       "    </tr>\n",
       "    <tr>\n",
       "      <th>...</th>\n",
       "      <td>...</td>\n",
       "      <td>...</td>\n",
       "      <td>...</td>\n",
       "      <td>...</td>\n",
       "      <td>...</td>\n",
       "    </tr>\n",
       "    <tr>\n",
       "      <th>1736</th>\n",
       "      <td>5</td>\n",
       "      <td>1st Release</td>\n",
       "      <td>[]</td>\n",
       "      <td>2014-03-20 10:06:23</td>\n",
       "      <td>2014-03-20 10:06:51</td>\n",
       "    </tr>\n",
       "    <tr>\n",
       "      <th>1737</th>\n",
       "      <td>4</td>\n",
       "      <td>I can create a new process</td>\n",
       "      <td>[]</td>\n",
       "      <td>2014-03-19 14:36:22</td>\n",
       "      <td>2014-07-07 08:14:41</td>\n",
       "    </tr>\n",
       "    <tr>\n",
       "      <th>1738</th>\n",
       "      <td>3</td>\n",
       "      <td>I can open a simple BPMN 2.0 process</td>\n",
       "      <td>[Label(name=\"rendering\")]</td>\n",
       "      <td>2014-03-19 08:35:02</td>\n",
       "      <td>2019-06-13 12:39:37</td>\n",
       "    </tr>\n",
       "    <tr>\n",
       "      <th>1739</th>\n",
       "      <td>2</td>\n",
       "      <td>I can drag and drop BPMN elements in a process</td>\n",
       "      <td>[]</td>\n",
       "      <td>2014-03-14 10:57:50</td>\n",
       "      <td>2014-08-04 10:47:11</td>\n",
       "    </tr>\n",
       "    <tr>\n",
       "      <th>1740</th>\n",
       "      <td>1</td>\n",
       "      <td>Import BPMN shapes</td>\n",
       "      <td>[]</td>\n",
       "      <td>2014-03-12 12:59:27</td>\n",
       "      <td>2014-03-25 22:47:31</td>\n",
       "    </tr>\n",
       "  </tbody>\n",
       "</table>\n",
       "<p>1741 rows × 5 columns</p>\n",
       "</div>"
      ],
      "text/plain": [
       "      number                                              title  \\\n",
       "0       1748  deps: update dependency tiny-svg to v3 - autoc...   \n",
       "1       1747              deps: update dependency min-dom to v4   \n",
       "2       1746             deps: update dependency min-dash to v4   \n",
       "3       1745  deps: update dependency diagram-js to v9 - aut...   \n",
       "4       1744  chore: update dependency eslint-plugin-bpmn-io...   \n",
       "...      ...                                                ...   \n",
       "1736       5                                        1st Release   \n",
       "1737       4                         I can create a new process   \n",
       "1738       3               I can open a simple BPMN 2.0 process   \n",
       "1739       2     I can drag and drop BPMN elements in a process   \n",
       "1740       1                                 Import BPMN shapes   \n",
       "\n",
       "                            labels          created_at           closed_at  \n",
       "0     [Label(name=\"dependencies\")] 2022-09-29 22:06:43 2022-09-30 08:06:11  \n",
       "1     [Label(name=\"dependencies\")] 2022-09-29 21:23:31 2022-09-29 21:51:18  \n",
       "2     [Label(name=\"dependencies\")] 2022-09-29 21:23:00 2022-09-29 22:05:16  \n",
       "3     [Label(name=\"dependencies\")] 2022-09-29 20:34:50 2022-09-30 08:06:09  \n",
       "4     [Label(name=\"dependencies\")] 2022-09-29 20:34:15 2022-09-30 07:16:16  \n",
       "...                            ...                 ...                 ...  \n",
       "1736                            [] 2014-03-20 10:06:23 2014-03-20 10:06:51  \n",
       "1737                            [] 2014-03-19 14:36:22 2014-07-07 08:14:41  \n",
       "1738     [Label(name=\"rendering\")] 2014-03-19 08:35:02 2019-06-13 12:39:37  \n",
       "1739                            [] 2014-03-14 10:57:50 2014-08-04 10:47:11  \n",
       "1740                            [] 2014-03-12 12:59:27 2014-03-25 22:47:31  \n",
       "\n",
       "[1741 rows x 5 columns]"
      ]
     },
     "execution_count": 6,
     "metadata": {},
     "output_type": "execute_result"
    }
   ],
   "source": [
    "attributes = ['number', 'title', 'labels', 'created_at', 'closed_at']\n",
    "issues_dataframe = pandas.DataFrame([[getattr(issue, attr) for attr in attributes] for issue in issues_raw], columns=attributes)\n",
    "issues_dataframe"
   ]
  },
  {
   "cell_type": "code",
   "execution_count": 7,
   "id": "2e51c34f-7e92-4a99-b2b6-2f9eeb97d18a",
   "metadata": {},
   "outputs": [],
   "source": [
    "issues_opened_per_sprint = issues_dataframe.groupby(by=(lambda index: date_to_sprint(issues_dataframe.loc[index]['created_at'])))['number'].count().astype('Int64')\n",
    "issues_closed_per_sprint = issues_dataframe[issues_dataframe.closed_at.notnull()].groupby(by=(lambda index: date_to_sprint(issues_dataframe.loc[index]['closed_at'])))['number'].count().astype('Int64')"
   ]
  },
  {
   "cell_type": "code",
   "execution_count": 8,
   "id": "82043091-158e-4cbf-a9f9-680ea78c66c2",
   "metadata": {
    "tags": []
   },
   "outputs": [],
   "source": [
    "issues = pandas.DataFrame(index=range(0, date_to_sprint(datetime.today()))) # The range ensures that there are rows for sprints where no issues were opened or closed\n",
    "issues = pandas.concat([issues, issues_opened_per_sprint, issues_closed_per_sprint], axis='columns')\n",
    "issues.index.name = 'sprint'\n",
    "issues.columns = ['opened', 'closed']\n",
    "issues = issues.fillna(0) # Replace NaN values from outer join with zero\n",
    "# issues"
   ]
  },
  {
   "cell_type": "code",
   "execution_count": 9,
   "id": "491fe82e-b3ca-4bbf-9199-eceec3683128",
   "metadata": {},
   "outputs": [
    {
     "name": "stderr",
     "output_type": "stream",
     "text": [
      "/mnt/d/Users/Leon Bein/Documents/HPI/U_Masterarbeit/masterThesisCode/.venv/lib/python3.6/site-packages/ipykernel_launcher.py:3: SettingWithCopyWarning: \n",
      "A value is trying to be set on a copy of a slice from a DataFrame\n",
      "\n",
      "See the caveats in the documentation: https://pandas.pydata.org/pandas-docs/stable/user_guide/indexing.html#returning-a-view-versus-a-copy\n",
      "  This is separate from the ipykernel package so we can avoid doing imports until\n"
     ]
    },
    {
     "data": {
      "text/html": [
       "<div>\n",
       "<style scoped>\n",
       "    .dataframe tbody tr th:only-of-type {\n",
       "        vertical-align: middle;\n",
       "    }\n",
       "\n",
       "    .dataframe tbody tr th {\n",
       "        vertical-align: top;\n",
       "    }\n",
       "\n",
       "    .dataframe thead th {\n",
       "        text-align: right;\n",
       "    }\n",
       "</style>\n",
       "<table border=\"1\" class=\"dataframe\">\n",
       "  <thead>\n",
       "    <tr style=\"text-align: right;\">\n",
       "      <th></th>\n",
       "      <th>opened</th>\n",
       "      <th>closed</th>\n",
       "      <th>open_at_start</th>\n",
       "    </tr>\n",
       "    <tr>\n",
       "      <th>sprint</th>\n",
       "      <th></th>\n",
       "      <th></th>\n",
       "      <th></th>\n",
       "    </tr>\n",
       "  </thead>\n",
       "  <tbody>\n",
       "    <tr>\n",
       "      <th>0</th>\n",
       "      <td>894</td>\n",
       "      <td>831</td>\n",
       "      <td>0</td>\n",
       "    </tr>\n",
       "    <tr>\n",
       "      <th>1</th>\n",
       "      <td>11</td>\n",
       "      <td>7</td>\n",
       "      <td>63</td>\n",
       "    </tr>\n",
       "    <tr>\n",
       "      <th>2</th>\n",
       "      <td>13</td>\n",
       "      <td>8</td>\n",
       "      <td>67</td>\n",
       "    </tr>\n",
       "    <tr>\n",
       "      <th>3</th>\n",
       "      <td>6</td>\n",
       "      <td>3</td>\n",
       "      <td>72</td>\n",
       "    </tr>\n",
       "    <tr>\n",
       "      <th>4</th>\n",
       "      <td>3</td>\n",
       "      <td>1</td>\n",
       "      <td>75</td>\n",
       "    </tr>\n",
       "    <tr>\n",
       "      <th>...</th>\n",
       "      <td>...</td>\n",
       "      <td>...</td>\n",
       "      <td>...</td>\n",
       "    </tr>\n",
       "    <tr>\n",
       "      <th>98</th>\n",
       "      <td>2</td>\n",
       "      <td>1</td>\n",
       "      <td>93</td>\n",
       "    </tr>\n",
       "    <tr>\n",
       "      <th>99</th>\n",
       "      <td>22</td>\n",
       "      <td>25</td>\n",
       "      <td>94</td>\n",
       "    </tr>\n",
       "    <tr>\n",
       "      <th>100</th>\n",
       "      <td>9</td>\n",
       "      <td>6</td>\n",
       "      <td>91</td>\n",
       "    </tr>\n",
       "    <tr>\n",
       "      <th>101</th>\n",
       "      <td>4</td>\n",
       "      <td>2</td>\n",
       "      <td>94</td>\n",
       "    </tr>\n",
       "    <tr>\n",
       "      <th>102</th>\n",
       "      <td>9</td>\n",
       "      <td>14</td>\n",
       "      <td>96</td>\n",
       "    </tr>\n",
       "  </tbody>\n",
       "</table>\n",
       "<p>103 rows × 3 columns</p>\n",
       "</div>"
      ],
      "text/plain": [
       "        opened  closed  open_at_start\n",
       "sprint                               \n",
       "0          894     831              0\n",
       "1           11       7             63\n",
       "2           13       8             67\n",
       "3            6       3             72\n",
       "4            3       1             75\n",
       "...        ...     ...            ...\n",
       "98           2       1             93\n",
       "99          22      25             94\n",
       "100          9       6             91\n",
       "101          4       2             94\n",
       "102          9      14             96\n",
       "\n",
       "[103 rows x 3 columns]"
      ]
     },
     "execution_count": 9,
     "metadata": {},
     "output_type": "execute_result"
    }
   ],
   "source": [
    "issues['open_at_start'] = 0\n",
    "for sprint in range(1, max(issues.index)+1):\n",
    "    issues.open_at_start[sprint] = issues.open_at_start[sprint-1] + issues.opened[sprint-1] - issues.closed[sprint-1]\n",
    "issues"
   ]
  },
  {
   "cell_type": "markdown",
   "id": "11ad2a3d-f7c9-4fe0-9a84-2d1ec1efe329",
   "metadata": {},
   "source": [
    "# Analyze"
   ]
  },
  {
   "cell_type": "code",
   "execution_count": 10,
   "id": "1e326281-b669-4600-b082-7535646f45a0",
   "metadata": {},
   "outputs": [],
   "source": [
    "start_sprint = date_to_sprint(datetime(2022, 6, 1)) # Using date here to be able to explore sprint length\n",
    "end_sprint = date_to_sprint(datetime(2022, 10, 1))"
   ]
  },
  {
   "cell_type": "code",
   "execution_count": 11,
   "id": "f7b0db7d-596a-473c-9ed4-d955fb36e076",
   "metadata": {},
   "outputs": [
    {
     "data": {
      "text/html": [
       "<div>\n",
       "<style scoped>\n",
       "    .dataframe tbody tr th:only-of-type {\n",
       "        vertical-align: middle;\n",
       "    }\n",
       "\n",
       "    .dataframe tbody tr th {\n",
       "        vertical-align: top;\n",
       "    }\n",
       "\n",
       "    .dataframe thead th {\n",
       "        text-align: right;\n",
       "    }\n",
       "</style>\n",
       "<table border=\"1\" class=\"dataframe\">\n",
       "  <thead>\n",
       "    <tr style=\"text-align: right;\">\n",
       "      <th></th>\n",
       "      <th>opened</th>\n",
       "      <th>closed</th>\n",
       "      <th>open_at_start</th>\n",
       "    </tr>\n",
       "    <tr>\n",
       "      <th>sprint</th>\n",
       "      <th></th>\n",
       "      <th></th>\n",
       "      <th></th>\n",
       "    </tr>\n",
       "  </thead>\n",
       "  <tbody>\n",
       "    <tr>\n",
       "      <th>94</th>\n",
       "      <td>13</td>\n",
       "      <td>10</td>\n",
       "      <td>87</td>\n",
       "    </tr>\n",
       "    <tr>\n",
       "      <th>95</th>\n",
       "      <td>4</td>\n",
       "      <td>2</td>\n",
       "      <td>90</td>\n",
       "    </tr>\n",
       "    <tr>\n",
       "      <th>96</th>\n",
       "      <td>7</td>\n",
       "      <td>6</td>\n",
       "      <td>92</td>\n",
       "    </tr>\n",
       "    <tr>\n",
       "      <th>97</th>\n",
       "      <td>5</td>\n",
       "      <td>5</td>\n",
       "      <td>93</td>\n",
       "    </tr>\n",
       "    <tr>\n",
       "      <th>98</th>\n",
       "      <td>2</td>\n",
       "      <td>1</td>\n",
       "      <td>93</td>\n",
       "    </tr>\n",
       "    <tr>\n",
       "      <th>99</th>\n",
       "      <td>22</td>\n",
       "      <td>25</td>\n",
       "      <td>94</td>\n",
       "    </tr>\n",
       "    <tr>\n",
       "      <th>100</th>\n",
       "      <td>9</td>\n",
       "      <td>6</td>\n",
       "      <td>91</td>\n",
       "    </tr>\n",
       "    <tr>\n",
       "      <th>101</th>\n",
       "      <td>4</td>\n",
       "      <td>2</td>\n",
       "      <td>94</td>\n",
       "    </tr>\n",
       "    <tr>\n",
       "      <th>102</th>\n",
       "      <td>9</td>\n",
       "      <td>14</td>\n",
       "      <td>96</td>\n",
       "    </tr>\n",
       "  </tbody>\n",
       "</table>\n",
       "</div>"
      ],
      "text/plain": [
       "        opened  closed  open_at_start\n",
       "sprint                               \n",
       "94          13      10             87\n",
       "95           4       2             90\n",
       "96           7       6             92\n",
       "97           5       5             93\n",
       "98           2       1             93\n",
       "99          22      25             94\n",
       "100          9       6             91\n",
       "101          4       2             94\n",
       "102          9      14             96"
      ]
     },
     "execution_count": 11,
     "metadata": {},
     "output_type": "execute_result"
    }
   ],
   "source": [
    "issues_focus = issues[(issues.index >= start_sprint) & (issues.index <= end_sprint)]\n",
    "issues_focus"
   ]
  },
  {
   "cell_type": "code",
   "execution_count": 13,
   "id": "1ac4c4a6-e3a7-456f-a26e-37944e66c3cc",
   "metadata": {},
   "outputs": [
    {
     "name": "stdout",
     "output_type": "stream",
     "text": [
      "\n"
     ]
    },
    {
     "data": {
      "image/png": "[encoded data removed]",
      "text/plain": [
       "<Figure size 432x288 with 1 Axes>"
      ]
     },
     "metadata": {
      "needs_background": "light"
     },
     "output_type": "display_data"
    }
   ],
   "source": [
    "figure, axes = pyplot.subplots()\n",
    "pyplot.bar(issues_focus.index-0.2, issues_focus['opened'], width=0.4)\n",
    "#pyplot.bar(issues_focus.index, issues_focus['closed'], bottom=issues_focus['opened'])\n",
    "pyplot.bar(issues_focus.index+0.2, issues_focus['closed'], width=0.4)\n",
    "axes.set_xlabel(\"Sprint\")\n",
    "axes.set_ylabel(\"No. Issues\")\n",
    "axes.set_xticks(issues_focus.index)\n",
    "print() # silence output from command before"
   ]
  },
  {
   "cell_type": "code",
   "execution_count": 14,
   "id": "236999d2-a87d-4157-bb32-cab031db5158",
   "metadata": {},
   "outputs": [
    {
     "name": "stdout",
     "output_type": "stream",
     "text": [
      "\n"
     ]
    },
    {
     "data": {
      "image/png": "[encoded data removed]",
      "text/plain": [
       "<Figure size 432x288 with 1 Axes>"
      ]
     },
     "metadata": {
      "needs_background": "light"
     },
     "output_type": "display_data"
    }
   ],
   "source": [
    "figure, axes = pyplot.subplots()\n",
    "pyplot.bar(issues_focus.index-0.2, issues_focus['opened'], width=0.4)\n",
    "#pyplot.bar(issues_focus.index, issues_focus['closed'], bottom=issues_focus['opened'])\n",
    "pyplot.bar(issues_focus.index+0.2, -issues_focus['closed'], bottom=issues_focus['opened'], width=0.4)\n",
    "axes.set_xlabel(\"Sprint\")\n",
    "axes.set_ylabel(\"No. Issues\")\n",
    "axes.set_xticks(issues_focus.index)\n",
    "print() # silence output from command before"
   ]
  },
  {
   "cell_type": "code",
   "execution_count": 15,
   "id": "f8fb879b-2381-4c44-8595-59a4eb568c82",
   "metadata": {},
   "outputs": [
    {
     "name": "stdout",
     "output_type": "stream",
     "text": [
      "\n"
     ]
    },
    {
     "data": {
      "image/png": "[encoded data removed]",
      "text/plain": [
       "<Figure size 432x288 with 1 Axes>"
      ]
     },
     "metadata": {
      "needs_background": "light"
     },
     "output_type": "display_data"
    }
   ],
   "source": [
    "figure, axes = pyplot.subplots()\n",
    "pyplot.bar(issues_focus.index, issues_focus['open_at_start'])\n",
    "axes.set_xlabel(\"Sprint\")\n",
    "axes.set_ylabel(\"No. Issues\")\n",
    "axes.set_xticks(issues_focus.index)\n",
    "print() # silence output from command before"
   ]
  },
  {
   "cell_type": "code",
   "execution_count": 19,
   "id": "d084e448-7cfd-463b-92c3-80ccfe7dc6e3",
   "metadata": {},
   "outputs": [
    {
     "name": "stdout",
     "output_type": "stream",
     "text": [
      "\n"
     ]
    },
    {
     "data": {
      "image/png": "[encoded data removed]",
      "text/plain": [
       "<Figure size 432x288 with 1 Axes>"
      ]
     },
     "metadata": {
      "needs_background": "light"
     },
     "output_type": "display_data"
    }
   ],
   "source": [
    "figure, axes = pyplot.subplots()\n",
    "pyplot.bar(issues_focus.index, issues_focus['opened'])\n",
    "pyplot.bar(issues_focus.index, issues_focus['closed'], bottom=issues_focus['opened'])\n",
    "axes.set_xticks(issues_focus.index)\n",
    "print() # silence output from command before"
   ]
  },
  {
   "cell_type": "code",
   "execution_count": null,
   "id": "648e307b-2312-4fdb-a0f1-45d107e52c29",
   "metadata": {},
   "outputs": [],
   "source": []
  },
  {
   "cell_type": "code",
   "execution_count": null,
   "id": "c17f142d-ba5e-4d54-9c59-289e63d0690a",
   "metadata": {},
   "outputs": [],
   "source": []
  }
 ],
 "metadata": {
  "kernelspec": {
   "display_name": "Python 3",
   "language": "python",
   "name": "python3"
  },
  "language_info": {
   "codemirror_mode": {
    "name": "ipython",
    "version": 3
   },
   "file_extension": ".py",
   "mimetype": "text/x-python",
   "name": "python",
   "nbconvert_exporter": "python",
   "pygments_lexer": "ipython3",
   "version": "3.6.9"
  }
 },
 "nbformat": 4,
 "nbformat_minor": 5
}
