{
 "cells": [
  {
   "cell_type": "markdown",
   "id": "e7aed952-b574-4fa1-8e5a-94e138e57433",
   "metadata": {},
   "source": [
    "# Setup"
   ]
  },
  {
   "cell_type": "code",
   "execution_count": 1,
   "id": "53dfa6b2-aa75-4f4d-af75-ebda909c4a67",
   "metadata": {
    "tags": []
   },
   "outputs": [],
   "source": [
    "# Used to read .env files, for access tokens and other secrets or configurations\n",
    "%load_ext dotenv\n",
    "%dotenv\n",
    "import os"
   ]
  },
  {
   "cell_type": "code",
   "execution_count": 98,
   "id": "ae8c084c-3337-4d13-ab59-6f6115ddbbd7",
   "metadata": {},
   "outputs": [],
   "source": [
    "from github import Github\n",
    "import pandas\n",
    "from matplotlib import pyplot\n",
    "import numpy\n",
    "import seaborn\n",
    "\n",
    "from datetime import datetime, timedelta"
   ]
  },
  {
   "cell_type": "code",
   "execution_count": 3,
   "id": "ab24cfdd-e5e6-43b9-811f-9996b4ba8f1a",
   "metadata": {},
   "outputs": [],
   "source": [
    "# The github token is stored in a .env file next to this notebook in the form \"GITHUB_TOKEN = <your token here>\"\n",
    "g = Github(os.getenv(\"GITHUB_TOKEN\"))"
   ]
  },
  {
   "cell_type": "markdown",
   "id": "845039da-1cb7-4568-a288-dd70b09081b5",
   "metadata": {
    "tags": []
   },
   "source": [
    "# Team Constants\n",
    "\n",
    "These are things that describe how the team work and are static"
   ]
  },
  {
   "cell_type": "markdown",
   "id": "24027388-1bee-449d-9f8c-231835608177",
   "metadata": {
    "tags": []
   },
   "source": [
    "## Team Members"
   ]
  },
  {
   "cell_type": "code",
   "execution_count": 5,
   "id": "7a07b85c-800a-4fd4-a861-5ef143d2237e",
   "metadata": {},
   "outputs": [],
   "source": [
    "sap = g.get_organization('SAP')\n",
    "def is_company_member(named_user):\n",
    "    return ('SAP' in (named_user.company or '').upper()) or named_user.login.upper().endswith('SAP') or sap.has_in_members(named_user)"
   ]
  },
  {
   "cell_type": "code",
   "execution_count": 6,
   "id": "7e0508db-099e-4d2f-97e5-16e09173e5a9",
   "metadata": {
    "collapsed": true,
    "jupyter": {
     "outputs_hidden": true
    },
    "tags": []
   },
   "outputs": [
    {
     "data": {
      "text/plain": [
       "[NamedUser(login=\"AdnanZiSAP\"),\n",
       " NamedUser(login=\"christian-kirschnick\"),\n",
       " NamedUser(login=\"christianneu\"),\n",
       " NamedUser(login=\"EvgeniiSkrebtcov\"),\n",
       " NamedUser(login=\"haosap\"),\n",
       " NamedUser(login=\"hilmarf\"),\n",
       " NamedUser(login=\"inf2381\"),\n",
       " NamedUser(login=\"johanneseschrig\"),\n",
       " NamedUser(login=\"johannesrohwer\"),\n",
       " NamedUser(login=\"MalteJ\"),\n",
       " NamedUser(login=\"marcauberer\"),\n",
       " NamedUser(login=\"Marco2907\"),\n",
       " NamedUser(login=\"mibrasap\"),\n",
       " NamedUser(login=\"michael-burwig\"),\n",
       " NamedUser(login=\"mlenkeit\"),\n",
       " NamedUser(login=\"PetrusVanHeaven\"),\n",
       " NamedUser(login=\"pithumke\"),\n",
       " NamedUser(login=\"SebastianWolf-SAP\"),\n",
       " NamedUser(login=\"steins-code\"),\n",
       " NamedUser(login=\"T-Bendrath\"),\n",
       " NamedUser(login=\"tkowark\")]"
      ]
     },
     "execution_count": 6,
     "metadata": {},
     "output_type": "execute_result"
    }
   ],
   "source": [
    "cwa = g.get_organization('corona-warn-app')\n",
    "team = list(filter(is_company_member, cwa.get_members()))\n",
    "team"
   ]
  },
  {
   "cell_type": "markdown",
   "id": "9d26489b-c365-4e23-b9f6-16b6422ab57f",
   "metadata": {},
   "source": [
    "## Sprint Management"
   ]
  },
  {
   "cell_type": "code",
   "execution_count": 7,
   "id": "771ca172-fc22-4de2-948d-cd253ffcc6f3",
   "metadata": {},
   "outputs": [],
   "source": [
    "# In the following, we will assume that sprints are totally regular, starting with a fixed date.\n",
    "# The helper functions can of course be adapted to represent, e.g., changes in sprint duration or holiday breaks\n",
    "\n",
    "start_date_first_sprint = datetime(2020, 4, 27) # It's a monday, development actually started 02.05.2020\n",
    "sprint_length = timedelta(weeks=2)\n",
    "\n",
    "def date_to_sprint(date_to_convert):\n",
    "    return max(0, (date_to_convert - start_date_first_sprint) // sprint_length + 1) # Sprint \"0\" is everything before the first\n",
    "\n",
    "def sprint_to_start_date(sprint_to_convert):\n",
    "    return start_date_first_sprint + (sprint_to_convert - 1) * sprint_length"
   ]
  },
  {
   "cell_type": "markdown",
   "id": "ef78d1cb-7b36-4038-a002-de559a59cb4f",
   "metadata": {
    "tags": []
   },
   "source": [
    "## Repos"
   ]
  },
  {
   "cell_type": "code",
   "execution_count": 8,
   "id": "46f6733b-4abf-47cb-8ea5-35ecb27e7062",
   "metadata": {
    "collapsed": true,
    "jupyter": {
     "outputs_hidden": true
    },
    "tags": []
   },
   "outputs": [
    {
     "data": {
      "text/plain": [
       "[NamedUser(login=\"tkowark\"),\n",
       " NamedUser(login=\"EvgeniiSkrebtcov\"),\n",
       " NamedUser(login=\"emmetsap\"),\n",
       " NamedUser(login=\"UnchartedBull\"),\n",
       " NamedUser(login=\"mlenkeit\"),\n",
       " NamedUser(login=\"CCFenner\"),\n",
       " NamedUser(login=\"MKusber\"),\n",
       " NamedUser(login=\"ole-lilienthal\"),\n",
       " NamedUser(login=\"kilbphilippSAP\"),\n",
       " NamedUser(login=\"KevponSAP\"),\n",
       " NamedUser(login=\"stevesap\"),\n",
       " NamedUser(login=\"christian-kirschnick\"),\n",
       " NamedUser(login=\"AliceBilc\"),\n",
       " NamedUser(login=\"EugenM-SAP\"),\n",
       " NamedUser(login=\"roesslerj\"),\n",
       " NamedUser(login=\"johanneseschrig\"),\n",
       " NamedUser(login=\"pithumke\"),\n",
       " NamedUser(login=\"michael-burwig\"),\n",
       " NamedUser(login=\"mibrasap\"),\n",
       " NamedUser(login=\"hilmarf\")]"
      ]
     },
     "execution_count": 8,
     "metadata": {},
     "output_type": "execute_result"
    }
   ],
   "source": [
    "server_repo = g.get_repo('corona-warn-app/cwa-server')\n",
    "# Let's assume that all developers with less than 5 commits were not active developers\n",
    "server_contributors = map(lambda stats: stats.author, filter(lambda stats: stats.total >= 5, server_repo.get_stats_contributors()))\n",
    "server_team = list(filter(is_company_member, server_contributors))\n",
    "server_team"
   ]
  },
  {
   "cell_type": "markdown",
   "id": "105146ef-8d1b-4a2c-b222-70e65c031187",
   "metadata": {
    "tags": []
   },
   "source": [
    "# Example: Issue Arrival Analysis"
   ]
  },
  {
   "cell_type": "markdown",
   "id": "6c99c5b9-818d-4d7b-ada7-fd0f14c53f28",
   "metadata": {
    "tags": []
   },
   "source": [
    "## Data Collection and Preprocessing"
   ]
  },
  {
   "cell_type": "code",
   "execution_count": 9,
   "id": "90f8bcc2-5354-4cd7-8fd0-401495257cbe",
   "metadata": {},
   "outputs": [],
   "source": [
    "repo = server_repo"
   ]
  },
  {
   "cell_type": "code",
   "execution_count": 199,
   "id": "f3afeae5-3b99-4e4e-8f26-12c9fd5cdb94",
   "metadata": {
    "tags": []
   },
   "outputs": [
    {
     "data": {
      "text/html": [
       "<div>\n",
       "<style scoped>\n",
       "    .dataframe tbody tr th:only-of-type {\n",
       "        vertical-align: middle;\n",
       "    }\n",
       "\n",
       "    .dataframe tbody tr th {\n",
       "        vertical-align: top;\n",
       "    }\n",
       "\n",
       "    .dataframe thead th {\n",
       "        text-align: right;\n",
       "    }\n",
       "</style>\n",
       "<table border=\"1\" class=\"dataframe\">\n",
       "  <thead>\n",
       "    <tr style=\"text-align: right;\">\n",
       "      <th></th>\n",
       "      <th>issue</th>\n",
       "    </tr>\n",
       "  </thead>\n",
       "  <tbody>\n",
       "    <tr>\n",
       "      <th>0</th>\n",
       "      <td>Issue(title=\"Bump versions-maven-plugin from 2...</td>\n",
       "    </tr>\n",
       "    <tr>\n",
       "      <th>1</th>\n",
       "      <td>Issue(title=\"Bump s3 from 2.17.182 to 2.18.1\",...</td>\n",
       "    </tr>\n",
       "    <tr>\n",
       "      <th>2</th>\n",
       "      <td>Issue(title=\"Bump s3 from 2.17.182 to 2.18.0\",...</td>\n",
       "    </tr>\n",
       "    <tr>\n",
       "      <th>3</th>\n",
       "      <td>Issue(title=\"Bump spring-boot.version from 2.7...</td>\n",
       "    </tr>\n",
       "    <tr>\n",
       "      <th>4</th>\n",
       "      <td>Issue(title=\"Bump protobuf.version from 3.21.7...</td>\n",
       "    </tr>\n",
       "    <tr>\n",
       "      <th>...</th>\n",
       "      <td>...</td>\n",
       "    </tr>\n",
       "    <tr>\n",
       "      <th>1911</th>\n",
       "      <td>Issue(title=\"Index File Generation\", number=6)</td>\n",
       "    </tr>\n",
       "    <tr>\n",
       "      <th>1912</th>\n",
       "      <td>Issue(title=\"Set Retention Days to 14\", number=5)</td>\n",
       "    </tr>\n",
       "    <tr>\n",
       "      <th>1913</th>\n",
       "      <td>Issue(title=\"Setup Wiki\", number=9)</td>\n",
       "    </tr>\n",
       "    <tr>\n",
       "      <th>1914</th>\n",
       "      <td>Issue(title=\"DDoS protection\", number=2)</td>\n",
       "    </tr>\n",
       "    <tr>\n",
       "      <th>1915</th>\n",
       "      <td>Issue(title=\"Protobuf file generation cron job...</td>\n",
       "    </tr>\n",
       "  </tbody>\n",
       "</table>\n",
       "<p>1916 rows × 1 columns</p>\n",
       "</div>"
      ],
      "text/plain": [
       "                                                  issue\n",
       "0     Issue(title=\"Bump versions-maven-plugin from 2...\n",
       "1     Issue(title=\"Bump s3 from 2.17.182 to 2.18.1\",...\n",
       "2     Issue(title=\"Bump s3 from 2.17.182 to 2.18.0\",...\n",
       "3     Issue(title=\"Bump spring-boot.version from 2.7...\n",
       "4     Issue(title=\"Bump protobuf.version from 3.21.7...\n",
       "...                                                 ...\n",
       "1911     Issue(title=\"Index File Generation\", number=6)\n",
       "1912  Issue(title=\"Set Retention Days to 14\", number=5)\n",
       "1913                Issue(title=\"Setup Wiki\", number=9)\n",
       "1914           Issue(title=\"DDoS protection\", number=2)\n",
       "1915  Issue(title=\"Protobuf file generation cron job...\n",
       "\n",
       "[1916 rows x 1 columns]"
      ]
     },
     "execution_count": 199,
     "metadata": {},
     "output_type": "execute_result"
    }
   ],
   "source": [
    "issues_raw = repo.get_issues(state='all')\n",
    "issues_dataframe = pandas.DataFrame(issues_raw, columns=['issue'])\n",
    "issues_dataframe"
   ]
  },
  {
   "cell_type": "code",
   "execution_count": 12,
   "id": "4d2905ca-8649-4193-9443-637f7031b096",
   "metadata": {
    "tags": []
   },
   "outputs": [
    {
     "data": {
      "text/plain": [
       "<pandas.core.groupby.generic.DataFrameGroupBy object at 0x7fa9d0741780>"
      ]
     },
     "execution_count": 12,
     "metadata": {},
     "output_type": "execute_result"
    }
   ],
   "source": [
    "issues_opened_per_sprint = issues_dataframe.groupby(by=(lambda index: date_to_sprint(issues_dataframe.loc[index].issue.created_at)))\n",
    "issues_opened_per_sprint"
   ]
  },
  {
   "cell_type": "code",
   "execution_count": 13,
   "id": "e2ae9324-7e34-42ee-8578-008c5afcb532",
   "metadata": {
    "tags": []
   },
   "outputs": [
    {
     "data": {
      "text/plain": [
       "<pandas.core.groupby.generic.DataFrameGroupBy object at 0x7fa9d0741358>"
      ]
     },
     "execution_count": 13,
     "metadata": {},
     "output_type": "execute_result"
    }
   ],
   "source": [
    "closed_issues = issues_dataframe[issues_dataframe.apply(lambda x: x.issue.closed_at is not None, axis=1)]\n",
    "issues_closed_per_sprint = closed_issues.groupby(by=(lambda index: date_to_sprint(issues_dataframe.loc[index].issue.closed_at)))\n",
    "issues_closed_per_sprint"
   ]
  },
  {
   "cell_type": "code",
   "execution_count": 43,
   "id": "e44e757a-10d3-4fd6-8cc1-630a7004c644",
   "metadata": {},
   "outputs": [
    {
     "data": {
      "text/html": [
       "<div>\n",
       "<style scoped>\n",
       "    .dataframe tbody tr th:only-of-type {\n",
       "        vertical-align: middle;\n",
       "    }\n",
       "\n",
       "    .dataframe tbody tr th {\n",
       "        vertical-align: top;\n",
       "    }\n",
       "\n",
       "    .dataframe thead th {\n",
       "        text-align: right;\n",
       "    }\n",
       "</style>\n",
       "<table border=\"1\" class=\"dataframe\">\n",
       "  <thead>\n",
       "    <tr style=\"text-align: right;\">\n",
       "      <th></th>\n",
       "      <th>opened</th>\n",
       "      <th>closed</th>\n",
       "      <th>open_at_start</th>\n",
       "    </tr>\n",
       "    <tr>\n",
       "      <th>sprint</th>\n",
       "      <th></th>\n",
       "      <th></th>\n",
       "      <th></th>\n",
       "    </tr>\n",
       "  </thead>\n",
       "  <tbody>\n",
       "    <tr>\n",
       "      <th>0</th>\n",
       "      <td>0</td>\n",
       "      <td>0</td>\n",
       "      <td>0</td>\n",
       "    </tr>\n",
       "    <tr>\n",
       "      <th>1</th>\n",
       "      <td>60</td>\n",
       "      <td>39</td>\n",
       "      <td>0</td>\n",
       "    </tr>\n",
       "    <tr>\n",
       "      <th>2</th>\n",
       "      <td>227</td>\n",
       "      <td>201</td>\n",
       "      <td>21</td>\n",
       "    </tr>\n",
       "    <tr>\n",
       "      <th>3</th>\n",
       "      <td>175</td>\n",
       "      <td>199</td>\n",
       "      <td>47</td>\n",
       "    </tr>\n",
       "    <tr>\n",
       "      <th>4</th>\n",
       "      <td>137</td>\n",
       "      <td>123</td>\n",
       "      <td>23</td>\n",
       "    </tr>\n",
       "    <tr>\n",
       "      <th>...</th>\n",
       "      <td>...</td>\n",
       "      <td>...</td>\n",
       "      <td>...</td>\n",
       "    </tr>\n",
       "    <tr>\n",
       "      <th>62</th>\n",
       "      <td>10</td>\n",
       "      <td>12</td>\n",
       "      <td>4</td>\n",
       "    </tr>\n",
       "    <tr>\n",
       "      <th>63</th>\n",
       "      <td>14</td>\n",
       "      <td>12</td>\n",
       "      <td>2</td>\n",
       "    </tr>\n",
       "    <tr>\n",
       "      <th>64</th>\n",
       "      <td>16</td>\n",
       "      <td>17</td>\n",
       "      <td>4</td>\n",
       "    </tr>\n",
       "    <tr>\n",
       "      <th>65</th>\n",
       "      <td>9</td>\n",
       "      <td>6</td>\n",
       "      <td>3</td>\n",
       "    </tr>\n",
       "    <tr>\n",
       "      <th>66</th>\n",
       "      <td>2</td>\n",
       "      <td>1</td>\n",
       "      <td>6</td>\n",
       "    </tr>\n",
       "  </tbody>\n",
       "</table>\n",
       "<p>67 rows × 3 columns</p>\n",
       "</div>"
      ],
      "text/plain": [
       "        opened  closed  open_at_start\n",
       "sprint                               \n",
       "0            0       0              0\n",
       "1           60      39              0\n",
       "2          227     201             21\n",
       "3          175     199             47\n",
       "4          137     123             23\n",
       "...        ...     ...            ...\n",
       "62          10      12              4\n",
       "63          14      12              2\n",
       "64          16      17              4\n",
       "65           9       6              3\n",
       "66           2       1              6\n",
       "\n",
       "[67 rows x 3 columns]"
      ]
     },
     "execution_count": 43,
     "metadata": {},
     "output_type": "execute_result"
    }
   ],
   "source": [
    "issues = pandas.DataFrame(index=range(0, date_to_sprint(datetime.today())+1)) # The range ensures that there are rows for sprints where no issues were opened or closed\n",
    "issues.index.name = 'sprint'\n",
    "issues['opened'] = issues_opened_per_sprint.count().astype('Int64')\n",
    "issues['closed'] = issues_closed_per_sprint.count().astype('Int64')\n",
    "issues = issues.fillna(0) # Replace NaN values from outer join with zero\n",
    "issues['open_at_start'] = (issues.opened - issues.closed).cumsum().shift(fill_value=0) # Issues open at start of each sprint = sum of issues opened - closed beforea\n",
    "issues"
   ]
  },
  {
   "cell_type": "markdown",
   "id": "11ad2a3d-f7c9-4fe0-9a84-2d1ec1efe329",
   "metadata": {
    "tags": []
   },
   "source": [
    "## Analyze"
   ]
  },
  {
   "cell_type": "code",
   "execution_count": 212,
   "id": "1e326281-b669-4600-b082-7535646f45a0",
   "metadata": {},
   "outputs": [],
   "source": [
    "start_sprint = date_to_sprint(datetime(2022, 1, 1)) # Using date here to be able to explore sprint length\n",
    "end_sprint = date_to_sprint(datetime(2022, 10, 1))"
   ]
  },
  {
   "cell_type": "code",
   "execution_count": 213,
   "id": "f7b0db7d-596a-473c-9ed4-d955fb36e076",
   "metadata": {},
   "outputs": [
    {
     "data": {
      "text/html": [
       "<div>\n",
       "<style scoped>\n",
       "    .dataframe tbody tr th:only-of-type {\n",
       "        vertical-align: middle;\n",
       "    }\n",
       "\n",
       "    .dataframe tbody tr th {\n",
       "        vertical-align: top;\n",
       "    }\n",
       "\n",
       "    .dataframe thead th {\n",
       "        text-align: right;\n",
       "    }\n",
       "</style>\n",
       "<table border=\"1\" class=\"dataframe\">\n",
       "  <thead>\n",
       "    <tr style=\"text-align: right;\">\n",
       "      <th></th>\n",
       "      <th>opened</th>\n",
       "      <th>closed</th>\n",
       "      <th>open_at_start</th>\n",
       "    </tr>\n",
       "    <tr>\n",
       "      <th>sprint</th>\n",
       "      <th></th>\n",
       "      <th></th>\n",
       "      <th></th>\n",
       "    </tr>\n",
       "  </thead>\n",
       "  <tbody>\n",
       "    <tr>\n",
       "      <th>44</th>\n",
       "      <td>14</td>\n",
       "      <td>13</td>\n",
       "      <td>12</td>\n",
       "    </tr>\n",
       "    <tr>\n",
       "      <th>45</th>\n",
       "      <td>22</td>\n",
       "      <td>28</td>\n",
       "      <td>13</td>\n",
       "    </tr>\n",
       "    <tr>\n",
       "      <th>46</th>\n",
       "      <td>8</td>\n",
       "      <td>6</td>\n",
       "      <td>7</td>\n",
       "    </tr>\n",
       "    <tr>\n",
       "      <th>47</th>\n",
       "      <td>22</td>\n",
       "      <td>24</td>\n",
       "      <td>9</td>\n",
       "    </tr>\n",
       "    <tr>\n",
       "      <th>48</th>\n",
       "      <td>20</td>\n",
       "      <td>22</td>\n",
       "      <td>7</td>\n",
       "    </tr>\n",
       "    <tr>\n",
       "      <th>49</th>\n",
       "      <td>15</td>\n",
       "      <td>15</td>\n",
       "      <td>5</td>\n",
       "    </tr>\n",
       "    <tr>\n",
       "      <th>50</th>\n",
       "      <td>10</td>\n",
       "      <td>9</td>\n",
       "      <td>5</td>\n",
       "    </tr>\n",
       "    <tr>\n",
       "      <th>51</th>\n",
       "      <td>19</td>\n",
       "      <td>19</td>\n",
       "      <td>6</td>\n",
       "    </tr>\n",
       "    <tr>\n",
       "      <th>52</th>\n",
       "      <td>16</td>\n",
       "      <td>15</td>\n",
       "      <td>6</td>\n",
       "    </tr>\n",
       "    <tr>\n",
       "      <th>53</th>\n",
       "      <td>16</td>\n",
       "      <td>15</td>\n",
       "      <td>7</td>\n",
       "    </tr>\n",
       "    <tr>\n",
       "      <th>54</th>\n",
       "      <td>8</td>\n",
       "      <td>12</td>\n",
       "      <td>8</td>\n",
       "    </tr>\n",
       "    <tr>\n",
       "      <th>55</th>\n",
       "      <td>6</td>\n",
       "      <td>6</td>\n",
       "      <td>4</td>\n",
       "    </tr>\n",
       "    <tr>\n",
       "      <th>56</th>\n",
       "      <td>11</td>\n",
       "      <td>11</td>\n",
       "      <td>4</td>\n",
       "    </tr>\n",
       "    <tr>\n",
       "      <th>57</th>\n",
       "      <td>8</td>\n",
       "      <td>6</td>\n",
       "      <td>4</td>\n",
       "    </tr>\n",
       "    <tr>\n",
       "      <th>58</th>\n",
       "      <td>5</td>\n",
       "      <td>6</td>\n",
       "      <td>6</td>\n",
       "    </tr>\n",
       "    <tr>\n",
       "      <th>59</th>\n",
       "      <td>12</td>\n",
       "      <td>12</td>\n",
       "      <td>5</td>\n",
       "    </tr>\n",
       "    <tr>\n",
       "      <th>60</th>\n",
       "      <td>7</td>\n",
       "      <td>7</td>\n",
       "      <td>5</td>\n",
       "    </tr>\n",
       "    <tr>\n",
       "      <th>61</th>\n",
       "      <td>9</td>\n",
       "      <td>10</td>\n",
       "      <td>5</td>\n",
       "    </tr>\n",
       "    <tr>\n",
       "      <th>62</th>\n",
       "      <td>10</td>\n",
       "      <td>12</td>\n",
       "      <td>4</td>\n",
       "    </tr>\n",
       "    <tr>\n",
       "      <th>63</th>\n",
       "      <td>14</td>\n",
       "      <td>12</td>\n",
       "      <td>2</td>\n",
       "    </tr>\n",
       "    <tr>\n",
       "      <th>64</th>\n",
       "      <td>16</td>\n",
       "      <td>17</td>\n",
       "      <td>4</td>\n",
       "    </tr>\n",
       "  </tbody>\n",
       "</table>\n",
       "</div>"
      ],
      "text/plain": [
       "        opened  closed  open_at_start\n",
       "sprint                               \n",
       "44          14      13             12\n",
       "45          22      28             13\n",
       "46           8       6              7\n",
       "47          22      24              9\n",
       "48          20      22              7\n",
       "49          15      15              5\n",
       "50          10       9              5\n",
       "51          19      19              6\n",
       "52          16      15              6\n",
       "53          16      15              7\n",
       "54           8      12              8\n",
       "55           6       6              4\n",
       "56          11      11              4\n",
       "57           8       6              4\n",
       "58           5       6              6\n",
       "59          12      12              5\n",
       "60           7       7              5\n",
       "61           9      10              5\n",
       "62          10      12              4\n",
       "63          14      12              2\n",
       "64          16      17              4"
      ]
     },
     "execution_count": 213,
     "metadata": {},
     "output_type": "execute_result"
    }
   ],
   "source": [
    "issues_focus = issues[(issues.index >= start_sprint) & (issues.index <= end_sprint)]\n",
    "issues_focus"
   ]
  },
  {
   "cell_type": "code",
   "execution_count": 214,
   "id": "1ac4c4a6-e3a7-456f-a26e-37944e66c3cc",
   "metadata": {},
   "outputs": [
    {
     "name": "stdout",
     "output_type": "stream",
     "text": [
      "\n"
     ]
    },
    {
     "data": {
      "image/png": "[encoded data removed]",
      "text/plain": [
       "<Figure size 432x288 with 1 Axes>"
      ]
     },
     "metadata": {
      "needs_background": "light"
     },
     "output_type": "display_data"
    }
   ],
   "source": [
    "figure, axes = pyplot.subplots()\n",
    "pyplot.bar(issues_focus.index-0.2, issues_focus['opened'], width=0.4)\n",
    "pyplot.bar(issues_focus.index+0.2, issues_focus['closed'], width=0.4)\n",
    "axes.set_xlabel(\"Sprint\")\n",
    "axes.set_ylabel(\"No. Issues\")\n",
    "axes.set_xticks(issues_focus.index)\n",
    "axes.legend(['opened', 'closed'])\n",
    "print() # silence output from command before"
   ]
  },
  {
   "cell_type": "code",
   "execution_count": 215,
   "id": "236999d2-a87d-4157-bb32-cab031db5158",
   "metadata": {},
   "outputs": [
    {
     "name": "stdout",
     "output_type": "stream",
     "text": [
      "\n"
     ]
    },
    {
     "data": {
      "image/png": "[encoded data removed]",
      "text/plain": [
       "<Figure size 432x288 with 1 Axes>"
      ]
     },
     "metadata": {
      "needs_background": "light"
     },
     "output_type": "display_data"
    }
   ],
   "source": [
    "figure, axes = pyplot.subplots()\n",
    "pyplot.bar(issues_focus.index-0.2, issues_focus['opened'], width=0.4)\n",
    "pyplot.bar(issues_focus.index+0.2, -issues_focus['closed'], bottom=issues_focus['opened'], width=0.4)\n",
    "axes.set_xlabel(\"Sprint\")\n",
    "axes.set_ylabel(\"No. Issues\")\n",
    "axes.set_xticks(issues_focus.index)\n",
    "axes.legend(['opened', 'closed'])\n",
    "print() # silence output from command before"
   ]
  },
  {
   "cell_type": "code",
   "execution_count": 216,
   "id": "f8fb879b-2381-4c44-8595-59a4eb568c82",
   "metadata": {},
   "outputs": [
    {
     "name": "stdout",
     "output_type": "stream",
     "text": [
      "\n"
     ]
    },
    {
     "data": {
      "image/png": "[encoded data removed]",
      "text/plain": [
       "<Figure size 432x288 with 1 Axes>"
      ]
     },
     "metadata": {
      "needs_background": "light"
     },
     "output_type": "display_data"
    }
   ],
   "source": [
    "figure, axes = pyplot.subplots()\n",
    "pyplot.bar(issues_focus.index, issues_focus['open_at_start'])\n",
    "axes.set_xlabel(\"Sprint\")\n",
    "axes.set_ylabel(\"No. Issues\")\n",
    "axes.set_xticks(issues_focus.index)\n",
    "axes.legend(['open_at_start'])\n",
    "print() # silence output from command before"
   ]
  },
  {
   "cell_type": "code",
   "execution_count": 227,
   "id": "341158bf-c839-4d16-a3ba-fc1ee795cc01",
   "metadata": {},
   "outputs": [
    {
     "name": "stdout",
     "output_type": "stream",
     "text": [
      "Sprint: 55: \n",
      "[list([1797, 'Failed to instantiate distribution service [release - cwa-server-2.19.0]'])\n",
      " list([1793, 'Kubernetes deployments'])\n",
      " list([1575, 'Quantitative analysis on the CWA code base performed using data provided by Git'])\n",
      " list([1027, 'Feature/optimized dockerfiles'])]\n",
      "Sprint: 56: \n",
      "[list([1797, 'Failed to instantiate distribution service [release - cwa-server-2.19.0]'])\n",
      " list([1793, 'Kubernetes deployments'])\n",
      " list([1575, 'Quantitative analysis on the CWA code base performed using data provided by Git'])\n",
      " list([1027, 'Feature/optimized dockerfiles'])]\n",
      "Sprint: 57: \n",
      "[list([1797, 'Failed to instantiate distribution service [release - cwa-server-2.19.0]'])\n",
      " list([1793, 'Kubernetes deployments'])\n",
      " list([1575, 'Quantitative analysis on the CWA code base performed using data provided by Git'])\n",
      " list([1027, 'Feature/optimized dockerfiles'])]\n",
      "Sprint: 58: \n",
      "[list([1854, 'modified the country and period range'])\n",
      " list([1851, 'Bump feign.version from 11.8 to 11.9'])\n",
      " list([1797, 'Failed to instantiate distribution service [release - cwa-server-2.19.0]'])\n",
      " list([1793, 'Kubernetes deployments'])\n",
      " list([1575, 'Quantitative analysis on the CWA code base performed using data provided by Git'])\n",
      " list([1027, 'Feature/optimized dockerfiles'])]\n",
      "Sprint: 59: \n",
      "[list([1851, 'Bump feign.version from 11.8 to 11.9'])\n",
      " list([1797, 'Failed to instantiate distribution service [release - cwa-server-2.19.0]'])\n",
      " list([1793, 'Kubernetes deployments'])\n",
      " list([1575, 'Quantitative analysis on the CWA code base performed using data provided by Git'])\n",
      " list([1027, 'Feature/optimized dockerfiles'])]\n",
      "Sprint: 60: \n",
      "[list([1863, 'fix for future interval date validation'])\n",
      " list([1797, 'Failed to instantiate distribution service [release - cwa-server-2.19.0]'])\n",
      " list([1793, 'Kubernetes deployments'])\n",
      " list([1575, 'Quantitative analysis on the CWA code base performed using data provided by Git'])\n",
      " list([1027, 'Feature/optimized dockerfiles'])]\n",
      "Sprint: 61: \n",
      "[list([1878, 'Update maven.config'])\n",
      " list([1797, 'Failed to instantiate distribution service [release - cwa-server-2.19.0]'])\n",
      " list([1793, 'Kubernetes deployments'])\n",
      " list([1575, 'Quantitative analysis on the CWA code base performed using data provided by Git'])\n",
      " list([1027, 'Feature/optimized dockerfiles'])]\n",
      "Sprint: 62: \n",
      "[list([1797, 'Failed to instantiate distribution service [release - cwa-server-2.19.0]'])\n",
      " list([1793, 'Kubernetes deployments'])\n",
      " list([1575, 'Quantitative analysis on the CWA code base performed using data provided by Git'])\n",
      " list([1027, 'Feature/optimized dockerfiles'])]\n",
      "Sprint: 63: \n",
      "[list([1793, 'Kubernetes deployments'])\n",
      " list([1027, 'Feature/optimized dockerfiles'])]\n",
      "Sprint: 64: \n",
      "[list([1911, 'use PROD values as default'])\n",
      " list([1910, 'Feature/json validation'])\n",
      " list([1793, 'Kubernetes deployments'])\n",
      " list([1027, 'Feature/optimized dockerfiles'])]\n"
     ]
    }
   ],
   "source": [
    "for sprint in range(55, 64+1):\n",
    "    open = issues_dataframe[issues_dataframe.apply(lambda x: date_to_sprint(x.issue.created_at) < sprint and ((x.issue.closed_at is None) or (date_to_sprint(x.issue.closed_at) >= sprint)), axis=1)]\n",
    "    open = open.apply(lambda x: [x.issue.number, x.issue.title], axis=1)\n",
    "    print('Sprint: '+str(sprint)+': ')\n",
    "    print(open.values)"
   ]
  },
  {
   "cell_type": "code",
   "execution_count": 217,
   "id": "d084e448-7cfd-463b-92c3-80ccfe7dc6e3",
   "metadata": {},
   "outputs": [
    {
     "name": "stdout",
     "output_type": "stream",
     "text": [
      "\n"
     ]
    },
    {
     "data": {
      "image/png": "[encoded data removed]",
      "text/plain": [
       "<Figure size 432x288 with 1 Axes>"
      ]
     },
     "metadata": {
      "needs_background": "light"
     },
     "output_type": "display_data"
    }
   ],
   "source": [
    "figure, axes = pyplot.subplots()\n",
    "pyplot.bar(issues_focus.index, issues_focus['opened'])\n",
    "pyplot.bar(issues_focus.index, issues_focus['closed'], bottom=issues_focus['opened'])\n",
    "axes.set_xticks(issues_focus.index)\n",
    "axes.legend(['opened', 'closed'])\n",
    "print() # silence output from command before"
   ]
  },
  {
   "cell_type": "markdown",
   "id": "c9d690b9-4bf8-4028-b17e-232cd68490b6",
   "metadata": {
    "tags": []
   },
   "source": [
    "# Experiment Zone"
   ]
  },
  {
   "cell_type": "code",
   "execution_count": 91,
   "id": "0d3320d9-c044-4f77-a2f5-07282803ceb9",
   "metadata": {},
   "outputs": [
    {
     "data": {
      "text/plain": [
       "[['transferred', None],\n",
       " ['milestoned', None],\n",
       " ['labeled', Label(name=\"DistributionSvc\")],\n",
       " ['mentioned', None],\n",
       " ['subscribed', None],\n",
       " ['closed', None],\n",
       " ['referenced', None],\n",
       " ['referenced', None]]"
      ]
     },
     "execution_count": 91,
     "metadata": {},
     "output_type": "execute_result"
    }
   ],
   "source": [
    "list(map(lambda x: [x.event, x.label], server_repo.get_issue(1).get_events()))"
   ]
  },
  {
   "cell_type": "code",
   "execution_count": 75,
   "id": "2769a241-a772-48c2-8b3f-79044a8c83f8",
   "metadata": {},
   "outputs": [
    {
     "data": {
      "text/plain": [
       "[TimelineEvent(id=3296168633),\n",
       " TimelineEvent(id=623087220),\n",
       " TimelineEvent(id=None),\n",
       " TimelineEvent(id=3320405293),\n",
       " TimelineEvent(id=3320405498),\n",
       " TimelineEvent(id=629121190),\n",
       " TimelineEvent(id=3340026300),\n",
       " TimelineEvent(id=3340026305),\n",
       " TimelineEvent(id=629200722),\n",
       " TimelineEvent(id=3340651840),\n",
       " TimelineEvent(id=3366273615),\n",
       " TimelineEvent(id=3496768028)]"
      ]
     },
     "execution_count": 75,
     "metadata": {},
     "output_type": "execute_result"
    }
   ],
   "source": [
    "events = list(server_repo.get_issue(1).get_timeline())\n",
    "events"
   ]
  },
  {
   "cell_type": "code",
   "execution_count": 114,
   "id": "3b0ab2a9-31f2-4a5b-b7b4-b5df48a3c109",
   "metadata": {},
   "outputs": [
    {
     "data": {
      "text/plain": [
       "[[None, 'transferred'],\n",
       " [None, 'commented'],\n",
       " ['issue', 'cross-referenced'],\n",
       " [None, 'milestoned'],\n",
       " [None, 'labeled'],\n",
       " [None, 'commented'],\n",
       " [None, 'mentioned'],\n",
       " [None, 'subscribed'],\n",
       " [None, 'commented'],\n",
       " [None, 'closed'],\n",
       " [None, 'referenced'],\n",
       " [None, 'referenced']]"
      ]
     },
     "execution_count": 114,
     "metadata": {},
     "output_type": "execute_result"
    }
   ],
   "source": [
    "list(map(lambda x: [x.source and x.source.type, x.event, x.], events))"
   ]
  },
  {
   "cell_type": "code",
   "execution_count": 102,
   "id": "f5f10d27-682a-4142-bb42-b328e207e880",
   "metadata": {},
   "outputs": [
    {
     "data": {
      "text/plain": [
       "[['transferred', None, 'MDE2OlRyYW5zZmVycmVkRXZlbnQzMjk2MTY4NjMz'],\n",
       " ['commented', None, 'MDEyOklzc3VlQ29tbWVudDYyMzA4NzIyMA=='],\n",
       " ['cross-referenced', TimelineEventSource(type=\"issue\"), None],\n",
       " ['milestoned', None, 'MDE1Ok1pbGVzdG9uZWRFdmVudDMzMjA0MDUyOTM='],\n",
       " ['labeled', None, 'MDEyOkxhYmVsZWRFdmVudDMzMjA0MDU0OTg='],\n",
       " ['commented', None, 'MDEyOklzc3VlQ29tbWVudDYyOTEyMTE5MA=='],\n",
       " ['mentioned', None, 'MDE0Ok1lbnRpb25lZEV2ZW50MzM0MDAyNjMwMA=='],\n",
       " ['subscribed', None, 'MDE1OlN1YnNjcmliZWRFdmVudDMzNDAwMjYzMDU='],\n",
       " ['commented', None, 'MDEyOklzc3VlQ29tbWVudDYyOTIwMDcyMg=='],\n",
       " ['closed', None, 'MDExOkNsb3NlZEV2ZW50MzM0MDY1MTg0MA=='],\n",
       " ['referenced', None, 'MDE1OlJlZmVyZW5jZWRFdmVudDMzNjYyNzM2MTU='],\n",
       " ['referenced', None, 'MDE1OlJlZmVyZW5jZWRFdmVudDM0OTY3NjgwMjg=']]"
      ]
     },
     "execution_count": 102,
     "metadata": {},
     "output_type": "execute_result"
    }
   ],
   "source": [
    "list(map(lambda x: [x.event, x.source, x.node_id], events))"
   ]
  },
  {
   "cell_type": "code",
   "execution_count": 97,
   "id": "8672927a-a0bc-4494-bfc6-d925a14c117d",
   "metadata": {},
   "outputs": [
    {
     "data": {
      "text/plain": [
       "<matplotlib.collections.PathCollection at 0x7fa9c7d25b00>"
      ]
     },
     "execution_count": 97,
     "metadata": {},
     "output_type": "execute_result"
    },
    {
     "data": {
      "image/png": "[encoded data removed]",
      "text/plain": [
       "<Figure size 432x288 with 1 Axes>"
      ]
     },
     "metadata": {
      "needs_background": "light"
     },
     "output_type": "display_data"
    }
   ],
   "source": [
    "figure, axes = pyplot.subplots()\n",
    "c = ['a', 'b', 'a']\n",
    "colors = numpy.linspace(0, 1, len(numpy.unique(c)))\n",
    "colordict = dict(zip(c, colors))  \n",
    "color_col = list(map(lambda x: colordict[x], c))\n",
    "axes.scatter([1, 2, 3], [1, 2, 3], c=color_col)"
   ]
  },
  {
   "cell_type": "code",
   "execution_count": 103,
   "id": "e3c73c1c-fe73-4950-a0e8-4acf061874f6",
   "metadata": {},
   "outputs": [],
   "source": [
    "issues_raw = repo.get_issues(state='all')"
   ]
  },
  {
   "cell_type": "code",
   "execution_count": 120,
   "id": "bc279039-cc43-4d16-8a32-112a815bc2c5",
   "metadata": {
    "collapsed": true,
    "jupyter": {
     "outputs_hidden": true
    },
    "tags": []
   },
   "outputs": [
    {
     "data": {
      "text/plain": [
       "[(1939, TimelineEvent(id=None)),\n",
       " (1939, TimelineEvent(id=7649643552)),\n",
       " (1939, TimelineEvent(id=7649643561)),\n",
       " (1939, TimelineEvent(id=7649643564)),\n",
       " (1939, TimelineEvent(id=7649643574)),\n",
       " (1939, TimelineEvent(id=1288329162)),\n",
       " (1938, TimelineEvent(id=None)),\n",
       " (1938, TimelineEvent(id=7649642264)),\n",
       " (1938, TimelineEvent(id=7649642270)),\n",
       " (1938, TimelineEvent(id=7649642273)),\n",
       " (1938, TimelineEvent(id=7649642300)),\n",
       " (1938, TimelineEvent(id=None)),\n",
       " (1938, TimelineEvent(id=7649642503)),\n",
       " (1938, TimelineEvent(id=1288329051)),\n",
       " (1937, TimelineEvent(id=None)),\n",
       " (1937, TimelineEvent(id=7636492757)),\n",
       " (1937, TimelineEvent(id=7636492780)),\n",
       " (1937, TimelineEvent(id=7636492793)),\n",
       " (1937, TimelineEvent(id=7636492834)),\n",
       " (1937, TimelineEvent(id=1286383483)),\n",
       " (1937, TimelineEvent(id=1288306434)),\n",
       " (1937, TimelineEvent(id=7649642424)),\n",
       " (1937, TimelineEvent(id=7649642514)),\n",
       " (1936, TimelineEvent(id=None)),\n",
       " (1936, TimelineEvent(id=7636492373)),\n",
       " (1936, TimelineEvent(id=7636492406)),\n",
       " (1936, TimelineEvent(id=7636492413)),\n",
       " (1936, TimelineEvent(id=7636492481)),\n",
       " (1936, TimelineEvent(id=1286383331)),\n",
       " (1935, TimelineEvent(id=None)),\n",
       " (1935, TimelineEvent(id=7616941370)),\n",
       " (1935, TimelineEvent(id=7616941395)),\n",
       " (1935, TimelineEvent(id=7616941401)),\n",
       " (1935, TimelineEvent(id=7616941433)),\n",
       " (1935, TimelineEvent(id=1283326867)),\n",
       " (1935, TimelineEvent(id=1283327070)),\n",
       " (1934, TimelineEvent(id=None)),\n",
       " (1934, TimelineEvent(id=None)),\n",
       " (1934, TimelineEvent(id=7608923170)),\n",
       " (1934, TimelineEvent(id=7608923231)),\n",
       " (1934, TimelineEvent(id=7608923240)),\n",
       " (1934, TimelineEvent(id=1282019224)),\n",
       " (1933, TimelineEvent(id=None)),\n",
       " (1933, TimelineEvent(id=7597603602)),\n",
       " (1933, TimelineEvent(id=7597603615)),\n",
       " (1933, TimelineEvent(id=7597603617)),\n",
       " (1933, TimelineEvent(id=7597603644)),\n",
       " (1933, TimelineEvent(id=1280197707)),\n",
       " (1933, TimelineEvent(id=1280197851)),\n",
       " (1932, TimelineEvent(id=None)),\n",
       " (1932, TimelineEvent(id=1278269469)),\n",
       " (1932, TimelineEvent(id=7588378196)),\n",
       " (1932, TimelineEvent(id=7588378262)),\n",
       " (1932, TimelineEvent(id=7588378283)),\n",
       " (1932, TimelineEvent(id=7588378289)),\n",
       " (1932, TimelineEvent(id=7589995058)),\n",
       " (1932, TimelineEvent(id=1142395913)),\n",
       " (1932, TimelineEvent(id=None)),\n",
       " (1932, TimelineEvent(id=1142398414)),\n",
       " (1932, TimelineEvent(id=1142399256)),\n",
       " (1932, TimelineEvent(id=None)),\n",
       " (1932, TimelineEvent(id=1142407865)),\n",
       " (1932, TimelineEvent(id=None)),\n",
       " (1932, TimelineEvent(id=7590293718)),\n",
       " (1932, TimelineEvent(id=1279702849)),\n",
       " (1932, TimelineEvent(id=7594699212)),\n",
       " (1932, TimelineEvent(id=7594699214)),\n",
       " (1932, TimelineEvent(id=7594699229)),\n",
       " (1931, TimelineEvent(id=None)),\n",
       " (1931, TimelineEvent(id=7567582896)),\n",
       " (1931, TimelineEvent(id=7567582909)),\n",
       " (1931, TimelineEvent(id=7567582911)),\n",
       " (1931, TimelineEvent(id=7567582935)),\n",
       " (1931, TimelineEvent(id=1275510962)),\n",
       " (1931, TimelineEvent(id=1275511084)),\n",
       " (1931, TimelineEvent(id=1141095209)),\n",
       " (1931, TimelineEvent(id=7589538159)),\n",
       " (1931, TimelineEvent(id=7589538170)),\n",
       " (1931, TimelineEvent(id=7589538247)),\n",
       " (1930, TimelineEvent(id=None)),\n",
       " (1930, TimelineEvent(id=None)),\n",
       " (1930, TimelineEvent(id=None)),\n",
       " (1930, TimelineEvent(id=None)),\n",
       " (1930, TimelineEvent(id=None)),\n",
       " (1930, TimelineEvent(id=None)),\n",
       " (1930, TimelineEvent(id=None)),\n",
       " (1930, TimelineEvent(id=7553826423)),\n",
       " (1930, TimelineEvent(id=7553826495)),\n",
       " (1930, TimelineEvent(id=7553826500)),\n",
       " (1930, TimelineEvent(id=7553826530)),\n",
       " (1930, TimelineEvent(id=7553826536)),\n",
       " (1930, TimelineEvent(id=None)),\n",
       " (1930, TimelineEvent(id=7553837920)),\n",
       " (1930, TimelineEvent(id=1135978044)),\n",
       " (1930, TimelineEvent(id=7554038532)),\n",
       " (1930, TimelineEvent(id=1136014133)),\n",
       " (1930, TimelineEvent(id=1273314075)),\n",
       " (1930, TimelineEvent(id=1273314430)),\n",
       " (1930, TimelineEvent(id=7554142348)),\n",
       " (1930, TimelineEvent(id=7554142411))]"
      ]
     },
     "execution_count": 120,
     "metadata": {},
     "output_type": "execute_result"
    }
   ],
   "source": [
    "events = []\n",
    "for issue in issues_raw:\n",
    "    if issue.created_at >= datetime(2022, 1, 1):\n",
    "        events.extend(map(lambda event: (issue.number, event), issue.get_timeline()))\n",
    "events[0:100]"
   ]
  },
  {
   "cell_type": "code",
   "execution_count": 192,
   "id": "546616c2-6e0a-4b4b-a476-55c45802243b",
   "metadata": {},
   "outputs": [
    {
     "data": {
      "text/plain": [
       "<map at 0x7fa9928bc400>"
      ]
     },
     "execution_count": 192,
     "metadata": {},
     "output_type": "execute_result"
    }
   ],
   "source": [
    "create_events = map(lambda issue: ({'issue': issue.number, 'time': issue.created_at, 'event': 'created'}),filter(lambda issue: issue.created_at >= datetime(2022, 1, 1), issues_raw))\n",
    "create_events"
   ]
  },
  {
   "cell_type": "code",
   "execution_count": 193,
   "id": "14b51165-f01a-4b8d-99c8-22c272a9c85e",
   "metadata": {},
   "outputs": [
    {
     "data": {
      "text/html": [
       "<div>\n",
       "<style scoped>\n",
       "    .dataframe tbody tr th:only-of-type {\n",
       "        vertical-align: middle;\n",
       "    }\n",
       "\n",
       "    .dataframe tbody tr th {\n",
       "        vertical-align: top;\n",
       "    }\n",
       "\n",
       "    .dataframe thead th {\n",
       "        text-align: right;\n",
       "    }\n",
       "</style>\n",
       "<table border=\"1\" class=\"dataframe\">\n",
       "  <thead>\n",
       "    <tr style=\"text-align: right;\">\n",
       "      <th></th>\n",
       "      <th>issue</th>\n",
       "      <th>time</th>\n",
       "      <th>event</th>\n",
       "    </tr>\n",
       "  </thead>\n",
       "  <tbody>\n",
       "    <tr>\n",
       "      <th>0</th>\n",
       "      <td>1939</td>\n",
       "      <td>NaT</td>\n",
       "      <td>committed</td>\n",
       "    </tr>\n",
       "    <tr>\n",
       "      <th>1</th>\n",
       "      <td>1939</td>\n",
       "      <td>2022-10-24 02:04:43</td>\n",
       "      <td>review_requested</td>\n",
       "    </tr>\n",
       "    <tr>\n",
       "      <th>2</th>\n",
       "      <td>1939</td>\n",
       "      <td>2022-10-24 02:04:43</td>\n",
       "      <td>review_requested</td>\n",
       "    </tr>\n",
       "    <tr>\n",
       "      <th>3</th>\n",
       "      <td>1939</td>\n",
       "      <td>2022-10-24 02:04:43</td>\n",
       "      <td>review_requested</td>\n",
       "    </tr>\n",
       "    <tr>\n",
       "      <th>4</th>\n",
       "      <td>1939</td>\n",
       "      <td>2022-10-24 02:04:43</td>\n",
       "      <td>labeled</td>\n",
       "    </tr>\n",
       "    <tr>\n",
       "      <th>...</th>\n",
       "      <td>...</td>\n",
       "      <td>...</td>\n",
       "      <td>...</td>\n",
       "    </tr>\n",
       "    <tr>\n",
       "      <th>260</th>\n",
       "      <td>1679</td>\n",
       "      <td>2022-01-04 14:37:14</td>\n",
       "      <td>created</td>\n",
       "    </tr>\n",
       "    <tr>\n",
       "      <th>261</th>\n",
       "      <td>1678</td>\n",
       "      <td>2022-01-04 13:22:42</td>\n",
       "      <td>created</td>\n",
       "    </tr>\n",
       "    <tr>\n",
       "      <th>262</th>\n",
       "      <td>1677</td>\n",
       "      <td>2022-01-04 12:06:23</td>\n",
       "      <td>created</td>\n",
       "    </tr>\n",
       "    <tr>\n",
       "      <th>263</th>\n",
       "      <td>1676</td>\n",
       "      <td>2022-01-03 11:22:00</td>\n",
       "      <td>created</td>\n",
       "    </tr>\n",
       "    <tr>\n",
       "      <th>264</th>\n",
       "      <td>1675</td>\n",
       "      <td>2022-01-03 10:11:28</td>\n",
       "      <td>created</td>\n",
       "    </tr>\n",
       "  </tbody>\n",
       "</table>\n",
       "<p>4353 rows × 3 columns</p>\n",
       "</div>"
      ],
      "text/plain": [
       "     issue                time             event\n",
       "0     1939                 NaT         committed\n",
       "1     1939 2022-10-24 02:04:43  review_requested\n",
       "2     1939 2022-10-24 02:04:43  review_requested\n",
       "3     1939 2022-10-24 02:04:43  review_requested\n",
       "4     1939 2022-10-24 02:04:43           labeled\n",
       "..     ...                 ...               ...\n",
       "260   1679 2022-01-04 14:37:14           created\n",
       "261   1678 2022-01-04 13:22:42           created\n",
       "262   1677 2022-01-04 12:06:23           created\n",
       "263   1676 2022-01-03 11:22:00           created\n",
       "264   1675 2022-01-03 10:11:28           created\n",
       "\n",
       "[4353 rows x 3 columns]"
      ]
     },
     "execution_count": 193,
     "metadata": {},
     "output_type": "execute_result"
    }
   ],
   "source": [
    "events_dataframe = pandas.DataFrame.from_records([[tup[0], tup[1].created_at, tup[1].event] for tup in events], columns=['issue', 'time', 'event'])\n",
    "events_dataframe = events_dataframe.append(pandas.DataFrame.from_records(create_events, columns=['issue', 'time', 'event']))\n",
    "events_dataframe"
   ]
  },
  {
   "cell_type": "code",
   "execution_count": 194,
   "id": "76f24282-61fd-48a8-ad23-43d6a9ecffd3",
   "metadata": {},
   "outputs": [
    {
     "data": {
      "text/plain": [
       "array(['assigned', 'auto_merge_disabled', 'auto_squash_enabled',\n",
       "       'base_ref_changed', 'closed', 'commented', 'committed',\n",
       "       'convert_to_draft', 'created', 'cross-referenced', 'demilestoned',\n",
       "       'head_ref_deleted', 'head_ref_force_pushed', 'head_ref_restored',\n",
       "       'labeled', 'mentioned', 'merged', 'milestoned', 'ready_for_review',\n",
       "       'referenced', 'renamed', 'review_dismissed',\n",
       "       'review_request_removed', 'review_requested', 'reviewed',\n",
       "       'subscribed'], dtype=object)"
      ]
     },
     "execution_count": 194,
     "metadata": {},
     "output_type": "execute_result"
    }
   ],
   "source": [
    "numpy.unique(events_dataframe.event)"
   ]
  },
  {
   "cell_type": "code",
   "execution_count": 195,
   "id": "0c5a92cc-72e3-433e-af2c-0c5f37acacfc",
   "metadata": {},
   "outputs": [],
   "source": [
    "event_whitelist = ['created', 'committed', 'review_requested', 'labeled', 'commented', 'cross-referenced', 'closed', 'ready_for_review', 'reviewed', 'milestoned', 'merged', 'assigned', 'referenced', 'mentioned']\n",
    "events_filtered = events_dataframe[events_dataframe.apply(lambda x: x.event in event_whitelist, axis=1)]\n",
    "palette = dict(zip(event_whitelist, seaborn.color_palette(n_colors=len(event_whitelist))))"
   ]
  },
  {
   "cell_type": "code",
   "execution_count": 196,
   "id": "b032f412-1a29-461c-9d29-c7f8ddc03176",
   "metadata": {},
   "outputs": [
    {
     "data": {
      "text/plain": [
       "<AxesSubplot:xlabel='time', ylabel='issue'>"
      ]
     },
     "execution_count": 196,
     "metadata": {},
     "output_type": "execute_result"
    },
    {
     "data": {
      "image/png": "[encoded data removed]",
      "text/plain": [
       "<Figure size 1440x720 with 1 Axes>"
      ]
     },
     "metadata": {
      "needs_background": "light"
     },
     "output_type": "display_data"
    }
   ],
   "source": [
    "pyplot.figure(figsize=(20, 10))\n",
    "seaborn.scatterplot(data=events_filtered, x='time', y='issue', hue='event', palette=palette)"
   ]
  },
  {
   "cell_type": "code",
   "execution_count": 198,
   "id": "a9f4265b-1fa1-4c93-917e-fa83ed20aa3a",
   "metadata": {},
   "outputs": [
    {
     "data": {
      "text/plain": [
       "<AxesSubplot:xlabel='time', ylabel='issue'>"
      ]
     },
     "execution_count": 198,
     "metadata": {},
     "output_type": "execute_result"
    },
    {
     "data": {
      "image/png": "[encoded data removed]",
      "text/plain": [
       "<Figure size 1440x720 with 1 Axes>"
      ]
     },
     "metadata": {
      "needs_background": "light"
     },
     "output_type": "display_data"
    }
   ],
   "source": [
    "events_focus = events_filtered[events_filtered.apply(lambda x: x.time >= datetime(2022, 4, 15) and x.time <= datetime(2022, 5, 15),  axis=1)]\n",
    "pyplot.figure(figsize=(20, 10))\n",
    "seaborn.scatterplot(data=events_focus, x='time', y='issue', hue='event', palette=palette)"
   ]
  },
  {
   "cell_type": "code",
   "execution_count": null,
   "id": "ab800e95-ba52-4b18-9546-47d1645e7180",
   "metadata": {},
   "outputs": [],
   "source": []
  }
 ],
 "metadata": {
  "kernelspec": {
   "display_name": "Python 3",
   "language": "python",
   "name": "python3"
  },
  "language_info": {
   "codemirror_mode": {
    "name": "ipython",
    "version": 3
   },
   "file_extension": ".py",
   "mimetype": "text/x-python",
   "name": "python",
   "nbconvert_exporter": "python",
   "pygments_lexer": "ipython3",
   "version": "3.6.9"
  }
 },
 "nbformat": 4,
 "nbformat_minor": 5
}
