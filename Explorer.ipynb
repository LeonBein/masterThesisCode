{
 "cells": [
  {
   "cell_type": "markdown",
   "id": "e7aed952-b574-4fa1-8e5a-94e138e57433",
   "metadata": {},
   "source": [
    "# Setup"
   ]
  },
  {
   "cell_type": "code",
   "execution_count": 1,
   "id": "53dfa6b2-aa75-4f4d-af75-ebda909c4a67",
   "metadata": {
    "tags": []
   },
   "outputs": [],
   "source": [
    "# Used to read .env files, for access tokens and other secrets or configurations\n",
    "%load_ext dotenv\n",
    "%dotenv\n",
    "import os"
   ]
  },
  {
   "cell_type": "code",
   "execution_count": 2,
   "id": "ae8c084c-3337-4d13-ab59-6f6115ddbbd7",
   "metadata": {},
   "outputs": [],
   "source": [
    "from github import Github\n",
    "import pandas\n",
    "from matplotlib import pyplot\n",
    "import numpy\n",
    "import seaborn\n",
    "\n",
    "from datetime import datetime, timedelta"
   ]
  },
  {
   "cell_type": "code",
   "execution_count": 3,
   "id": "ab24cfdd-e5e6-43b9-811f-9996b4ba8f1a",
   "metadata": {},
   "outputs": [],
   "source": [
    "# The github token is stored in a .env file next to this notebook in the form \"GITHUB_TOKEN = <your token here>\"\n",
    "github = Github(os.getenv(\"GITHUB_TOKEN\"))"
   ]
  },
  {
   "cell_type": "markdown",
   "id": "845039da-1cb7-4568-a288-dd70b09081b5",
   "metadata": {
    "tags": []
   },
   "source": [
    "# Team Constants\n",
    "\n",
    "These are things that describe how the team work and are static"
   ]
  },
  {
   "cell_type": "markdown",
   "id": "24027388-1bee-449d-9f8c-231835608177",
   "metadata": {
    "tags": []
   },
   "source": [
    "## Team Members"
   ]
  },
  {
   "cell_type": "code",
   "execution_count": 4,
   "id": "7a07b85c-800a-4fd4-a861-5ef143d2237e",
   "metadata": {},
   "outputs": [
    {
     "ename": "NameError",
     "evalue": "name 'g' is not defined",
     "output_type": "error",
     "traceback": [
      "\u001b[0;31m---------------------------------------------------------------------------\u001b[0m",
      "\u001b[0;31mNameError\u001b[0m                                 Traceback (most recent call last)",
      "\u001b[0;32m<ipython-input-4-e67144768eaa>\u001b[0m in \u001b[0;36m<module>\u001b[0;34m\u001b[0m\n\u001b[0;32m----> 1\u001b[0;31m \u001b[0msap\u001b[0m \u001b[0;34m=\u001b[0m \u001b[0mg\u001b[0m\u001b[0;34m.\u001b[0m\u001b[0mget_organization\u001b[0m\u001b[0;34m(\u001b[0m\u001b[0;34m'SAP'\u001b[0m\u001b[0;34m)\u001b[0m\u001b[0;34m\u001b[0m\u001b[0;34m\u001b[0m\u001b[0m\n\u001b[0m\u001b[1;32m      2\u001b[0m \u001b[0;32mdef\u001b[0m \u001b[0mis_company_member\u001b[0m\u001b[0;34m(\u001b[0m\u001b[0mnamed_user\u001b[0m\u001b[0;34m)\u001b[0m\u001b[0;34m:\u001b[0m\u001b[0;34m\u001b[0m\u001b[0;34m\u001b[0m\u001b[0m\n\u001b[1;32m      3\u001b[0m     \u001b[0;32mreturn\u001b[0m \u001b[0;34m(\u001b[0m\u001b[0;34m'SAP'\u001b[0m \u001b[0;32min\u001b[0m \u001b[0;34m(\u001b[0m\u001b[0mnamed_user\u001b[0m\u001b[0;34m.\u001b[0m\u001b[0mcompany\u001b[0m \u001b[0;32mor\u001b[0m \u001b[0;34m''\u001b[0m\u001b[0;34m)\u001b[0m\u001b[0;34m.\u001b[0m\u001b[0mupper\u001b[0m\u001b[0;34m(\u001b[0m\u001b[0;34m)\u001b[0m\u001b[0;34m)\u001b[0m \u001b[0;32mor\u001b[0m \u001b[0mnamed_user\u001b[0m\u001b[0;34m.\u001b[0m\u001b[0mlogin\u001b[0m\u001b[0;34m.\u001b[0m\u001b[0mupper\u001b[0m\u001b[0;34m(\u001b[0m\u001b[0;34m)\u001b[0m\u001b[0;34m.\u001b[0m\u001b[0mendswith\u001b[0m\u001b[0;34m(\u001b[0m\u001b[0;34m'SAP'\u001b[0m\u001b[0;34m)\u001b[0m \u001b[0;32mor\u001b[0m \u001b[0msap\u001b[0m\u001b[0;34m.\u001b[0m\u001b[0mhas_in_members\u001b[0m\u001b[0;34m(\u001b[0m\u001b[0mnamed_user\u001b[0m\u001b[0;34m)\u001b[0m\u001b[0;34m\u001b[0m\u001b[0;34m\u001b[0m\u001b[0m\n",
      "\u001b[0;31mNameError\u001b[0m: name 'g' is not defined"
     ]
    }
   ],
   "source": [
    "sap = g.get_organization('SAP')\n",
    "def is_company_member(named_user):\n",
    "    return ('SAP' in (named_user.company or '').upper()) or named_user.login.upper().endswith('SAP') or sap.has_in_members(named_user)"
   ]
  },
  {
   "cell_type": "code",
   "execution_count": null,
   "id": "7e0508db-099e-4d2f-97e5-16e09173e5a9",
   "metadata": {
    "tags": []
   },
   "outputs": [],
   "source": [
    "cwa = g.get_organization('corona-warn-app')\n",
    "team = list(filter(is_company_member, cwa.get_members()))\n",
    "team"
   ]
  },
  {
   "cell_type": "markdown",
   "id": "9d26489b-c365-4e23-b9f6-16b6422ab57f",
   "metadata": {},
   "source": [
    "## Sprint Management"
   ]
  },
  {
   "cell_type": "code",
   "execution_count": null,
   "id": "771ca172-fc22-4de2-948d-cd253ffcc6f3",
   "metadata": {},
   "outputs": [],
   "source": [
    "# In the following, we will assume that sprints are totally regular, starting with a fixed date.\n",
    "# The helper functions can of course be adapted to represent, e.g., changes in sprint duration or holiday breaks\n",
    "\n",
    "start_date_first_sprint = datetime(2020, 4, 27) # It's a monday, development actually started 02.05.2020\n",
    "sprint_length = timedelta(weeks=2)\n",
    "\n",
    "def date_to_sprint(date_to_convert):\n",
    "    return max(0, (date_to_convert - start_date_first_sprint) // sprint_length + 1) # Sprint \"0\" is everything before the first\n",
    "\n",
    "def sprint_to_start_date(sprint_to_convert):\n",
    "    return start_date_first_sprint + (sprint_to_convert - 1) * sprint_length"
   ]
  },
  {
   "cell_type": "markdown",
   "id": "ef78d1cb-7b36-4038-a002-de559a59cb4f",
   "metadata": {
    "tags": []
   },
   "source": [
    "## Repos"
   ]
  },
  {
   "cell_type": "code",
   "execution_count": null,
   "id": "46f6733b-4abf-47cb-8ea5-35ecb27e7062",
   "metadata": {
    "tags": []
   },
   "outputs": [],
   "source": [
    "server_repo = g.get_repo('corona-warn-app/cwa-app-android')\n",
    "# Let's assume that all developers with less than 5 commits were not active developers\n",
    "server_contributors = map(lambda stats: stats.author, filter(lambda stats: stats.total >= 5, server_repo.get_stats_contributors()))\n",
    "server_team = list(filter(is_company_member, server_contributors))\n",
    "server_team"
   ]
  },
  {
   "cell_type": "markdown",
   "id": "105146ef-8d1b-4a2c-b222-70e65c031187",
   "metadata": {
    "tags": []
   },
   "source": [
    "# Example: Issue Arrival Analysis"
   ]
  },
  {
   "cell_type": "markdown",
   "id": "6c99c5b9-818d-4d7b-ada7-fd0f14c53f28",
   "metadata": {
    "tags": []
   },
   "source": [
    "## Data Collection and Preprocessing"
   ]
  },
  {
   "cell_type": "code",
   "execution_count": null,
   "id": "b27ccf74-c884-463b-a56b-51cfc1acf321",
   "metadata": {},
   "outputs": [],
   "source": [
    "app_repo = github.get_repo('corona-warn-app/cwa-app-android')"
   ]
  },
  {
   "cell_type": "code",
   "execution_count": null,
   "id": "90f8bcc2-5354-4cd7-8fd0-401495257cbe",
   "metadata": {},
   "outputs": [],
   "source": [
    "repo = app_repo"
   ]
  },
  {
   "cell_type": "code",
   "execution_count": null,
   "id": "f3afeae5-3b99-4e4e-8f26-12c9fd5cdb94",
   "metadata": {
    "tags": []
   },
   "outputs": [],
   "source": [
    "issues_raw = repo.get_issues(state='all')\n",
    "issues_dataframe = pandas.DataFrame(issues_raw, columns=['issue'])\n",
    "issues_dataframe"
   ]
  },
  {
   "cell_type": "code",
   "execution_count": null,
   "id": "4d2905ca-8649-4193-9443-637f7031b096",
   "metadata": {
    "tags": []
   },
   "outputs": [],
   "source": [
    "issues_opened_per_sprint = issues_dataframe.groupby(by=(lambda index: date_to_sprint(issues_dataframe.loc[index].issue.created_at)))\n",
    "issues_opened_per_sprint"
   ]
  },
  {
   "cell_type": "code",
   "execution_count": null,
   "id": "e2ae9324-7e34-42ee-8578-008c5afcb532",
   "metadata": {
    "tags": []
   },
   "outputs": [],
   "source": [
    "closed_issues = issues_dataframe[issues_dataframe.apply(lambda x: x.issue.closed_at is not None, axis=1)]\n",
    "issues_closed_per_sprint = closed_issues.groupby(by=(lambda index: date_to_sprint(issues_dataframe.loc[index].issue.closed_at)))\n",
    "issues_closed_per_sprint"
   ]
  },
  {
   "cell_type": "code",
   "execution_count": null,
   "id": "e44e757a-10d3-4fd6-8cc1-630a7004c644",
   "metadata": {},
   "outputs": [],
   "source": [
    "issues = pandas.DataFrame(index=range(0, date_to_sprint(datetime.today())+1)) # The range ensures that there are rows for sprints where no issues were opened or closed\n",
    "issues.index.name = 'sprint'\n",
    "issues['opened'] = issues_opened_per_sprint.count().astype('Int64')\n",
    "issues['closed'] = issues_closed_per_sprint.count().astype('Int64')\n",
    "issues = issues.fillna(0) # Replace NaN values from outer join with zero\n",
    "issues['open_at_start'] = (issues.opened - issues.closed).cumsum().shift(fill_value=0) # Issues open at start of each sprint = sum of issues opened - closed beforea\n",
    "issues"
   ]
  },
  {
   "cell_type": "markdown",
   "id": "11ad2a3d-f7c9-4fe0-9a84-2d1ec1efe329",
   "metadata": {
    "tags": []
   },
   "source": [
    "## Analyze"
   ]
  },
  {
   "cell_type": "code",
   "execution_count": null,
   "id": "1e326281-b669-4600-b082-7535646f45a0",
   "metadata": {},
   "outputs": [],
   "source": [
    "start_sprint = date_to_sprint(datetime(2022, 1, 1)) # Using date here to be able to explore sprint length\n",
    "end_sprint = date_to_sprint(datetime(2022, 10, 1))"
   ]
  },
  {
   "cell_type": "code",
   "execution_count": null,
   "id": "f7b0db7d-596a-473c-9ed4-d955fb36e076",
   "metadata": {},
   "outputs": [],
   "source": [
    "issues_focus = issues[(issues.index >= start_sprint) & (issues.index <= end_sprint)]\n",
    "issues_focus"
   ]
  },
  {
   "cell_type": "code",
   "execution_count": null,
   "id": "1ac4c4a6-e3a7-456f-a26e-37944e66c3cc",
   "metadata": {},
   "outputs": [],
   "source": [
    "figure, axes = pyplot.subplots()\n",
    "pyplot.bar(issues_focus.index-0.2, issues_focus['opened'], width=0.4)\n",
    "pyplot.bar(issues_focus.index+0.2, issues_focus['closed'], width=0.4)\n",
    "axes.set_xlabel(\"Sprint\")\n",
    "axes.set_ylabel(\"No. Issues\")\n",
    "axes.set_xticks(issues_focus.index)\n",
    "axes.legend(['opened', 'closed'])\n",
    "print() # silence output from command before"
   ]
  },
  {
   "cell_type": "code",
   "execution_count": null,
   "id": "236999d2-a87d-4157-bb32-cab031db5158",
   "metadata": {},
   "outputs": [],
   "source": [
    "figure, axes = pyplot.subplots()\n",
    "pyplot.bar(issues_focus.index-0.2, issues_focus['opened'], width=0.4)\n",
    "pyplot.bar(issues_focus.index+0.2, -issues_focus['closed'], bottom=issues_focus['opened'], width=0.4)\n",
    "axes.set_xlabel(\"Sprint\")\n",
    "axes.set_ylabel(\"No. Issues\")\n",
    "axes.set_xticks(issues_focus.index)\n",
    "axes.legend(['opened', 'closed'])\n",
    "print() # silence output from command before"
   ]
  },
  {
   "cell_type": "code",
   "execution_count": null,
   "id": "f8fb879b-2381-4c44-8595-59a4eb568c82",
   "metadata": {},
   "outputs": [],
   "source": [
    "figure, axes = pyplot.subplots()\n",
    "pyplot.bar(issues_focus.index, issues_focus['open_at_start'])\n",
    "axes.set_xlabel(\"Sprint\")\n",
    "axes.set_ylabel(\"No. Issues\")\n",
    "axes.set_xticks(issues_focus.index)\n",
    "axes.legend(['open_at_start'])\n",
    "print() # silence output from command before"
   ]
  },
  {
   "cell_type": "code",
   "execution_count": null,
   "id": "341158bf-c839-4d16-a3ba-fc1ee795cc01",
   "metadata": {
    "tags": []
   },
   "outputs": [],
   "source": [
    "for sprint in range(55, 64+1):\n",
    "    open = issues_dataframe[issues_dataframe.apply(lambda x: date_to_sprint(x.issue.created_at) < sprint and ((x.issue.closed_at is None) or (date_to_sprint(x.issue.closed_at) >= sprint)), axis=1)]\n",
    "    open = open.apply(lambda x: [x.issue.number, x.issue.title], axis=1)\n",
    "    print('Sprint: '+str(sprint)+': ')\n",
    "    print(open.values)"
   ]
  },
  {
   "cell_type": "code",
   "execution_count": null,
   "id": "d084e448-7cfd-463b-92c3-80ccfe7dc6e3",
   "metadata": {},
   "outputs": [],
   "source": [
    "figure, axes = pyplot.subplots()\n",
    "pyplot.bar(issues_focus.index, issues_focus['opened'])\n",
    "pyplot.bar(issues_focus.index, issues_focus['closed'], bottom=issues_focus['opened'])\n",
    "axes.set_xticks(issues_focus.index)\n",
    "axes.legend(['opened', 'closed'])\n",
    "print() # silence output from command before"
   ]
  },
  {
   "cell_type": "markdown",
   "id": "c9d690b9-4bf8-4028-b17e-232cd68490b6",
   "metadata": {
    "tags": []
   },
   "source": [
    "# Experiment Zone"
   ]
  },
  {
   "cell_type": "code",
   "execution_count": null,
   "id": "0d3320d9-c044-4f77-a2f5-07282803ceb9",
   "metadata": {},
   "outputs": [],
   "source": [
    "list(map(lambda x: [x.event, x.label], server_repo.get_issue(1).get_events()))"
   ]
  },
  {
   "cell_type": "code",
   "execution_count": null,
   "id": "2769a241-a772-48c2-8b3f-79044a8c83f8",
   "metadata": {},
   "outputs": [],
   "source": [
    "events = list(server_repo.get_issue(1).get_timeline())\n",
    "events"
   ]
  },
  {
   "cell_type": "code",
   "execution_count": null,
   "id": "f5f10d27-682a-4142-bb42-b328e207e880",
   "metadata": {},
   "outputs": [],
   "source": [
    "list(map(lambda x: [x.event, x.source, x.node_id], events))"
   ]
  },
  {
   "cell_type": "code",
   "execution_count": null,
   "id": "8672927a-a0bc-4494-bfc6-d925a14c117d",
   "metadata": {},
   "outputs": [],
   "source": [
    "figure, axes = pyplot.subplots()\n",
    "c = ['a', 'b', 'a']\n",
    "colors = numpy.linspace(0, 1, len(numpy.unique(c)))\n",
    "colordict = dict(zip(c, colors))  \n",
    "color_col = list(map(lambda x: colordict[x], c))\n",
    "axes.scatter([1, 2, 3], [1, 2, 3], c=color_col)"
   ]
  },
  {
   "cell_type": "code",
   "execution_count": null,
   "id": "bc279039-cc43-4d16-8a32-112a815bc2c5",
   "metadata": {
    "tags": []
   },
   "outputs": [],
   "source": [
    "events = []\n",
    "for issue in issues_raw:\n",
    "    if issue.created_at >= datetime(2022, 1, 1):\n",
    "        events.extend(map(lambda event: (issue.number, event), issue.get_timeline()))\n",
    "events[0:100]"
   ]
  },
  {
   "cell_type": "code",
   "execution_count": null,
   "id": "546616c2-6e0a-4b4b-a476-55c45802243b",
   "metadata": {},
   "outputs": [],
   "source": [
    "create_events = map(lambda issue: ({'issue': issue.number, 'time': issue.created_at, 'event': 'created'}),filter(lambda issue: issue.created_at >= datetime(2022, 1, 1), issues_raw))\n",
    "create_events"
   ]
  },
  {
   "cell_type": "code",
   "execution_count": null,
   "id": "14b51165-f01a-4b8d-99c8-22c272a9c85e",
   "metadata": {},
   "outputs": [],
   "source": [
    "events_dataframe = pandas.DataFrame.from_records([[tup[0], tup[1].created_at, tup[1].event] for tup in events], columns=['issue', 'time', 'event'])\n",
    "events_dataframe = events_dataframe.append(pandas.DataFrame.from_records(create_events, columns=['issue', 'time', 'event']))\n",
    "events_dataframe"
   ]
  },
  {
   "cell_type": "code",
   "execution_count": null,
   "id": "76f24282-61fd-48a8-ad23-43d6a9ecffd3",
   "metadata": {},
   "outputs": [],
   "source": [
    "numpy.unique(events_dataframe.event)"
   ]
  },
  {
   "cell_type": "code",
   "execution_count": null,
   "id": "0c5a92cc-72e3-433e-af2c-0c5f37acacfc",
   "metadata": {},
   "outputs": [],
   "source": [
    "event_whitelist = ['created', 'committed', 'review_requested', 'labeled', 'commented', 'cross-referenced', 'closed', 'ready_for_review', 'reviewed', 'milestoned', 'merged', 'assigned', 'referenced', 'mentioned']\n",
    "events_filtered = events_dataframe[events_dataframe.apply(lambda x: x.event in event_whitelist, axis=1)]\n",
    "palette = dict(zip(event_whitelist, seaborn.color_palette(n_colors=len(event_whitelist))))"
   ]
  },
  {
   "cell_type": "code",
   "execution_count": null,
   "id": "b032f412-1a29-461c-9d29-c7f8ddc03176",
   "metadata": {},
   "outputs": [],
   "source": [
    "pyplot.figure(figsize=(20, 10))\n",
    "seaborn.scatterplot(data=events_filtered, x='time', y='issue', hue='event', palette=palette)"
   ]
  },
  {
   "cell_type": "code",
   "execution_count": null,
   "id": "a9f4265b-1fa1-4c93-917e-fa83ed20aa3a",
   "metadata": {},
   "outputs": [],
   "source": [
    "events_focus = events_filtered[events_filtered.apply(lambda x: x.time >= datetime(2022, 4, 15) and x.time <= datetime(2022, 5, 15),  axis=1)]\n",
    "pyplot.figure(figsize=(20, 10))\n",
    "seaborn.scatterplot(data=events_focus, x='time', y='issue', hue='event', palette=palette)"
   ]
  },
  {
   "cell_type": "code",
   "execution_count": null,
   "id": "ab800e95-ba52-4b18-9546-47d1645e7180",
   "metadata": {},
   "outputs": [],
   "source": []
  }
 ],
 "metadata": {
  "kernelspec": {
   "display_name": "Python 3",
   "language": "python",
   "name": "python3"
  },
  "language_info": {
   "codemirror_mode": {
    "name": "ipython",
    "version": 3
   },
   "file_extension": ".py",
   "mimetype": "text/x-python",
   "name": "python",
   "nbconvert_exporter": "python",
   "pygments_lexer": "ipython3",
   "version": "3.6.9"
  }
 },
 "nbformat": 4,
 "nbformat_minor": 5
}
