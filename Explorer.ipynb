{
 "cells": [
  {
   "cell_type": "markdown",
   "id": "e7aed952-b574-4fa1-8e5a-94e138e57433",
   "metadata": {},
   "source": [
    "# Setup"
   ]
  },
  {
   "cell_type": "code",
   "execution_count": 1,
   "id": "53dfa6b2-aa75-4f4d-af75-ebda909c4a67",
   "metadata": {
    "tags": []
   },
   "outputs": [],
   "source": [
    "# Used to read .env files, for access tokens and other secrets or configurations\n",
    "%load_ext dotenv\n",
    "%dotenv\n",
    "import os"
   ]
  },
  {
   "cell_type": "code",
   "execution_count": 2,
   "id": "ae8c084c-3337-4d13-ab59-6f6115ddbbd7",
   "metadata": {},
   "outputs": [],
   "source": [
    "from github import Github\n",
    "import pandas\n",
    "from matplotlib import pyplot\n",
    "import numpy\n",
    "import seaborn\n",
    "\n",
    "from datetime import datetime, timedelta"
   ]
  },
  {
   "cell_type": "code",
   "execution_count": 3,
   "id": "ab24cfdd-e5e6-43b9-811f-9996b4ba8f1a",
   "metadata": {},
   "outputs": [],
   "source": [
    "# The github token is stored in a .env file next to this notebook in the form \"GITHUB_TOKEN = <your token here>\"\n",
    "github = Github(os.getenv(\"GITHUB_TOKEN\"))"
   ]
  },
  {
   "cell_type": "markdown",
   "id": "845039da-1cb7-4568-a288-dd70b09081b5",
   "metadata": {
    "tags": []
   },
   "source": [
    "# Team Constants\n",
    "\n",
    "These are things that describe how the team work and are static"
   ]
  },
  {
   "cell_type": "markdown",
   "id": "24027388-1bee-449d-9f8c-231835608177",
   "metadata": {
    "tags": []
   },
   "source": [
    "## Team Members"
   ]
  },
  {
   "cell_type": "code",
   "execution_count": 4,
   "id": "7a07b85c-800a-4fd4-a861-5ef143d2237e",
   "metadata": {},
   "outputs": [],
   "source": [
    "sap = github.get_organization('SAP')\n",
    "def is_company_member(named_user):\n",
    "    return ('SAP' in (named_user.company or '').upper()) or named_user.login.upper().endswith('SAP') or sap.has_in_members(named_user)"
   ]
  },
  {
   "cell_type": "code",
   "execution_count": 5,
   "id": "7e0508db-099e-4d2f-97e5-16e09173e5a9",
   "metadata": {
    "tags": []
   },
   "outputs": [
    {
     "data": {
      "text/plain": [
       "[NamedUser(login=\"AdnanZiSAP\"),\n",
       " NamedUser(login=\"christian-kirschnick\"),\n",
       " NamedUser(login=\"christianneu\"),\n",
       " NamedUser(login=\"EvgeniiSkrebtcov\"),\n",
       " NamedUser(login=\"haosap\"),\n",
       " NamedUser(login=\"hilmarf\"),\n",
       " NamedUser(login=\"inf2381\"),\n",
       " NamedUser(login=\"johanneseschrig\"),\n",
       " NamedUser(login=\"johannesrohwer\"),\n",
       " NamedUser(login=\"MalteJ\"),\n",
       " NamedUser(login=\"marcauberer\"),\n",
       " NamedUser(login=\"Marco2907\"),\n",
       " NamedUser(login=\"mibrasap\"),\n",
       " NamedUser(login=\"michael-burwig\"),\n",
       " NamedUser(login=\"mlenkeit\"),\n",
       " NamedUser(login=\"PetrusVanHeaven\"),\n",
       " NamedUser(login=\"pithumke\"),\n",
       " NamedUser(login=\"SebastianWolf-SAP\"),\n",
       " NamedUser(login=\"steins-code\"),\n",
       " NamedUser(login=\"T-Bendrath\"),\n",
       " NamedUser(login=\"tkowark\")]"
      ]
     },
     "execution_count": 5,
     "metadata": {},
     "output_type": "execute_result"
    }
   ],
   "source": [
    "cwa = github.get_organization('corona-warn-app')\n",
    "team = list(filter(is_company_member, cwa.get_members()))\n",
    "team"
   ]
  },
  {
   "cell_type": "markdown",
   "id": "9d26489b-c365-4e23-b9f6-16b6422ab57f",
   "metadata": {},
   "source": [
    "## Sprint Management"
   ]
  },
  {
   "cell_type": "code",
   "execution_count": 6,
   "id": "771ca172-fc22-4de2-948d-cd253ffcc6f3",
   "metadata": {},
   "outputs": [],
   "source": [
    "# In the following, we will assume that sprints are totally regular, starting with a fixed date.\n",
    "# The helper functions can of course be adapted to represent, e.g., changes in sprint duration or holiday breaks\n",
    "\n",
    "start_date_first_sprint = datetime(2020, 4, 27) # It's a monday, development actually started 02.05.2020\n",
    "sprint_length = timedelta(weeks=2)\n",
    "\n",
    "def date_to_sprint(date_to_convert):\n",
    "    return max(0, (date_to_convert - start_date_first_sprint) // sprint_length + 1) # Sprint \"0\" is everything before the first\n",
    "\n",
    "def sprint_to_start_date(sprint_to_convert):\n",
    "    return (start_date_first_sprint + (sprint_to_convert - 1) * sprint_length)\n",
    "\n",
    "def date_to_sprint_start(date_to_convert):\n",
    "    return sprint_to_start_date(date_to_sprint(date_to_convert))"
   ]
  },
  {
   "cell_type": "markdown",
   "id": "ef78d1cb-7b36-4038-a002-de559a59cb4f",
   "metadata": {
    "tags": []
   },
   "source": [
    "## Repos"
   ]
  },
  {
   "cell_type": "code",
   "execution_count": 7,
   "id": "46f6733b-4abf-47cb-8ea5-35ecb27e7062",
   "metadata": {
    "tags": []
   },
   "outputs": [
    {
     "data": {
      "text/plain": [
       "[NamedUser(login=\"ChristopherSchmitz\"),\n",
       " NamedUser(login=\"SabineLoss\"),\n",
       " NamedUser(login=\"apopovsap\"),\n",
       " NamedUser(login=\"mlenkeit\"),\n",
       " NamedUser(login=\"tkowark\"),\n",
       " NamedUser(login=\"CV113\"),\n",
       " NamedUser(login=\"oemerb\"),\n",
       " NamedUser(login=\"kaddaSz\"),\n",
       " NamedUser(login=\"HeeTattSap\"),\n",
       " NamedUser(login=\"marcmuschko\"),\n",
       " NamedUser(login=\"NataliaLemmerth\"),\n",
       " NamedUser(login=\"KathrinLuecke\"),\n",
       " NamedUser(login=\"pwoessner\"),\n",
       " NamedUser(login=\"kolyaopahle\"),\n",
       " NamedUser(login=\"axelherbstreith\"),\n",
       " NamedUser(login=\"jakobmoellersap\"),\n",
       " NamedUser(login=\"marcauberer\"),\n",
       " NamedUser(login=\"SamuraiKek\"),\n",
       " NamedUser(login=\"harambasicluka\"),\n",
       " NamedUser(login=\"mtwalli\")]"
      ]
     },
     "execution_count": 7,
     "metadata": {},
     "output_type": "execute_result"
    }
   ],
   "source": [
    "server_repo = github.get_repo('corona-warn-app/cwa-app-android')\n",
    "# Let's assume that all developers with less than 5 commits were not active developers\n",
    "server_contributors = map(lambda stats: stats.author, filter(lambda stats: stats.total >= 5, server_repo.get_stats_contributors()))\n",
    "server_team = list(filter(is_company_member, server_contributors))\n",
    "server_team"
   ]
  },
  {
   "cell_type": "markdown",
   "id": "105146ef-8d1b-4a2c-b222-70e65c031187",
   "metadata": {
    "tags": []
   },
   "source": [
    "# Example: Issue Arrival Analysis"
   ]
  },
  {
   "cell_type": "markdown",
   "id": "6c99c5b9-818d-4d7b-ada7-fd0f14c53f28",
   "metadata": {
    "tags": []
   },
   "source": [
    "## Data Collection and Preprocessing"
   ]
  },
  {
   "cell_type": "code",
   "execution_count": 8,
   "id": "b27ccf74-c884-463b-a56b-51cfc1acf321",
   "metadata": {},
   "outputs": [],
   "source": [
    "app_repo = github.get_repo('corona-warn-app/cwa-app-android')"
   ]
  },
  {
   "cell_type": "code",
   "execution_count": 9,
   "id": "90f8bcc2-5354-4cd7-8fd0-401495257cbe",
   "metadata": {},
   "outputs": [],
   "source": [
    "repo = app_repo"
   ]
  },
  {
   "cell_type": "code",
   "execution_count": 11,
   "id": "f3afeae5-3b99-4e4e-8f26-12c9fd5cdb94",
   "metadata": {
    "tags": []
   },
   "outputs": [
    {
     "name": "stdout",
     "output_type": "stream",
     "text": [
      "CPU times: user 2 µs, sys: 1 µs, total: 3 µs\n",
      "Wall time: 5.25 µs\n"
     ]
    },
    {
     "data": {
      "text/html": [
       "<div>\n",
       "<style scoped>\n",
       "    .dataframe tbody tr th:only-of-type {\n",
       "        vertical-align: middle;\n",
       "    }\n",
       "\n",
       "    .dataframe tbody tr th {\n",
       "        vertical-align: top;\n",
       "    }\n",
       "\n",
       "    .dataframe thead th {\n",
       "        text-align: right;\n",
       "    }\n",
       "</style>\n",
       "<table border=\"1\" class=\"dataframe\">\n",
       "  <thead>\n",
       "    <tr style=\"text-align: right;\">\n",
       "      <th></th>\n",
       "      <th>issue</th>\n",
       "    </tr>\n",
       "  </thead>\n",
       "  <tbody>\n",
       "    <tr>\n",
       "      <th>0</th>\n",
       "      <td>Issue(title=\"Maintain badge status (EXPOSUREAP...</td>\n",
       "    </tr>\n",
       "    <tr>\n",
       "      <th>1</th>\n",
       "      <td>Issue(title=\"Use UTC in date conversion (EXPOS...</td>\n",
       "    </tr>\n",
       "    <tr>\n",
       "      <th>2</th>\n",
       "      <td>Issue(title=\"Remove space below illustration (...</td>\n",
       "    </tr>\n",
       "    <tr>\n",
       "      <th>3</th>\n",
       "      <td>Issue(title=\"Symptoms screens tests (EXPOSUREA...</td>\n",
       "    </tr>\n",
       "    <tr>\n",
       "      <th>4</th>\n",
       "      <td>Issue(title=\"Fix: Screenshots (EXPOSUREAPP-143...</td>\n",
       "    </tr>\n",
       "    <tr>\n",
       "      <th>...</th>\n",
       "      <td>...</td>\n",
       "    </tr>\n",
       "    <tr>\n",
       "      <th>5572</th>\n",
       "      <td>Issue(title=\"[BSI][05_23_cwa-app-android-maste...</td>\n",
       "    </tr>\n",
       "    <tr>\n",
       "      <th>5573</th>\n",
       "      <td>Issue(title=\"[BSI][05_23_cwa-app-android-maste...</td>\n",
       "    </tr>\n",
       "    <tr>\n",
       "      <th>5574</th>\n",
       "      <td>Issue(title=\"[BSI][05_23_cwa-app-android-maste...</td>\n",
       "    </tr>\n",
       "    <tr>\n",
       "      <th>5575</th>\n",
       "      <td>Issue(title=\"[BSI][05_23_cwa-app-android-maste...</td>\n",
       "    </tr>\n",
       "    <tr>\n",
       "      <th>5576</th>\n",
       "      <td>Issue(title=\"[SECURITY] The application implem...</td>\n",
       "    </tr>\n",
       "  </tbody>\n",
       "</table>\n",
       "<p>5577 rows × 1 columns</p>\n",
       "</div>"
      ],
      "text/plain": [
       "                                                  issue\n",
       "0     Issue(title=\"Maintain badge status (EXPOSUREAP...\n",
       "1     Issue(title=\"Use UTC in date conversion (EXPOS...\n",
       "2     Issue(title=\"Remove space below illustration (...\n",
       "3     Issue(title=\"Symptoms screens tests (EXPOSUREA...\n",
       "4     Issue(title=\"Fix: Screenshots (EXPOSUREAPP-143...\n",
       "...                                                 ...\n",
       "5572  Issue(title=\"[BSI][05_23_cwa-app-android-maste...\n",
       "5573  Issue(title=\"[BSI][05_23_cwa-app-android-maste...\n",
       "5574  Issue(title=\"[BSI][05_23_cwa-app-android-maste...\n",
       "5575  Issue(title=\"[BSI][05_23_cwa-app-android-maste...\n",
       "5576  Issue(title=\"[SECURITY] The application implem...\n",
       "\n",
       "[5577 rows x 1 columns]"
      ]
     },
     "execution_count": 11,
     "metadata": {},
     "output_type": "execute_result"
    }
   ],
   "source": [
    "%time\n",
    "issues_raw = repo.get_issues(state='all')\n",
    "issues_dataframe = pandas.DataFrame(issues_raw, columns=['issue'])\n",
    "issues_dataframe"
   ]
  },
  {
   "cell_type": "code",
   "execution_count": 12,
   "id": "4d2905ca-8649-4193-9443-637f7031b096",
   "metadata": {
    "tags": []
   },
   "outputs": [
    {
     "data": {
      "text/plain": [
       "<pandas.core.groupby.generic.DataFrameGroupBy object at 0x7fb4af473550>"
      ]
     },
     "execution_count": 12,
     "metadata": {},
     "output_type": "execute_result"
    }
   ],
   "source": [
    "issues_opened_per_sprint = issues_dataframe.groupby(by=(lambda index: date_to_sprint_start(issues_dataframe.loc[index].issue.created_at)))\n",
    "issues_opened_per_sprint"
   ]
  },
  {
   "cell_type": "code",
   "execution_count": 13,
   "id": "e2ae9324-7e34-42ee-8578-008c5afcb532",
   "metadata": {
    "tags": []
   },
   "outputs": [
    {
     "data": {
      "text/plain": [
       "<pandas.core.groupby.generic.DataFrameGroupBy object at 0x7fb4a5799438>"
      ]
     },
     "execution_count": 13,
     "metadata": {},
     "output_type": "execute_result"
    }
   ],
   "source": [
    "closed_issues = issues_dataframe[issues_dataframe.apply(lambda x: x.issue.closed_at is not None, axis=1)]\n",
    "issues_closed_per_sprint = closed_issues.groupby(by=(lambda index: date_to_sprint_start(issues_dataframe.loc[index].issue.closed_at)))\n",
    "issues_closed_per_sprint"
   ]
  },
  {
   "cell_type": "code",
   "execution_count": 16,
   "id": "e44e757a-10d3-4fd6-8cc1-630a7004c644",
   "metadata": {},
   "outputs": [
    {
     "data": {
      "text/html": [
       "<div>\n",
       "<style scoped>\n",
       "    .dataframe tbody tr th:only-of-type {\n",
       "        vertical-align: middle;\n",
       "    }\n",
       "\n",
       "    .dataframe tbody tr th {\n",
       "        vertical-align: top;\n",
       "    }\n",
       "\n",
       "    .dataframe thead th {\n",
       "        text-align: right;\n",
       "    }\n",
       "</style>\n",
       "<table border=\"1\" class=\"dataframe\">\n",
       "  <thead>\n",
       "    <tr style=\"text-align: right;\">\n",
       "      <th></th>\n",
       "      <th>opened</th>\n",
       "      <th>closed</th>\n",
       "      <th>open_at_start</th>\n",
       "    </tr>\n",
       "    <tr>\n",
       "      <th>sprint</th>\n",
       "      <th></th>\n",
       "      <th></th>\n",
       "      <th></th>\n",
       "    </tr>\n",
       "  </thead>\n",
       "  <tbody>\n",
       "    <tr>\n",
       "      <th>2020-04-13</th>\n",
       "      <td>0</td>\n",
       "      <td>0</td>\n",
       "      <td>0</td>\n",
       "    </tr>\n",
       "    <tr>\n",
       "      <th>2020-04-27</th>\n",
       "      <td>0</td>\n",
       "      <td>0</td>\n",
       "      <td>0</td>\n",
       "    </tr>\n",
       "    <tr>\n",
       "      <th>2020-05-11</th>\n",
       "      <td>5</td>\n",
       "      <td>0</td>\n",
       "      <td>0</td>\n",
       "    </tr>\n",
       "    <tr>\n",
       "      <th>2020-05-25</th>\n",
       "      <td>254</td>\n",
       "      <td>233</td>\n",
       "      <td>5</td>\n",
       "    </tr>\n",
       "    <tr>\n",
       "      <th>2020-06-08</th>\n",
       "      <td>415</td>\n",
       "      <td>345</td>\n",
       "      <td>26</td>\n",
       "    </tr>\n",
       "    <tr>\n",
       "      <th>...</th>\n",
       "      <td>...</td>\n",
       "      <td>...</td>\n",
       "      <td>...</td>\n",
       "    </tr>\n",
       "    <tr>\n",
       "      <th>2022-09-12</th>\n",
       "      <td>31</td>\n",
       "      <td>52</td>\n",
       "      <td>75</td>\n",
       "    </tr>\n",
       "    <tr>\n",
       "      <th>2022-09-26</th>\n",
       "      <td>41</td>\n",
       "      <td>51</td>\n",
       "      <td>54</td>\n",
       "    </tr>\n",
       "    <tr>\n",
       "      <th>2022-10-10</th>\n",
       "      <td>31</td>\n",
       "      <td>31</td>\n",
       "      <td>44</td>\n",
       "    </tr>\n",
       "    <tr>\n",
       "      <th>2022-10-24</th>\n",
       "      <td>26</td>\n",
       "      <td>28</td>\n",
       "      <td>44</td>\n",
       "    </tr>\n",
       "    <tr>\n",
       "      <th>2022-11-07</th>\n",
       "      <td>37</td>\n",
       "      <td>38</td>\n",
       "      <td>42</td>\n",
       "    </tr>\n",
       "  </tbody>\n",
       "</table>\n",
       "<p>68 rows × 3 columns</p>\n",
       "</div>"
      ],
      "text/plain": [
       "            opened  closed  open_at_start\n",
       "sprint                                   \n",
       "2020-04-13       0       0              0\n",
       "2020-04-27       0       0              0\n",
       "2020-05-11       5       0              0\n",
       "2020-05-25     254     233              5\n",
       "2020-06-08     415     345             26\n",
       "...            ...     ...            ...\n",
       "2022-09-12      31      52             75\n",
       "2022-09-26      41      51             54\n",
       "2022-10-10      31      31             44\n",
       "2022-10-24      26      28             44\n",
       "2022-11-07      37      38             42\n",
       "\n",
       "[68 rows x 3 columns]"
      ]
     },
     "execution_count": 16,
     "metadata": {},
     "output_type": "execute_result"
    }
   ],
   "source": [
    "issues = pandas.DataFrame(index=map(sprint_to_start_date, range(0, date_to_sprint(datetime.today())+1))) # The range ensures that there are rows for sprints where no issues were opened or closed\n",
    "issues.index.name = 'sprint'\n",
    "issues['opened'] = issues_opened_per_sprint.count().astype('Int64')\n",
    "issues['closed'] = issues_closed_per_sprint.count().astype('Int64')\n",
    "issues = issues.fillna(0) # Replace NaN values from outer join with zero\n",
    "issues['open_at_start'] = (issues.opened - issues.closed).cumsum().shift(fill_value=0) # Issues open at start of each sprint = sum of issues opened - closed beforea\n",
    "issues"
   ]
  },
  {
   "cell_type": "markdown",
   "id": "11ad2a3d-f7c9-4fe0-9a84-2d1ec1efe329",
   "metadata": {
    "tags": []
   },
   "source": [
    "## Analyze"
   ]
  },
  {
   "cell_type": "code",
   "execution_count": 17,
   "id": "1e326281-b669-4600-b082-7535646f45a0",
   "metadata": {},
   "outputs": [],
   "source": [
    "start_sprint = date_to_sprint_start(datetime(2022, 1, 1)) # Using date here to be able to explore sprint length\n",
    "end_sprint = date_to_sprint_start(datetime(2022, 10, 1))"
   ]
  },
  {
   "cell_type": "code",
   "execution_count": 18,
   "id": "f7b0db7d-596a-473c-9ed4-d955fb36e076",
   "metadata": {},
   "outputs": [
    {
     "data": {
      "text/html": [
       "<div>\n",
       "<style scoped>\n",
       "    .dataframe tbody tr th:only-of-type {\n",
       "        vertical-align: middle;\n",
       "    }\n",
       "\n",
       "    .dataframe tbody tr th {\n",
       "        vertical-align: top;\n",
       "    }\n",
       "\n",
       "    .dataframe thead th {\n",
       "        text-align: right;\n",
       "    }\n",
       "</style>\n",
       "<table border=\"1\" class=\"dataframe\">\n",
       "  <thead>\n",
       "    <tr style=\"text-align: right;\">\n",
       "      <th></th>\n",
       "      <th>opened</th>\n",
       "      <th>closed</th>\n",
       "      <th>open_at_start</th>\n",
       "    </tr>\n",
       "    <tr>\n",
       "      <th>sprint</th>\n",
       "      <th></th>\n",
       "      <th></th>\n",
       "      <th></th>\n",
       "    </tr>\n",
       "  </thead>\n",
       "  <tbody>\n",
       "    <tr>\n",
       "      <th>2021-12-20</th>\n",
       "      <td>48</td>\n",
       "      <td>41</td>\n",
       "      <td>119</td>\n",
       "    </tr>\n",
       "    <tr>\n",
       "      <th>2022-01-03</th>\n",
       "      <td>49</td>\n",
       "      <td>44</td>\n",
       "      <td>126</td>\n",
       "    </tr>\n",
       "    <tr>\n",
       "      <th>2022-01-17</th>\n",
       "      <td>63</td>\n",
       "      <td>51</td>\n",
       "      <td>131</td>\n",
       "    </tr>\n",
       "    <tr>\n",
       "      <th>2022-01-31</th>\n",
       "      <td>67</td>\n",
       "      <td>66</td>\n",
       "      <td>143</td>\n",
       "    </tr>\n",
       "    <tr>\n",
       "      <th>2022-02-14</th>\n",
       "      <td>45</td>\n",
       "      <td>44</td>\n",
       "      <td>144</td>\n",
       "    </tr>\n",
       "    <tr>\n",
       "      <th>2022-02-28</th>\n",
       "      <td>51</td>\n",
       "      <td>55</td>\n",
       "      <td>145</td>\n",
       "    </tr>\n",
       "    <tr>\n",
       "      <th>2022-03-14</th>\n",
       "      <td>68</td>\n",
       "      <td>75</td>\n",
       "      <td>141</td>\n",
       "    </tr>\n",
       "    <tr>\n",
       "      <th>2022-03-28</th>\n",
       "      <td>74</td>\n",
       "      <td>78</td>\n",
       "      <td>134</td>\n",
       "    </tr>\n",
       "    <tr>\n",
       "      <th>2022-04-11</th>\n",
       "      <td>41</td>\n",
       "      <td>34</td>\n",
       "      <td>130</td>\n",
       "    </tr>\n",
       "    <tr>\n",
       "      <th>2022-04-25</th>\n",
       "      <td>45</td>\n",
       "      <td>48</td>\n",
       "      <td>137</td>\n",
       "    </tr>\n",
       "    <tr>\n",
       "      <th>2022-05-09</th>\n",
       "      <td>57</td>\n",
       "      <td>57</td>\n",
       "      <td>134</td>\n",
       "    </tr>\n",
       "    <tr>\n",
       "      <th>2022-05-23</th>\n",
       "      <td>46</td>\n",
       "      <td>51</td>\n",
       "      <td>134</td>\n",
       "    </tr>\n",
       "    <tr>\n",
       "      <th>2022-06-06</th>\n",
       "      <td>26</td>\n",
       "      <td>51</td>\n",
       "      <td>129</td>\n",
       "    </tr>\n",
       "    <tr>\n",
       "      <th>2022-06-20</th>\n",
       "      <td>28</td>\n",
       "      <td>26</td>\n",
       "      <td>104</td>\n",
       "    </tr>\n",
       "    <tr>\n",
       "      <th>2022-07-04</th>\n",
       "      <td>35</td>\n",
       "      <td>35</td>\n",
       "      <td>106</td>\n",
       "    </tr>\n",
       "    <tr>\n",
       "      <th>2022-07-18</th>\n",
       "      <td>44</td>\n",
       "      <td>43</td>\n",
       "      <td>106</td>\n",
       "    </tr>\n",
       "    <tr>\n",
       "      <th>2022-08-01</th>\n",
       "      <td>60</td>\n",
       "      <td>60</td>\n",
       "      <td>107</td>\n",
       "    </tr>\n",
       "    <tr>\n",
       "      <th>2022-08-15</th>\n",
       "      <td>42</td>\n",
       "      <td>41</td>\n",
       "      <td>107</td>\n",
       "    </tr>\n",
       "    <tr>\n",
       "      <th>2022-08-29</th>\n",
       "      <td>54</td>\n",
       "      <td>87</td>\n",
       "      <td>108</td>\n",
       "    </tr>\n",
       "    <tr>\n",
       "      <th>2022-09-12</th>\n",
       "      <td>31</td>\n",
       "      <td>52</td>\n",
       "      <td>75</td>\n",
       "    </tr>\n",
       "    <tr>\n",
       "      <th>2022-09-26</th>\n",
       "      <td>41</td>\n",
       "      <td>51</td>\n",
       "      <td>54</td>\n",
       "    </tr>\n",
       "  </tbody>\n",
       "</table>\n",
       "</div>"
      ],
      "text/plain": [
       "            opened  closed  open_at_start\n",
       "sprint                                   \n",
       "2021-12-20      48      41            119\n",
       "2022-01-03      49      44            126\n",
       "2022-01-17      63      51            131\n",
       "2022-01-31      67      66            143\n",
       "2022-02-14      45      44            144\n",
       "2022-02-28      51      55            145\n",
       "2022-03-14      68      75            141\n",
       "2022-03-28      74      78            134\n",
       "2022-04-11      41      34            130\n",
       "2022-04-25      45      48            137\n",
       "2022-05-09      57      57            134\n",
       "2022-05-23      46      51            134\n",
       "2022-06-06      26      51            129\n",
       "2022-06-20      28      26            104\n",
       "2022-07-04      35      35            106\n",
       "2022-07-18      44      43            106\n",
       "2022-08-01      60      60            107\n",
       "2022-08-15      42      41            107\n",
       "2022-08-29      54      87            108\n",
       "2022-09-12      31      52             75\n",
       "2022-09-26      41      51             54"
      ]
     },
     "execution_count": 18,
     "metadata": {},
     "output_type": "execute_result"
    }
   ],
   "source": [
    "issues_focus = issues[(issues.index >= start_sprint) & (issues.index <= end_sprint)]\n",
    "issues_focus"
   ]
  },
  {
   "cell_type": "code",
   "execution_count": 20,
   "id": "1ac4c4a6-e3a7-456f-a26e-37944e66c3cc",
   "metadata": {},
   "outputs": [
    {
     "name": "stdout",
     "output_type": "stream",
     "text": [
      "\n"
     ]
    },
    {
     "data": {
      "image/png": "[encoded data removed]",
      "text/plain": [
       "<Figure size 432x288 with 1 Axes>"
      ]
     },
     "metadata": {
      "needs_background": "light"
     },
     "output_type": "display_data"
    }
   ],
   "source": [
    "figure, axes = pyplot.subplots()\n",
    "pyplot.bar(issues_focus.index-0.2*sprint_length, issues_focus['opened'], width=0.4)\n",
    "pyplot.bar(issues_focus.index+0.2*sprint_length, issues_focus['closed'], width=0.4)\n",
    "axes.set_xlabel(\"Sprint\")\n",
    "axes.set_ylabel(\"No. Issues\")\n",
    "axes.set_xticks(issues_focus.index)\n",
    "axes.legend(['opened', 'closed'])\n",
    "print() # silence output from command before"
   ]
  },
  {
   "cell_type": "code",
   "execution_count": null,
   "id": "236999d2-a87d-4157-bb32-cab031db5158",
   "metadata": {},
   "outputs": [],
   "source": [
    "figure, axes = pyplot.subplots()\n",
    "pyplot.bar(issues_focus.index-0.2, issues_focus['opened'], width=0.4)\n",
    "pyplot.bar(issues_focus.index+0.2, -issues_focus['closed'], bottom=issues_focus['opened'], width=0.4)\n",
    "axes.set_xlabel(\"Sprint\")\n",
    "axes.set_ylabel(\"No. Issues\")\n",
    "axes.set_xticks(issues_focus.index)\n",
    "axes.legend(['opened', 'closed'])\n",
    "print() # silence output from command before"
   ]
  },
  {
   "cell_type": "code",
   "execution_count": null,
   "id": "f8fb879b-2381-4c44-8595-59a4eb568c82",
   "metadata": {},
   "outputs": [],
   "source": [
    "figure, axes = pyplot.subplots()\n",
    "pyplot.bar(issues_focus.index, issues_focus['open_at_start'])\n",
    "axes.set_xlabel(\"Sprint\")\n",
    "axes.set_ylabel(\"No. Issues\")\n",
    "axes.set_xticks(issues_focus.index)\n",
    "axes.legend(['open_at_start'])\n",
    "print() # silence output from command before"
   ]
  },
  {
   "cell_type": "code",
   "execution_count": null,
   "id": "341158bf-c839-4d16-a3ba-fc1ee795cc01",
   "metadata": {
    "tags": []
   },
   "outputs": [],
   "source": [
    "for sprint in range(55, 64+1):\n",
    "    open = issues_dataframe[issues_dataframe.apply(lambda x: date_to_sprint(x.issue.created_at) < sprint and ((x.issue.closed_at is None) or (date_to_sprint(x.issue.closed_at) >= sprint)), axis=1)]\n",
    "    open = open.apply(lambda x: [x.issue.number, x.issue.title], axis=1)\n",
    "    print('Sprint: '+str(sprint)+': ')\n",
    "    print(open.values)"
   ]
  },
  {
   "cell_type": "code",
   "execution_count": null,
   "id": "d084e448-7cfd-463b-92c3-80ccfe7dc6e3",
   "metadata": {},
   "outputs": [],
   "source": [
    "figure, axes = pyplot.subplots()\n",
    "pyplot.bar(issues_focus.index, issues_focus['opened'])\n",
    "pyplot.bar(issues_focus.index, issues_focus['closed'], bottom=issues_focus['opened'])\n",
    "axes.set_xticks(issues_focus.index)\n",
    "axes.legend(['opened', 'closed'])\n",
    "print() # silence output from command before"
   ]
  },
  {
   "cell_type": "markdown",
   "id": "c9d690b9-4bf8-4028-b17e-232cd68490b6",
   "metadata": {
    "tags": []
   },
   "source": [
    "# Experiment Zone"
   ]
  },
  {
   "cell_type": "code",
   "execution_count": null,
   "id": "0d3320d9-c044-4f77-a2f5-07282803ceb9",
   "metadata": {},
   "outputs": [],
   "source": [
    "list(map(lambda x: [x.event, x.label], server_repo.get_issue(1).get_events()))"
   ]
  },
  {
   "cell_type": "code",
   "execution_count": null,
   "id": "2769a241-a772-48c2-8b3f-79044a8c83f8",
   "metadata": {},
   "outputs": [],
   "source": [
    "events = list(server_repo.get_issue(1).get_timeline())\n",
    "events"
   ]
  },
  {
   "cell_type": "code",
   "execution_count": null,
   "id": "f5f10d27-682a-4142-bb42-b328e207e880",
   "metadata": {},
   "outputs": [],
   "source": [
    "list(map(lambda x: [x.event, x.source, x.node_id], events))"
   ]
  },
  {
   "cell_type": "code",
   "execution_count": null,
   "id": "8672927a-a0bc-4494-bfc6-d925a14c117d",
   "metadata": {},
   "outputs": [],
   "source": [
    "figure, axes = pyplot.subplots()\n",
    "c = ['a', 'b', 'a']\n",
    "colors = numpy.linspace(0, 1, len(numpy.unique(c)))\n",
    "colordict = dict(zip(c, colors))  \n",
    "color_col = list(map(lambda x: colordict[x], c))\n",
    "axes.scatter([1, 2, 3], [1, 2, 3], c=color_col)"
   ]
  },
  {
   "cell_type": "code",
   "execution_count": null,
   "id": "bc279039-cc43-4d16-8a32-112a815bc2c5",
   "metadata": {
    "tags": []
   },
   "outputs": [],
   "source": [
    "events = []\n",
    "for issue in issues_raw:\n",
    "    if issue.created_at >= datetime(2022, 1, 1):\n",
    "        events.extend(map(lambda event: (issue.number, event), issue.get_timeline()))\n",
    "events[0:100]"
   ]
  },
  {
   "cell_type": "code",
   "execution_count": null,
   "id": "546616c2-6e0a-4b4b-a476-55c45802243b",
   "metadata": {},
   "outputs": [],
   "source": [
    "create_events = map(lambda issue: ({'issue': issue.number, 'time': issue.created_at, 'event': 'created'}),filter(lambda issue: issue.created_at >= datetime(2022, 1, 1), issues_raw))\n",
    "create_events"
   ]
  },
  {
   "cell_type": "code",
   "execution_count": null,
   "id": "14b51165-f01a-4b8d-99c8-22c272a9c85e",
   "metadata": {},
   "outputs": [],
   "source": [
    "events_dataframe = pandas.DataFrame.from_records([[tup[0], tup[1].created_at, tup[1].event] for tup in events], columns=['issue', 'time', 'event'])\n",
    "events_dataframe = events_dataframe.append(pandas.DataFrame.from_records(create_events, columns=['issue', 'time', 'event']))\n",
    "events_dataframe"
   ]
  },
  {
   "cell_type": "code",
   "execution_count": null,
   "id": "76f24282-61fd-48a8-ad23-43d6a9ecffd3",
   "metadata": {},
   "outputs": [],
   "source": [
    "numpy.unique(events_dataframe.event)"
   ]
  },
  {
   "cell_type": "code",
   "execution_count": null,
   "id": "0c5a92cc-72e3-433e-af2c-0c5f37acacfc",
   "metadata": {},
   "outputs": [],
   "source": [
    "event_whitelist = ['created', 'committed', 'review_requested', 'labeled', 'commented', 'cross-referenced', 'closed', 'ready_for_review', 'reviewed', 'milestoned', 'merged', 'assigned', 'referenced', 'mentioned']\n",
    "events_filtered = events_dataframe[events_dataframe.apply(lambda x: x.event in event_whitelist, axis=1)]\n",
    "palette = dict(zip(event_whitelist, seaborn.color_palette(n_colors=len(event_whitelist))))"
   ]
  },
  {
   "cell_type": "code",
   "execution_count": null,
   "id": "b032f412-1a29-461c-9d29-c7f8ddc03176",
   "metadata": {},
   "outputs": [],
   "source": [
    "pyplot.figure(figsize=(20, 10))\n",
    "seaborn.scatterplot(data=events_filtered, x='time', y='issue', hue='event', palette=palette)"
   ]
  },
  {
   "cell_type": "code",
   "execution_count": null,
   "id": "a9f4265b-1fa1-4c93-917e-fa83ed20aa3a",
   "metadata": {},
   "outputs": [],
   "source": [
    "events_focus = events_filtered[events_filtered.apply(lambda x: x.time >= datetime(2022, 4, 15) and x.time <= datetime(2022, 5, 15),  axis=1)]\n",
    "pyplot.figure(figsize=(20, 10))\n",
    "seaborn.scatterplot(data=events_focus, x='time', y='issue', hue='event', palette=palette)"
   ]
  },
  {
   "cell_type": "code",
   "execution_count": null,
   "id": "ab800e95-ba52-4b18-9546-47d1645e7180",
   "metadata": {},
   "outputs": [],
   "source": []
  }
 ],
 "metadata": {
  "kernelspec": {
   "display_name": "Python 3",
   "language": "python",
   "name": "python3"
  },
  "language_info": {
   "codemirror_mode": {
    "name": "ipython",
    "version": 3
   },
   "file_extension": ".py",
   "mimetype": "text/x-python",
   "name": "python",
   "nbconvert_exporter": "python",
   "pygments_lexer": "ipython3",
   "version": "3.6.9"
  }
 },
 "nbformat": 4,
 "nbformat_minor": 5
}
