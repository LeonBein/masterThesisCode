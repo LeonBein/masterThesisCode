{
 "cells": [
  {
   "cell_type": "code",
   "execution_count": 1,
   "id": "056af4a8-15c1-4af0-9f39-70620887eb2e",
   "metadata": {},
   "outputs": [
    {
     "data": {
      "text/plain": [
       "5"
      ]
     },
     "execution_count": 1,
     "metadata": {},
     "output_type": "execute_result"
    }
   ],
   "source": [
    "8-3"
   ]
  },
  {
   "cell_type": "markdown",
   "id": "99105967-4e60-46ca-bfd9-e9ce99b8f40f",
   "metadata": {
    "tags": []
   },
   "source": [
    "# Setup"
   ]
  },
  {
   "cell_type": "markdown",
   "id": "c440835e-a2ae-4cb7-93a9-3c0dbdd8cc7e",
   "metadata": {},
   "source": [
    "The following are standard imports, utility functions, and other environment setups"
   ]
  },
  {
   "cell_type": "markdown",
   "id": "83661772-d408-4208-8e87-12971f53da6b",
   "metadata": {},
   "source": [
    "## Imports"
   ]
  },
  {
   "cell_type": "code",
   "execution_count": 2,
   "id": "6e164bbb-c2a9-4186-a5ed-995b5ed073ff",
   "metadata": {
    "tags": []
   },
   "outputs": [],
   "source": [
    "# Used to read .env files, for access tokens and other secrets or configurations\n",
    "%load_ext dotenv\n",
    "%dotenv\n",
    "import os"
   ]
  },
  {
   "cell_type": "code",
   "execution_count": 3,
   "id": "b20f18a5-76ea-496e-b790-e37826e6b285",
   "metadata": {},
   "outputs": [],
   "source": [
    "import math\n",
    "import numpy\n",
    "from datetime import datetime, timedelta"
   ]
  },
  {
   "cell_type": "code",
   "execution_count": 4,
   "id": "e97776ba-7f0e-4cc7-9147-45e20318dd9b",
   "metadata": {},
   "outputs": [],
   "source": [
    "from github import Github\n",
    "import pandas\n",
    "from pandas import Timestamp\n",
    "from matplotlib import pyplot\n",
    "import seaborn"
   ]
  },
  {
   "cell_type": "markdown",
   "id": "3b3c91b9-7a2f-4879-9314-1fbb90eae6dd",
   "metadata": {},
   "source": [
    "## Figure style"
   ]
  },
  {
   "cell_type": "code",
   "execution_count": 5,
   "id": "6ac0df1c-dfbf-4650-b7a1-deb68701e4da",
   "metadata": {},
   "outputs": [],
   "source": [
    "seaborn.set_theme()\n",
    "seaborn.set_style('whitegrid')\n",
    "from IPython.core.pylabtools import figsize\n",
    "figsize(10, 5)"
   ]
  },
  {
   "cell_type": "markdown",
   "id": "e721ed2a-b389-4f32-bd34-566d55b228d8",
   "metadata": {},
   "source": [
    "## Utility Functions"
   ]
  },
  {
   "cell_type": "code",
   "execution_count": 6,
   "id": "531cd02e-61cb-4770-9c2a-19388c843a3b",
   "metadata": {},
   "outputs": [],
   "source": [
    "def attrgetter(attr):\n",
    "    return lambda obj: obj and getattr(obj, attr)"
   ]
  },
  {
   "cell_type": "code",
   "execution_count": 7,
   "id": "d2fb43ab-9afe-45cc-9a40-4f1c2fdc3c51",
   "metadata": {},
   "outputs": [],
   "source": [
    "# For better readability, we use statements pandas considers \"bad\"\n",
    "pandas.options.mode.chained_assignment = None"
   ]
  },
  {
   "cell_type": "markdown",
   "id": "bc866a94-43ac-469b-9932-a8f7eb7469ef",
   "metadata": {
    "tags": []
   },
   "source": [
    "---\n",
    "# Team Constants\n",
    "\n",
    "<font color='blue' size='4'>\n",
    "These are things that describe how the team work. They are static with regard to retrospectives but might evolve.\n",
    "\n",
    "The scrum master is the person responsible maintains these</font>"
   ]
  },
  {
   "cell_type": "markdown",
   "id": "bcadbc88-3eeb-4cc4-8f3d-25fa908312b9",
   "metadata": {},
   "source": [
    "## Sprint Management"
   ]
  },
  {
   "cell_type": "code",
   "execution_count": 8,
   "id": "daaf219c-6486-4eaa-b517-7fa8246a8ff6",
   "metadata": {},
   "outputs": [],
   "source": [
    "# In the following, we will assume that sprints are totally regular, starting with a fixed date.\n",
    "# The helper functions can of course be adapted to represent, e.g., changes in sprint duration or holiday breaks\n",
    "\n",
    "start_date_first_sprint = datetime(2020, 4, 27) # It's a monday, development actually started 02.05.2020\n",
    "sprint_length = timedelta(weeks=2)\n",
    "\n",
    "def date_to_sprint(date_to_convert):\n",
    "    return None if pandas.isnull(date_to_convert) else max(0, (date_to_convert - start_date_first_sprint) // sprint_length + 1) # Sprint \"0\" is everything before the first\n",
    "\n",
    "def sprint_to_start_date(sprint_to_convert):\n",
    "    return None if pandas.isnull(sprint_to_convert) else (start_date_first_sprint + (sprint_to_convert - 1) * sprint_length)\n",
    "\n",
    "def date_to_sprint_start(date_to_convert):\n",
    "    return sprint_to_start_date(date_to_sprint(date_to_convert))"
   ]
  },
  {
   "cell_type": "markdown",
   "id": "9c4b7dfe-2ee4-4d99-81f1-d4ae0e007228",
   "metadata": {
    "tags": []
   },
   "source": [
    "## Data Sources"
   ]
  },
  {
   "cell_type": "code",
   "execution_count": 9,
   "id": "3abe9b20-283c-410b-b0b6-932a909557b3",
   "metadata": {},
   "outputs": [],
   "source": [
    "# The github token is stored in a .env file next to this notebook in the form \"GITHUB_TOKEN = <your token here>\"\n",
    "github = Github(os.getenv(\"GITHUB_TOKEN\"))"
   ]
  },
  {
   "cell_type": "code",
   "execution_count": 10,
   "id": "17f934ee-05d0-4b70-bb5e-f7c03a8460f9",
   "metadata": {
    "tags": []
   },
   "outputs": [],
   "source": [
    "app_repo = github.get_repo('corona-warn-app/cwa-app-android')"
   ]
  },
  {
   "cell_type": "code",
   "execution_count": 11,
   "id": "8d3ab6d0-1c0b-46c2-a080-d0189d0b8504",
   "metadata": {},
   "outputs": [],
   "source": [
    "def is_issue(issue_or_pr): # \"Issues\" returned by GitHub API can also be Pull Requests which we want to ignore\n",
    "    return 'issues' in issue_or_pr.html_url"
   ]
  },
  {
   "cell_type": "markdown",
   "id": "8a17c45f-0a8d-425b-a5ea-abcb7762afe9",
   "metadata": {},
   "source": [
    "## Team Members"
   ]
  },
  {
   "cell_type": "markdown",
   "id": "1dc219a4-234b-44df-8722-6436c008b62c",
   "metadata": {},
   "source": [
    "Note: The list of team handles includes many more than the actual current team - because this is an open source project, there was a lot of fluctuation of personnel."
   ]
  },
  {
   "cell_type": "code",
   "execution_count": 12,
   "id": "390f171f-4181-4422-9610-527b3e36d505",
   "metadata": {},
   "outputs": [
    {
     "data": {
      "text/plain": [
       "[NamedUser(login=\"mlenkeit\"),\n",
       " NamedUser(login=\"MikeMcC399\"),\n",
       " NamedUser(login=\"ksergeevit\"),\n",
       " NamedUser(login=\"tklingbeil\"),\n",
       " NamedUser(login=\"tkowark\"),\n",
       " NamedUser(login=\"CV113\"),\n",
       " NamedUser(login=\"fynngodau\"),\n",
       " NamedUser(login=\"oemerb\"),\n",
       " NamedUser(login=\"kaddaSz\"),\n",
       " NamedUser(login=\"AndroidMedaGalaxy\"),\n",
       " NamedUser(login=\"Fabian-K\"),\n",
       " NamedUser(login=\"HeeTattSap\"),\n",
       " NamedUser(login=\"marcmuschko\"),\n",
       " NamedUser(login=\"NataliaLemmerth\"),\n",
       " NamedUser(login=\"KathrinLuecke\"),\n",
       " NamedUser(login=\"Oliver-Zimmerman\"),\n",
       " NamedUser(login=\"chris-cwa\"),\n",
       " NamedUser(login=\"pwoessner\"),\n",
       " NamedUser(login=\"janetback\"),\n",
       " NamedUser(login=\"schauersbergern\"),\n",
       " NamedUser(login=\"LukasLechnerDev\"),\n",
       " NamedUser(login=\"kolyaopahle\"),\n",
       " NamedUser(login=\"axelherbstreith\"),\n",
       " NamedUser(login=\"service-tip-git\"),\n",
       " NamedUser(login=\"AlexanderAlferov\"),\n",
       " NamedUser(login=\"jakobmoellersap\"),\n",
       " NamedUser(login=\"marcauberer\"),\n",
       " NamedUser(login=\"Corona-Warn-App-Technical-User\"),\n",
       " NamedUser(login=\"chiljamgossow\"),\n",
       " NamedUser(login=\"SamuraiKek\"),\n",
       " NamedUser(login=\"BMItr\"),\n",
       " NamedUser(login=\"jurajkusnier\"),\n",
       " NamedUser(login=\"ralfgehrer\"),\n",
       " NamedUser(login=\"d4rken\"),\n",
       " NamedUser(login=\"harambasicluka\"),\n",
       " NamedUser(login=\"mtwalli\")]"
      ]
     },
     "execution_count": 12,
     "metadata": {},
     "output_type": "execute_result"
    }
   ],
   "source": [
    "app_team = list(map(\n",
    "lambda username: github.get_user(username),\n",
    "[\n",
    " 'mlenkeit',\n",
    " 'MikeMcC399',\n",
    " 'ksergeevit',\n",
    " 'tklingbeil',\n",
    " 'tkowark',\n",
    " 'CV113',\n",
    " 'fynngodau',\n",
    " 'oemerb',\n",
    " 'kaddaSz',\n",
    " 'AndroidMedaGalaxy',\n",
    " 'Fabian-K',\n",
    " 'HeeTattSap',\n",
    " 'marcmuschko',\n",
    " 'NataliaLemmerth',\n",
    " 'KathrinLuecke',\n",
    " 'Oliver-Zimmerman',\n",
    " 'chris-cwa',\n",
    " 'pwoessner',\n",
    " 'janetback',\n",
    " 'schauersbergern',\n",
    " 'LukasLechnerDev',\n",
    " 'kolyaopahle',\n",
    " 'axelherbstreith',\n",
    " 'service-tip-git',\n",
    " 'AlexanderAlferov',\n",
    " 'jakobmoellersap',\n",
    " 'marcauberer',\n",
    " 'Corona-Warn-App-Technical-User',\n",
    " 'chiljamgossow',\n",
    " 'SamuraiKek',\n",
    " 'BMItr',\n",
    " 'jurajkusnier',\n",
    " 'ralfgehrer',\n",
    " 'd4rken',\n",
    " 'harambasicluka',\n",
    " 'mtwalli'\n",
    "]))\n",
    "app_team"
   ]
  },
  {
   "cell_type": "code",
   "execution_count": 13,
   "id": "eba94bf9-1a23-47d1-aead-592b760d7b0f",
   "metadata": {},
   "outputs": [],
   "source": [
    "today = date_to_sprint_start(datetime(day=1, month=8, year=2022)) # Normally this would of course be the real today"
   ]
  },
  {
   "cell_type": "markdown",
   "id": "b12bbeb6-bb1f-417c-99e7-72ac6b7c1cbe",
   "metadata": {
    "tags": []
   },
   "source": [
    "---\n",
    "# Retrospective Preparation"
   ]
  },
  {
   "cell_type": "markdown",
   "id": "dfb452f4-5d95-4777-bdae-e34f80689886",
   "metadata": {
    "tags": []
   },
   "source": [
    "<font color='blue' size='4'>\n",
    "The community manager has reported that community issues recently take a long time until a developer reacts \n",
    "<br>-> The retrospective facilitator (Scrum Master) has decided to bring this topic up in the next retrospective \n",
    "<br>-> The retrospective facilitator knows that work items and their arrival time are evidence for this kind of community interaction\n",
    "<br>-> To save time, they execute data collection and preparation before the retrospective"
   ]
  },
  {
   "cell_type": "markdown",
   "id": "12c266ad-b38d-4aaa-85d8-ca00400ada19",
   "metadata": {},
   "source": [
    "Let's limit the data under observation to the few months, for reasons of relevance and efficiency"
   ]
  },
  {
   "cell_type": "code",
   "execution_count": 14,
   "id": "2d15952d-5763-49b0-a98d-3d23b59345e9",
   "metadata": {
    "tags": []
   },
   "outputs": [
    {
     "data": {
      "text/plain": [
       "(datetime.datetime(2022, 8, 1, 0, 0), datetime.datetime(2021, 11, 22, 0, 0))"
      ]
     },
     "execution_count": 14,
     "metadata": {},
     "output_type": "execute_result"
    }
   ],
   "source": [
    "time_of_interest = date_to_sprint_start(today - timedelta(days=8*30))\n",
    "(today, time_of_interest)"
   ]
  },
  {
   "cell_type": "markdown",
   "id": "59e2d991-7fc7-4ab3-9af0-4ef213907f1e",
   "metadata": {
    "tags": []
   },
   "source": [
    "## Data Collection and Preprocessing"
   ]
  },
  {
   "cell_type": "code",
   "execution_count": 15,
   "id": "838d193b-73a7-424d-939a-9f8b9af71782",
   "metadata": {},
   "outputs": [],
   "source": [
    "repo = app_repo"
   ]
  },
  {
   "cell_type": "code",
   "execution_count": 16,
   "id": "e8e90fb9-9cc9-4ea4-be06-f9663d8f6089",
   "metadata": {
    "tags": []
   },
   "outputs": [
    {
     "name": "stdout",
     "output_type": "stream",
     "text": [
      "CPU times: user 3.69 s, sys: 0 ns, total: 3.69 s\n",
      "Wall time: 2min 1s\n"
     ]
    }
   ],
   "source": [
    "%%time\n",
    "issues_raw = repo.get_issues(state='all')\n",
    "issues_dataframe = pandas.DataFrame(issues_raw, columns=['issue'])"
   ]
  },
  {
   "cell_type": "code",
   "execution_count": 17,
   "id": "01ac7eab-8b2b-4412-a822-60531a4cf11e",
   "metadata": {},
   "outputs": [
    {
     "name": "stdout",
     "output_type": "stream",
     "text": [
      "CPU times: user 31 ms, sys: 0 ns, total: 31 ms\n",
      "Wall time: 76.9 ms\n"
     ]
    }
   ],
   "source": [
    "%%time\n",
    "issues_dataframe = issues_dataframe[issues_dataframe.issue.apply(is_issue)]"
   ]
  },
  {
   "cell_type": "code",
   "execution_count": 18,
   "id": "a0ee9a92-cfa5-46de-a3e6-cee10dc16a09",
   "metadata": {
    "tags": []
   },
   "outputs": [
    {
     "data": {
      "text/html": [
       "<div>\n",
       "<style scoped>\n",
       "    .dataframe tbody tr th:only-of-type {\n",
       "        vertical-align: middle;\n",
       "    }\n",
       "\n",
       "    .dataframe tbody tr th {\n",
       "        vertical-align: top;\n",
       "    }\n",
       "\n",
       "    .dataframe thead th {\n",
       "        text-align: right;\n",
       "    }\n",
       "</style>\n",
       "<table border=\"1\" class=\"dataframe\">\n",
       "  <thead>\n",
       "    <tr style=\"text-align: right;\">\n",
       "      <th></th>\n",
       "      <th>issue</th>\n",
       "      <th>issue_number</th>\n",
       "      <th>created_at</th>\n",
       "      <th>closed_at</th>\n",
       "      <th>created_sprint</th>\n",
       "      <th>closed_sprint</th>\n",
       "    </tr>\n",
       "  </thead>\n",
       "  <tbody>\n",
       "    <tr>\n",
       "      <th>397</th>\n",
       "      <td>Issue(title=\"Hinweis zur Auffrischimpfung Bena...</td>\n",
       "      <td>5400</td>\n",
       "      <td>2022-07-31 18:29:36</td>\n",
       "      <td>NaT</td>\n",
       "      <td>2022-07-18</td>\n",
       "      <td>NaN</td>\n",
       "    </tr>\n",
       "    <tr>\n",
       "      <th>400</th>\n",
       "      <td>Issue(title=\"Status update is not working on a...</td>\n",
       "      <td>5397</td>\n",
       "      <td>2022-07-28 23:57:50</td>\n",
       "      <td>NaT</td>\n",
       "      <td>2022-07-18</td>\n",
       "      <td>NaN</td>\n",
       "    </tr>\n",
       "    <tr>\n",
       "      <th>401</th>\n",
       "      <td>Issue(title=\"Support Material You themed icons...</td>\n",
       "      <td>5396</td>\n",
       "      <td>2022-07-28 20:43:32</td>\n",
       "      <td>NaT</td>\n",
       "      <td>2022-07-18</td>\n",
       "      <td>NaN</td>\n",
       "    </tr>\n",
       "    <tr>\n",
       "      <th>418</th>\n",
       "      <td>Issue(title=\"http link to RKI STIKO\", number=5...</td>\n",
       "      <td>5378</td>\n",
       "      <td>2022-07-22 17:59:14</td>\n",
       "      <td>NaT</td>\n",
       "      <td>2022-07-18</td>\n",
       "      <td>NaN</td>\n",
       "    </tr>\n",
       "    <tr>\n",
       "      <th>426</th>\n",
       "      <td>Issue(title=\"Corrupt certificate export PDF\", ...</td>\n",
       "      <td>5370</td>\n",
       "      <td>2022-07-20 15:53:23</td>\n",
       "      <td>NaT</td>\n",
       "      <td>2022-07-18</td>\n",
       "      <td>NaN</td>\n",
       "    </tr>\n",
       "    <tr>\n",
       "      <th>...</th>\n",
       "      <td>...</td>\n",
       "      <td>...</td>\n",
       "      <td>...</td>\n",
       "      <td>...</td>\n",
       "      <td>...</td>\n",
       "      <td>...</td>\n",
       "    </tr>\n",
       "    <tr>\n",
       "      <th>5647</th>\n",
       "      <td>Issue(title=\"[BSI][05_23_cwa-app-android-maste...</td>\n",
       "      <td>6</td>\n",
       "      <td>2020-05-23 13:21:21</td>\n",
       "      <td>2020-06-06 17:08:44</td>\n",
       "      <td>2020-05-11</td>\n",
       "      <td>2020-05-25</td>\n",
       "    </tr>\n",
       "    <tr>\n",
       "      <th>5648</th>\n",
       "      <td>Issue(title=\"[BSI][05_23_cwa-app-android-maste...</td>\n",
       "      <td>5</td>\n",
       "      <td>2020-05-23 13:19:07</td>\n",
       "      <td>2020-06-09 08:17:12</td>\n",
       "      <td>2020-05-11</td>\n",
       "      <td>2020-06-08</td>\n",
       "    </tr>\n",
       "    <tr>\n",
       "      <th>5649</th>\n",
       "      <td>Issue(title=\"[BSI][05_23_cwa-app-android-maste...</td>\n",
       "      <td>4</td>\n",
       "      <td>2020-05-23 13:16:41</td>\n",
       "      <td>2020-05-30 21:37:31</td>\n",
       "      <td>2020-05-11</td>\n",
       "      <td>2020-05-25</td>\n",
       "    </tr>\n",
       "    <tr>\n",
       "      <th>5650</th>\n",
       "      <td>Issue(title=\"[BSI][05_23_cwa-app-android-maste...</td>\n",
       "      <td>3</td>\n",
       "      <td>2020-05-23 13:15:31</td>\n",
       "      <td>2020-05-30 21:37:46</td>\n",
       "      <td>2020-05-11</td>\n",
       "      <td>2020-05-25</td>\n",
       "    </tr>\n",
       "    <tr>\n",
       "      <th>5651</th>\n",
       "      <td>Issue(title=\"[SECURITY] The application implem...</td>\n",
       "      <td>2</td>\n",
       "      <td>2020-05-15 14:54:29</td>\n",
       "      <td>2020-05-30 21:38:02</td>\n",
       "      <td>2020-05-11</td>\n",
       "      <td>2020-05-25</td>\n",
       "    </tr>\n",
       "  </tbody>\n",
       "</table>\n",
       "<p>1008 rows × 6 columns</p>\n",
       "</div>"
      ],
      "text/plain": [
       "                                                  issue  issue_number  \\\n",
       "397   Issue(title=\"Hinweis zur Auffrischimpfung Bena...          5400   \n",
       "400   Issue(title=\"Status update is not working on a...          5397   \n",
       "401   Issue(title=\"Support Material You themed icons...          5396   \n",
       "418   Issue(title=\"http link to RKI STIKO\", number=5...          5378   \n",
       "426   Issue(title=\"Corrupt certificate export PDF\", ...          5370   \n",
       "...                                                 ...           ...   \n",
       "5647  Issue(title=\"[BSI][05_23_cwa-app-android-maste...             6   \n",
       "5648  Issue(title=\"[BSI][05_23_cwa-app-android-maste...             5   \n",
       "5649  Issue(title=\"[BSI][05_23_cwa-app-android-maste...             4   \n",
       "5650  Issue(title=\"[BSI][05_23_cwa-app-android-maste...             3   \n",
       "5651  Issue(title=\"[SECURITY] The application implem...             2   \n",
       "\n",
       "              created_at           closed_at created_sprint closed_sprint  \n",
       "397  2022-07-31 18:29:36                 NaT     2022-07-18           NaN  \n",
       "400  2022-07-28 23:57:50                 NaT     2022-07-18           NaN  \n",
       "401  2022-07-28 20:43:32                 NaT     2022-07-18           NaN  \n",
       "418  2022-07-22 17:59:14                 NaT     2022-07-18           NaN  \n",
       "426  2022-07-20 15:53:23                 NaT     2022-07-18           NaN  \n",
       "...                  ...                 ...            ...           ...  \n",
       "5647 2020-05-23 13:21:21 2020-06-06 17:08:44     2020-05-11    2020-05-25  \n",
       "5648 2020-05-23 13:19:07 2020-06-09 08:17:12     2020-05-11    2020-06-08  \n",
       "5649 2020-05-23 13:16:41 2020-05-30 21:37:31     2020-05-11    2020-05-25  \n",
       "5650 2020-05-23 13:15:31 2020-05-30 21:37:46     2020-05-11    2020-05-25  \n",
       "5651 2020-05-15 14:54:29 2020-05-30 21:38:02     2020-05-11    2020-05-25  \n",
       "\n",
       "[1008 rows x 6 columns]"
      ]
     },
     "execution_count": 18,
     "metadata": {},
     "output_type": "execute_result"
    }
   ],
   "source": [
    "issues_dataframe['issue_number'] = issues_dataframe.issue.apply(attrgetter('number'))\n",
    "issues_dataframe['created_at'] = issues_dataframe.issue.apply(attrgetter('created_at'))\n",
    "issues_dataframe = issues_dataframe[issues_dataframe.created_at < today] # < today is used here to simulate the retro start date\n",
    "issues_dataframe['closed_at'] = issues_dataframe.issue.apply(attrgetter('closed_at'))\n",
    "issues_dataframe.closed_at[issues_dataframe.closed_at >= today] = None \n",
    "issues_dataframe['created_sprint'] = issues_dataframe.created_at.apply(lambda date: date_to_sprint_start(date).date())\n",
    "issues_dataframe['closed_sprint'] = issues_dataframe[issues_dataframe.closed_at.notnull()].closed_at.apply(lambda date: date_to_sprint_start(date).date())\n",
    "issues_dataframe"
   ]
  },
  {
   "cell_type": "code",
   "execution_count": 19,
   "id": "9c70f9f1-3001-4d41-abc9-c678d0cebeaa",
   "metadata": {},
   "outputs": [],
   "source": [
    "def is_community_issue(issue): # Issues created by the development team do not represent community interaction\n",
    "    return is_issue(issue) and not issue.user in app_team"
   ]
  },
  {
   "cell_type": "code",
   "execution_count": 20,
   "id": "7ad477d6-f077-4067-ada0-94c52231c441",
   "metadata": {},
   "outputs": [
    {
     "name": "stdout",
     "output_type": "stream",
     "text": [
      "CPU times: user 774 ms, sys: 69.2 ms, total: 843 ms\n",
      "Wall time: 43.6 s\n"
     ]
    },
    {
     "data": {
      "text/html": [
       "<div>\n",
       "<style scoped>\n",
       "    .dataframe tbody tr th:only-of-type {\n",
       "        vertical-align: middle;\n",
       "    }\n",
       "\n",
       "    .dataframe tbody tr th {\n",
       "        vertical-align: top;\n",
       "    }\n",
       "\n",
       "    .dataframe thead th {\n",
       "        text-align: right;\n",
       "    }\n",
       "</style>\n",
       "<table border=\"1\" class=\"dataframe\">\n",
       "  <thead>\n",
       "    <tr style=\"text-align: right;\">\n",
       "      <th></th>\n",
       "      <th>issue</th>\n",
       "      <th>issue_number</th>\n",
       "      <th>created_at</th>\n",
       "      <th>closed_at</th>\n",
       "      <th>created_sprint</th>\n",
       "      <th>closed_sprint</th>\n",
       "      <th>comments</th>\n",
       "    </tr>\n",
       "  </thead>\n",
       "  <tbody>\n",
       "    <tr>\n",
       "      <th>397</th>\n",
       "      <td>Issue(title=\"Hinweis zur Auffrischimpfung Bena...</td>\n",
       "      <td>5400</td>\n",
       "      <td>2022-07-31 18:29:36</td>\n",
       "      <td>NaT</td>\n",
       "      <td>2022-07-18</td>\n",
       "      <td>NaN</td>\n",
       "      <td>[IssueComment(user=NamedUser(login=\"MikeMcC399...</td>\n",
       "    </tr>\n",
       "    <tr>\n",
       "      <th>400</th>\n",
       "      <td>Issue(title=\"Status update is not working on a...</td>\n",
       "      <td>5397</td>\n",
       "      <td>2022-07-28 23:57:50</td>\n",
       "      <td>NaT</td>\n",
       "      <td>2022-07-18</td>\n",
       "      <td>NaN</td>\n",
       "      <td>[IssueComment(user=NamedUser(login=\"dsarkar\"),...</td>\n",
       "    </tr>\n",
       "    <tr>\n",
       "      <th>401</th>\n",
       "      <td>Issue(title=\"Support Material You themed icons...</td>\n",
       "      <td>5396</td>\n",
       "      <td>2022-07-28 20:43:32</td>\n",
       "      <td>NaT</td>\n",
       "      <td>2022-07-18</td>\n",
       "      <td>NaN</td>\n",
       "      <td>[IssueComment(user=NamedUser(login=\"Ein-Tim\"),...</td>\n",
       "    </tr>\n",
       "    <tr>\n",
       "      <th>428</th>\n",
       "      <td>Issue(title=\"v2.25.0-RC2 is tagged as \"Lates\" ...</td>\n",
       "      <td>5368</td>\n",
       "      <td>2022-07-20 12:15:11</td>\n",
       "      <td>2022-07-20 20:07:58</td>\n",
       "      <td>2022-07-18</td>\n",
       "      <td>2022-07-18</td>\n",
       "      <td>[IssueComment(user=NamedUser(login=\"mtwalli\"),...</td>\n",
       "    </tr>\n",
       "    <tr>\n",
       "      <th>441</th>\n",
       "      <td>Issue(title=\"Contact Journal: Duration of plac...</td>\n",
       "      <td>5354</td>\n",
       "      <td>2022-07-16 09:20:08</td>\n",
       "      <td>NaT</td>\n",
       "      <td>2022-07-04</td>\n",
       "      <td>NaN</td>\n",
       "      <td>[IssueComment(user=NamedUser(login=\"dsarkar\"),...</td>\n",
       "    </tr>\n",
       "    <tr>\n",
       "      <th>...</th>\n",
       "      <td>...</td>\n",
       "      <td>...</td>\n",
       "      <td>...</td>\n",
       "      <td>...</td>\n",
       "      <td>...</td>\n",
       "      <td>...</td>\n",
       "      <td>...</td>\n",
       "    </tr>\n",
       "    <tr>\n",
       "      <th>1311</th>\n",
       "      <td>Issue(title=\"The app displays a wrong vaccinat...</td>\n",
       "      <td>4454</td>\n",
       "      <td>2021-11-30 10:20:01</td>\n",
       "      <td>2021-11-30 12:28:42</td>\n",
       "      <td>2021-11-22</td>\n",
       "      <td>2021-11-22</td>\n",
       "      <td>[IssueComment(user=NamedUser(login=\"MikeMcC399...</td>\n",
       "    </tr>\n",
       "    <tr>\n",
       "      <th>1320</th>\n",
       "      <td>Issue(title=\"Showing an antigen test results t...</td>\n",
       "      <td>4445</td>\n",
       "      <td>2021-11-29 14:40:25</td>\n",
       "      <td>2021-11-29 15:15:58</td>\n",
       "      <td>2021-11-22</td>\n",
       "      <td>2021-11-22</td>\n",
       "      <td>[IssueComment(user=NamedUser(login=\"Ein-Tim\"),...</td>\n",
       "    </tr>\n",
       "    <tr>\n",
       "      <th>1321</th>\n",
       "      <td>Issue(title=\"Entering birth date when adding a...</td>\n",
       "      <td>4496</td>\n",
       "      <td>2021-11-29 14:25:47</td>\n",
       "      <td>NaT</td>\n",
       "      <td>2021-11-22</td>\n",
       "      <td>NaN</td>\n",
       "      <td>[IssueComment(user=NamedUser(login=\"MikeMcC399...</td>\n",
       "    </tr>\n",
       "    <tr>\n",
       "      <th>1323</th>\n",
       "      <td>Issue(title=\"where I can find the app\", number...</td>\n",
       "      <td>4443</td>\n",
       "      <td>2021-11-28 06:22:40</td>\n",
       "      <td>2022-03-03 11:29:22</td>\n",
       "      <td>2021-11-22</td>\n",
       "      <td>2022-02-28</td>\n",
       "      <td>[IssueComment(user=NamedUser(login=\"MikeMcC399...</td>\n",
       "    </tr>\n",
       "    <tr>\n",
       "      <th>1324</th>\n",
       "      <td>Issue(title=\"502 Bad Gateway during Exposure C...</td>\n",
       "      <td>4442</td>\n",
       "      <td>2021-11-26 13:01:52</td>\n",
       "      <td>2021-11-26 13:06:50</td>\n",
       "      <td>2021-11-22</td>\n",
       "      <td>2021-11-22</td>\n",
       "      <td>[IssueComment(user=NamedUser(login=\"Ein-Tim\"),...</td>\n",
       "    </tr>\n",
       "  </tbody>\n",
       "</table>\n",
       "<p>125 rows × 7 columns</p>\n",
       "</div>"
      ],
      "text/plain": [
       "                                                  issue  issue_number  \\\n",
       "397   Issue(title=\"Hinweis zur Auffrischimpfung Bena...          5400   \n",
       "400   Issue(title=\"Status update is not working on a...          5397   \n",
       "401   Issue(title=\"Support Material You themed icons...          5396   \n",
       "428   Issue(title=\"v2.25.0-RC2 is tagged as \"Lates\" ...          5368   \n",
       "441   Issue(title=\"Contact Journal: Duration of plac...          5354   \n",
       "...                                                 ...           ...   \n",
       "1311  Issue(title=\"The app displays a wrong vaccinat...          4454   \n",
       "1320  Issue(title=\"Showing an antigen test results t...          4445   \n",
       "1321  Issue(title=\"Entering birth date when adding a...          4496   \n",
       "1323  Issue(title=\"where I can find the app\", number...          4443   \n",
       "1324  Issue(title=\"502 Bad Gateway during Exposure C...          4442   \n",
       "\n",
       "              created_at           closed_at created_sprint closed_sprint  \\\n",
       "397  2022-07-31 18:29:36                 NaT     2022-07-18           NaN   \n",
       "400  2022-07-28 23:57:50                 NaT     2022-07-18           NaN   \n",
       "401  2022-07-28 20:43:32                 NaT     2022-07-18           NaN   \n",
       "428  2022-07-20 12:15:11 2022-07-20 20:07:58     2022-07-18    2022-07-18   \n",
       "441  2022-07-16 09:20:08                 NaT     2022-07-04           NaN   \n",
       "...                  ...                 ...            ...           ...   \n",
       "1311 2021-11-30 10:20:01 2021-11-30 12:28:42     2021-11-22    2021-11-22   \n",
       "1320 2021-11-29 14:40:25 2021-11-29 15:15:58     2021-11-22    2021-11-22   \n",
       "1321 2021-11-29 14:25:47                 NaT     2021-11-22           NaN   \n",
       "1323 2021-11-28 06:22:40 2022-03-03 11:29:22     2021-11-22    2022-02-28   \n",
       "1324 2021-11-26 13:01:52 2021-11-26 13:06:50     2021-11-22    2021-11-22   \n",
       "\n",
       "                                               comments  \n",
       "397   [IssueComment(user=NamedUser(login=\"MikeMcC399...  \n",
       "400   [IssueComment(user=NamedUser(login=\"dsarkar\"),...  \n",
       "401   [IssueComment(user=NamedUser(login=\"Ein-Tim\"),...  \n",
       "428   [IssueComment(user=NamedUser(login=\"mtwalli\"),...  \n",
       "441   [IssueComment(user=NamedUser(login=\"dsarkar\"),...  \n",
       "...                                                 ...  \n",
       "1311  [IssueComment(user=NamedUser(login=\"MikeMcC399...  \n",
       "1320  [IssueComment(user=NamedUser(login=\"Ein-Tim\"),...  \n",
       "1321  [IssueComment(user=NamedUser(login=\"MikeMcC399...  \n",
       "1323  [IssueComment(user=NamedUser(login=\"MikeMcC399...  \n",
       "1324  [IssueComment(user=NamedUser(login=\"Ein-Tim\"),...  \n",
       "\n",
       "[125 rows x 7 columns]"
      ]
     },
     "execution_count": 20,
     "metadata": {},
     "output_type": "execute_result"
    }
   ],
   "source": [
    "%%time\n",
    "#community_issues = issues_dataframe[issues_dataframe.issue.apply(is_community_issue)]\n",
    "issues_of_interest = issues_dataframe[issues_dataframe.created_at >= time_of_interest]\n",
    "community_issues = issues_of_interest[issues_of_interest.issue.apply(is_community_issue)]\n",
    "community_issues['comments'] = community_issues.issue.apply(lambda issue: list(issue.get_comments()))\n",
    "community_issues"
   ]
  },
  {
   "cell_type": "markdown",
   "id": "fb7f6873-b32c-4ee2-9910-9e89c9d6864b",
   "metadata": {},
   "source": [
    "---\n",
    "# Retrospective Execution"
   ]
  },
  {
   "cell_type": "markdown",
   "id": "5ac9cb61-f06b-4e0c-a0f9-c8e8a0333005",
   "metadata": {},
   "source": [
    "## Assessing previous measures: Backlog Size"
   ]
  },
  {
   "cell_type": "code",
   "execution_count": 21,
   "id": "13dce29f-a99c-41ce-bf8d-b312ffb1f812",
   "metadata": {
    "tags": []
   },
   "outputs": [],
   "source": [
    "issues_opened = issues_dataframe.groupby('created_sprint').issue.count()\n",
    "issues_closed = issues_dataframe.groupby('closed_sprint').issue.count()\n",
    "backlog_development = pandas.concat(dict(opened=issues_opened, closed=issues_closed), axis=1).fillna(0).sort_index()\n",
    "backlog_development.index.name = 'sprint'\n",
    "backlog_development['open_at_start'] = (backlog_development.opened - backlog_development.closed).cumsum().shift(fill_value=0)"
   ]
  },
  {
   "cell_type": "code",
   "execution_count": 22,
   "id": "d8cdba82-9f38-489d-ad6a-82e9e516faaa",
   "metadata": {
    "tags": []
   },
   "outputs": [
    {
     "name": "stdout",
     "output_type": "stream",
     "text": [
      "CPU times: user 145 ms, sys: 38 ms, total: 183 ms\n",
      "Wall time: 338 ms\n"
     ]
    },
    {
     "data": {
      "text/plain": [
       "<AxesSubplot:xlabel='sprint', ylabel='No. Issues Open'>"
      ]
     },
     "execution_count": 22,
     "metadata": {},
     "output_type": "execute_result"
    },
    {
     "data": {
      "image/png": "[encoded data removed]",
      "text/plain": [
       "<Figure size 720x360 with 1 Axes>"
      ]
     },
     "metadata": {},
     "output_type": "display_data"
    }
   ],
   "source": [
    "%%time\n",
    "backlog_development.open_at_start.plot.bar(ylabel='No. Issues Open')"
   ]
  },
  {
   "cell_type": "markdown",
   "id": "c03d4983-fb76-4152-8422-15e093a855ec",
   "metadata": {
    "tags": []
   },
   "source": [
    "## Finding Problems: Long Reaction Times"
   ]
  },
  {
   "cell_type": "markdown",
   "id": "8083a07c-981e-4a13-9266-7b6aaab8c85f",
   "metadata": {},
   "source": [
    "### Calculating Reaction Times"
   ]
  },
  {
   "cell_type": "code",
   "execution_count": 23,
   "id": "e495f4bb-3233-4dc7-a4a0-5f146d847bef",
   "metadata": {},
   "outputs": [],
   "source": [
    "def first_reaction(issue, comment_list):\n",
    "    return next((comment.created_at for comment in comment_list if comment.user != issue.user), None)"
   ]
  },
  {
   "cell_type": "code",
   "execution_count": 24,
   "id": "b7b50a01-fb06-4dca-9545-4a6c5c75f6d3",
   "metadata": {
    "tags": []
   },
   "outputs": [
    {
     "data": {
      "text/html": [
       "<div>\n",
       "<style scoped>\n",
       "    .dataframe tbody tr th:only-of-type {\n",
       "        vertical-align: middle;\n",
       "    }\n",
       "\n",
       "    .dataframe tbody tr th {\n",
       "        vertical-align: top;\n",
       "    }\n",
       "\n",
       "    .dataframe thead th {\n",
       "        text-align: right;\n",
       "    }\n",
       "</style>\n",
       "<table border=\"1\" class=\"dataframe\">\n",
       "  <thead>\n",
       "    <tr style=\"text-align: right;\">\n",
       "      <th></th>\n",
       "      <th>issue</th>\n",
       "      <th>issue_number</th>\n",
       "      <th>created_at</th>\n",
       "      <th>closed_at</th>\n",
       "      <th>created_sprint</th>\n",
       "      <th>closed_sprint</th>\n",
       "      <th>comments</th>\n",
       "      <th>first_reaction</th>\n",
       "      <th>time_to_react</th>\n",
       "      <th>time_to_react_hours</th>\n",
       "      <th>time_to_react_days</th>\n",
       "    </tr>\n",
       "  </thead>\n",
       "  <tbody>\n",
       "    <tr>\n",
       "      <th>397</th>\n",
       "      <td>Issue(title=\"Hinweis zur Auffrischimpfung Bena...</td>\n",
       "      <td>5400</td>\n",
       "      <td>2022-07-31 18:29:36</td>\n",
       "      <td>NaT</td>\n",
       "      <td>2022-07-18</td>\n",
       "      <td>NaN</td>\n",
       "      <td>[IssueComment(user=NamedUser(login=\"MikeMcC399...</td>\n",
       "      <td>2022-07-31 19:48:57</td>\n",
       "      <td>0 days 01:19:21</td>\n",
       "      <td>1.322500</td>\n",
       "      <td>0.055104</td>\n",
       "    </tr>\n",
       "    <tr>\n",
       "      <th>400</th>\n",
       "      <td>Issue(title=\"Status update is not working on a...</td>\n",
       "      <td>5397</td>\n",
       "      <td>2022-07-28 23:57:50</td>\n",
       "      <td>NaT</td>\n",
       "      <td>2022-07-18</td>\n",
       "      <td>NaN</td>\n",
       "      <td>[IssueComment(user=NamedUser(login=\"dsarkar\"),...</td>\n",
       "      <td>2022-07-29 06:00:48</td>\n",
       "      <td>0 days 06:02:58</td>\n",
       "      <td>6.049444</td>\n",
       "      <td>0.252060</td>\n",
       "    </tr>\n",
       "    <tr>\n",
       "      <th>401</th>\n",
       "      <td>Issue(title=\"Support Material You themed icons...</td>\n",
       "      <td>5396</td>\n",
       "      <td>2022-07-28 20:43:32</td>\n",
       "      <td>NaT</td>\n",
       "      <td>2022-07-18</td>\n",
       "      <td>NaN</td>\n",
       "      <td>[IssueComment(user=NamedUser(login=\"Ein-Tim\"),...</td>\n",
       "      <td>2022-07-29 04:07:03</td>\n",
       "      <td>0 days 07:23:31</td>\n",
       "      <td>7.391944</td>\n",
       "      <td>0.307998</td>\n",
       "    </tr>\n",
       "    <tr>\n",
       "      <th>428</th>\n",
       "      <td>Issue(title=\"v2.25.0-RC2 is tagged as \"Lates\" ...</td>\n",
       "      <td>5368</td>\n",
       "      <td>2022-07-20 12:15:11</td>\n",
       "      <td>2022-07-20 20:07:58</td>\n",
       "      <td>2022-07-18</td>\n",
       "      <td>2022-07-18</td>\n",
       "      <td>[IssueComment(user=NamedUser(login=\"mtwalli\"),...</td>\n",
       "      <td>2022-07-20 18:28:58</td>\n",
       "      <td>0 days 06:13:47</td>\n",
       "      <td>6.229722</td>\n",
       "      <td>0.259572</td>\n",
       "    </tr>\n",
       "    <tr>\n",
       "      <th>441</th>\n",
       "      <td>Issue(title=\"Contact Journal: Duration of plac...</td>\n",
       "      <td>5354</td>\n",
       "      <td>2022-07-16 09:20:08</td>\n",
       "      <td>NaT</td>\n",
       "      <td>2022-07-04</td>\n",
       "      <td>NaN</td>\n",
       "      <td>[IssueComment(user=NamedUser(login=\"dsarkar\"),...</td>\n",
       "      <td>2022-07-16 11:00:19</td>\n",
       "      <td>0 days 01:40:11</td>\n",
       "      <td>1.669722</td>\n",
       "      <td>0.069572</td>\n",
       "    </tr>\n",
       "    <tr>\n",
       "      <th>...</th>\n",
       "      <td>...</td>\n",
       "      <td>...</td>\n",
       "      <td>...</td>\n",
       "      <td>...</td>\n",
       "      <td>...</td>\n",
       "      <td>...</td>\n",
       "      <td>...</td>\n",
       "      <td>...</td>\n",
       "      <td>...</td>\n",
       "      <td>...</td>\n",
       "      <td>...</td>\n",
       "    </tr>\n",
       "    <tr>\n",
       "      <th>1311</th>\n",
       "      <td>Issue(title=\"The app displays a wrong vaccinat...</td>\n",
       "      <td>4454</td>\n",
       "      <td>2021-11-30 10:20:01</td>\n",
       "      <td>2021-11-30 12:28:42</td>\n",
       "      <td>2021-11-22</td>\n",
       "      <td>2021-11-22</td>\n",
       "      <td>[IssueComment(user=NamedUser(login=\"MikeMcC399...</td>\n",
       "      <td>2021-11-30 10:39:43</td>\n",
       "      <td>0 days 00:19:42</td>\n",
       "      <td>0.328333</td>\n",
       "      <td>0.013681</td>\n",
       "    </tr>\n",
       "    <tr>\n",
       "      <th>1320</th>\n",
       "      <td>Issue(title=\"Showing an antigen test results t...</td>\n",
       "      <td>4445</td>\n",
       "      <td>2021-11-29 14:40:25</td>\n",
       "      <td>2021-11-29 15:15:58</td>\n",
       "      <td>2021-11-22</td>\n",
       "      <td>2021-11-22</td>\n",
       "      <td>[IssueComment(user=NamedUser(login=\"Ein-Tim\"),...</td>\n",
       "      <td>2021-11-29 15:13:32</td>\n",
       "      <td>0 days 00:33:07</td>\n",
       "      <td>0.551944</td>\n",
       "      <td>0.022998</td>\n",
       "    </tr>\n",
       "    <tr>\n",
       "      <th>1321</th>\n",
       "      <td>Issue(title=\"Entering birth date when adding a...</td>\n",
       "      <td>4496</td>\n",
       "      <td>2021-11-29 14:25:47</td>\n",
       "      <td>NaT</td>\n",
       "      <td>2021-11-22</td>\n",
       "      <td>NaN</td>\n",
       "      <td>[IssueComment(user=NamedUser(login=\"MikeMcC399...</td>\n",
       "      <td>2021-11-29 14:31:51</td>\n",
       "      <td>0 days 00:06:04</td>\n",
       "      <td>0.101111</td>\n",
       "      <td>0.004213</td>\n",
       "    </tr>\n",
       "    <tr>\n",
       "      <th>1323</th>\n",
       "      <td>Issue(title=\"where I can find the app\", number...</td>\n",
       "      <td>4443</td>\n",
       "      <td>2021-11-28 06:22:40</td>\n",
       "      <td>2022-03-03 11:29:22</td>\n",
       "      <td>2021-11-22</td>\n",
       "      <td>2022-02-28</td>\n",
       "      <td>[IssueComment(user=NamedUser(login=\"MikeMcC399...</td>\n",
       "      <td>2021-11-28 08:57:15</td>\n",
       "      <td>0 days 02:34:35</td>\n",
       "      <td>2.576389</td>\n",
       "      <td>0.107350</td>\n",
       "    </tr>\n",
       "    <tr>\n",
       "      <th>1324</th>\n",
       "      <td>Issue(title=\"502 Bad Gateway during Exposure C...</td>\n",
       "      <td>4442</td>\n",
       "      <td>2021-11-26 13:01:52</td>\n",
       "      <td>2021-11-26 13:06:50</td>\n",
       "      <td>2021-11-22</td>\n",
       "      <td>2021-11-22</td>\n",
       "      <td>[IssueComment(user=NamedUser(login=\"Ein-Tim\"),...</td>\n",
       "      <td>2021-11-26 13:04:16</td>\n",
       "      <td>0 days 00:02:24</td>\n",
       "      <td>0.040000</td>\n",
       "      <td>0.001667</td>\n",
       "    </tr>\n",
       "  </tbody>\n",
       "</table>\n",
       "<p>125 rows × 11 columns</p>\n",
       "</div>"
      ],
      "text/plain": [
       "                                                  issue  issue_number  \\\n",
       "397   Issue(title=\"Hinweis zur Auffrischimpfung Bena...          5400   \n",
       "400   Issue(title=\"Status update is not working on a...          5397   \n",
       "401   Issue(title=\"Support Material You themed icons...          5396   \n",
       "428   Issue(title=\"v2.25.0-RC2 is tagged as \"Lates\" ...          5368   \n",
       "441   Issue(title=\"Contact Journal: Duration of plac...          5354   \n",
       "...                                                 ...           ...   \n",
       "1311  Issue(title=\"The app displays a wrong vaccinat...          4454   \n",
       "1320  Issue(title=\"Showing an antigen test results t...          4445   \n",
       "1321  Issue(title=\"Entering birth date when adding a...          4496   \n",
       "1323  Issue(title=\"where I can find the app\", number...          4443   \n",
       "1324  Issue(title=\"502 Bad Gateway during Exposure C...          4442   \n",
       "\n",
       "              created_at           closed_at created_sprint closed_sprint  \\\n",
       "397  2022-07-31 18:29:36                 NaT     2022-07-18           NaN   \n",
       "400  2022-07-28 23:57:50                 NaT     2022-07-18           NaN   \n",
       "401  2022-07-28 20:43:32                 NaT     2022-07-18           NaN   \n",
       "428  2022-07-20 12:15:11 2022-07-20 20:07:58     2022-07-18    2022-07-18   \n",
       "441  2022-07-16 09:20:08                 NaT     2022-07-04           NaN   \n",
       "...                  ...                 ...            ...           ...   \n",
       "1311 2021-11-30 10:20:01 2021-11-30 12:28:42     2021-11-22    2021-11-22   \n",
       "1320 2021-11-29 14:40:25 2021-11-29 15:15:58     2021-11-22    2021-11-22   \n",
       "1321 2021-11-29 14:25:47                 NaT     2021-11-22           NaN   \n",
       "1323 2021-11-28 06:22:40 2022-03-03 11:29:22     2021-11-22    2022-02-28   \n",
       "1324 2021-11-26 13:01:52 2021-11-26 13:06:50     2021-11-22    2021-11-22   \n",
       "\n",
       "                                               comments      first_reaction  \\\n",
       "397   [IssueComment(user=NamedUser(login=\"MikeMcC399... 2022-07-31 19:48:57   \n",
       "400   [IssueComment(user=NamedUser(login=\"dsarkar\"),... 2022-07-29 06:00:48   \n",
       "401   [IssueComment(user=NamedUser(login=\"Ein-Tim\"),... 2022-07-29 04:07:03   \n",
       "428   [IssueComment(user=NamedUser(login=\"mtwalli\"),... 2022-07-20 18:28:58   \n",
       "441   [IssueComment(user=NamedUser(login=\"dsarkar\"),... 2022-07-16 11:00:19   \n",
       "...                                                 ...                 ...   \n",
       "1311  [IssueComment(user=NamedUser(login=\"MikeMcC399... 2021-11-30 10:39:43   \n",
       "1320  [IssueComment(user=NamedUser(login=\"Ein-Tim\"),... 2021-11-29 15:13:32   \n",
       "1321  [IssueComment(user=NamedUser(login=\"MikeMcC399... 2021-11-29 14:31:51   \n",
       "1323  [IssueComment(user=NamedUser(login=\"MikeMcC399... 2021-11-28 08:57:15   \n",
       "1324  [IssueComment(user=NamedUser(login=\"Ein-Tim\"),... 2021-11-26 13:04:16   \n",
       "\n",
       "       time_to_react  time_to_react_hours  time_to_react_days  \n",
       "397  0 days 01:19:21             1.322500            0.055104  \n",
       "400  0 days 06:02:58             6.049444            0.252060  \n",
       "401  0 days 07:23:31             7.391944            0.307998  \n",
       "428  0 days 06:13:47             6.229722            0.259572  \n",
       "441  0 days 01:40:11             1.669722            0.069572  \n",
       "...              ...                  ...                 ...  \n",
       "1311 0 days 00:19:42             0.328333            0.013681  \n",
       "1320 0 days 00:33:07             0.551944            0.022998  \n",
       "1321 0 days 00:06:04             0.101111            0.004213  \n",
       "1323 0 days 02:34:35             2.576389            0.107350  \n",
       "1324 0 days 00:02:24             0.040000            0.001667  \n",
       "\n",
       "[125 rows x 11 columns]"
      ]
     },
     "execution_count": 24,
     "metadata": {},
     "output_type": "execute_result"
    }
   ],
   "source": [
    "community_issues['first_reaction']      = community_issues.apply(lambda row: first_reaction(row.issue, row.comments), axis=1)\n",
    "community_issues['time_to_react']       = community_issues.first_reaction - community_issues.created_at\n",
    "# Pandas sometimes doesn't like temporal data for visualization, so we convert to numerical\n",
    "community_issues['time_to_react_hours'] = (community_issues.time_to_react / pandas.Timedelta(hours=1)) \n",
    "community_issues['time_to_react_days']  = (community_issues.time_to_react / pandas.Timedelta(days=1)) \n",
    "community_issues"
   ]
  },
  {
   "cell_type": "markdown",
   "id": "4b1e7c50-a9c0-40a2-b2bc-c41a6d1333d0",
   "metadata": {},
   "source": [
    "### Explore the Data (I)"
   ]
  },
  {
   "cell_type": "code",
   "execution_count": 25,
   "id": "45614c75-ea21-4cff-8e32-93f2564b3a5b",
   "metadata": {},
   "outputs": [
    {
     "data": {
      "text/plain": [
       "Timedelta('2 days 11:11:25.322580645')"
      ]
     },
     "execution_count": 25,
     "metadata": {},
     "output_type": "execute_result"
    }
   ],
   "source": [
    "community_issues.time_to_react.mean()"
   ]
  },
  {
   "cell_type": "code",
   "execution_count": 26,
   "id": "9dabae7f-1fa3-4f32-b94c-991a1bfefbef",
   "metadata": {},
   "outputs": [],
   "source": [
    "issues_per_sprint = community_issues.groupby('created_sprint')"
   ]
  },
  {
   "cell_type": "code",
   "execution_count": 27,
   "id": "e2cfedee-b84a-49d6-bc94-92792c7f0c5d",
   "metadata": {},
   "outputs": [
    {
     "data": {
      "text/plain": [
       "<AxesSubplot:xlabel='created_sprint'>"
      ]
     },
     "execution_count": 27,
     "metadata": {},
     "output_type": "execute_result"
    },
    {
     "data": {
      "image/png": "[encoded data removed]",
      "text/plain": [
       "<Figure size 720x360 with 1 Axes>"
      ]
     },
     "metadata": {},
     "output_type": "display_data"
    }
   ],
   "source": [
    "issues_per_sprint.issue.count().plot.bar()"
   ]
  },
  {
   "cell_type": "code",
   "execution_count": 28,
   "id": "9a62b6f0-8504-4e84-84d5-6b6b9a0f0b09",
   "metadata": {},
   "outputs": [
    {
     "data": {
      "text/plain": [
       "[Text(0.5, 0, 'Reaction Time in d')]"
      ]
     },
     "execution_count": 28,
     "metadata": {},
     "output_type": "execute_result"
    },
    {
     "data": {
      "image/png": "[encoded data removed]",
      "text/plain": [
       "<Figure size 720x360 with 1 Axes>"
      ]
     },
     "metadata": {},
     "output_type": "display_data"
    }
   ],
   "source": [
    "community_issues.time_to_react_days.plot.hist(bins=100, logy=True).set(xlabel='Reaction Time in d')"
   ]
  },
  {
   "cell_type": "markdown",
   "id": "4ca1ad09-20d5-4db4-9f3c-472f88761d7c",
   "metadata": {},
   "source": [
    "Because of the strong clustering of low reaction time, we look at the data again with more detail."
   ]
  },
  {
   "cell_type": "code",
   "execution_count": 29,
   "id": "19256d55-cdef-4e63-8613-1ca70a3d7463",
   "metadata": {},
   "outputs": [
    {
     "data": {
      "text/plain": [
       "[Text(0.5, 0, 'Reaction Time in d')]"
      ]
     },
     "execution_count": 29,
     "metadata": {},
     "output_type": "execute_result"
    },
    {
     "data": {
      "image/png": "[encoded data removed]",
      "text/plain": [
       "<Figure size 720x360 with 1 Axes>"
      ]
     },
     "metadata": {},
     "output_type": "display_data"
    }
   ],
   "source": [
    "community_issues.time_to_react_days[community_issues.time_to_react <= timedelta(days=30)].plot.hist(bins=100, logy=True).set(xlabel='Reaction Time in d')"
   ]
  },
  {
   "cell_type": "markdown",
   "id": "3cbd770e-b7b9-4b92-bd1d-2891fb0a4b54",
   "metadata": {},
   "source": [
    "### Trimming the Data"
   ]
  },
  {
   "cell_type": "code",
   "execution_count": 30,
   "id": "279fca6a-f316-4375-89db-121f3dc65883",
   "metadata": {},
   "outputs": [],
   "source": [
    "outlier_threshold = timedelta(days=7)"
   ]
  },
  {
   "cell_type": "code",
   "execution_count": 31,
   "id": "b477c94a-eebf-485c-bfb5-cca452fdbd06",
   "metadata": {},
   "outputs": [
    {
     "data": {
      "text/plain": [
       "4"
      ]
     },
     "execution_count": 31,
     "metadata": {},
     "output_type": "execute_result"
    }
   ],
   "source": [
    "community_issues[community_issues.time_to_react > outlier_threshold].issue.count()"
   ]
  },
  {
   "cell_type": "code",
   "execution_count": 32,
   "id": "3d05f540-ff80-4ad7-8135-2e31e2dcb7b8",
   "metadata": {},
   "outputs": [],
   "source": [
    "focus_issues = community_issues[community_issues.time_to_react <= outlier_threshold]"
   ]
  },
  {
   "cell_type": "code",
   "execution_count": 33,
   "id": "98836508-b673-4aee-998f-7f0d39b5b3b2",
   "metadata": {},
   "outputs": [
    {
     "data": {
      "text/plain": [
       "Timedelta('0 days 05:21:35.525000')"
      ]
     },
     "execution_count": 33,
     "metadata": {},
     "output_type": "execute_result"
    }
   ],
   "source": [
    "focus_issues.time_to_react.mean()"
   ]
  },
  {
   "cell_type": "markdown",
   "id": "bca0108e-de60-4d70-82b8-004f3961ba83",
   "metadata": {
    "tags": []
   },
   "source": [
    "### Explore the Data (II)"
   ]
  },
  {
   "cell_type": "code",
   "execution_count": 34,
   "id": "5b3435c4-d309-41d2-aac7-9e8ea9f930e8",
   "metadata": {},
   "outputs": [],
   "source": [
    "issues_per_sprint = focus_issues.groupby('created_sprint')"
   ]
  },
  {
   "cell_type": "code",
   "execution_count": 35,
   "id": "22f1f944-daa2-449f-87e8-0ca1906b0749",
   "metadata": {},
   "outputs": [
    {
     "data": {
      "text/plain": [
       "<AxesSubplot:xlabel='created_sprint', ylabel='No. Issues'>"
      ]
     },
     "execution_count": 35,
     "metadata": {},
     "output_type": "execute_result"
    },
    {
     "data": {
      "image/png": "[encoded data removed]",
      "text/plain": [
       "<Figure size 720x360 with 1 Axes>"
      ]
     },
     "metadata": {},
     "output_type": "display_data"
    }
   ],
   "source": [
    "issues_per_sprint.issue.count().plot.bar(ylabel='No. Issues')"
   ]
  },
  {
   "cell_type": "markdown",
   "id": "137b71f6-de4f-425b-8a6d-00c02f751cd9",
   "metadata": {},
   "source": [
    "There is a low number of issues per sprint - so we need to be careful."
   ]
  },
  {
   "cell_type": "code",
   "execution_count": 36,
   "id": "7485f74a-34e0-4128-a222-2926ddd3c695",
   "metadata": {},
   "outputs": [
    {
     "data": {
      "text/plain": [
       "<AxesSubplot:xlabel='created_sprint', ylabel='Mean Time to React (h)'>"
      ]
     },
     "execution_count": 36,
     "metadata": {},
     "output_type": "execute_result"
    },
    {
     "data": {
      "image/png": "[encoded data removed]",
      "text/plain": [
       "<Figure size 720x360 with 1 Axes>"
      ]
     },
     "metadata": {},
     "output_type": "display_data"
    }
   ],
   "source": [
    "issues_per_sprint.time_to_react_hours.apply(numpy.mean).plot.bar(ylabel='Mean Time to React (h)')"
   ]
  },
  {
   "cell_type": "markdown",
   "id": "f03f127c-a387-4ebc-b0b0-6d5f7f9ec433",
   "metadata": {},
   "source": [
    "There is indeed a change in the last four months.\n",
    "\n",
    "But maybe this change stems from extreme values rather than consistently high reaction times?"
   ]
  },
  {
   "cell_type": "code",
   "execution_count": 37,
   "id": "16874c9f-22b5-45a2-b57c-ee610940cec3",
   "metadata": {},
   "outputs": [
    {
     "data": {
      "text/plain": [
       "<AxesSubplot:xlabel='created_sprint', ylabel='Max Time to React (h)'>"
      ]
     },
     "execution_count": 37,
     "metadata": {},
     "output_type": "execute_result"
    },
    {
     "data": {
      "image/png": "[encoded data removed]",
      "text/plain": [
       "<Figure size 720x360 with 1 Axes>"
      ]
     },
     "metadata": {},
     "output_type": "display_data"
    }
   ],
   "source": [
    "issues_per_sprint.time_to_react_hours.apply(numpy.max).plot.bar(ylabel='Max Time to React (h)')"
   ]
  },
  {
   "cell_type": "markdown",
   "id": "c8b98a42-7ed3-4ca3-a5e3-7164a432031e",
   "metadata": {},
   "source": [
    "As we can see, the peaks of maxima and mean correlate. "
   ]
  },
  {
   "cell_type": "code",
   "execution_count": 38,
   "id": "04fe6910-bd48-436d-acb3-1c63d5f3f126",
   "metadata": {},
   "outputs": [
    {
     "data": {
      "text/plain": [
       "<AxesSubplot:xlabel='created_sprint', ylabel='Median Time to React (h)'>"
      ]
     },
     "execution_count": 38,
     "metadata": {},
     "output_type": "execute_result"
    },
    {
     "data": {
      "image/png": "[encoded data removed]",
      "text/plain": [
       "<Figure size 720x360 with 1 Axes>"
      ]
     },
     "metadata": {},
     "output_type": "display_data"
    }
   ],
   "source": [
    "issues_per_sprint.time_to_react_hours.apply(numpy.median).plot.bar(ylabel='Median Time to React (h)')"
   ]
  },
  {
   "cell_type": "markdown",
   "id": "a6185e32-c8e5-4176-b6e4-bf13c3155616",
   "metadata": {},
   "source": [
    "## Finding Causes"
   ]
  },
  {
   "cell_type": "code",
   "execution_count": 39,
   "id": "a8438a4d-e5f6-43c0-9db6-863dbd227711",
   "metadata": {},
   "outputs": [],
   "source": [
    "problem_sprints = [datetime(2022, 6, 6), datetime(2022, 6, 20), datetime(2022, 7, 4), datetime(2022, 7, 18)]"
   ]
  },
  {
   "cell_type": "code",
   "execution_count": 40,
   "id": "b9fd9cc8-ea6b-45bf-bdcb-0c1dde1ed2f0",
   "metadata": {},
   "outputs": [
    {
     "data": {
      "image/png": "[encoded data removed]",
      "text/plain": [
       "<Figure size 432x216 with 1 Axes>"
      ]
     },
     "metadata": {},
     "output_type": "display_data"
    },
    {
     "data": {
      "image/png": "[encoded data removed]",
      "text/plain": [
       "<Figure size 432x216 with 1 Axes>"
      ]
     },
     "metadata": {},
     "output_type": "display_data"
    },
    {
     "data": {
      "image/png": "[encoded data removed]",
      "text/plain": [
       "<Figure size 432x216 with 1 Axes>"
      ]
     },
     "metadata": {},
     "output_type": "display_data"
    },
    {
     "data": {
      "image/png": "[encoded data removed]",
      "text/plain": [
       "<Figure size 432x216 with 1 Axes>"
      ]
     },
     "metadata": {},
     "output_type": "display_data"
    }
   ],
   "source": [
    "for sprint_begin in problem_sprints:\n",
    "    pyplot.figure(figsize=(6, 3))\n",
    "    (focus_issues[focus_issues.created_sprint == sprint_begin.date()].time_to_react_hours).plot.hist(bins=range(0,50, 2))"
   ]
  },
  {
   "cell_type": "code",
   "execution_count": 41,
   "id": "7f7d9494-b9f1-4b37-a1bb-9c6bae1a94d0",
   "metadata": {},
   "outputs": [
    {
     "data": {
      "text/html": [
       "<div>\n",
       "<style scoped>\n",
       "    .dataframe tbody tr th:only-of-type {\n",
       "        vertical-align: middle;\n",
       "    }\n",
       "\n",
       "    .dataframe tbody tr th {\n",
       "        vertical-align: top;\n",
       "    }\n",
       "\n",
       "    .dataframe thead th {\n",
       "        text-align: right;\n",
       "    }\n",
       "</style>\n",
       "<table border=\"1\" class=\"dataframe\">\n",
       "  <thead>\n",
       "    <tr style=\"text-align: right;\">\n",
       "      <th></th>\n",
       "      <th>issue</th>\n",
       "      <th>issue_number</th>\n",
       "      <th>created_at</th>\n",
       "      <th>closed_at</th>\n",
       "      <th>created_sprint</th>\n",
       "      <th>closed_sprint</th>\n",
       "      <th>comments</th>\n",
       "      <th>first_reaction</th>\n",
       "      <th>time_to_react</th>\n",
       "      <th>time_to_react_hours</th>\n",
       "      <th>time_to_react_days</th>\n",
       "    </tr>\n",
       "  </thead>\n",
       "  <tbody>\n",
       "    <tr>\n",
       "      <th>460</th>\n",
       "      <td>Issue(title=\"App shows new features note after...</td>\n",
       "      <td>5334</td>\n",
       "      <td>2022-07-10 18:43:02</td>\n",
       "      <td>NaT</td>\n",
       "      <td>2022-07-04</td>\n",
       "      <td>NaN</td>\n",
       "      <td>[IssueComment(user=NamedUser(login=\"larswmh\"),...</td>\n",
       "      <td>2022-07-11 09:09:29</td>\n",
       "      <td>0 days 14:26:27</td>\n",
       "      <td>14.440833</td>\n",
       "      <td>0.601701</td>\n",
       "    </tr>\n",
       "    <tr>\n",
       "      <th>461</th>\n",
       "      <td>Issue(title=\"Please merge version 2.24.2 into ...</td>\n",
       "      <td>5333</td>\n",
       "      <td>2022-07-10 18:30:50</td>\n",
       "      <td>2022-07-11 07:34:22</td>\n",
       "      <td>2022-07-04</td>\n",
       "      <td>2022-07-04</td>\n",
       "      <td>[IssueComment(user=NamedUser(login=\"schauersbe...</td>\n",
       "      <td>2022-07-11 07:34:22</td>\n",
       "      <td>0 days 13:03:32</td>\n",
       "      <td>13.058889</td>\n",
       "      <td>0.544120</td>\n",
       "    </tr>\n",
       "    <tr>\n",
       "      <th>462</th>\n",
       "      <td>Issue(title=\"Missing 2.24.2 GitHub release\", n...</td>\n",
       "      <td>5332</td>\n",
       "      <td>2022-07-10 14:43:42</td>\n",
       "      <td>2022-07-11 07:11:40</td>\n",
       "      <td>2022-07-04</td>\n",
       "      <td>2022-07-04</td>\n",
       "      <td>[IssueComment(user=NamedUser(login=\"Ein-Tim\"),...</td>\n",
       "      <td>2022-07-11 07:11:40</td>\n",
       "      <td>0 days 16:27:58</td>\n",
       "      <td>16.466111</td>\n",
       "      <td>0.686088</td>\n",
       "    </tr>\n",
       "    <tr>\n",
       "      <th>470</th>\n",
       "      <td>Issue(title=\"Twitter Reports: App spams notifi...</td>\n",
       "      <td>5324</td>\n",
       "      <td>2022-07-05 13:54:48</td>\n",
       "      <td>2022-07-13 14:38:08</td>\n",
       "      <td>2022-07-04</td>\n",
       "      <td>2022-07-04</td>\n",
       "      <td>[IssueComment(user=NamedUser(login=\"Ein-Tim\"),...</td>\n",
       "      <td>2022-07-06 06:24:24</td>\n",
       "      <td>0 days 16:29:36</td>\n",
       "      <td>16.493333</td>\n",
       "      <td>0.687222</td>\n",
       "    </tr>\n",
       "    <tr>\n",
       "      <th>496</th>\n",
       "      <td>Issue(title=\"Strange time format on ID history...</td>\n",
       "      <td>5296</td>\n",
       "      <td>2022-06-22 20:57:51</td>\n",
       "      <td>NaT</td>\n",
       "      <td>2022-06-20</td>\n",
       "      <td>NaN</td>\n",
       "      <td>[IssueComment(user=NamedUser(login=\"Ein-Tim\"),...</td>\n",
       "      <td>2022-06-23 07:36:34</td>\n",
       "      <td>0 days 10:38:43</td>\n",
       "      <td>10.645278</td>\n",
       "      <td>0.443553</td>\n",
       "    </tr>\n",
       "    <tr>\n",
       "      <th>515</th>\n",
       "      <td>Issue(title=\"Twitter Report: \"Fertig\" button o...</td>\n",
       "      <td>5276</td>\n",
       "      <td>2022-06-11 21:52:37</td>\n",
       "      <td>2022-06-22 15:29:47</td>\n",
       "      <td>2022-06-06</td>\n",
       "      <td>2022-06-20</td>\n",
       "      <td>[IssueComment(user=NamedUser(login=\"larswmh\"),...</td>\n",
       "      <td>2022-06-13 08:38:08</td>\n",
       "      <td>1 days 10:45:31</td>\n",
       "      <td>34.758611</td>\n",
       "      <td>1.448275</td>\n",
       "    </tr>\n",
       "    <tr>\n",
       "      <th>517</th>\n",
       "      <td>Issue(title=\"Using back/forward buttons when r...</td>\n",
       "      <td>5274</td>\n",
       "      <td>2022-06-11 08:09:38</td>\n",
       "      <td>NaT</td>\n",
       "      <td>2022-06-06</td>\n",
       "      <td>NaN</td>\n",
       "      <td>[IssueComment(user=NamedUser(login=\"pief\"), id...</td>\n",
       "      <td>2022-06-13 08:27:33</td>\n",
       "      <td>2 days 00:17:55</td>\n",
       "      <td>48.298611</td>\n",
       "      <td>2.012442</td>\n",
       "    </tr>\n",
       "  </tbody>\n",
       "</table>\n",
       "</div>"
      ],
      "text/plain": [
       "                                                 issue  issue_number  \\\n",
       "460  Issue(title=\"App shows new features note after...          5334   \n",
       "461  Issue(title=\"Please merge version 2.24.2 into ...          5333   \n",
       "462  Issue(title=\"Missing 2.24.2 GitHub release\", n...          5332   \n",
       "470  Issue(title=\"Twitter Reports: App spams notifi...          5324   \n",
       "496  Issue(title=\"Strange time format on ID history...          5296   \n",
       "515  Issue(title=\"Twitter Report: \"Fertig\" button o...          5276   \n",
       "517  Issue(title=\"Using back/forward buttons when r...          5274   \n",
       "\n",
       "             created_at           closed_at created_sprint closed_sprint  \\\n",
       "460 2022-07-10 18:43:02                 NaT     2022-07-04           NaN   \n",
       "461 2022-07-10 18:30:50 2022-07-11 07:34:22     2022-07-04    2022-07-04   \n",
       "462 2022-07-10 14:43:42 2022-07-11 07:11:40     2022-07-04    2022-07-04   \n",
       "470 2022-07-05 13:54:48 2022-07-13 14:38:08     2022-07-04    2022-07-04   \n",
       "496 2022-06-22 20:57:51                 NaT     2022-06-20           NaN   \n",
       "515 2022-06-11 21:52:37 2022-06-22 15:29:47     2022-06-06    2022-06-20   \n",
       "517 2022-06-11 08:09:38                 NaT     2022-06-06           NaN   \n",
       "\n",
       "                                              comments      first_reaction  \\\n",
       "460  [IssueComment(user=NamedUser(login=\"larswmh\"),... 2022-07-11 09:09:29   \n",
       "461  [IssueComment(user=NamedUser(login=\"schauersbe... 2022-07-11 07:34:22   \n",
       "462  [IssueComment(user=NamedUser(login=\"Ein-Tim\"),... 2022-07-11 07:11:40   \n",
       "470  [IssueComment(user=NamedUser(login=\"Ein-Tim\"),... 2022-07-06 06:24:24   \n",
       "496  [IssueComment(user=NamedUser(login=\"Ein-Tim\"),... 2022-06-23 07:36:34   \n",
       "515  [IssueComment(user=NamedUser(login=\"larswmh\"),... 2022-06-13 08:38:08   \n",
       "517  [IssueComment(user=NamedUser(login=\"pief\"), id... 2022-06-13 08:27:33   \n",
       "\n",
       "      time_to_react  time_to_react_hours  time_to_react_days  \n",
       "460 0 days 14:26:27            14.440833            0.601701  \n",
       "461 0 days 13:03:32            13.058889            0.544120  \n",
       "462 0 days 16:27:58            16.466111            0.686088  \n",
       "470 0 days 16:29:36            16.493333            0.687222  \n",
       "496 0 days 10:38:43            10.645278            0.443553  \n",
       "515 1 days 10:45:31            34.758611            1.448275  \n",
       "517 2 days 00:17:55            48.298611            2.012442  "
      ]
     },
     "execution_count": 41,
     "metadata": {},
     "output_type": "execute_result"
    }
   ],
   "source": [
    "problem_issues = focus_issues[(focus_issues.created_at >= problem_sprints[0]) & (focus_issues.time_to_react >= timedelta(hours=10))]\n",
    "problem_issues"
   ]
  },
  {
   "cell_type": "code",
   "execution_count": 42,
   "id": "7f927c64-f2f3-434e-8cc5-dcc823b28a4e",
   "metadata": {},
   "outputs": [
    {
     "data": {
      "text/plain": [
       "460       Sunday\n",
       "461       Sunday\n",
       "462       Sunday\n",
       "470      Tuesday\n",
       "496    Wednesday\n",
       "515     Saturday\n",
       "517     Saturday\n",
       "Name: created_at, dtype: object"
      ]
     },
     "execution_count": 42,
     "metadata": {},
     "output_type": "execute_result"
    }
   ],
   "source": [
    "problem_issues.created_at.apply(Timestamp.day_name)"
   ]
  },
  {
   "cell_type": "code",
   "execution_count": null,
   "id": "d0f8d57d-671a-4ec4-b0ef-9a59e37ed3be",
   "metadata": {},
   "outputs": [],
   "source": []
  },
  {
   "cell_type": "code",
   "execution_count": null,
   "id": "c5b3a2e9-bdde-4ee0-b5c1-63a42d7e8195",
   "metadata": {},
   "outputs": [],
   "source": []
  },
  {
   "cell_type": "code",
   "execution_count": null,
   "id": "3c6c1133-09b5-4cc6-9f68-d58fe12fe89b",
   "metadata": {},
   "outputs": [],
   "source": []
  }
 ],
 "metadata": {
  "kernelspec": {
   "display_name": "Python 3",
   "language": "python",
   "name": "python3"
  },
  "language_info": {
   "codemirror_mode": {
    "name": "ipython",
    "version": 3
   },
   "file_extension": ".py",
   "mimetype": "text/x-python",
   "name": "python",
   "nbconvert_exporter": "python",
   "pygments_lexer": "ipython3",
   "version": "3.6.9"
  },
  "toc-autonumbering": true,
  "toc-showcode": false,
  "toc-showmarkdowntxt": false,
  "toc-showtags": false
 },
 "nbformat": 4,
 "nbformat_minor": 5
}
