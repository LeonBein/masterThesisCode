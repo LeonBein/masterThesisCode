{
 "cells": [
  {
   "cell_type": "code",
   "execution_count": 1,
   "id": "e5ad987d-2cd4-4e44-b940-09d564617320",
   "metadata": {},
   "outputs": [
    {
     "name": "stdout",
     "output_type": "stream",
     "text": [
      "CPU times: user 761 ms, sys: 356 ms, total: 1.12 s\n",
      "Wall time: 4.89 s\n"
     ]
    }
   ],
   "source": [
    "%%time\n",
    "from github import Github"
   ]
  },
  {
   "cell_type": "code",
   "execution_count": 2,
   "id": "e87586ff-1228-4d5d-a477-882f94658863",
   "metadata": {},
   "outputs": [
    {
     "name": "stdout",
     "output_type": "stream",
     "text": [
      "CPU times: user 1.39 s, sys: 1.07 s, total: 2.46 s\n",
      "Wall time: 8.16 s\n"
     ]
    }
   ],
   "source": [
    "%%time\n",
    "import pandas"
   ]
  },
  {
   "cell_type": "code",
   "execution_count": 3,
   "id": "1660e71b-2c58-4a60-9d56-f199a52faac1",
   "metadata": {},
   "outputs": [
    {
     "name": "stdout",
     "output_type": "stream",
     "text": [
      "CPU times: user 491 ms, sys: 205 ms, total: 696 ms\n",
      "Wall time: 3.75 s\n"
     ]
    }
   ],
   "source": [
    "%%time\n",
    "from matplotlib import pyplot"
   ]
  },
  {
   "cell_type": "code",
   "execution_count": 4,
   "id": "f09577d8-e655-479d-ab40-a24006cd5d05",
   "metadata": {},
   "outputs": [
    {
     "name": "stdout",
     "output_type": "stream",
     "text": [
      "CPU times: user 3 µs, sys: 1 µs, total: 4 µs\n",
      "Wall time: 7.15 µs\n"
     ]
    }
   ],
   "source": [
    "%%time\n",
    "import numpy"
   ]
  },
  {
   "cell_type": "code",
   "execution_count": 5,
   "id": "d03863b4-8b85-4e7e-ba29-5323fa3e4143",
   "metadata": {},
   "outputs": [
    {
     "name": "stdout",
     "output_type": "stream",
     "text": [
      "CPU times: user 1.08 s, sys: 698 ms, total: 1.78 s\n",
      "Wall time: 6.27 s\n"
     ]
    }
   ],
   "source": [
    "%%time\n",
    "import seaborn"
   ]
  },
  {
   "cell_type": "code",
   "execution_count": 6,
   "id": "e50788ff-03d1-44dc-b1f6-d14acf4d70c6",
   "metadata": {},
   "outputs": [
    {
     "name": "stdout",
     "output_type": "stream",
     "text": [
      "CPU times: user 10 µs, sys: 0 ns, total: 10 µs\n",
      "Wall time: 12.6 µs\n"
     ]
    }
   ],
   "source": [
    "%%time\n",
    "from datetime import datetime, timedelta"
   ]
  },
  {
   "cell_type": "markdown",
   "id": "c3d945c1-6f13-4cca-8db0-4ef6ac84274b",
   "metadata": {
    "tags": []
   },
   "source": [
    "# Resterampe"
   ]
  },
  {
   "cell_type": "code",
   "execution_count": null,
   "id": "d6b5a805-db50-42f8-bad6-5f11ccf16d0d",
   "metadata": {},
   "outputs": [],
   "source": [
    "issues = list(filter(lambda issue: issue.created_at >= start_date , repo.get_issues(state='all')))"
   ]
  },
  {
   "cell_type": "code",
   "execution_count": 9,
   "id": "7eece65f-804f-47fa-be73-9db0f3894966",
   "metadata": {},
   "outputs": [],
   "source": [
    "#issues_relevant = issues_dataframe[issues_dataframe.closed_at.isnull() | (issues_dataframe.closed_at > start_date)]\n",
    "#issues_relevant"
   ]
  },
  {
   "cell_type": "code",
   "execution_count": 5,
   "id": "3846995b-39cd-405f-9f93-cdad777b56e7",
   "metadata": {},
   "outputs": [],
   "source": [
    "test_issue = repo.get_issues(state='all')[0]"
   ]
  },
  {
   "cell_type": "code",
   "execution_count": 22,
   "id": "013cd99d-e46b-43e6-8d8a-08d673dc0b2d",
   "metadata": {
    "collapsed": true,
    "jupyter": {
     "outputs_hidden": true
    },
    "tags": []
   },
   "outputs": [
    {
     "data": {
      "text/plain": [
       "['CHECK_AFTER_INIT_FLAG',\n",
       " '_CompletableGithubObject__complete',\n",
       " '_CompletableGithubObject__completed',\n",
       " '_GithubObject__makeSimpleAttribute',\n",
       " '_GithubObject__makeSimpleListAttribute',\n",
       " '_GithubObject__makeTransformedAttribute',\n",
       " '__class__',\n",
       " '__delattr__',\n",
       " '__dict__',\n",
       " '__dir__',\n",
       " '__doc__',\n",
       " '__eq__',\n",
       " '__format__',\n",
       " '__ge__',\n",
       " '__getattribute__',\n",
       " '__gt__',\n",
       " '__hash__',\n",
       " '__init__',\n",
       " '__init_subclass__',\n",
       " '__le__',\n",
       " '__lt__',\n",
       " '__module__',\n",
       " '__ne__',\n",
       " '__new__',\n",
       " '__reduce__',\n",
       " '__reduce_ex__',\n",
       " '__repr__',\n",
       " '__setattr__',\n",
       " '__sizeof__',\n",
       " '__str__',\n",
       " '__subclasshook__',\n",
       " '__weakref__',\n",
       " '_active_lock_reason',\n",
       " '_assignee',\n",
       " '_assignees',\n",
       " '_body',\n",
       " '_closed_at',\n",
       " '_closed_by',\n",
       " '_comments',\n",
       " '_comments_url',\n",
       " '_completeIfNeeded',\n",
       " '_completeIfNotSet',\n",
       " '_created_at',\n",
       " '_events_url',\n",
       " '_headers',\n",
       " '_html_url',\n",
       " '_id',\n",
       " '_identity',\n",
       " '_initAttributes',\n",
       " '_labels',\n",
       " '_labels_url',\n",
       " '_locked',\n",
       " '_makeBoolAttribute',\n",
       " '_makeClassAttribute',\n",
       " '_makeDatetimeAttribute',\n",
       " '_makeDictAttribute',\n",
       " '_makeDictOfStringsToClassesAttribute',\n",
       " '_makeFloatAttribute',\n",
       " '_makeIntAttribute',\n",
       " '_makeListOfClassesAttribute',\n",
       " '_makeListOfDictsAttribute',\n",
       " '_makeListOfIntsAttribute',\n",
       " '_makeListOfListOfStringsAttribute',\n",
       " '_makeListOfStringsAttribute',\n",
       " '_makeStringAttribute',\n",
       " '_makeTimestampAttribute',\n",
       " '_milestone',\n",
       " '_number',\n",
       " '_parentUrl',\n",
       " '_pull_request',\n",
       " '_rawData',\n",
       " '_repository',\n",
       " '_requester',\n",
       " '_state',\n",
       " '_storeAndUseAttributes',\n",
       " '_title',\n",
       " '_updated_at',\n",
       " '_url',\n",
       " '_useAttributes',\n",
       " '_user',\n",
       " 'active_lock_reason',\n",
       " 'add_to_assignees',\n",
       " 'add_to_labels',\n",
       " 'as_pull_request',\n",
       " 'assignee',\n",
       " 'assignees',\n",
       " 'body',\n",
       " 'closed_at',\n",
       " 'closed_by',\n",
       " 'comments',\n",
       " 'comments_url',\n",
       " 'create_comment',\n",
       " 'create_reaction',\n",
       " 'created_at',\n",
       " 'delete_labels',\n",
       " 'delete_reaction',\n",
       " 'edit',\n",
       " 'etag',\n",
       " 'events_url',\n",
       " 'get__repr__',\n",
       " 'get_comment',\n",
       " 'get_comments',\n",
       " 'get_events',\n",
       " 'get_labels',\n",
       " 'get_reactions',\n",
       " 'get_timeline',\n",
       " 'html_url',\n",
       " 'id',\n",
       " 'labels',\n",
       " 'labels_url',\n",
       " 'last_modified',\n",
       " 'lock',\n",
       " 'locked',\n",
       " 'milestone',\n",
       " 'number',\n",
       " 'pull_request',\n",
       " 'raw_data',\n",
       " 'raw_headers',\n",
       " 'remove_from_assignees',\n",
       " 'remove_from_labels',\n",
       " 'repository',\n",
       " 'setCheckAfterInitFlag',\n",
       " 'set_labels',\n",
       " 'state',\n",
       " 'title',\n",
       " 'unlock',\n",
       " 'update',\n",
       " 'updated_at',\n",
       " 'url',\n",
       " 'user']"
      ]
     },
     "execution_count": 22,
     "metadata": {},
     "output_type": "execute_result"
    }
   ],
   "source": [
    "dir(test_issue)"
   ]
  },
  {
   "cell_type": "code",
   "execution_count": 17,
   "id": "d0c3eac5-894f-4bd1-9162-9732c022ac35",
   "metadata": {},
   "outputs": [
    {
     "data": {
      "text/plain": [
       "('self',\n",
       " 'milestone',\n",
       " 'state',\n",
       " 'assignee',\n",
       " 'mentioned',\n",
       " 'labels',\n",
       " 'sort',\n",
       " 'direction',\n",
       " 'since',\n",
       " 'creator',\n",
       " 'url_parameters')"
      ]
     },
     "execution_count": 17,
     "metadata": {},
     "output_type": "execute_result"
    }
   ],
   "source": [
    "repo.get_issues.__code__.co_varnames"
   ]
  },
  {
   "cell_type": "code",
   "execution_count": null,
   "id": "b037fd7c-36b5-4cb0-9015-1569bb359561",
   "metadata": {},
   "outputs": [],
   "source": [
    "issues_open_per_sprint = [0] * len(sprint_range)\n",
    "issues_open_per_sprint[0] = len(issues_open_at_start)\n",
    "for i in range(0, len(sprint_range)-1):\n",
    "    issues_open_per_sprint[i+1] = issues_open_per_sprint[i] + issues.opened[issues.index[0]+i] - issues.closed[issues.index[0]+i]\n",
    "issues['open_at_start'] = issues_open_per_sprint\n",
    "issues"
   ]
  },
  {
   "cell_type": "code",
   "execution_count": null,
   "id": "3b9d86d7-174e-4b0a-96c2-9203b79f99ec",
   "metadata": {},
   "outputs": [],
   "source": [
    "issues_open_at_start = issues_dataframe[(issues_dataframe.created_at < start_date) & (issues_dataframe.closed_at.isnull() | (issues_dataframe.closed_at > start_date))]\n",
    "issues_open_at_start"
   ]
  },
  {
   "cell_type": "code",
   "execution_count": null,
   "id": "78fbe9ca-0537-477e-bff2-4fa51e8530b7",
   "metadata": {},
   "outputs": [],
   "source": [
    "start_date = sprint_to_start_date(start_sprint)\n",
    "end_date = sprint_to_start_date(end_sprint+1) # +1 because we want the end sprint to be inclusive, so we take the start of the next as interval end\n",
    "sprint_range = range(start_sprint, end_sprint+1)"
   ]
  },
  {
   "cell_type": "code",
   "execution_count": 45,
   "id": "a67bc26d-ede3-4867-b471-13233886a66e",
   "metadata": {},
   "outputs": [
    {
     "ename": "TypeError",
     "evalue": "bar() missing 1 required positional argument: 'height'",
     "output_type": "error",
     "traceback": [
      "\u001b[0;31m---------------------------------------------------------------------------\u001b[0m",
      "\u001b[0;31mTypeError\u001b[0m                                 Traceback (most recent call last)",
      "\u001b[0;32m<ipython-input-45-8bccca1b7d4b>\u001b[0m in \u001b[0;36m<module>\u001b[0;34m\u001b[0m\n\u001b[1;32m      1\u001b[0m \u001b[0mpyplot\u001b[0m\u001b[0;34m.\u001b[0m\u001b[0mfigure\u001b[0m\u001b[0;34m(\u001b[0m\u001b[0mfigsize\u001b[0m\u001b[0;34m=\u001b[0m\u001b[0;34m(\u001b[0m\u001b[0;36m20\u001b[0m\u001b[0;34m,\u001b[0m \u001b[0;36m10\u001b[0m\u001b[0;34m)\u001b[0m\u001b[0;34m)\u001b[0m\u001b[0;34m\u001b[0m\u001b[0;34m\u001b[0m\u001b[0m\n\u001b[0;32m----> 2\u001b[0;31m \u001b[0mpyplot\u001b[0m\u001b[0;34m.\u001b[0m\u001b[0mbar\u001b[0m\u001b[0;34m(\u001b[0m\u001b[0mgroups\u001b[0m\u001b[0;34m)\u001b[0m\u001b[0;34m\u001b[0m\u001b[0;34m\u001b[0m\u001b[0m\n\u001b[0m",
      "\u001b[0;31mTypeError\u001b[0m: bar() missing 1 required positional argument: 'height'"
     ]
    },
    {
     "data": {
      "text/plain": [
       "<Figure size 1440x720 with 0 Axes>"
      ]
     },
     "metadata": {},
     "output_type": "display_data"
    }
   ],
   "source": [
    "pyplot.figure(figsize=(20, 10))\n",
    "pyplot.bar(groups)"
   ]
  },
  {
   "cell_type": "code",
   "execution_count": null,
   "id": "e379e63c-69d8-416f-9359-af4f6968c488",
   "metadata": {},
   "outputs": [],
   "source": []
  },
  {
   "cell_type": "markdown",
   "id": "c24a94f9-077a-48b4-b9a5-f1e8593c40a1",
   "metadata": {
    "tags": []
   },
   "source": [
    "## Data Collection and Preprocessing"
   ]
  },
  {
   "cell_type": "code",
   "execution_count": 67,
   "id": "eed9e81d-b095-4a2b-9ced-c9493a2080f5",
   "metadata": {},
   "outputs": [],
   "source": [
    "repo = server_repo"
   ]
  },
  {
   "cell_type": "code",
   "execution_count": 68,
   "id": "50ec056e-4275-4621-9f13-5c1033a0c882",
   "metadata": {
    "tags": []
   },
   "outputs": [
    {
     "data": {
      "text/plain": [
       "<github.PaginatedList.PaginatedList at 0x7f45decffa58>"
      ]
     },
     "execution_count": 68,
     "metadata": {},
     "output_type": "execute_result"
    }
   ],
   "source": [
    "issues_raw = repo.get_issues(state='all')\n",
    "issues_raw"
   ]
  },
  {
   "cell_type": "code",
   "execution_count": 69,
   "id": "98f49a3c-0948-4e09-b418-feb63f3e9102",
   "metadata": {
    "tags": []
   },
   "outputs": [
    {
     "data": {
      "text/html": [
       "<div>\n",
       "<style scoped>\n",
       "    .dataframe tbody tr th:only-of-type {\n",
       "        vertical-align: middle;\n",
       "    }\n",
       "\n",
       "    .dataframe tbody tr th {\n",
       "        vertical-align: top;\n",
       "    }\n",
       "\n",
       "    .dataframe thead th {\n",
       "        text-align: right;\n",
       "    }\n",
       "</style>\n",
       "<table border=\"1\" class=\"dataframe\">\n",
       "  <thead>\n",
       "    <tr style=\"text-align: right;\">\n",
       "      <th></th>\n",
       "      <th>number</th>\n",
       "      <th>title</th>\n",
       "      <th>labels</th>\n",
       "      <th>created_at</th>\n",
       "      <th>closed_at</th>\n",
       "    </tr>\n",
       "  </thead>\n",
       "  <tbody>\n",
       "    <tr>\n",
       "      <th>0</th>\n",
       "      <td>1937</td>\n",
       "      <td>Bump s3 from 2.17.182 to 2.18.0</td>\n",
       "      <td>[Label(name=\"dependencies\")]</td>\n",
       "      <td>2022-10-21 02:11:44</td>\n",
       "      <td>NaT</td>\n",
       "    </tr>\n",
       "    <tr>\n",
       "      <th>1</th>\n",
       "      <td>1936</td>\n",
       "      <td>Bump spring-boot.version from 2.7.4 to 2.7.5</td>\n",
       "      <td>[Label(name=\"dependencies\")]</td>\n",
       "      <td>2022-10-21 02:11:41</td>\n",
       "      <td>NaT</td>\n",
       "    </tr>\n",
       "    <tr>\n",
       "      <th>2</th>\n",
       "      <td>1935</td>\n",
       "      <td>Bump protobuf.version from 3.21.7 to 3.21.8</td>\n",
       "      <td>[Label(name=\"dependencies\")]</td>\n",
       "      <td>2022-10-19 02:06:39</td>\n",
       "      <td>NaT</td>\n",
       "    </tr>\n",
       "    <tr>\n",
       "      <th>3</th>\n",
       "      <td>1934</td>\n",
       "      <td>Feature/allowlist json validation</td>\n",
       "      <td>[]</td>\n",
       "      <td>2022-10-18 08:07:19</td>\n",
       "      <td>NaT</td>\n",
       "    </tr>\n",
       "    <tr>\n",
       "      <th>4</th>\n",
       "      <td>1933</td>\n",
       "      <td>Bump spring-retry from 1.3.3 to 1.3.4</td>\n",
       "      <td>[Label(name=\"dependencies\")]</td>\n",
       "      <td>2022-10-17 02:04:45</td>\n",
       "      <td>NaT</td>\n",
       "    </tr>\n",
       "    <tr>\n",
       "      <th>...</th>\n",
       "      <td>...</td>\n",
       "      <td>...</td>\n",
       "      <td>...</td>\n",
       "      <td>...</td>\n",
       "      <td>...</td>\n",
       "    </tr>\n",
       "    <tr>\n",
       "      <th>1909</th>\n",
       "      <td>6</td>\n",
       "      <td>Index File Generation</td>\n",
       "      <td>[Label(name=\"distribution service\")]</td>\n",
       "      <td>2020-04-30 17:55:26</td>\n",
       "      <td>2020-05-14 16:24:46</td>\n",
       "    </tr>\n",
       "    <tr>\n",
       "      <th>1910</th>\n",
       "      <td>5</td>\n",
       "      <td>Set Retention Days to 14</td>\n",
       "      <td>[]</td>\n",
       "      <td>2020-04-30 17:46:31</td>\n",
       "      <td>2020-05-15 08:11:48</td>\n",
       "    </tr>\n",
       "    <tr>\n",
       "      <th>1911</th>\n",
       "      <td>9</td>\n",
       "      <td>Setup Wiki</td>\n",
       "      <td>[]</td>\n",
       "      <td>2020-04-28 10:19:38</td>\n",
       "      <td>2020-05-10 08:43:47</td>\n",
       "    </tr>\n",
       "    <tr>\n",
       "      <th>1912</th>\n",
       "      <td>2</td>\n",
       "      <td>DDoS protection</td>\n",
       "      <td>[]</td>\n",
       "      <td>2020-04-28 10:10:33</td>\n",
       "      <td>2020-05-10 14:58:38</td>\n",
       "    </tr>\n",
       "    <tr>\n",
       "      <th>1913</th>\n",
       "      <td>1</td>\n",
       "      <td>Protobuf file generation cron job to be pushed...</td>\n",
       "      <td>[Label(name=\"distribution service\")]</td>\n",
       "      <td>2020-04-28 10:09:12</td>\n",
       "      <td>2020-05-15 12:13:04</td>\n",
       "    </tr>\n",
       "  </tbody>\n",
       "</table>\n",
       "<p>1914 rows × 5 columns</p>\n",
       "</div>"
      ],
      "text/plain": [
       "      number                                              title  \\\n",
       "0       1937                    Bump s3 from 2.17.182 to 2.18.0   \n",
       "1       1936       Bump spring-boot.version from 2.7.4 to 2.7.5   \n",
       "2       1935        Bump protobuf.version from 3.21.7 to 3.21.8   \n",
       "3       1934                  Feature/allowlist json validation   \n",
       "4       1933              Bump spring-retry from 1.3.3 to 1.3.4   \n",
       "...      ...                                                ...   \n",
       "1909       6                              Index File Generation   \n",
       "1910       5                           Set Retention Days to 14   \n",
       "1911       9                                         Setup Wiki   \n",
       "1912       2                                    DDoS protection   \n",
       "1913       1  Protobuf file generation cron job to be pushed...   \n",
       "\n",
       "                                    labels          created_at  \\\n",
       "0             [Label(name=\"dependencies\")] 2022-10-21 02:11:44   \n",
       "1             [Label(name=\"dependencies\")] 2022-10-21 02:11:41   \n",
       "2             [Label(name=\"dependencies\")] 2022-10-19 02:06:39   \n",
       "3                                       [] 2022-10-18 08:07:19   \n",
       "4             [Label(name=\"dependencies\")] 2022-10-17 02:04:45   \n",
       "...                                    ...                 ...   \n",
       "1909  [Label(name=\"distribution service\")] 2020-04-30 17:55:26   \n",
       "1910                                    [] 2020-04-30 17:46:31   \n",
       "1911                                    [] 2020-04-28 10:19:38   \n",
       "1912                                    [] 2020-04-28 10:10:33   \n",
       "1913  [Label(name=\"distribution service\")] 2020-04-28 10:09:12   \n",
       "\n",
       "               closed_at  \n",
       "0                    NaT  \n",
       "1                    NaT  \n",
       "2                    NaT  \n",
       "3                    NaT  \n",
       "4                    NaT  \n",
       "...                  ...  \n",
       "1909 2020-05-14 16:24:46  \n",
       "1910 2020-05-15 08:11:48  \n",
       "1911 2020-05-10 08:43:47  \n",
       "1912 2020-05-10 14:58:38  \n",
       "1913 2020-05-15 12:13:04  \n",
       "\n",
       "[1914 rows x 5 columns]"
      ]
     },
     "execution_count": 69,
     "metadata": {},
     "output_type": "execute_result"
    }
   ],
   "source": [
    "attributes = ['number', 'title', 'labels', 'created_at', 'closed_at']\n",
    "issues_dataframe = pandas.DataFrame([[getattr(issue, attr) for attr in attributes] for issue in issues_raw], columns=attributes)\n",
    "issues_dataframe"
   ]
  },
  {
   "cell_type": "code",
   "execution_count": 70,
   "id": "eb521c46-14f5-4007-9122-17b306a78850",
   "metadata": {},
   "outputs": [],
   "source": [
    "issues_opened_per_sprint = issues_dataframe.groupby(by=(lambda index: date_to_sprint(issues_dataframe.loc[index]['created_at'])))['number'].count().astype('Int64')\n",
    "issues_closed_per_sprint = issues_dataframe[issues_dataframe.closed_at.notnull()].groupby(by=(lambda index: date_to_sprint(issues_dataframe.loc[index]['closed_at'])))['number'].count().astype('Int64')"
   ]
  },
  {
   "cell_type": "code",
   "execution_count": 71,
   "id": "335bf754-6368-48ed-b879-0be24d8ba121",
   "metadata": {
    "tags": []
   },
   "outputs": [],
   "source": [
    "issues = pandas.DataFrame(index=range(0, date_to_sprint(datetime.today()))) # The range ensures that there are rows for sprints where no issues were opened or closed\n",
    "issues = pandas.concat([issues, issues_opened_per_sprint, issues_closed_per_sprint], axis='columns')\n",
    "issues.index.name = 'sprint'\n",
    "issues.columns = ['opened', 'closed']\n",
    "issues = issues.fillna(0) # Replace NaN values from outer join with zero\n",
    "# issues"
   ]
  },
  {
   "cell_type": "code",
   "execution_count": 72,
   "id": "ed1c99bd-17b5-4047-8c46-6d9cbb679925",
   "metadata": {},
   "outputs": [
    {
     "name": "stderr",
     "output_type": "stream",
     "text": [
      "/mnt/d/Users/Leon Bein/Documents/HPI/U_Masterarbeit/masterThesisCode/.venv/lib/python3.6/site-packages/ipykernel_launcher.py:3: SettingWithCopyWarning: \n",
      "A value is trying to be set on a copy of a slice from a DataFrame\n",
      "\n",
      "See the caveats in the documentation: https://pandas.pydata.org/pandas-docs/stable/user_guide/indexing.html#returning-a-view-versus-a-copy\n",
      "  This is separate from the ipykernel package so we can avoid doing imports until\n"
     ]
    },
    {
     "data": {
      "text/html": [
       "<div>\n",
       "<style scoped>\n",
       "    .dataframe tbody tr th:only-of-type {\n",
       "        vertical-align: middle;\n",
       "    }\n",
       "\n",
       "    .dataframe tbody tr th {\n",
       "        vertical-align: top;\n",
       "    }\n",
       "\n",
       "    .dataframe thead th {\n",
       "        text-align: right;\n",
       "    }\n",
       "</style>\n",
       "<table border=\"1\" class=\"dataframe\">\n",
       "  <thead>\n",
       "    <tr style=\"text-align: right;\">\n",
       "      <th></th>\n",
       "      <th>opened</th>\n",
       "      <th>closed</th>\n",
       "      <th>open_at_start</th>\n",
       "    </tr>\n",
       "    <tr>\n",
       "      <th>sprint</th>\n",
       "      <th></th>\n",
       "      <th></th>\n",
       "      <th></th>\n",
       "    </tr>\n",
       "  </thead>\n",
       "  <tbody>\n",
       "    <tr>\n",
       "      <th>0</th>\n",
       "      <td>0</td>\n",
       "      <td>0</td>\n",
       "      <td>0</td>\n",
       "    </tr>\n",
       "    <tr>\n",
       "      <th>1</th>\n",
       "      <td>60</td>\n",
       "      <td>39</td>\n",
       "      <td>0</td>\n",
       "    </tr>\n",
       "    <tr>\n",
       "      <th>2</th>\n",
       "      <td>227</td>\n",
       "      <td>201</td>\n",
       "      <td>21</td>\n",
       "    </tr>\n",
       "    <tr>\n",
       "      <th>3</th>\n",
       "      <td>175</td>\n",
       "      <td>199</td>\n",
       "      <td>47</td>\n",
       "    </tr>\n",
       "    <tr>\n",
       "      <th>4</th>\n",
       "      <td>137</td>\n",
       "      <td>123</td>\n",
       "      <td>23</td>\n",
       "    </tr>\n",
       "    <tr>\n",
       "      <th>...</th>\n",
       "      <td>...</td>\n",
       "      <td>...</td>\n",
       "      <td>...</td>\n",
       "    </tr>\n",
       "    <tr>\n",
       "      <th>61</th>\n",
       "      <td>9</td>\n",
       "      <td>10</td>\n",
       "      <td>5</td>\n",
       "    </tr>\n",
       "    <tr>\n",
       "      <th>62</th>\n",
       "      <td>10</td>\n",
       "      <td>12</td>\n",
       "      <td>4</td>\n",
       "    </tr>\n",
       "    <tr>\n",
       "      <th>63</th>\n",
       "      <td>14</td>\n",
       "      <td>12</td>\n",
       "      <td>2</td>\n",
       "    </tr>\n",
       "    <tr>\n",
       "      <th>64</th>\n",
       "      <td>16</td>\n",
       "      <td>17</td>\n",
       "      <td>4</td>\n",
       "    </tr>\n",
       "    <tr>\n",
       "      <th>65</th>\n",
       "      <td>9</td>\n",
       "      <td>6</td>\n",
       "      <td>3</td>\n",
       "    </tr>\n",
       "  </tbody>\n",
       "</table>\n",
       "<p>66 rows × 3 columns</p>\n",
       "</div>"
      ],
      "text/plain": [
       "        opened  closed  open_at_start\n",
       "sprint                               \n",
       "0            0       0              0\n",
       "1           60      39              0\n",
       "2          227     201             21\n",
       "3          175     199             47\n",
       "4          137     123             23\n",
       "...        ...     ...            ...\n",
       "61           9      10              5\n",
       "62          10      12              4\n",
       "63          14      12              2\n",
       "64          16      17              4\n",
       "65           9       6              3\n",
       "\n",
       "[66 rows x 3 columns]"
      ]
     },
     "execution_count": 72,
     "metadata": {},
     "output_type": "execute_result"
    }
   ],
   "source": [
    "issues['open_at_start'] = 0\n",
    "for sprint in range(1, max(issues.index)+1):\n",
    "    issues.open_at_start[sprint] = issues.open_at_start[sprint-1] + issues.opened[sprint-1] - issues.closed[sprint-1]\n",
    "issues"
   ]
  },
  {
   "cell_type": "code",
   "execution_count": 65,
   "id": "71c27a2c-ab22-4a94-9102-70220d7121bd",
   "metadata": {},
   "outputs": [
    {
     "data": {
      "text/plain": [
       "142    [1797, Failed to instantiate distribution serv...\n",
       "146                       [1793, Kubernetes deployments]\n",
       "362    [1575, Quantitative analysis on the CWA code b...\n",
       "904                [1027, Feature/optimized dockerfiles]\n",
       "dtype: object"
      ]
     },
     "execution_count": 65,
     "metadata": {},
     "output_type": "execute_result"
    }
   ],
   "source": [
    "sprint_to_analyze = 55\n",
    "issues_dataframe[issues_dataframe.apply(lambda x: date_to_sprint(x.issue.created_at) < sprint_to_analyze and ((x.issue.closed_at is None) or (date_to_sprint(x.issue.closed_at) >= sprint_to_analyze)), axis=1)].apply(lambda x: [x.issue.number, x.issue.title], axis=1)"
   ]
  },
  {
   "cell_type": "code",
   "execution_count": 58,
   "id": "dfafd8b3-7ed2-4d56-b224-1e11eec6f249",
   "metadata": {},
   "outputs": [
    {
     "data": {
      "text/html": [
       "<div>\n",
       "<style scoped>\n",
       "    .dataframe tbody tr th:only-of-type {\n",
       "        vertical-align: middle;\n",
       "    }\n",
       "\n",
       "    .dataframe tbody tr th {\n",
       "        vertical-align: top;\n",
       "    }\n",
       "\n",
       "    .dataframe thead th {\n",
       "        text-align: right;\n",
       "    }\n",
       "</style>\n",
       "<table border=\"1\" class=\"dataframe\">\n",
       "  <thead>\n",
       "    <tr style=\"text-align: right;\">\n",
       "      <th></th>\n",
       "      <th>issue</th>\n",
       "    </tr>\n",
       "  </thead>\n",
       "  <tbody>\n",
       "    <tr>\n",
       "      <th>28</th>\n",
       "      <td>Issue(title=\"use PROD values as default\", numb...</td>\n",
       "    </tr>\n",
       "    <tr>\n",
       "      <th>29</th>\n",
       "      <td>Issue(title=\"Feature/json validation\", number=...</td>\n",
       "    </tr>\n",
       "    <tr>\n",
       "      <th>146</th>\n",
       "      <td>Issue(title=\"Kubernetes deployments\", number=1...</td>\n",
       "    </tr>\n",
       "    <tr>\n",
       "      <th>904</th>\n",
       "      <td>Issue(title=\"Feature/optimized dockerfiles\", n...</td>\n",
       "    </tr>\n",
       "  </tbody>\n",
       "</table>\n",
       "</div>"
      ],
      "text/plain": [
       "                                                 issue\n",
       "28   Issue(title=\"use PROD values as default\", numb...\n",
       "29   Issue(title=\"Feature/json validation\", number=...\n",
       "146  Issue(title=\"Kubernetes deployments\", number=1...\n",
       "904  Issue(title=\"Feature/optimized dockerfiles\", n..."
      ]
     },
     "execution_count": 58,
     "metadata": {},
     "output_type": "execute_result"
    }
   ],
   "source": [
    "sprint_to_analyze = 64\n",
    "issues_dataframe[issues_dataframe.apply(lambda x: date_to_sprint(x.issue.created_at) < sprint_to_analyze and ((x.issue.closed_at is None) or (date_to_sprint(x.issue.closed_at) >= sprint_to_analyze)), axis=1)]"
   ]
  },
  {
   "cell_type": "code",
   "execution_count": 46,
   "id": "aba2ebcd-e326-40d4-8a19-9e4889d86c81",
   "metadata": {},
   "outputs": [
    {
     "data": {
      "text/plain": [
       "308    2022-08-01 18:29:36\n",
       "311    2022-07-28 23:57:50\n",
       "312    2022-07-28 20:43:32\n",
       "339    2022-07-20 12:15:11\n",
       "352    2022-07-18 09:20:08\n",
       "               ...        \n",
       "1819   2021-07-30 17:53:30\n",
       "1821   2021-07-30 14:27:36\n",
       "1830   2021-07-29 13:07:35\n",
       "1865   2021-07-26 09:13:23\n",
       "1866   2021-07-26 10:35:35\n",
       "Name: created_at, Length: 187, dtype: datetime64[ns]"
      ]
     },
     "execution_count": 46,
     "metadata": {},
     "output_type": "execute_result"
    }
   ],
   "source": [
    "#def forward_weekend(column):\n",
    "    return column + (column.dt.day_name() == 'Saturday') * timedelta(days=2) + (column.dt.day_name() == 'Sunday') * timedelta(days=1) \n",
    "forward_weekend(customer_issues.created_at)"
   ]
  },
  {
   "cell_type": "code",
   "execution_count": 145,
   "id": "8cacf67f-ad49-47b5-b391-d4472f923f0e",
   "metadata": {},
   "outputs": [
    {
     "name": "stderr",
     "output_type": "stream",
     "text": [
      "/mnt/d/Users/Leon Bein/Documents/HPI/U_Masterarbeit/masterThesisCode/.venv/lib/python3.6/site-packages/ipykernel_launcher.py:3: SettingWithCopyWarning: \n",
      "A value is trying to be set on a copy of a slice from a DataFrame.\n",
      "Try using .loc[row_indexer,col_indexer] = value instead\n",
      "\n",
      "See the caveats in the documentation: https://pandas.pydata.org/pandas-docs/stable/user_guide/indexing.html#returning-a-view-versus-a-copy\n",
      "  This is separate from the ipykernel package so we can avoid doing imports until\n"
     ]
    },
    {
     "data": {
      "text/html": [
       "<div>\n",
       "<style scoped>\n",
       "    .dataframe tbody tr th:only-of-type {\n",
       "        vertical-align: middle;\n",
       "    }\n",
       "\n",
       "    .dataframe tbody tr th {\n",
       "        vertical-align: top;\n",
       "    }\n",
       "\n",
       "    .dataframe thead th {\n",
       "        text-align: right;\n",
       "    }\n",
       "</style>\n",
       "<table border=\"1\" class=\"dataframe\">\n",
       "  <thead>\n",
       "    <tr style=\"text-align: right;\">\n",
       "      <th></th>\n",
       "      <th>issue</th>\n",
       "      <th>issue_number</th>\n",
       "      <th>created_at</th>\n",
       "      <th>created_sprint</th>\n",
       "      <th>created_at_normalized</th>\n",
       "    </tr>\n",
       "  </thead>\n",
       "  <tbody>\n",
       "    <tr>\n",
       "      <th>1551</th>\n",
       "      <td>Issue(title=\"Don't show \"Letzte Impfung vor 0 ...</td>\n",
       "      <td>4122</td>\n",
       "      <td>2021-09-26 08:59:11</td>\n",
       "      <td>2021-09-13</td>\n",
       "      <td>2021-09-27 00:00:00</td>\n",
       "    </tr>\n",
       "    <tr>\n",
       "      <th>1601</th>\n",
       "      <td>Issue(title=\"Offer creation of a start screen ...</td>\n",
       "      <td>4070</td>\n",
       "      <td>2021-09-14 15:30:08</td>\n",
       "      <td>2021-09-13</td>\n",
       "      <td>2021-09-14 15:30:08</td>\n",
       "    </tr>\n",
       "    <tr>\n",
       "      <th>1605</th>\n",
       "      <td>Issue(title=\"Last risk check is ignored\", numb...</td>\n",
       "      <td>4066</td>\n",
       "      <td>2021-09-14 13:28:31</td>\n",
       "      <td>2021-09-13</td>\n",
       "      <td>2021-09-14 13:28:31</td>\n",
       "    </tr>\n",
       "    <tr>\n",
       "      <th>1618</th>\n",
       "      <td>Issue(title=\"Vaccination Certificate Validity ...</td>\n",
       "      <td>4053</td>\n",
       "      <td>2021-09-11 15:14:01</td>\n",
       "      <td>2021-08-30</td>\n",
       "      <td>2021-09-13 00:00:00</td>\n",
       "    </tr>\n",
       "    <tr>\n",
       "      <th>1619</th>\n",
       "      <td>Issue(title=\"Abuse Covid Test Verification\", n...</td>\n",
       "      <td>4051</td>\n",
       "      <td>2021-09-10 17:01:49</td>\n",
       "      <td>2021-08-30</td>\n",
       "      <td>2021-09-10 17:01:49</td>\n",
       "    </tr>\n",
       "    <tr>\n",
       "      <th>...</th>\n",
       "      <td>...</td>\n",
       "      <td>...</td>\n",
       "      <td>...</td>\n",
       "      <td>...</td>\n",
       "      <td>...</td>\n",
       "    </tr>\n",
       "    <tr>\n",
       "      <th>4431</th>\n",
       "      <td>Issue(title=\"URSACHE: 9002 Etwas ist schiefgel...</td>\n",
       "      <td>1188</td>\n",
       "      <td>2020-09-20 14:56:16</td>\n",
       "      <td>2020-09-14</td>\n",
       "      <td>2020-09-21 00:00:00</td>\n",
       "    </tr>\n",
       "    <tr>\n",
       "      <th>4432</th>\n",
       "      <td>Issue(title=\"9002: Timeout waiting for 180000 ...</td>\n",
       "      <td>1187</td>\n",
       "      <td>2020-09-20 09:49:34</td>\n",
       "      <td>2020-09-14</td>\n",
       "      <td>2020-09-21 00:00:00</td>\n",
       "    </tr>\n",
       "    <tr>\n",
       "      <th>4434</th>\n",
       "      <td>Issue(title=\"Risk display wrongly show low ris...</td>\n",
       "      <td>1185</td>\n",
       "      <td>2020-09-19 12:47:16</td>\n",
       "      <td>2020-09-14</td>\n",
       "      <td>2020-09-21 00:00:00</td>\n",
       "    </tr>\n",
       "    <tr>\n",
       "      <th>4435</th>\n",
       "      <td>Issue(title=\"Entweder: fehlende Benachrichtigu...</td>\n",
       "      <td>1184</td>\n",
       "      <td>2020-09-19 09:25:18</td>\n",
       "      <td>2020-09-14</td>\n",
       "      <td>2020-09-21 00:00:00</td>\n",
       "    </tr>\n",
       "    <tr>\n",
       "      <th>4469</th>\n",
       "      <td>Issue(title=\"Risk Actualisation not working af...</td>\n",
       "      <td>1149</td>\n",
       "      <td>2020-09-14 07:30:03</td>\n",
       "      <td>2020-09-14</td>\n",
       "      <td>2020-09-14 07:30:03</td>\n",
       "    </tr>\n",
       "  </tbody>\n",
       "</table>\n",
       "<p>315 rows × 5 columns</p>\n",
       "</div>"
      ],
      "text/plain": [
       "                                                  issue  issue_number  \\\n",
       "1551  Issue(title=\"Don't show \"Letzte Impfung vor 0 ...          4122   \n",
       "1601  Issue(title=\"Offer creation of a start screen ...          4070   \n",
       "1605  Issue(title=\"Last risk check is ignored\", numb...          4066   \n",
       "1618  Issue(title=\"Vaccination Certificate Validity ...          4053   \n",
       "1619  Issue(title=\"Abuse Covid Test Verification\", n...          4051   \n",
       "...                                                 ...           ...   \n",
       "4431  Issue(title=\"URSACHE: 9002 Etwas ist schiefgel...          1188   \n",
       "4432  Issue(title=\"9002: Timeout waiting for 180000 ...          1187   \n",
       "4434  Issue(title=\"Risk display wrongly show low ris...          1185   \n",
       "4435  Issue(title=\"Entweder: fehlende Benachrichtigu...          1184   \n",
       "4469  Issue(title=\"Risk Actualisation not working af...          1149   \n",
       "\n",
       "              created_at created_sprint created_at_normalized  \n",
       "1551 2021-09-26 08:59:11     2021-09-13   2021-09-27 00:00:00  \n",
       "1601 2021-09-14 15:30:08     2021-09-13   2021-09-14 15:30:08  \n",
       "1605 2021-09-14 13:28:31     2021-09-13   2021-09-14 13:28:31  \n",
       "1618 2021-09-11 15:14:01     2021-08-30   2021-09-13 00:00:00  \n",
       "1619 2021-09-10 17:01:49     2021-08-30   2021-09-10 17:01:49  \n",
       "...                  ...            ...                   ...  \n",
       "4431 2020-09-20 14:56:16     2020-09-14   2020-09-21 00:00:00  \n",
       "4432 2020-09-20 09:49:34     2020-09-14   2020-09-21 00:00:00  \n",
       "4434 2020-09-19 12:47:16     2020-09-14   2020-09-21 00:00:00  \n",
       "4435 2020-09-19 09:25:18     2020-09-14   2020-09-21 00:00:00  \n",
       "4469 2020-09-14 07:30:03     2020-09-14   2020-09-14 07:30:03  \n",
       "\n",
       "[315 rows x 5 columns]"
      ]
     },
     "execution_count": 145,
     "metadata": {},
     "output_type": "execute_result"
    }
   ],
   "source": [
    "def forward_weekend(column):\n",
    "    return column + (column.dt.dayofweek >= 5) * (datetime(1990,1,1) - column + (column.dt.date - datetime(1990,1,1).date()) + (7 - column.dt.dayofweek) * timedelta(days=1))\n",
    "customer_issues['created_at_normalized'] = forward_weekend(customer_issues.created_at)\n",
    "customer_issues"
   ]
  },
  {
   "cell_type": "code",
   "execution_count": 157,
   "id": "87404b73-b7d9-4cbb-91a0-cbab12fff0ec",
   "metadata": {},
   "outputs": [
    {
     "data": {
      "text/plain": [
       "<AxesSubplot:title={'center':'time_to_react_hours'}, xlabel='created_sprint'>"
      ]
     },
     "execution_count": 157,
     "metadata": {},
     "output_type": "execute_result"
    },
    {
     "data": {
      "image/png": "[encoded data removed]",
      "text/plain": [
       "<Figure size 720x360 with 1 Axes>"
      ]
     },
     "metadata": {
      "needs_background": "light"
     },
     "output_type": "display_data"
    }
   ],
   "source": [
    "focus_issues[focus_issues.created_at.dt.dayofweek < 5].boxplot(column='time_to_react_hours', by='created_sprint', rot=90, showfliers=False, boxprops=dict(facecolor='blue', color='blue'), patch_artist=True)"
   ]
  },
  {
   "cell_type": "markdown",
   "id": "21939a55-38da-48f3-8948-adf7b3ce99e3",
   "metadata": {
    "tags": []
   },
   "source": [
    "# The team"
   ]
  },
  {
   "cell_type": "code",
   "execution_count": 11,
   "id": "26b61531-b7d7-454a-a1a3-3f211103ed97",
   "metadata": {
    "tags": []
   },
   "outputs": [],
   "source": [
    "# This is a programmatic way to determine the team. One would expect however, that the team is managed elsewhere\n",
    "# Let's assume that all developers with less than 5 commits were not active developers\n",
    "app_team = list(map(lambda stats: stats.author, filter(lambda stats: stats.total >= 15, app_repo.get_stats_contributors())))"
   ]
  },
  {
   "cell_type": "code",
   "execution_count": 6,
   "id": "a5da9dec-be25-4e39-b168-e06b8d4c6464",
   "metadata": {},
   "outputs": [],
   "source": [
    "sap = g.get_organization('SAP')\n",
    "cwa = g.get_organization('corona-warn-app')"
   ]
  },
  {
   "cell_type": "code",
   "execution_count": 46,
   "id": "8e24fcbb-eff3-46f4-b31f-7efc5f0b3e4a",
   "metadata": {},
   "outputs": [
    {
     "data": {
      "text/plain": [
       "[NamedUser(login=\"AdnanZiSAP\"),\n",
       " NamedUser(login=\"christian-kirschnick\"),\n",
       " NamedUser(login=\"christianneu\"),\n",
       " NamedUser(login=\"EvgeniiSkrebtcov\"),\n",
       " NamedUser(login=\"haosap\"),\n",
       " NamedUser(login=\"hilmarf\"),\n",
       " NamedUser(login=\"inf2381\"),\n",
       " NamedUser(login=\"johanneseschrig\"),\n",
       " NamedUser(login=\"johannesrohwer\"),\n",
       " NamedUser(login=\"MalteJ\"),\n",
       " NamedUser(login=\"marcauberer\"),\n",
       " NamedUser(login=\"Marco2907\"),\n",
       " NamedUser(login=\"mibrasap\"),\n",
       " NamedUser(login=\"michael-burwig\"),\n",
       " NamedUser(login=\"mlenkeit\"),\n",
       " NamedUser(login=\"PetrusVanHeaven\"),\n",
       " NamedUser(login=\"pithumke\"),\n",
       " NamedUser(login=\"SebastianWolf-SAP\"),\n",
       " NamedUser(login=\"steins-code\"),\n",
       " NamedUser(login=\"T-Bendrath\"),\n",
       " NamedUser(login=\"tkowark\")]"
      ]
     },
     "execution_count": 46,
     "metadata": {},
     "output_type": "execute_result"
    }
   ],
   "source": [
    "list(filter(lambda member: ('SAP' in (member.company or '').upper()) or member.login.upper().endswith('SAP') or sap.has_in_members(member), cwa.get_members()))"
   ]
  },
  {
   "cell_type": "code",
   "execution_count": 48,
   "id": "1adaf918-fc12-4ae6-87a7-e8328882dfb6",
   "metadata": {},
   "outputs": [
    {
     "data": {
      "text/plain": [
       "[NamedUser(login=\"AdnanZiSAP\"),\n",
       " NamedUser(login=\"christian-kirschnick\"),\n",
       " NamedUser(login=\"christianneu\"),\n",
       " NamedUser(login=\"EvgeniiSkrebtcov\"),\n",
       " NamedUser(login=\"haosap\"),\n",
       " NamedUser(login=\"hilmarf\"),\n",
       " NamedUser(login=\"inf2381\"),\n",
       " NamedUser(login=\"johanneseschrig\"),\n",
       " NamedUser(login=\"johannesrohwer\"),\n",
       " NamedUser(login=\"MalteJ\"),\n",
       " NamedUser(login=\"marcauberer\"),\n",
       " NamedUser(login=\"Marco2907\"),\n",
       " NamedUser(login=\"mibrasap\"),\n",
       " NamedUser(login=\"michael-burwig\"),\n",
       " NamedUser(login=\"mlenkeit\"),\n",
       " NamedUser(login=\"PetrusVanHeaven\"),\n",
       " NamedUser(login=\"pithumke\"),\n",
       " NamedUser(login=\"SebastianWolf-SAP\"),\n",
       " NamedUser(login=\"steins-code\"),\n",
       " NamedUser(login=\"T-Bendrath\"),\n",
       " NamedUser(login=\"tkowark\")]"
      ]
     },
     "execution_count": 48,
     "metadata": {},
     "output_type": "execute_result"
    }
   ],
   "source": [
    "list(filter(lambda member: ('SAP' in (member.company or '').upper()) or member.login.upper().endswith('SAP'), cwa.get_members()))"
   ]
  },
  {
   "cell_type": "code",
   "execution_count": null,
   "id": "e17c450d-c445-455f-a939-435547ea18db",
   "metadata": {},
   "outputs": [],
   "source": []
  },
  {
   "cell_type": "code",
   "execution_count": null,
   "id": "5eee85d2-6fbd-43fa-868f-ca9ad954e38d",
   "metadata": {},
   "outputs": [
    {
     "data": {
      "text/plain": [
       "'MalteJ'"
      ]
     },
     "execution_count": 31,
     "metadata": {},
     "output_type": "execute_result"
    }
   ],
   "source": [
    "g.get_user('MalteJ').login"
   ]
  },
  {
   "cell_type": "code",
   "execution_count": 45,
   "id": "33543356-5f49-4d2b-aa19-8a988ee79811",
   "metadata": {},
   "outputs": [
    {
     "data": {
      "text/plain": [
       "'@sap'"
      ]
     },
     "execution_count": 45,
     "metadata": {},
     "output_type": "execute_result"
    }
   ],
   "source": [
    "g.get_user('SebastianWolf-SAP').company"
   ]
  },
  {
   "cell_type": "code",
   "execution_count": 43,
   "id": "47d48389-ecfd-46f7-b896-f8a54a310c52",
   "metadata": {},
   "outputs": [
    {
     "data": {
      "text/plain": [
       "'SAP'"
      ]
     },
     "execution_count": 43,
     "metadata": {},
     "output_type": "execute_result"
    }
   ],
   "source": [
    "g.get_user('MalteJ').company"
   ]
  },
  {
   "cell_type": "code",
   "execution_count": 42,
   "id": "1f6acdad-662e-43a1-9627-aff48fbf3c66",
   "metadata": {},
   "outputs": [
    {
     "data": {
      "text/plain": [
       "'@SAP '"
      ]
     },
     "execution_count": 42,
     "metadata": {},
     "output_type": "execute_result"
    }
   ],
   "source": [
    "g.get_user('tkowark').company"
   ]
  },
  {
   "cell_type": "code",
   "execution_count": 47,
   "id": "9d51ea2d-8c13-4e19-9265-008850d81e8e",
   "metadata": {},
   "outputs": [
    {
     "data": {
      "text/plain": [
       "'@SAP '"
      ]
     },
     "execution_count": 47,
     "metadata": {},
     "output_type": "execute_result"
    }
   ],
   "source": [
    "g.get_user('johannesrohwer').company"
   ]
  },
  {
   "cell_type": "code",
   "execution_count": 39,
   "id": "0e804550-548c-48c9-be2b-164bc0cb952a",
   "metadata": {},
   "outputs": [
    {
     "data": {
      "text/plain": [
       "True"
      ]
     },
     "execution_count": 39,
     "metadata": {},
     "output_type": "execute_result"
    }
   ],
   "source": [
    "sap.has_in_members(g.get_user('SebastianWolf-SAP'))"
   ]
  },
  {
   "cell_type": "code",
   "execution_count": 41,
   "id": "fde5ab4b-b660-441d-a2e7-9fcd3dc2aeea",
   "metadata": {},
   "outputs": [
    {
     "data": {
      "text/html": [
       "<div>\n",
       "<style scoped>\n",
       "    .dataframe tbody tr th:only-of-type {\n",
       "        vertical-align: middle;\n",
       "    }\n",
       "\n",
       "    .dataframe tbody tr th {\n",
       "        vertical-align: top;\n",
       "    }\n",
       "\n",
       "    .dataframe thead th {\n",
       "        text-align: right;\n",
       "    }\n",
       "</style>\n",
       "<table border=\"1\" class=\"dataframe\">\n",
       "  <thead>\n",
       "    <tr style=\"text-align: right;\">\n",
       "      <th></th>\n",
       "      <th>issue</th>\n",
       "    </tr>\n",
       "  </thead>\n",
       "  <tbody>\n",
       "    <tr>\n",
       "      <th>108</th>\n",
       "      <td>Issue(title=\"How are the trend arrows calculat...</td>\n",
       "    </tr>\n",
       "    <tr>\n",
       "      <th>159</th>\n",
       "      <td>Issue(title=\"Failed to instantiate distributio...</td>\n",
       "    </tr>\n",
       "    <tr>\n",
       "      <th>163</th>\n",
       "      <td>Issue(title=\"Kubernetes deployments\", number=1...</td>\n",
       "    </tr>\n",
       "    <tr>\n",
       "      <th>284</th>\n",
       "      <td>Issue(title=\"PROD Server and GitHub repository...</td>\n",
       "    </tr>\n",
       "    <tr>\n",
       "      <th>296</th>\n",
       "      <td>Issue(title=\"Suggestion: Remove JndiLookup.cla...</td>\n",
       "    </tr>\n",
       "    <tr>\n",
       "      <th>...</th>\n",
       "      <td>...</td>\n",
       "    </tr>\n",
       "    <tr>\n",
       "      <th>1758</th>\n",
       "      <td>Issue(title=\"Should TAN's really allow SPACE c...</td>\n",
       "    </tr>\n",
       "    <tr>\n",
       "      <th>1774</th>\n",
       "      <td>Issue(title=\"Misleading HTTP Status codes for ...</td>\n",
       "    </tr>\n",
       "    <tr>\n",
       "      <th>1823</th>\n",
       "      <td>Issue(title=\"Hard coded credentials in docker-...</td>\n",
       "    </tr>\n",
       "    <tr>\n",
       "      <th>1877</th>\n",
       "      <td>Issue(title=\"Review the readme template propos...</td>\n",
       "    </tr>\n",
       "    <tr>\n",
       "      <th>1916</th>\n",
       "      <td>Issue(title=\"LICENSE missing\", number=19)</td>\n",
       "    </tr>\n",
       "  </tbody>\n",
       "</table>\n",
       "<p>102 rows × 1 columns</p>\n",
       "</div>"
      ],
      "text/plain": [
       "                                                  issue\n",
       "108   Issue(title=\"How are the trend arrows calculat...\n",
       "159   Issue(title=\"Failed to instantiate distributio...\n",
       "163   Issue(title=\"Kubernetes deployments\", number=1...\n",
       "284   Issue(title=\"PROD Server and GitHub repository...\n",
       "296   Issue(title=\"Suggestion: Remove JndiLookup.cla...\n",
       "...                                                 ...\n",
       "1758  Issue(title=\"Should TAN's really allow SPACE c...\n",
       "1774  Issue(title=\"Misleading HTTP Status codes for ...\n",
       "1823  Issue(title=\"Hard coded credentials in docker-...\n",
       "1877  Issue(title=\"Review the readme template propos...\n",
       "1916          Issue(title=\"LICENSE missing\", number=19)\n",
       "\n",
       "[102 rows x 1 columns]"
      ]
     },
     "execution_count": 41,
     "metadata": {},
     "output_type": "execute_result"
    }
   ],
   "source": [
    "def is_customer_issue(issue):\n",
    "    return issue.user.login not in ['dependabot[bot]', 'Corona-Warn-App-Technical-User'] and issue.user not in server_team and not issue.pull_request\n",
    "\n",
    "customer_issues = issues_dataframe[issues_dataframe.issue.apply(is_customer_issue)]\n",
    "customer_issues"
   ]
  },
  {
   "cell_type": "code",
   "execution_count": 121,
   "id": "50158e6f-4f03-436c-8ad3-64b8ed4454bf",
   "metadata": {},
   "outputs": [],
   "source": [
    "issues_per_month = customer_issues.groupby(by=(lambda index: customer_issues.loc[index].issue.created_at.date().replace(day=1)))"
   ]
  },
  {
   "cell_type": "code",
   "execution_count": 23,
   "id": "756f12d6-9af9-4c81-aee8-585c00305b0b",
   "metadata": {},
   "outputs": [],
   "source": [
    "def first_reaction(issue):\n",
    "    return next((comment for comment in issue.get_comments() if comment.user != issue.user), None)"
   ]
  },
  {
   "cell_type": "code",
   "execution_count": null,
   "id": "67c1e9f2-cac2-4b2f-b29c-5ceca65e5816",
   "metadata": {
    "tags": []
   },
   "outputs": [
    {
     "name": "stdout",
     "output_type": "stream",
     "text": [
      "CPU times: user 593 ms, sys: 79 ms, total: 672 ms\n",
      "Wall time: 37.5 s\n"
     ]
    }
   ],
   "source": [
    "%%time\n",
    "community_issues['first_reaction'] = community_issues.issue.apply(first_reaction)"
   ]
  },
  {
   "cell_type": "code",
   "execution_count": 19,
   "id": "e625c469-bacb-4c6e-977c-b5f9b71c3a34",
   "metadata": {},
   "outputs": [
    {
     "data": {
      "text/plain": [
       "<AxesSubplot:xlabel='created_sprint'>"
      ]
     },
     "execution_count": 19,
     "metadata": {},
     "output_type": "execute_result"
    },
    {
     "data": {
      "image/png": "[encoded data removed]",
      "text/plain": [
       "<Figure size 1440x720 with 1 Axes>"
      ]
     },
     "metadata": {
      "needs_background": "light"
     },
     "output_type": "display_data"
    }
   ],
   "source": [
    "pyplot.figure(figsize=(20, 10))\n",
    "issues_per_sprint.issue.count().plot.bar()"
   ]
  },
  {
   "cell_type": "code",
   "execution_count": 20,
   "id": "17de354c-02c5-470e-875c-147978e8edf2",
   "metadata": {},
   "outputs": [
    {
     "data": {
      "text/plain": [
       "<AxesSubplot:xlabel='created_sprint'>"
      ]
     },
     "execution_count": 20,
     "metadata": {},
     "output_type": "execute_result"
    },
    {
     "data": {
      "image/png": "[encoded data removed]",
      "text/plain": [
       "<Figure size 1440x720 with 1 Axes>"
      ]
     },
     "metadata": {
      "needs_background": "light"
     },
     "output_type": "display_data"
    }
   ],
   "source": [
    "pyplot.figure(figsize=(20, 10))\n",
    "mean_time_to_react = issues_per_sprint.time_to_react.apply(numpy.mean)\n",
    "(mean_time_to_react / pandas.Timedelta(hours=1)).plot.bar()"
   ]
  },
  {
   "cell_type": "code",
   "execution_count": 21,
   "id": "a7a0b361-546c-486b-ae3b-ffaa04e20ed6",
   "metadata": {},
   "outputs": [
    {
     "data": {
      "text/plain": [
       "<AxesSubplot:xlabel='created_sprint'>"
      ]
     },
     "execution_count": 21,
     "metadata": {},
     "output_type": "execute_result"
    },
    {
     "data": {
      "image/png": "[encoded data removed]",
      "text/plain": [
       "<Figure size 1440x720 with 1 Axes>"
      ]
     },
     "metadata": {
      "needs_background": "light"
     },
     "output_type": "display_data"
    }
   ],
   "source": [
    "pyplot.figure(figsize=(20, 10))\n",
    "max_time_to_react = issues_per_sprint.time_to_react.apply(numpy.max)\n",
    "(max_time_to_react / pandas.Timedelta(hours=1)).plot.bar()"
   ]
  },
  {
   "cell_type": "code",
   "execution_count": 67,
   "id": "b3d4ef6f-7c24-4705-b873-222c6ed04918",
   "metadata": {},
   "outputs": [
    {
     "data": {
      "text/plain": [
       "<AxesSubplot:title={'center':'time_to_react_hours'}, xlabel='created_sprint'>"
      ]
     },
     "execution_count": 67,
     "metadata": {},
     "output_type": "execute_result"
    },
    {
     "data": {
      "image/png": "[encoded data removed]",
      "text/plain": [
       "<Figure size 720x360 with 1 Axes>"
      ]
     },
     "metadata": {
      "needs_background": "light"
     },
     "output_type": "display_data"
    }
   ],
   "source": [
    "focus_issues.boxplot(column='time_to_react_hours', by='created_sprint', rot=90, showfliers=False, boxprops=dict(facecolor='blue', color='blue'), patch_artist=True)"
   ]
  },
  {
   "cell_type": "code",
   "execution_count": 95,
   "id": "d30ac50e-98a8-4f63-8852-93a894e8244c",
   "metadata": {},
   "outputs": [
    {
     "data": {
      "text/plain": [
       "<BarContainer object of 7 artists>"
      ]
     },
     "execution_count": 95,
     "metadata": {},
     "output_type": "execute_result"
    },
    {
     "data": {
      "image/png": "[encoded data removed]",
      "text/plain": [
       "<Figure size 720x360 with 1 Axes>"
      ]
     },
     "metadata": {},
     "output_type": "display_data"
    }
   ],
   "source": [
    "pyplot.barh(problem_issues.issue_number, problem_issues.time_to_react, left=problem_issues.created_at)"
   ]
  },
  {
   "cell_type": "markdown",
   "id": "1d3b2d67-d373-41a7-ba97-35e10bdd74a0",
   "metadata": {},
   "source": [
    "# More ..."
   ]
  }
 ],
 "metadata": {
  "kernelspec": {
   "display_name": "Python 3",
   "language": "python",
   "name": "python3"
  },
  "language_info": {
   "codemirror_mode": {
    "name": "ipython",
    "version": 3
   },
   "file_extension": ".py",
   "mimetype": "text/x-python",
   "name": "python",
   "nbconvert_exporter": "python",
   "pygments_lexer": "ipython3",
   "version": "3.6.9"
  }
 },
 "nbformat": 4,
 "nbformat_minor": 5
}
